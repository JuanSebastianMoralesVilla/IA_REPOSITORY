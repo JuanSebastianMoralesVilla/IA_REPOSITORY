{
  "cells": [
    {
      "cell_type": "markdown",
      "metadata": {
        "id": "view-in-github",
        "colab_type": "text"
      },
      "source": [
        "<a href=\"https://colab.research.google.com/github/JuanSebastianMoralesVilla/IA_REPOSITORY/blob/main/MNIST_taller.ipynb\" target=\"_parent\"><img src=\"https://colab.research.google.com/assets/colab-badge.svg\" alt=\"Open In Colab\"/></a>"
      ]
    },
    {
      "cell_type": "markdown",
      "metadata": {
        "id": "U5c94OgwAq86"
      },
      "source": [
        "# MNIST (dígitos) solución tradicional\n",
        "\n",
        "<label style='color:red'> ¡Completar esta celda! </label>\n",
        "\n",
        "__Integrantes:__\n",
        "\n",
        "Gonzalo de varona\n",
        "\n",
        "Sebastian Morales\n",
        "\n",
        "\n",
        "\n",
        "\n",
        "\n",
        "\n",
        "__Números asignados: 9,7\n"
      ]
    },
    {
      "cell_type": "markdown",
      "metadata": {
        "id": "LsAIla1LAq88"
      },
      "source": [
        "## Taller \n",
        "\n",
        "_Suponga que trabajan para el desarrollo de un sistema de lectura y reconocimiento de dígitos. Para este trabajo le han encomendado la misión de desarrollar el software de detección; para cumplir con el objetivo le han proporcionado un conjunto de fotos en grises con el fin que proponga una solución de programación tradicional, es decir, sin el uso de librerías de aprendizaje de máquina (machine learning). El software que proponga debe tener la capacidad de determinar con un desempeño una muestra de los datos (40%) que le han suministrado_.\n",
        "\n",
        "**Nota**: puede utilizar técnicas de segmentación, estadística, algebra lineal y la implementación de algoritmos de IA.\n",
        "***"
      ]
    },
    {
      "cell_type": "markdown",
      "metadata": {
        "ExecuteTime": {
          "end_time": "2021-02-10T03:51:19.972360Z",
          "start_time": "2021-02-10T03:51:19.968353Z"
        },
        "id": "3Jo4mvCdAq89"
      },
      "source": [
        "**Desarrollo y evaluación del método**\n",
        "\n",
        "+ Seleccione aleatoriamente una muestra del 60% de los datos, este conjunto lo llamaremos *Training*. Por otra parte, contaremos con el 40% restante que lo definiremos *Testing*.\n",
        "+ Desarrolle el código que muestre en pantalla dos salidas, una que corresponda al tamaño del training y otra para el testing.\n",
        "+ Imprima por pantalla la cantidad de los dígitos asignados (individualmente) en el conjunto de training"
      ]
    },
    {
      "cell_type": "code",
      "execution_count": null,
      "metadata": {
        "id": "t-DVvbT6Aq89"
      },
      "outputs": [],
      "source": [
        "from sklearn.datasets import load_digits\n",
        "import pylab as pl\n",
        "import sklearn"
      ]
    },
    {
      "cell_type": "code",
      "execution_count": null,
      "metadata": {
        "colab": {
          "base_uri": "https://localhost:8080/"
        },
        "id": "d7pCtaofAq8-",
        "outputId": "b692db47-a340-44c1-9707-6561d5b46b88"
      },
      "outputs": [
        {
          "output_type": "execute_result",
          "data": {
            "text/plain": [
              "sklearn.utils.Bunch"
            ]
          },
          "metadata": {},
          "execution_count": 2
        }
      ],
      "source": [
        "# cargamos los datos y desplegamos el objeto\n",
        "digits = load_digits()\n",
        "type(digits)"
      ]
    },
    {
      "cell_type": "code",
      "execution_count": null,
      "metadata": {
        "id": "GCK1JlgcAq8-"
      },
      "outputs": [],
      "source": [
        ""
      ]
    },
    {
      "cell_type": "markdown",
      "metadata": {
        "id": "dmx1gsT5Aq8-"
      },
      "source": [
        "*Valor 0.33*\n"
      ]
    },
    {
      "cell_type": "markdown",
      "metadata": {
        "id": "8-IwqFzaAq8-"
      },
      "source": [
        "**Metodología**"
      ]
    },
    {
      "cell_type": "markdown",
      "metadata": {
        "id": "0pEe7bQIAq8_"
      },
      "source": [
        "Proponga una metodología / algoritmo / software utilizando únicamente el conjunto de *training* que tenga como objetivo identificar los números asignados.\n",
        "\n",
        "Escriba la propuesta:\n",
        "+ Breve descripción de la metodología sobre cómo abordar el reto con el 60% de los datos\n",
        "+ Método / código / función"
      ]
    },
    {
      "cell_type": "code",
      "execution_count": null,
      "metadata": {
        "id": "la7zDf8bAq8_"
      },
      "outputs": [],
      "source": [
        ""
      ]
    },
    {
      "cell_type": "markdown",
      "metadata": {
        "id": "8g1tANaWAq8_"
      },
      "source": [
        "*Valor 0.33*\n"
      ]
    },
    {
      "cell_type": "markdown",
      "metadata": {
        "id": "W4iBxQcEAq8_"
      },
      "source": [
        "**Evaluación**\n",
        "\n",
        "Utilice el conjunto de *testing* y evalué el software que ha propuesto, es decir, a cuantos números acertó (VP) contra los que no acertó (FN), calcule los siguientes datos:\n",
        "\n",
        "+ $ Recall = \\frac{VP}{VP+FN}$\n",
        "\n",
        "+ Imprima en pantalla el tiempo que tomo todo el proceso de evaluación.\n"
      ]
    },
    {
      "cell_type": "code",
      "execution_count": null,
      "metadata": {
        "id": "B1ijF_GsAq9A"
      },
      "outputs": [],
      "source": [
        ""
      ]
    },
    {
      "cell_type": "code",
      "execution_count": null,
      "metadata": {
        "id": "k5dmUqKtAq9A"
      },
      "outputs": [],
      "source": [
        ""
      ]
    },
    {
      "cell_type": "markdown",
      "metadata": {
        "id": "qBDnCN-yAq9A"
      },
      "source": [
        "*Valor 0.33*\n"
      ]
    },
    {
      "cell_type": "markdown",
      "metadata": {
        "heading_collapsed": true,
        "id": "atGTlWlzAq9A"
      },
      "source": [
        "#### Entregas\n",
        "\n",
        "+ Envié por Moodle este archivo .ipynb con la solución y resultados conseguidos\n"
      ]
    },
    {
      "cell_type": "markdown",
      "metadata": {
        "id": "l-3gKLsSAq9A"
      },
      "source": [
        "***\n",
        "\n",
        "# Ayuda"
      ]
    },
    {
      "cell_type": "markdown",
      "metadata": {
        "id": "DGMZCH52Aq9A"
      },
      "source": [
        "#### Paquetes"
      ]
    },
    {
      "cell_type": "code",
      "execution_count": null,
      "metadata": {
        "ExecuteTime": {
          "end_time": "2021-02-10T03:54:16.010421Z",
          "start_time": "2021-02-10T03:54:14.194810Z"
        },
        "id": "dblIPI3IAq9B"
      },
      "outputs": [],
      "source": [
        "from sklearn.datasets import load_digits\n",
        "import pylab as pl\n",
        "import sklearn"
      ]
    },
    {
      "cell_type": "code",
      "execution_count": null,
      "metadata": {
        "ExecuteTime": {
          "end_time": "2021-02-10T03:54:16.131392Z",
          "start_time": "2021-02-10T03:54:16.011428Z"
        },
        "colab": {
          "base_uri": "https://localhost:8080/"
        },
        "id": "k6br_ZJIAq9B",
        "outputId": "9be2cdaf-3f92-48cf-f399-13dc79eb15bb"
      },
      "outputs": [
        {
          "output_type": "execute_result",
          "data": {
            "text/plain": [
              "sklearn.utils.Bunch"
            ]
          },
          "metadata": {},
          "execution_count": 5
        }
      ],
      "source": [
        "# cargamos los datos y desplegamos el objeto\n",
        "digits = load_digits()\n",
        "type(digits)"
      ]
    },
    {
      "cell_type": "code",
      "source": [
        ""
      ],
      "metadata": {
        "id": "oQp9OJbuHlIw"
      },
      "execution_count": null,
      "outputs": []
    },
    {
      "cell_type": "code",
      "execution_count": null,
      "metadata": {
        "ExecuteTime": {
          "end_time": "2021-02-10T03:54:17.497504Z",
          "start_time": "2021-02-10T03:54:17.467463Z"
        },
        "id": "rjLp7JgTAq9C"
      },
      "outputs": [],
      "source": [
        "# observe las propieades del objeto, ¿a que tipo se le parece?\n",
        "?sklearn.utils.Bunch"
      ]
    },
    {
      "cell_type": "code",
      "source": [
        "digits.keys()"
      ],
      "metadata": {
        "colab": {
          "base_uri": "https://localhost:8080/"
        },
        "id": "p1zb2OsJIxme",
        "outputId": "25402c9a-d2cd-4c17-f62a-c203a53d8d1f"
      },
      "execution_count": null,
      "outputs": [
        {
          "output_type": "execute_result",
          "data": {
            "text/plain": [
              "dict_keys(['data', 'target', 'frame', 'feature_names', 'target_names', 'images', 'DESCR'])"
            ]
          },
          "metadata": {},
          "execution_count": 14
        }
      ]
    },
    {
      "cell_type": "code",
      "source": [
        "digits[\"target\"][777]"
      ],
      "metadata": {
        "id": "2AdUiI7zKYZ1"
      },
      "execution_count": null,
      "outputs": []
    },
    {
      "cell_type": "code",
      "source": [
        "len(digits[\"data\"])\n",
        "\n"
      ],
      "metadata": {
        "colab": {
          "base_uri": "https://localhost:8080/"
        },
        "id": "9BNrcVYMI2X0",
        "outputId": "4ec660cd-2abd-4b9f-918a-cc9f98eb03f0"
      },
      "execution_count": null,
      "outputs": [
        {
          "output_type": "execute_result",
          "data": {
            "text/plain": [
              "1797"
            ]
          },
          "metadata": {},
          "execution_count": 23
        }
      ]
    },
    {
      "cell_type": "code",
      "source": [
        "digits[\"data\"][0]\n"
      ],
      "metadata": {
        "colab": {
          "base_uri": "https://localhost:8080/"
        },
        "id": "Ze1NK4LMJVBP",
        "outputId": "2c0b70c5-7715-42ec-b5d6-0d3b33c1f4df"
      },
      "execution_count": null,
      "outputs": [
        {
          "output_type": "execute_result",
          "data": {
            "text/plain": [
              "array([ 0.,  0.,  5., 13.,  9.,  1.,  0.,  0.,  0.,  0., 13., 15., 10.,\n",
              "       15.,  5.,  0.,  0.,  3., 15.,  2.,  0., 11.,  8.,  0.,  0.,  4.,\n",
              "       12.,  0.,  0.,  8.,  8.,  0.,  0.,  5.,  8.,  0.,  0.,  9.,  8.,\n",
              "        0.,  0.,  4., 11.,  0.,  1., 12.,  7.,  0.,  0.,  2., 14.,  5.,\n",
              "       10., 12.,  0.,  0.,  0.,  0.,  6., 13., 10.,  0.,  0.,  0.])"
            ]
          },
          "metadata": {},
          "execution_count": 22
        }
      ]
    },
    {
      "cell_type": "code",
      "execution_count": null,
      "metadata": {
        "ExecuteTime": {
          "end_time": "2021-02-10T03:54:30.307961Z",
          "start_time": "2021-02-10T03:54:30.160343Z"
        },
        "colab": {
          "base_uri": "https://localhost:8080/",
          "height": 471
        },
        "id": "uRfkepoiAq9C",
        "outputId": "d2661d85-fa3a-4537-d16e-f685f744dbe7"
      },
      "outputs": [
        {
          "output_type": "stream",
          "name": "stdout",
          "text": [
            "Se tienen en total: 1797 imágenes\n",
            "[[ 0.  0.  7. 15. 13.  1.  0.  0.]\n",
            " [ 0.  8. 13.  6. 15.  4.  0.  0.]\n",
            " [ 0.  2.  1. 13. 13.  0.  0.  0.]\n",
            " [ 0.  0.  2. 15. 11.  1.  0.  0.]\n",
            " [ 0.  0.  0.  1. 12. 12.  1.  0.]\n",
            " [ 0.  0.  0.  0.  1. 10.  8.  0.]\n",
            " [ 0.  0.  8.  4.  5. 14.  9.  0.]\n",
            " [ 0.  0.  7. 13. 13.  9.  0.  0.]]\n",
            "target 3\n"
          ]
        },
        {
          "output_type": "display_data",
          "data": {
            "text/plain": [
              "<Figure size 432x288 with 0 Axes>"
            ]
          },
          "metadata": {}
        },
        {
          "output_type": "display_data",
          "data": {
            "image/png": "[encoded data removed]",
            "text/plain": [
              "<Figure size 288x288 with 1 Axes>"
            ]
          },
          "metadata": {
            "needs_background": "light"
          }
        }
      ],
      "source": [
        "pl.gray() # Queremos las imágenes en grises\n",
        "pl.matshow(digits.images[3]) # Imprimir una imagen dada\n",
        "numImagenes = len(digits.images) # Numero de imagenes, len es un método que provee el tamaño del arreglo\n",
        "print(\"Se tienen en total:\", numImagenes, \"imágenes\")\n",
        "print(digits.images[3]) # Ver su representación en pixeles\n",
        "print(\"target\",digits[\"target\"][3])"
      ]
    },
    {
      "cell_type": "markdown",
      "metadata": {
        "id": "jIMVlEXIAq9D"
      },
      "source": [
        "Observe cada atributo del objeto digits, recorra cada imagen y obtenga su representación (etiqueta)"
      ]
    },
    {
      "cell_type": "markdown",
      "source": [
        "DESARROLLO\n"
      ],
      "metadata": {
        "id": "RPkmKcQEHC6c"
      }
    },
    {
      "cell_type": "code",
      "source": [
        ""
      ],
      "metadata": {
        "id": "uK8jZfj6HrZb"
      },
      "execution_count": null,
      "outputs": []
    },
    {
      "cell_type": "code",
      "execution_count": null,
      "metadata": {
        "ExecuteTime": {
          "end_time": "2021-02-10T03:54:16.010421Z",
          "start_time": "2021-02-10T03:54:14.194810Z"
        },
        "colab": {
          "base_uri": "https://localhost:8080/"
        },
        "id": "ZIqqhs46Hr_B",
        "outputId": "4be6309f-3ccf-4c98-9044-040585b034ca"
      },
      "outputs": [
        {
          "output_type": "stream",
          "name": "stdout",
          "text": [
            "There are 113 nines (9) in this training dataset.\n",
            "There are 110 sevens (7) in this training dataset.\n",
            "KNN classification (9 and 7) recall is 0.9929078014184397\n"
          ]
        }
      ],
      "source": [
        "from sklearn.datasets import load_digits\n",
        "import pylab as pl\n",
        "import sklearn\n",
        "import random\n",
        "from collections import Counter\n",
        "import numpy as np\n",
        "\n",
        "def euclidean_distance(x1, x2):\n",
        "    return np.sqrt(np.sum((x1 - x2) ** 2))\n",
        "\n",
        "class KNN:\n",
        "  def __init__(self, k=3):\n",
        "      self.k = k\n",
        "\n",
        "  def fit(self, X, y):\n",
        "    self.X_train = X\n",
        "    self.y_train = y\n",
        "\n",
        "  def predict(self, X):\n",
        "    y_pred = [self._predict(x) for x in X]\n",
        "    return np.array(y_pred)\n",
        "\n",
        "  def _predict(self, x):\n",
        "    distances = [euclidean_distance(x, x_train) for x_train in self.X_train]\n",
        "    k_idx = np.argsort(distances)[: self.k]\n",
        "    k_neighbor_labels = [self.y_train[i] for i in k_idx]\n",
        "    most_common = Counter(k_neighbor_labels).most_common(1)\n",
        "    return most_common[0][0]\n",
        "\n",
        "\n",
        "class Number:\n",
        "  def __init__(self, number, matrix):\n",
        "    self.number = number\n",
        "    self.matrix = matrix\n",
        "\n",
        "\n",
        "\n",
        "\n",
        "digits = load_digits()\n",
        "\n",
        "limit_tra = int(len(digits[\"data\"]) * 0.6)\n",
        "limit_test = int(len(digits[\"data\"]) - limit_tra)\n",
        "\n",
        "processed_list = list()\n",
        "\n",
        "\n",
        "for i in range(len(digits[\"data\"])):\n",
        "  processed_list.append(Number(digits[\"target\"][i], digits[\"data\"][i]))\n",
        "\n",
        "\n",
        "train_dataset = random.sample(processed_list, limit_tra)\n",
        "test_dataset = random.sample(processed_list, limit_test)\n",
        "\n",
        "x_train = list()\n",
        "y_train = list()\n",
        "x_test = list()\n",
        "y_test = list()\n",
        "\n",
        "for item in train_dataset:\n",
        "  x_train.append(item.matrix)\n",
        "  y_train.append(item.number)\n",
        "\n",
        "for item in test_dataset:\n",
        "  x_test.append(item.matrix)\n",
        "  y_test.append(item.number)\n",
        "\n",
        "\n",
        "counter_9 = 0\n",
        "counter_7 = 0\n",
        "\n",
        "for item in train_dataset:\n",
        "  if item.number == 9:\n",
        "    counter_9 +=1\n",
        "\n",
        "  if item.number == 7:\n",
        "    counter_7 +=1\n",
        "\n",
        "\n",
        "print(\"There are\",counter_9,\"nines (9) in this training dataset.\")\n",
        "print(\"There are\",counter_7,\"sevens (7) in this training dataset.\")\n",
        "\n",
        "\n",
        "\n",
        "k = 3\n",
        "classification = KNN(k=k)\n",
        "classification.fit(x_train, y_train)\n",
        "\n",
        "x_real_test = list()\n",
        "\n",
        "for i in range(len(x_test)):\n",
        "  if y_test[i] == 9 or y_test[i] == 7:\n",
        "    x_real_test.append(x_test[i])\n",
        "\n",
        "predictions = classification.predict(x_real_test)\n",
        "\n",
        "\n",
        "\n",
        "def counter_9_7(dataset):\n",
        "  counter_9 = 0\n",
        "  counter_7 = 0\n",
        "\n",
        "  for item in dataset:\n",
        "    if item == 9:\n",
        "      counter_9 +=1\n",
        "\n",
        "    if item == 7:\n",
        "      counter_7 +=1\n",
        "  my_tuple = [counter_9,counter_7]\n",
        "  return my_tuple\n",
        "\n",
        "\n",
        "\n",
        "\n",
        "def recall(y_true, y_pred):\n",
        "  true_9_7 = counter_9_7(y_true)\n",
        "  test_9_7 = counter_9_7(y_pred)\n",
        "\n",
        "  vp = test_9_7[0] + test_9_7[1]\n",
        "  fn = true_9_7[0] + true_9_7[1] - vp\n",
        "\n",
        "  return vp/(vp+fn)\n",
        "\n",
        "\n",
        "\n",
        "\n",
        "print(\"KNN classification (9 and 7) recall is\",recall(y_test, predictions))\n",
        "\n",
        "\n",
        "\n",
        "\n",
        "\n",
        "\n",
        "\n"
      ]
    }
  ],
  "metadata": {
    "kernelspec": {
      "display_name": "Python 3 (ipykernel)",
      "language": "python",
      "name": "python3"
    },
    "language_info": {
      "codemirror_mode": {
        "name": "ipython",
        "version": 3
      },
      "file_extension": ".py",
      "mimetype": "text/x-python",
      "name": "python",
      "nbconvert_exporter": "python",
      "pygments_lexer": "ipython3",
      "version": "3.9.7"
    },
    "colab": {
      "name": "MNIST- taller.ipynb",
      "provenance": [],
      "collapsed_sections": [],
      "include_colab_link": true
    }
  },
  "nbformat": 4,
  "nbformat_minor": 0
}