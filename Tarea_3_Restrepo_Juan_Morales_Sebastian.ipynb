{
  "cells": [
    {
      "cell_type": "markdown",
      "metadata": {
        "id": "view-in-github",
        "colab_type": "text"
      },
      "source": [
        "<a href=\"https://colab.research.google.com/github/JuanSebastianMoralesVilla/IA_REPOSITORY/blob/main/Tarea_3_Restrepo_Juan_Morales_Sebastian.ipynb\" target=\"_parent\"><img src=\"https://colab.research.google.com/assets/colab-badge.svg\" alt=\"Open In Colab\"/></a>"
      ]
    },
    {
      "cell_type": "markdown",
      "source": [
        "\n",
        "Juan Jose Restrepo Bonilla A00359137\n",
        "\n",
        "Juan Sebastian Morales Villa A00365920"
      ],
      "metadata": {
        "id": "6M3ThrF5JG-w"
      },
      "id": "6M3ThrF5JG-w"
    },
    {
      "cell_type": "markdown",
      "id": "8ec50956",
      "metadata": {
        "id": "8ec50956"
      },
      "source": [
        "# **TAREA 3**"
      ]
    },
    {
      "cell_type": "markdown",
      "id": "5637053c",
      "metadata": {
        "id": "5637053c"
      },
      "source": [
        "## 1. En Python 3.x, cómo se define la herencia en clases? Dé un ejemplo en el contexto del análisis de datos."
      ]
    },
    {
      "cell_type": "markdown",
      "source": [
        "La herencia es un proceso mediante el cual se puede crear una clase hija que hereda de una clase padre, compartiendo sus métodos y atributos. Además de ello, una clase hija puede sobreescribir los métodos o atributos, o incluso definir unos nuevos."
      ],
      "metadata": {
        "id": "UuEtV6H1IlpA"
      },
      "id": "UuEtV6H1IlpA"
    },
    {
      "cell_type": "code",
      "source": [
        "class Vehiculo:\n",
        "    def __init__(self, cantidadRuedas, color):\n",
        "        self.cantidadRuedas = cantidadRuedas\n",
        "        self.color = color\n",
        "\n",
        "    # Método genérico pero con implementación particular\n",
        "    def typeVehiculo(self):\n",
        "        # Método vacío\n",
        "        pass\n",
        "\n",
        "  \n",
        "\n",
        "    # Método genérico con la misma implementación\n",
        "    def description(self):\n",
        "        print(\"Soy un Vehiculo: \", type(self).__name__)\n"
      ],
      "metadata": {
        "id": "d3T9Y32EFfTp"
      },
      "id": "d3T9Y32EFfTp",
      "execution_count": null,
      "outputs": []
    },
    {
      "cell_type": "code",
      "source": [
        "class Carro(Vehiculo):\n",
        "    def typeVehiculo(self):\n",
        "        print(\"Suv\")\n",
        "    def moverse(self):\n",
        "        print(\"rueda con 4 llantas\")\n",
        "\n",
        "class JetAvion(Vehiculo):\n",
        "     def typeVehiculo(self):\n",
        "        print(\"Jet\")\n",
        "\n",
        "class Barco(Vehiculo):\n",
        "    def typeVehiculo(self):\n",
        "        print(\"Lancha rapida\")\n",
        " \n",
        "\n",
        "    # Nuevo método\n",
        "    def marcaMotor(self):\n",
        "        print( \"marca del motor del barco \", \"yamaha\")"
      ],
      "metadata": {
        "id": "dTth6gtIc3wv"
      },
      "id": "dTth6gtIc3wv",
      "execution_count": null,
      "outputs": []
    },
    {
      "cell_type": "code",
      "source": [
        "\n",
        "miCarro = Carro(4, 'amarillo')\n",
        "miJet = JetAvion(6, 'blanco')\n",
        "miBarco = Barco('null', 'rojo')\n",
        "\n",
        "miCarro.typeVehiculo()\n",
        "miJet.typeVehiculo()\n",
        "\n",
        "miCarro.description()\n",
        "miJet.description()\n",
        "\n",
        "miBarco.marcaMotor()\n"
      ],
      "metadata": {
        "colab": {
          "base_uri": "https://localhost:8080/"
        },
        "id": "bM6FJDRpeJWp",
        "outputId": "d1aa53b6-c545-4b62-b93a-57261c6b62b9"
      },
      "id": "bM6FJDRpeJWp",
      "execution_count": null,
      "outputs": [
        {
          "output_type": "stream",
          "name": "stdout",
          "text": [
            "Suv\n",
            "Jet\n",
            "Soy un Vehiculo:  Carro\n",
            "Soy un Vehiculo:  JetAvion\n",
            "marca del motor del barco  yamaha\n"
          ]
        }
      ]
    },
    {
      "cell_type": "markdown",
      "id": "24e1d641",
      "metadata": {
        "id": "24e1d641"
      },
      "source": [
        "## 2. En Python 3.x, cómo se pueden borrar objetos? Dé un ejemplo en el contexto del análisis de datos."
      ]
    },
    {
      "cell_type": "markdown",
      "source": [
        "Ahora vamos a ver tres mecanismos para poder eliminar uno de los elementos de la lista que acabamos de crear en Python. Estos serán:\n",
        "\n",
        "*   Método remove\n",
        "*   Método pop\n",
        "*   Sentencia *del*\n",
        "\n",
        "## Eliminar elementos de una lista con remove\n",
        "\n",
        "1.   lista.remove(elemento)\n",
        "\n",
        "Este método recibirá como parámetro el elemento que queremos borrar. De tal manera que eliminará el primer elemento de la lista que coincida con el elemento pasado como parámetro.\n",
        "\n",
        "## Eliminar elementos de una lista con pop\n",
        "\n",
        "2.   lista.pop(posición)\n",
        "\n",
        "Otra alternativa es utilizar el método .pop(). Este método se invoca igualmente sobre la lista y nos permite eliminar el elemento que esté en la posición pasada como parámetro. La función pop() también devuelve el elemento eliminado.\n",
        "\n",
        "## Eliminar elementos de una lista con del\n",
        "\n",
        "3.   del lista [posicion]\n",
        "\n",
        "La declaración *del* se utiliza para eliminar objetos en Python. La declaración *del* también se puede utilizar para eliminar elementos de la lista por índice. El siguiente ejemplo de código nos muestra cómo podemos eliminar elementos de la lista por índice con la palabra clave del en Python.\n",
        "\n",
        "\n"
      ],
      "metadata": {
        "id": "zpkGh3pf5WTg"
      },
      "id": "zpkGh3pf5WTg"
    },
    {
      "cell_type": "code",
      "source": [
        "lista = [1,4,3,4,5]\n",
        "\n",
        "lista.remove(3)\n",
        "\n",
        "for elemento in lista:\n",
        "    print (elemento)"
      ],
      "metadata": {
        "colab": {
          "base_uri": "https://localhost:8080/"
        },
        "id": "XvgdJs5h8pgx",
        "outputId": "4dcba54b-4860-4235-857a-ecd4c1c02874"
      },
      "id": "XvgdJs5h8pgx",
      "execution_count": null,
      "outputs": [
        {
          "output_type": "stream",
          "name": "stdout",
          "text": [
            "1\n",
            "4\n",
            "4\n",
            "5\n"
          ]
        }
      ]
    },
    {
      "cell_type": "code",
      "source": [
        "lista = [1,4,3,4,5]\n",
        "\n",
        "lista.pop(4)\n",
        "\n",
        "for elemento in lista:\n",
        "    print (elemento)"
      ],
      "metadata": {
        "colab": {
          "base_uri": "https://localhost:8080/"
        },
        "id": "LnVCcMWt-CSg",
        "outputId": "a7c2c3cd-012d-463e-bb7c-08f234136a80"
      },
      "id": "LnVCcMWt-CSg",
      "execution_count": null,
      "outputs": [
        {
          "output_type": "stream",
          "name": "stdout",
          "text": [
            "1\n",
            "4\n",
            "3\n",
            "4\n"
          ]
        }
      ]
    },
    {
      "cell_type": "code",
      "source": [
        "lista = [1,4,3,4,5]\n",
        "\n",
        "del lista[2]\n",
        "\n",
        "for elemento in lista:\n",
        "    print (elemento)"
      ],
      "metadata": {
        "colab": {
          "base_uri": "https://localhost:8080/"
        },
        "id": "XBDNBXDy-L_Z",
        "outputId": "3352f72b-0194-4b2e-baf0-c87a02c82234"
      },
      "id": "XBDNBXDy-L_Z",
      "execution_count": null,
      "outputs": [
        {
          "output_type": "stream",
          "name": "stdout",
          "text": [
            "1\n",
            "4\n",
            "4\n",
            "5\n"
          ]
        }
      ]
    },
    {
      "cell_type": "markdown",
      "id": "f0ef4286",
      "metadata": {
        "id": "f0ef4286"
      },
      "source": [
        "## 3. En Python 3.x, cómo se definen los bloques try except? Dé un ejemplo en el contexto del análisis de datos."
      ]
    },
    {
      "cell_type": "markdown",
      "source": [
        "Las excepciones son la herramienta que implementa Python para manejar los errores potenciales de un programa. Cuando una porción de código quiere indicar que ocurrió un error, se dice que debe lanzar una excepción, mientras que, cuando otra quiere saber si surgió un error y actuar en consecuencia, se dice que debe capturarla o manejarla. Si una excepción es lanzada y ningún código la captura, el programa finaliza.\n",
        "\n",
        "En el caso de Python, el manejo de excepciones se hace mediante los bloques que utilizan las sentencias try, except y finally.\n",
        "\n",
        "Dentro del bloque try se ubica todo el código que pueda llegar a levantar una excepción, se utiliza el término levantar para referirse a la acción de generar una excepción.\n",
        "\n",
        "A continuación se ubica el bloque except, que se encarga de capturar la excepción y nos da la oportunidad de procesarla mostrando por ejemplo un mensaje adecuado al usuario.\n"
      ],
      "metadata": {
        "id": "tNDj2Ym66GjV"
      },
      "id": "tNDj2Ym66GjV"
    },
    {
      "cell_type": "code",
      "source": [
        "try:\n",
        "    archivo = open(\"miarchivoDatos.txt\")\n",
        "    # procesar el archivo\n",
        "except IOError:\n",
        "    print (\"Error de entrada/salida.\")\n",
        "    # realizar procesamiento adicional\n",
        "except:\n",
        "    # procesar la excepción\n",
        "finally:\n",
        "    # si el archivo no está cerrado hay que cerrarlo\n",
        "    if not(archivo.closed):\n",
        "        archivo.close()"
      ],
      "metadata": {
        "id": "SFWbVCA7G22Z"
      },
      "id": "SFWbVCA7G22Z",
      "execution_count": null,
      "outputs": []
    },
    {
      "cell_type": "markdown",
      "id": "09f361cd",
      "metadata": {
        "id": "09f361cd"
      },
      "source": [
        "## 4. En Python 3.x, cómo se pueden lanzar excepciones? Dé un ejemplo en el contexto del análisis de datos.\n",
        "\n",
        "\n"
      ]
    },
    {
      "cell_type": "markdown",
      "source": [
        "Entonces, lo que hay dentro del try es la sección del código que podría lanzar la excepción que se está capturando en el except. Por lo tanto cuando ocurra una excepción, se entra en el except pero el programa no se para."
      ],
      "metadata": {
        "id": "fda7wR7wBMNs"
      },
      "id": "fda7wR7wBMNs"
    },
    {
      "cell_type": "code",
      "source": [
        "while True:\n",
        "    try:\n",
        "        edad = int(input(\"Escribe tu edad: \"))\n",
        "        break\n",
        "        #excepcion con mensaje personalizado\n",
        "    except ValueError:\n",
        "        print(\"¡Debes ingresar un número!\")\n",
        "\n",
        "if edad >= 18:\n",
        "    print(\"Eres un adulto.\")\n",
        "else:\n",
        "    print(\"Aún no eres un adulto.\")"
      ],
      "metadata": {
        "id": "-pir5UP9BI5a"
      },
      "id": "-pir5UP9BI5a",
      "execution_count": null,
      "outputs": []
    },
    {
      "cell_type": "markdown",
      "id": "5335656a",
      "metadata": {
        "id": "5335656a"
      },
      "source": [
        "## 5. En Python 3.x, cuál es la sintaxis de las funciones lambda? Dé un ejemplo en el contexto del análisis de datos."
      ]
    },
    {
      "cell_type": "markdown",
      "source": [
        "La sintaxis de una función lambda es lambda args: expresión. Primero escribes la palabra clave lambda, dejas un espacio, después los argumentos que necesites separados por coma, dos puntos :, y por último la expresión que será el cuerpo de la función.\n",
        "\n",
        "# Ejemplo 1\n",
        "Por ejemplo, puedes escribir una función lambda que duplique sus argumentos lambda x: x * 2 y usarla con la función map para duplicar todos los elementos de una lista.\n",
        "\n",
        "# Ejemplo 2\n",
        "También puedes escribir una función lambda que revise si un número es positivo, lambda x: x > 0, y usarla con la función filter para crear una lista de números positivos.\n",
        "\n",
        "# Ejemplo 3\n",
        "También es posible que una función devuelva una función lambda.\n",
        "\n",
        "Si necesitas funciones que multipliquen diferentes números, por ejemplo, duplicar, triplicar, etc... una función lambda puede ser útil\n",
        "\n",
        "En lugar de crear múltiples funciones, puedes crear una sola función multiplicar_por() y llamarla con diferentes argumentos para crear una función que duplique o triplique."
      ],
      "metadata": {
        "id": "sZcs0IyB-if4"
      },
      "id": "sZcs0IyB-if4"
    },
    {
      "cell_type": "code",
      "source": [
        "#Ejemplo 1\n",
        "mi_lista = [1, 2, 3, 4, 5, 6]\n",
        "lista_nueva = list(map(lambda x: x * 2, mi_lista))\n",
        "print(lista_nueva)  # [2, 4, 6, 8, 10, 12]\n",
        "\n",
        "#Ejemplo 2\n",
        "\n",
        "mi_lista = [18, -3, 5, 0, -1, 12]\n",
        "lista_nueva = list(filter(lambda x: x > 0, mi_lista))\n",
        "print(lista_nueva) # [18, 5, 12]\n",
        "\n",
        "#Ejemplo 3\n",
        "\n",
        "def multiplicar_por (n):\n",
        "  return lambda x: x * n\n",
        "  \n",
        "duplicar = multiplicar_por(2)\n",
        "triplicar = multiplicar_por(3)\n",
        "diez_veces = multiplicar_por(10)"
      ],
      "metadata": {
        "colab": {
          "base_uri": "https://localhost:8080/"
        },
        "id": "6Iocl1Ur_v_J",
        "outputId": "a124412e-8da2-410b-89f1-ed083b24c361"
      },
      "id": "6Iocl1Ur_v_J",
      "execution_count": null,
      "outputs": [
        {
          "output_type": "stream",
          "name": "stdout",
          "text": [
            "[2, 4, 6, 8, 10, 12]\n",
            "[18, 5, 12]\n"
          ]
        }
      ]
    },
    {
      "cell_type": "markdown",
      "id": "106b7949",
      "metadata": {
        "id": "106b7949"
      },
      "source": [
        "## 6. En Python 3.x, cómo se puede almacenar una entrada que ingrese el usuario a través del teclado? Dé un ejemplo en el contexto del análisis de datos."
      ]
    },
    {
      "cell_type": "markdown",
      "source": [
        "\n",
        "La función input() permite a los usuarios introducir datos de distintos tipos desde la entrada estándar (normalmente se corresponde con la entrada de un teclado). "
      ],
      "metadata": {
        "id": "GhAH6ez1IRzg"
      },
      "id": "GhAH6ez1IRzg"
    },
    {
      "cell_type": "code",
      "source": [
        "print(\"digite su edad:\")\n",
        "edad=input()\n",
        "print(\"digite su nombre:\")\n",
        "nombre=input()\n",
        "print(nombre,\"su edad es: \",edad)"
      ],
      "metadata": {
        "colab": {
          "base_uri": "https://localhost:8080/"
        },
        "id": "Pl_KbeF8GFsb",
        "outputId": "e90dbc1a-e848-468e-ca85-8cc369f9bd1f"
      },
      "id": "Pl_KbeF8GFsb",
      "execution_count": null,
      "outputs": [
        {
          "output_type": "stream",
          "name": "stdout",
          "text": [
            "digite su edad:\n",
            "4\n",
            "digite su nombre:\n",
            "sebas\n",
            "sebas su edad es:  4\n"
          ]
        }
      ]
    },
    {
      "cell_type": "markdown",
      "id": "aa1edb6f",
      "metadata": {
        "id": "aa1edb6f"
      },
      "source": [
        "## 7. Contexto:\n",
        "\n",
        "Un investigador ha reunido miles de artículos de noticias, pero quiere centrar su atención en artículos que incluyan una palabra específica. \n",
        "Por favor complete la siguiente función para ayudarle a filtrar el listado de artículos.\n",
        "La función que va a implementar debe cumplir con los siguientes criterios:\n",
        "- No incluya documentos en los que la palabra clave aparezca sólo como parte de una palabra más grande. \n",
        "  Por ejemplo, si estuviera buscando la palabra clave \"cerrado\", no incluya la cadena \"encerrado\".\n",
        "- El investigador no quiere que se haga ninguna distinción entre mayúsculas y minúsculas. \n",
        "  Por ende, la frase \"Cerró el caso\" se debe incluir cuando la palabra clave sea \"cerró\".\n",
        "- No permita que los puntos o las comas afecten las coincidencias. \n",
        "  \"Está cerrado.\" se debe incluir cuando la palabra clave sea \"cerrado\". \n",
        "  Por simplicidad, puede asumir que no existen otros tipos de puntuación."
      ]
    },
    {
      "cell_type": "markdown",
      "source": [
        "#------------------------------------------------------------------------------\n",
        "# Encabezado de la función \n",
        "#------------------------------------------------------------------------------\n",
        "def busqueda_de_palabra(doc_list, keyword):\n",
        "    \"\"\"\n",
        "    Esta función toma una lista de títulos de documentos (donde cada documento es una cadena de caracteres), así como una palabra clave.\n",
        "    Esta función retorna una lista con los valores de los índices de la lista original con los documentos que contienen la palabra clave. \t\n",
        "\n",
        "    Ejemplo:\n",
        "    doc_list = [\"El reto del Casino.\", \"Ellos compraron un auto\", \"Casi no va\"]\n",
        "    >>> busqueda_de_palabra(doc_list, 'casino')\n",
        "    >>> [0]\n",
        "    \"\"\"\n",
        "\n",
        "doc_list = [\"hola\", \"Ellos compraron un auto\", \"Casi no va\"]\n",
        "busqueda_de_palabra(doc_list, 'hola')\n",
        " \n",
        "#------------------------------------------------------------------------------\n",
        "# Fin\n",
        "#------------------------------------------------------------------------------    "
      ],
      "metadata": {
        "id": "32befa24"
      },
      "id": "32befa24"
    },
    {
      "cell_type": "code",
      "source": [
        ""
      ],
      "metadata": {
        "id": "xFag7BbHonPX"
      },
      "id": "xFag7BbHonPX",
      "execution_count": null,
      "outputs": []
    },
    {
      "cell_type": "code",
      "source": [
        "#------------------------------------------------------------------------------\n",
        "# Encabezado de la función \n",
        "#------------------------------------------------------------------------------\n",
        "def busqueda_de_palabra(doc_list, keyword):\n",
        "  \n",
        "    import re\n",
        "    regex= \"(\"+\".*?\".join(keyword) + \")\"\n",
        "    lista1Cadena= \" \".join(doc_list)\n",
        "    encontrados = re.finditer(regex, lista1Cadena, re.MULTILINE)\n",
        "    cantidad= [matchNum for matchNum, match in enumerate(encontrados, start=1)]\n",
        "    print(cantidad)\n",
        "    \n",
        "\n",
        "doc_list = [\"El reto del Casino\", \"Ellos compraron un auto casino\", \"Casi no va\", \"casino\"]\n",
        "busqueda_de_palabra(doc_list, 'casino')\n",
        " \n",
        "#------------------------------------------------------------------------------\n",
        "# Fin\n",
        "#------------------------------------------------------------------------------"
      ],
      "metadata": {
        "colab": {
          "base_uri": "https://localhost:8080/"
        },
        "id": "IKaaqTLjGc0g",
        "outputId": "aa4998a6-7e30-41e0-e608-5689a38456eb"
      },
      "id": "IKaaqTLjGc0g",
      "execution_count": null,
      "outputs": [
        {
          "output_type": "stream",
          "name": "stdout",
          "text": [
            "[1, 2]\n"
          ]
        }
      ]
    },
    {
      "cell_type": "code",
      "source": [
        "def busqueda_de_palabra(doc_list, keyword):\n",
        "\n",
        "\n",
        "  for n in range(len(doc_list)):\n",
        "    doc_list[n]=doc_list[n].lower()\n",
        "\n",
        "  palabras=[n for n, x in enumerate(doc_list) if keyword in x]\n",
        "  print(palabras)\n",
        "\n",
        "doc_list = [\"El reto del Casino. auto\", \"Ellos compraron un auto casino\", \"Casi no va\", \"casino\"]\n",
        "busqueda_de_palabra(doc_list, 'casino')"
      ],
      "metadata": {
        "id": "do_MQacXBjgU",
        "colab": {
          "base_uri": "https://localhost:8080/"
        },
        "outputId": "c896ef11-4968-4030-aa8e-5548c727399c"
      },
      "id": "do_MQacXBjgU",
      "execution_count": null,
      "outputs": [
        {
          "output_type": "stream",
          "name": "stdout",
          "text": [
            "[0, 1, 3]\n"
          ]
        }
      ]
    },
    {
      "cell_type": "markdown",
      "id": "b0f18c77",
      "metadata": {
        "id": "b0f18c77"
      },
      "source": [
        "## Metodología\n",
        "\n",
        "1. Lleve a cabo la Tarea 3 en parejas y consigne las respuestas en un notebook de Jupyter.\n",
        "\n",
        "2. Suba el notebook con nombre en el siguiente formato:\n",
        "\n",
        "Tarea_3_Apellido-Nombre_Apellido-Nombre.ipynb\n",
        "\n",
        "3.\tRecuerde consignar los nombres de los integrantes dentro del notebook.\n",
        "\n",
        "4.\tLa fecha límite para subir el archivo a Intu es el próximo miércoles 16 de febrero a las 7:00 am (antes del inicio de la clase).\n",
        "\n",
        "5.\tAlgunos grupos serán llamados al azar durante la clase para realizar la presentación de unos de los puntos.\n"
      ]
    }
  ],
  "metadata": {
    "kernelspec": {
      "display_name": "Python 3 (ipykernel)",
      "language": "python",
      "name": "python3"
    },
    "language_info": {
      "codemirror_mode": {
        "name": "ipython",
        "version": 3
      },
      "file_extension": ".py",
      "mimetype": "text/x-python",
      "name": "python",
      "nbconvert_exporter": "python",
      "pygments_lexer": "ipython3",
      "version": "3.9.7"
    },
    "colab": {
      "name": "Tarea_3_Restrepo-Juan_Morales-Sebastian.ipynb",
      "provenance": [],
      "collapsed_sections": [],
      "include_colab_link": true
    }
  },
  "nbformat": 4,
  "nbformat_minor": 5
}