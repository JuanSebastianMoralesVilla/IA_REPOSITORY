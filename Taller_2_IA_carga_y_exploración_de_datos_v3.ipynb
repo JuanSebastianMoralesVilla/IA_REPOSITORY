{
  "nbformat": 4,
  "nbformat_minor": 0,
  "metadata": {
    "colab": {
      "name": "Taller_2_IA_carga_y_exploración_de_datos_v3.ipynb",
      "provenance": [],
      "collapsed_sections": [
        "Qevyj_rSeD4K"
      ],
      "include_colab_link": true
    },
    "kernelspec": {
      "name": "python3",
      "display_name": "Python 3"
    }
  },
  "cells": [
    {
      "cell_type": "markdown",
      "metadata": {
        "id": "view-in-github",
        "colab_type": "text"
      },
      "source": [
        "<a href=\"https://colab.research.google.com/github/JuanSebastianMoralesVilla/IA_REPOSITORY/blob/main/Taller_2_IA_carga_y_exploracio%CC%81n_de_datos_v3.ipynb\" target=\"_parent\"><img src=\"https://colab.research.google.com/assets/colab-badge.svg\" alt=\"Open In Colab\"/></a>"
      ]
    },
    {
      "cell_type": "markdown",
      "metadata": {
        "id": "Qevyj_rSeD4K"
      },
      "source": [
        "# **Taller 2: Carga y exploración de datos.**\n",
        "\n",
        "**Curso: 09481 - Inteligencia Artificial.**\n",
        "\n",
        "**Universidad ICESI.**\n",
        "\n",
        "**Gonzalo De Varona - A00358687**\n",
        "\n",
        "**Sebastian Morales - A00365920**"
      ]
    },
    {
      "cell_type": "markdown",
      "metadata": {
        "id": "q9OkK21edkvJ"
      },
      "source": [
        "# Accediendo a archivos de Google Drive, Google Colab, y de su máquina local."
      ]
    },
    {
      "cell_type": "markdown",
      "metadata": {
        "id": "4pdnJb6ojVih"
      },
      "source": [
        "¿Cómo acceder a los archivos desde Google Drive? "
      ]
    },
    {
      "cell_type": "code",
      "metadata": {
        "id": "g7NADY9pdX5X",
        "colab": {
          "base_uri": "https://localhost:8080/"
        },
        "outputId": "6fa96032-8b6b-416a-cacb-0c76f3ad38e8"
      },
      "source": [
        "#Al ejecutar esta celda, Google colab lo va a llevar a su cuenta de google, \n",
        "#y le va a pedir que copie y pegue un código un código de acceso en un recuadro.\n",
        "\n",
        "from google.colab import drive\n",
        "drive.mount('/gdrive')"
      ],
      "execution_count": null,
      "outputs": [
        {
          "output_type": "stream",
          "name": "stdout",
          "text": [
            "Mounted at /gdrive\n"
          ]
        }
      ]
    },
    {
      "cell_type": "code",
      "metadata": {
        "id": "DxFmxkb2di1h",
        "colab": {
          "base_uri": "https://localhost:8080/"
        },
        "outputId": "b779a802-9374-4124-c9b5-67e6a7117d1b"
      },
      "source": [
        "#Este código va a crear un archivo de texto denominado \"archivo_prueba.txt\" en la raíz de \n",
        "#su google drive. El archivo tiene la cadena de caracteres 'Archivo de prueba en Google Drive.'. \n",
        "\n",
        "with open('/gdrive/My Drive/archivo_prueba.txt', 'w') as f:\n",
        "  f.write('Archivo de prueba para verificar que la conexión con Google Drive fue exitosa.')\n",
        "!cat '/gdrive/My Drive/archivo_prueba.txt'\n",
        "\n"
      ],
      "execution_count": null,
      "outputs": [
        {
          "output_type": "stream",
          "name": "stdout",
          "text": [
            "Archivo de prueba para verificar que la conexión con Google Drive fue exitosa."
          ]
        }
      ]
    },
    {
      "cell_type": "markdown",
      "metadata": {
        "id": "1folaPqVikRm"
      },
      "source": [
        "¿Cómo subir archivos desde su máquina local a Google Colab?"
      ]
    },
    {
      "cell_type": "code",
      "metadata": {
        "id": "Z4bR3CtHijKJ",
        "colab": {
          "resources": {
            "http://localhost:8080/nbextensions/google.colab/files.js": {
              "data": "Ly8gQ29weXJpZ2h0IDIwMTcgR29vZ2xlIExMQwovLwovLyBMaWNlbnNlZCB1bmRlciB0aGUgQXBhY2hlIExpY2Vuc2UsIFZlcnNpb24gMi4wICh0aGUgIkxpY2Vuc2UiKTsKLy8geW91IG1heSBub3QgdXNlIHRoaXMgZmlsZSBleGNlcHQgaW4gY29tcGxpYW5jZSB3aXRoIHRoZSBMaWNlbnNlLgovLyBZb3UgbWF5IG9idGFpbiBhIGNvcHkgb2YgdGhlIExpY2Vuc2UgYXQKLy8KLy8gICAgICBodHRwOi8vd3d3LmFwYWNoZS5vcmcvbGljZW5zZXMvTElDRU5TRS0yLjAKLy8KLy8gVW5sZXNzIHJlcXVpcmVkIGJ5IGFwcGxpY2FibGUgbGF3IG9yIGFncmVlZCB0byBpbiB3cml0aW5nLCBzb2Z0d2FyZQovLyBkaXN0cmlidXRlZCB1bmRlciB0aGUgTGljZW5zZSBpcyBkaXN0cmlidXRlZCBvbiBhbiAiQVMgSVMiIEJBU0lTLAovLyBXSVRIT1VUIFdBUlJBTlRJRVMgT1IgQ09ORElUSU9OUyBPRiBBTlkgS0lORCwgZWl0aGVyIGV4cHJlc3Mgb3IgaW1wbGllZC4KLy8gU2VlIHRoZSBMaWNlbnNlIGZvciB0aGUgc3BlY2lmaWMgbGFuZ3VhZ2UgZ292ZXJuaW5nIHBlcm1pc3Npb25zIGFuZAovLyBsaW1pdGF0aW9ucyB1bmRlciB0aGUgTGljZW5zZS4KCi8qKgogKiBAZmlsZW92ZXJ2aWV3IEhlbHBlcnMgZm9yIGdvb2dsZS5jb2xhYiBQeXRob24gbW9kdWxlLgogKi8KKGZ1bmN0aW9uKHNjb3BlKSB7CmZ1bmN0aW9uIHNwYW4odGV4dCwgc3R5bGVBdHRyaWJ1dGVzID0ge30pIHsKICBjb25zdCBlbGVtZW50ID0gZG9jdW1lbnQuY3JlYXRlRWxlbWVudCgnc3BhbicpOwogIGVsZW1lbnQudGV4dENvbnRlbnQgPSB0ZXh0OwogIGZvciAoY29uc3Qga2V5IG9mIE9iamVjdC5rZXlzKHN0eWxlQXR0cmlidXRlcykpIHsKICAgIGVsZW1lbnQuc3R5bGVba2V5XSA9IHN0eWxlQXR0cmlidXRlc1trZXldOwogIH0KICByZXR1cm4gZWxlbWVudDsKfQoKLy8gTWF4IG51bWJlciBvZiBieXRlcyB3aGljaCB3aWxsIGJlIHVwbG9hZGVkIGF0IGEgdGltZS4KY29uc3QgTUFYX1BBWUxPQURfU0laRSA9IDEwMCAqIDEwMjQ7CgpmdW5jdGlvbiBfdXBsb2FkRmlsZXMoaW5wdXRJZCwgb3V0cHV0SWQpIHsKICBjb25zdCBzdGVwcyA9IHVwbG9hZEZpbGVzU3RlcChpbnB1dElkLCBvdXRwdXRJZCk7CiAgY29uc3Qgb3V0cHV0RWxlbWVudCA9IGRvY3VtZW50LmdldEVsZW1lbnRCeUlkKG91dHB1dElkKTsKICAvLyBDYWNoZSBzdGVwcyBvbiB0aGUgb3V0cHV0RWxlbWVudCB0byBtYWtlIGl0IGF2YWlsYWJsZSBmb3IgdGhlIG5leHQgY2FsbAogIC8vIHRvIHVwbG9hZEZpbGVzQ29udGludWUgZnJvbSBQeXRob24uCiAgb3V0cHV0RWxlbWVudC5zdGVwcyA9IHN0ZXBzOwoKICByZXR1cm4gX3VwbG9hZEZpbGVzQ29udGludWUob3V0cHV0SWQpOwp9CgovLyBUaGlzIGlzIHJvdWdobHkgYW4gYXN5bmMgZ2VuZXJhdG9yIChub3Qgc3VwcG9ydGVkIGluIHRoZSBicm93c2VyIHlldCksCi8vIHdoZXJlIHRoZXJlIGFyZSBtdWx0aXBsZSBhc3luY2hyb25vdXMgc3RlcHMgYW5kIHRoZSBQeXRob24gc2lkZSBpcyBnb2luZwovLyB0byBwb2xsIGZvciBjb21wbGV0aW9uIG9mIGVhY2ggc3RlcC4KLy8gVGhpcyB1c2VzIGEgUHJvbWlzZSB0byBibG9jayB0aGUgcHl0aG9uIHNpZGUgb24gY29tcGxldGlvbiBvZiBlYWNoIHN0ZXAsCi8vIHRoZW4gcGFzc2VzIHRoZSByZXN1bHQgb2YgdGhlIHByZXZpb3VzIHN0ZXAgYXMgdGhlIGlucHV0IHRvIHRoZSBuZXh0IHN0ZXAuCmZ1bmN0aW9uIF91cGxvYWRGaWxlc0NvbnRpbnVlKG91dHB1dElkKSB7CiAgY29uc3Qgb3V0cHV0RWxlbWVudCA9IGRvY3VtZW50LmdldEVsZW1lbnRCeUlkKG91dHB1dElkKTsKICBjb25zdCBzdGVwcyA9IG91dHB1dEVsZW1lbnQuc3RlcHM7CgogIGNvbnN0IG5leHQgPSBzdGVwcy5uZXh0KG91dHB1dEVsZW1lbnQubGFzdFByb21pc2VWYWx1ZSk7CiAgcmV0dXJuIFByb21pc2UucmVzb2x2ZShuZXh0LnZhbHVlLnByb21pc2UpLnRoZW4oKHZhbHVlKSA9PiB7CiAgICAvLyBDYWNoZSB0aGUgbGFzdCBwcm9taXNlIHZhbHVlIHRvIG1ha2UgaXQgYXZhaWxhYmxlIHRvIHRoZSBuZXh0CiAgICAvLyBzdGVwIG9mIHRoZSBnZW5lcmF0b3IuCiAgICBvdXRwdXRFbGVtZW50Lmxhc3RQcm9taXNlVmFsdWUgPSB2YWx1ZTsKICAgIHJldHVybiBuZXh0LnZhbHVlLnJlc3BvbnNlOwogIH0pOwp9CgovKioKICogR2VuZXJhdG9yIGZ1bmN0aW9uIHdoaWNoIGlzIGNhbGxlZCBiZXR3ZWVuIGVhY2ggYXN5bmMgc3RlcCBvZiB0aGUgdXBsb2FkCiAqIHByb2Nlc3MuCiAqIEBwYXJhbSB7c3RyaW5nfSBpbnB1dElkIEVsZW1lbnQgSUQgb2YgdGhlIGlucHV0IGZpbGUgcGlja2VyIGVsZW1lbnQuCiAqIEBwYXJhbSB7c3RyaW5nfSBvdXRwdXRJZCBFbGVtZW50IElEIG9mIHRoZSBvdXRwdXQgZGlzcGxheS4KICogQHJldHVybiB7IUl0ZXJhYmxlPCFPYmplY3Q+fSBJdGVyYWJsZSBvZiBuZXh0IHN0ZXBzLgogKi8KZnVuY3Rpb24qIHVwbG9hZEZpbGVzU3RlcChpbnB1dElkLCBvdXRwdXRJZCkgewogIGNvbnN0IGlucHV0RWxlbWVudCA9IGRvY3VtZW50LmdldEVsZW1lbnRCeUlkKGlucHV0SWQpOwogIGlucHV0RWxlbWVudC5kaXNhYmxlZCA9IGZhbHNlOwoKICBjb25zdCBvdXRwdXRFbGVtZW50ID0gZG9jdW1lbnQuZ2V0RWxlbWVudEJ5SWQob3V0cHV0SWQpOwogIG91dHB1dEVsZW1lbnQuaW5uZXJIVE1MID0gJyc7CgogIGNvbnN0IHBpY2tlZFByb21pc2UgPSBuZXcgUHJvbWlzZSgocmVzb2x2ZSkgPT4gewogICAgaW5wdXRFbGVtZW50LmFkZEV2ZW50TGlzdGVuZXIoJ2NoYW5nZScsIChlKSA9PiB7CiAgICAgIHJlc29sdmUoZS50YXJnZXQuZmlsZXMpOwogICAgfSk7CiAgfSk7CgogIGNvbnN0IGNhbmNlbCA9IGRvY3VtZW50LmNyZWF0ZUVsZW1lbnQoJ2J1dHRvbicpOwogIGlucHV0RWxlbWVudC5wYXJlbnRFbGVtZW50LmFwcGVuZENoaWxkKGNhbmNlbCk7CiAgY2FuY2VsLnRleHRDb250ZW50ID0gJ0NhbmNlbCB1cGxvYWQnOwogIGNvbnN0IGNhbmNlbFByb21pc2UgPSBuZXcgUHJvbWlzZSgocmVzb2x2ZSkgPT4gewogICAgY2FuY2VsLm9uY2xpY2sgPSAoKSA9PiB7CiAgICAgIHJlc29sdmUobnVsbCk7CiAgICB9OwogIH0pOwoKICAvLyBXYWl0IGZvciB0aGUgdXNlciB0byBwaWNrIHRoZSBmaWxlcy4KICBjb25zdCBmaWxlcyA9IHlpZWxkIHsKICAgIHByb21pc2U6IFByb21pc2UucmFjZShbcGlja2VkUHJvbWlzZSwgY2FuY2VsUHJvbWlzZV0pLAogICAgcmVzcG9uc2U6IHsKICAgICAgYWN0aW9uOiAnc3RhcnRpbmcnLAogICAgfQogIH07CgogIGNhbmNlbC5yZW1vdmUoKTsKCiAgLy8gRGlzYWJsZSB0aGUgaW5wdXQgZWxlbWVudCBzaW5jZSBmdXJ0aGVyIHBpY2tzIGFyZSBub3QgYWxsb3dlZC4KICBpbnB1dEVsZW1lbnQuZGlzYWJsZWQgPSB0cnVlOwoKICBpZiAoIWZpbGVzKSB7CiAgICByZXR1cm4gewogICAgICByZXNwb25zZTogewogICAgICAgIGFjdGlvbjogJ2NvbXBsZXRlJywKICAgICAgfQogICAgfTsKICB9CgogIGZvciAoY29uc3QgZmlsZSBvZiBmaWxlcykgewogICAgY29uc3QgbGkgPSBkb2N1bWVudC5jcmVhdGVFbGVtZW50KCdsaScpOwogICAgbGkuYXBwZW5kKHNwYW4oZmlsZS5uYW1lLCB7Zm9udFdlaWdodDogJ2JvbGQnfSkpOwogICAgbGkuYXBwZW5kKHNwYW4oCiAgICAgICAgYCgke2ZpbGUudHlwZSB8fCAnbi9hJ30pIC0gJHtmaWxlLnNpemV9IGJ5dGVzLCBgICsKICAgICAgICBgbGFzdCBtb2RpZmllZDogJHsKICAgICAgICAgICAgZmlsZS5sYXN0TW9kaWZpZWREYXRlID8gZmlsZS5sYXN0TW9kaWZpZWREYXRlLnRvTG9jYWxlRGF0ZVN0cmluZygpIDoKICAgICAgICAgICAgICAgICAgICAgICAgICAgICAgICAgICAgJ24vYSd9IC0gYCkpOwogICAgY29uc3QgcGVyY2VudCA9IHNwYW4oJzAlIGRvbmUnKTsKICAgIGxpLmFwcGVuZENoaWxkKHBlcmNlbnQpOwoKICAgIG91dHB1dEVsZW1lbnQuYXBwZW5kQ2hpbGQobGkpOwoKICAgIGNvbnN0IGZpbGVEYXRhUHJvbWlzZSA9IG5ldyBQcm9taXNlKChyZXNvbHZlKSA9PiB7CiAgICAgIGNvbnN0IHJlYWRlciA9IG5ldyBGaWxlUmVhZGVyKCk7CiAgICAgIHJlYWRlci5vbmxvYWQgPSAoZSkgPT4gewogICAgICAgIHJlc29sdmUoZS50YXJnZXQucmVzdWx0KTsKICAgICAgfTsKICAgICAgcmVhZGVyLnJlYWRBc0FycmF5QnVmZmVyKGZpbGUpOwogICAgfSk7CiAgICAvLyBXYWl0IGZvciB0aGUgZGF0YSB0byBiZSByZWFkeS4KICAgIGxldCBmaWxlRGF0YSA9IHlpZWxkIHsKICAgICAgcHJvbWlzZTogZmlsZURhdGFQcm9taXNlLAogICAgICByZXNwb25zZTogewogICAgICAgIGFjdGlvbjogJ2NvbnRpbnVlJywKICAgICAgfQogICAgfTsKCiAgICAvLyBVc2UgYSBjaHVua2VkIHNlbmRpbmcgdG8gYXZvaWQgbWVzc2FnZSBzaXplIGxpbWl0cy4gU2VlIGIvNjIxMTU2NjAuCiAgICBsZXQgcG9zaXRpb24gPSAwOwogICAgZG8gewogICAgICBjb25zdCBsZW5ndGggPSBNYXRoLm1pbihmaWxlRGF0YS5ieXRlTGVuZ3RoIC0gcG9zaXRpb24sIE1BWF9QQVlMT0FEX1NJWkUpOwogICAgICBjb25zdCBjaHVuayA9IG5ldyBVaW50OEFycmF5KGZpbGVEYXRhLCBwb3NpdGlvbiwgbGVuZ3RoKTsKICAgICAgcG9zaXRpb24gKz0gbGVuZ3RoOwoKICAgICAgY29uc3QgYmFzZTY0ID0gYnRvYShTdHJpbmcuZnJvbUNoYXJDb2RlLmFwcGx5KG51bGwsIGNodW5rKSk7CiAgICAgIHlpZWxkIHsKICAgICAgICByZXNwb25zZTogewogICAgICAgICAgYWN0aW9uOiAnYXBwZW5kJywKICAgICAgICAgIGZpbGU6IGZpbGUubmFtZSwKICAgICAgICAgIGRhdGE6IGJhc2U2NCwKICAgICAgICB9LAogICAgICB9OwoKICAgICAgbGV0IHBlcmNlbnREb25lID0gZmlsZURhdGEuYnl0ZUxlbmd0aCA9PT0gMCA/CiAgICAgICAgICAxMDAgOgogICAgICAgICAgTWF0aC5yb3VuZCgocG9zaXRpb24gLyBmaWxlRGF0YS5ieXRlTGVuZ3RoKSAqIDEwMCk7CiAgICAgIHBlcmNlbnQudGV4dENvbnRlbnQgPSBgJHtwZXJjZW50RG9uZX0lIGRvbmVgOwoKICAgIH0gd2hpbGUgKHBvc2l0aW9uIDwgZmlsZURhdGEuYnl0ZUxlbmd0aCk7CiAgfQoKICAvLyBBbGwgZG9uZS4KICB5aWVsZCB7CiAgICByZXNwb25zZTogewogICAgICBhY3Rpb246ICdjb21wbGV0ZScsCiAgICB9CiAgfTsKfQoKc2NvcGUuZ29vZ2xlID0gc2NvcGUuZ29vZ2xlIHx8IHt9OwpzY29wZS5nb29nbGUuY29sYWIgPSBzY29wZS5nb29nbGUuY29sYWIgfHwge307CnNjb3BlLmdvb2dsZS5jb2xhYi5fZmlsZXMgPSB7CiAgX3VwbG9hZEZpbGVzLAogIF91cGxvYWRGaWxlc0NvbnRpbnVlLAp9Owp9KShzZWxmKTsK",
              "ok": true,
              "headers": [
                [
                  "content-type",
                  "application/javascript"
                ]
              ],
              "status": 200,
              "status_text": ""
            }
          },
          "base_uri": "https://localhost:8080/",
          "height": 38
        },
        "outputId": "56f7774a-f608-4b8a-a66d-4aaae78bc9d9"
      },
      "source": [
        "from google.colab import files\n",
        "\n",
        "uploaded = files.upload()\n",
        "\n",
        "for fn in uploaded.keys():\n",
        "  print('El usuario cargó el archivo \"{name}\" que tiene un tamaño de {length} bytes'.format(name=fn, length=len(uploaded[fn])))"
      ],
      "execution_count": null,
      "outputs": [
        {
          "output_type": "display_data",
          "data": {
            "text/html": [
              "\n",
              "     <input type=\"file\" id=\"files-c8f9b308-99e2-4d44-8b67-5e81c6412410\" name=\"files[]\" multiple disabled\n",
              "        style=\"border:none\" />\n",
              "     <output id=\"result-c8f9b308-99e2-4d44-8b67-5e81c6412410\">\n",
              "      Upload widget is only available when the cell has been executed in the\n",
              "      current browser session. Please rerun this cell to enable.\n",
              "      </output>\n",
              "      <script src=\"/nbextensions/google.colab/files.js\"></script> "
            ],
            "text/plain": [
              "<IPython.core.display.HTML object>"
            ]
          },
          "metadata": {}
        }
      ]
    },
    {
      "cell_type": "code",
      "source": [
        "from google.colab import drive\n",
        "drive.mount('/content/drive')"
      ],
      "metadata": {
        "colab": {
          "base_uri": "https://localhost:8080/"
        },
        "id": "LsIIoFW_hXF_",
        "outputId": "aafcdb1c-89b4-40eb-a12f-95f38a0e15d2"
      },
      "execution_count": null,
      "outputs": [
        {
          "output_type": "stream",
          "name": "stdout",
          "text": [
            "Mounted at /content/drive\n"
          ]
        }
      ]
    },
    {
      "cell_type": "markdown",
      "metadata": {
        "id": "xdm415Vnll2Z"
      },
      "source": [
        "¿Cómo descargar archivos de google Colab a su máquina local?"
      ]
    },
    {
      "cell_type": "code",
      "metadata": {
        "id": "f3WbO-uzijDh",
        "colab": {
          "base_uri": "https://localhost:8080/",
          "height": 17
        },
        "outputId": "b5583a1c-82a6-46ed-cb09-df4184adc723"
      },
      "source": [
        "from google.colab import files\n",
        "\n",
        "with open('archivo_de_prueba_2.txt', 'w') as f:\n",
        "  f.write('Este es un archivo de prueba.')\n",
        "\n",
        "files.download('archivo_de_prueba_2.txt')"
      ],
      "execution_count": null,
      "outputs": [
        {
          "output_type": "display_data",
          "data": {
            "application/javascript": [
              "\n",
              "    async function download(id, filename, size) {\n",
              "      if (!google.colab.kernel.accessAllowed) {\n",
              "        return;\n",
              "      }\n",
              "      const div = document.createElement('div');\n",
              "      const label = document.createElement('label');\n",
              "      label.textContent = `Downloading \"${filename}\": `;\n",
              "      div.appendChild(label);\n",
              "      const progress = document.createElement('progress');\n",
              "      progress.max = size;\n",
              "      div.appendChild(progress);\n",
              "      document.body.appendChild(div);\n",
              "\n",
              "      const buffers = [];\n",
              "      let downloaded = 0;\n",
              "\n",
              "      const channel = await google.colab.kernel.comms.open(id);\n",
              "      // Send a message to notify the kernel that we're ready.\n",
              "      channel.send({})\n",
              "\n",
              "      for await (const message of channel.messages) {\n",
              "        // Send a message to notify the kernel that we're ready.\n",
              "        channel.send({})\n",
              "        if (message.buffers) {\n",
              "          for (const buffer of message.buffers) {\n",
              "            buffers.push(buffer);\n",
              "            downloaded += buffer.byteLength;\n",
              "            progress.value = downloaded;\n",
              "          }\n",
              "        }\n",
              "      }\n",
              "      const blob = new Blob(buffers, {type: 'application/binary'});\n",
              "      const a = document.createElement('a');\n",
              "      a.href = window.URL.createObjectURL(blob);\n",
              "      a.download = filename;\n",
              "      div.appendChild(a);\n",
              "      a.click();\n",
              "      div.remove();\n",
              "    }\n",
              "  "
            ],
            "text/plain": [
              "<IPython.core.display.Javascript object>"
            ]
          },
          "metadata": {}
        },
        {
          "output_type": "display_data",
          "data": {
            "application/javascript": [
              "download(\"download_af33f313-b6ec-4358-a686-f3ab997d54f0\", \"archivo_de_prueba_2.txt\", 29)"
            ],
            "text/plain": [
              "<IPython.core.display.Javascript object>"
            ]
          },
          "metadata": {}
        }
      ]
    },
    {
      "cell_type": "markdown",
      "metadata": {
        "id": "KZdJiekd0xSg"
      },
      "source": [
        "Para mayor información, consulte: https://colab.research.google.com/notebooks/io.ipynb#scrollTo=p2E4EKhCWEC5"
      ]
    },
    {
      "cell_type": "markdown",
      "metadata": {
        "id": "UwwZ5Wn0039-"
      },
      "source": [
        "# Carga de un conjunto de datos tabulares."
      ]
    },
    {
      "cell_type": "code",
      "metadata": {
        "id": "5JtFVIEWd8ii"
      },
      "source": [
        "#Vamos a importar las librerías que vamos a utilizar.\n",
        "\n",
        "import pandas as pd                #Importamos la librería pandas. Nos va a servir para leer y manipular conjuntos de datos tabulares.\n",
        "import matplotlib.pyplot as plt    #Importamos pyplot de librería matplotlib. Lo vamos a utilizar para graficar.\n",
        "import seaborn as sns              #Importamos la librería Seaborn. La vamos a utilizar para graficar.\n",
        "import numpy as np                 #Importamos la librería numpy para manipular arreglos. \n",
        "from google.colab import files     #Esta librería nos sirve para cargar archivos desde el disco duro.\n",
        "from scipy.stats import iqr\n",
        "from ast import literal_eval"
      ],
      "execution_count": null,
      "outputs": []
    },
    {
      "cell_type": "code",
      "metadata": {
        "id": "KrOE33x-1Dgv",
        "colab": {
          "resources": {
            "http://localhost:8080/nbextensions/google.colab/files.js": {
              "data": "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",
              "ok": true,
              "headers": [
                [
                  "content-type",
                  "application/javascript"
                ]
              ],
              "status": 200,
              "status_text": ""
            }
          },
          "base_uri": "https://localhost:8080/",
          "height": 38
        },
        "outputId": "37d215e4-6eeb-4ea5-8a81-8deb3edd7115"
      },
      "source": [
        "#Primero vamos a descargar el archivo \"auto-mpg.csv\" en nuestra máquina local desde Moodle o desde esta ruta: https://www.kaggle.com/uciml/autompg-dataset\n",
        "\n",
        "#Ahora cargamos el archivo que tiene el conjunto de datos \"auto-mpg.csv\"\n",
        "uploaded = files.upload()"
      ],
      "execution_count": null,
      "outputs": [
        {
          "output_type": "display_data",
          "data": {
            "text/html": [
              "\n",
              "     <input type=\"file\" id=\"files-efbdd7ea-23c2-4480-9839-5b01ef7469bf\" name=\"files[]\" multiple disabled\n",
              "        style=\"border:none\" />\n",
              "     <output id=\"result-efbdd7ea-23c2-4480-9839-5b01ef7469bf\">\n",
              "      Upload widget is only available when the cell has been executed in the\n",
              "      current browser session. Please rerun this cell to enable.\n",
              "      </output>\n",
              "      <script src=\"/nbextensions/google.colab/files.js\"></script> "
            ],
            "text/plain": [
              "<IPython.core.display.HTML object>"
            ]
          },
          "metadata": {}
        }
      ]
    },
    {
      "cell_type": "code",
      "metadata": {
        "id": "uzB3DdcQzcxv",
        "colab": {
          "base_uri": "https://localhost:8080/",
          "height": 206
        },
        "outputId": "7b6a29d4-4450-47b0-8b47-0e95548b6bad"
      },
      "source": [
        "# Vamos a leer el conjunto de datos en un dataframe de pandas. \n",
        "df = pd.read_csv('/content/drive/MyDrive/datasets/auto-mpg.csv',    #Ruta completa a la ubicación del archivo de interés.  \n",
        "                 na_values='?')              #Como el archivo contiene algunos caracteres ?, con este comando pandas los interpreta como nan (not a number).\n",
        "\n",
        "# Revisemos las primeras filas del dataframe.\n",
        "df.head()  #Si quiere imprimir n filas, use n como argumento de este método."
      ],
      "execution_count": null,
      "outputs": [
        {
          "output_type": "execute_result",
          "data": {
            "text/html": [
              "\n",
              "  <div id=\"df-b42e10b1-c8e8-4db8-954a-0f9e05bc4791\">\n",
              "    <div class=\"colab-df-container\">\n",
              "      <div>\n",
              "<style scoped>\n",
              "    .dataframe tbody tr th:only-of-type {\n",
              "        vertical-align: middle;\n",
              "    }\n",
              "\n",
              "    .dataframe tbody tr th {\n",
              "        vertical-align: top;\n",
              "    }\n",
              "\n",
              "    .dataframe thead th {\n",
              "        text-align: right;\n",
              "    }\n",
              "</style>\n",
              "<table border=\"1\" class=\"dataframe\">\n",
              "  <thead>\n",
              "    <tr style=\"text-align: right;\">\n",
              "      <th></th>\n",
              "      <th>mpg</th>\n",
              "      <th>cylinders</th>\n",
              "      <th>displacement</th>\n",
              "      <th>horsepower</th>\n",
              "      <th>weight</th>\n",
              "      <th>acceleration</th>\n",
              "      <th>model year</th>\n",
              "      <th>origin</th>\n",
              "      <th>car name</th>\n",
              "    </tr>\n",
              "  </thead>\n",
              "  <tbody>\n",
              "    <tr>\n",
              "      <th>0</th>\n",
              "      <td>18.0</td>\n",
              "      <td>8</td>\n",
              "      <td>307.0</td>\n",
              "      <td>130.0</td>\n",
              "      <td>3504</td>\n",
              "      <td>12.0</td>\n",
              "      <td>70</td>\n",
              "      <td>1</td>\n",
              "      <td>chevrolet chevelle malibu</td>\n",
              "    </tr>\n",
              "    <tr>\n",
              "      <th>1</th>\n",
              "      <td>15.0</td>\n",
              "      <td>8</td>\n",
              "      <td>350.0</td>\n",
              "      <td>165.0</td>\n",
              "      <td>3693</td>\n",
              "      <td>11.5</td>\n",
              "      <td>70</td>\n",
              "      <td>1</td>\n",
              "      <td>buick skylark 320</td>\n",
              "    </tr>\n",
              "    <tr>\n",
              "      <th>2</th>\n",
              "      <td>18.0</td>\n",
              "      <td>8</td>\n",
              "      <td>318.0</td>\n",
              "      <td>150.0</td>\n",
              "      <td>3436</td>\n",
              "      <td>11.0</td>\n",
              "      <td>70</td>\n",
              "      <td>1</td>\n",
              "      <td>plymouth satellite</td>\n",
              "    </tr>\n",
              "    <tr>\n",
              "      <th>3</th>\n",
              "      <td>16.0</td>\n",
              "      <td>8</td>\n",
              "      <td>304.0</td>\n",
              "      <td>150.0</td>\n",
              "      <td>3433</td>\n",
              "      <td>12.0</td>\n",
              "      <td>70</td>\n",
              "      <td>1</td>\n",
              "      <td>amc rebel sst</td>\n",
              "    </tr>\n",
              "    <tr>\n",
              "      <th>4</th>\n",
              "      <td>17.0</td>\n",
              "      <td>8</td>\n",
              "      <td>302.0</td>\n",
              "      <td>140.0</td>\n",
              "      <td>3449</td>\n",
              "      <td>10.5</td>\n",
              "      <td>70</td>\n",
              "      <td>1</td>\n",
              "      <td>ford torino</td>\n",
              "    </tr>\n",
              "  </tbody>\n",
              "</table>\n",
              "</div>\n",
              "      <button class=\"colab-df-convert\" onclick=\"convertToInteractive('df-b42e10b1-c8e8-4db8-954a-0f9e05bc4791')\"\n",
              "              title=\"Convert this dataframe to an interactive table.\"\n",
              "              style=\"display:none;\">\n",
              "        \n",
              "  <svg xmlns=\"http://www.w3.org/2000/svg\" height=\"24px\"viewBox=\"0 0 24 24\"\n",
              "       width=\"24px\">\n",
              "    <path d=\"M0 0h24v24H0V0z\" fill=\"none\"/>\n",
              "    <path d=\"M18.56 5.44l.94 2.06.94-2.06 2.06-.94-2.06-.94-.94-2.06-.94 2.06-2.06.94zm-11 1L8.5 8.5l.94-2.06 2.06-.94-2.06-.94L8.5 2.5l-.94 2.06-2.06.94zm10 10l.94 2.06.94-2.06 2.06-.94-2.06-.94-.94-2.06-.94 2.06-2.06.94z\"/><path d=\"M17.41 7.96l-1.37-1.37c-.4-.4-.92-.59-1.43-.59-.52 0-1.04.2-1.43.59L10.3 9.45l-7.72 7.72c-.78.78-.78 2.05 0 2.83L4 21.41c.39.39.9.59 1.41.59.51 0 1.02-.2 1.41-.59l7.78-7.78 2.81-2.81c.8-.78.8-2.07 0-2.86zM5.41 20L4 18.59l7.72-7.72 1.47 1.35L5.41 20z\"/>\n",
              "  </svg>\n",
              "      </button>\n",
              "      \n",
              "  <style>\n",
              "    .colab-df-container {\n",
              "      display:flex;\n",
              "      flex-wrap:wrap;\n",
              "      gap: 12px;\n",
              "    }\n",
              "\n",
              "    .colab-df-convert {\n",
              "      background-color: #E8F0FE;\n",
              "      border: none;\n",
              "      border-radius: 50%;\n",
              "      cursor: pointer;\n",
              "      display: none;\n",
              "      fill: #1967D2;\n",
              "      height: 32px;\n",
              "      padding: 0 0 0 0;\n",
              "      width: 32px;\n",
              "    }\n",
              "\n",
              "    .colab-df-convert:hover {\n",
              "      background-color: #E2EBFA;\n",
              "      box-shadow: 0px 1px 2px rgba(60, 64, 67, 0.3), 0px 1px 3px 1px rgba(60, 64, 67, 0.15);\n",
              "      fill: #174EA6;\n",
              "    }\n",
              "\n",
              "    [theme=dark] .colab-df-convert {\n",
              "      background-color: #3B4455;\n",
              "      fill: #D2E3FC;\n",
              "    }\n",
              "\n",
              "    [theme=dark] .colab-df-convert:hover {\n",
              "      background-color: #434B5C;\n",
              "      box-shadow: 0px 1px 3px 1px rgba(0, 0, 0, 0.15);\n",
              "      filter: drop-shadow(0px 1px 2px rgba(0, 0, 0, 0.3));\n",
              "      fill: #FFFFFF;\n",
              "    }\n",
              "  </style>\n",
              "\n",
              "      <script>\n",
              "        const buttonEl =\n",
              "          document.querySelector('#df-b42e10b1-c8e8-4db8-954a-0f9e05bc4791 button.colab-df-convert');\n",
              "        buttonEl.style.display =\n",
              "          google.colab.kernel.accessAllowed ? 'block' : 'none';\n",
              "\n",
              "        async function convertToInteractive(key) {\n",
              "          const element = document.querySelector('#df-b42e10b1-c8e8-4db8-954a-0f9e05bc4791');\n",
              "          const dataTable =\n",
              "            await google.colab.kernel.invokeFunction('convertToInteractive',\n",
              "                                                     [key], {});\n",
              "          if (!dataTable) return;\n",
              "\n",
              "          const docLinkHtml = 'Like what you see? Visit the ' +\n",
              "            '<a target=\"_blank\" href=https://colab.research.google.com/notebooks/data_table.ipynb>data table notebook</a>'\n",
              "            + ' to learn more about interactive tables.';\n",
              "          element.innerHTML = '';\n",
              "          dataTable['output_type'] = 'display_data';\n",
              "          await google.colab.output.renderOutput(dataTable, element);\n",
              "          const docLink = document.createElement('div');\n",
              "          docLink.innerHTML = docLinkHtml;\n",
              "          element.appendChild(docLink);\n",
              "        }\n",
              "      </script>\n",
              "    </div>\n",
              "  </div>\n",
              "  "
            ],
            "text/plain": [
              "    mpg  cylinders  displacement  ...  model year  origin                   car name\n",
              "0  18.0          8         307.0  ...          70       1  chevrolet chevelle malibu\n",
              "1  15.0          8         350.0  ...          70       1          buick skylark 320\n",
              "2  18.0          8         318.0  ...          70       1         plymouth satellite\n",
              "3  16.0          8         304.0  ...          70       1              amc rebel sst\n",
              "4  17.0          8         302.0  ...          70       1                ford torino\n",
              "\n",
              "[5 rows x 9 columns]"
            ]
          },
          "metadata": {},
          "execution_count": 11
        }
      ]
    },
    {
      "cell_type": "markdown",
      "metadata": {
        "id": "Wh7t7aZ2nZhl"
      },
      "source": [
        "# Manejo básico de Pandas"
      ]
    },
    {
      "cell_type": "code",
      "metadata": {
        "id": "Y0hqpEk4jxRb",
        "colab": {
          "base_uri": "https://localhost:8080/"
        },
        "outputId": "6e83be1f-f14d-4b44-cbda-2586ef8e1448"
      },
      "source": [
        "#Imprimamos todas las observaciones del atributo mpg.\n",
        "print(df['mpg'],'\\n')   #Note que puede seleccionar una columna entera del dataframe usando el nombre de la columna en cuestión.\n",
        "\n",
        "#Revisemos el tipo de dato de esta selección.\n",
        "print('Tipo:', type(df),'\\n')\n",
        "print('Tipo:', type(df['mpg']),'\\n')  #Es una serie !\n",
        "\n",
        "#Vamos a extraer las primeros 4 primeras observaciones del atributo mpg como una serie de pandas.\n",
        "print('Resultado de la selección:\\n', df['mpg'].iloc[0:4], sep='')"
      ],
      "execution_count": null,
      "outputs": [
        {
          "output_type": "stream",
          "name": "stdout",
          "text": [
            "0      18.0\n",
            "1      15.0\n",
            "2      18.0\n",
            "3      16.0\n",
            "4      17.0\n",
            "       ... \n",
            "393    27.0\n",
            "394    44.0\n",
            "395    32.0\n",
            "396    28.0\n",
            "397    31.0\n",
            "Name: mpg, Length: 398, dtype: float64 \n",
            "\n",
            "Tipo: <class 'pandas.core.frame.DataFrame'> \n",
            "\n",
            "Tipo: <class 'pandas.core.series.Series'> \n",
            "\n",
            "Resultado de la selección:\n",
            "0    18.0\n",
            "1    15.0\n",
            "2    18.0\n",
            "3    16.0\n",
            "Name: mpg, dtype: float64\n"
          ]
        }
      ]
    },
    {
      "cell_type": "code",
      "metadata": {
        "id": "2K_4eFJ_hW9b",
        "colab": {
          "base_uri": "https://localhost:8080/"
        },
        "outputId": "e46cb4e8-8f96-439d-a2ce-0d8048cd59e3"
      },
      "source": [
        "#Imprimamos la primera observación (i.e.: la primera fila) del dataframe.\n",
        "obs1 = df.iloc[0,:]   #[filas, columnas]\n",
        "print('Primera observación del conjunto de datos:\\n',obs1,'\\n')\n",
        "\n",
        "#Qué tipo tiene esta selección que hice?\n",
        "print('Tipo de la primera observación del conjunto de datos: ', type(obs1),'\\n')  #Es una serie !\n",
        "\n",
        "#Ahora intentemos extraer la segunda observación (i.e.: índice 1) del atributo horsepower (i.e.: índice 3):\n",
        "print('La segunda observación del atributo horsepower es ', df.iloc[1,3])   #Nota: iloc sólo acepta índices numéricos."
      ],
      "execution_count": null,
      "outputs": [
        {
          "output_type": "stream",
          "name": "stdout",
          "text": [
            "Primera observación del conjunto de datos:\n",
            " mpg                                  18.0\n",
            "cylinders                               8\n",
            "displacement                        307.0\n",
            "horsepower                          130.0\n",
            "weight                               3504\n",
            "acceleration                         12.0\n",
            "model year                             70\n",
            "origin                                  1\n",
            "car name        chevrolet chevelle malibu\n",
            "Name: 0, dtype: object \n",
            "\n",
            "Tipo de la primera observación del conjunto de datos:  <class 'pandas.core.series.Series'> \n",
            "\n",
            "La segunda observación del atributo horsepower es  165.0\n"
          ]
        }
      ]
    },
    {
      "cell_type": "code",
      "metadata": {
        "id": "tdG_9jgwlmUD",
        "colab": {
          "base_uri": "https://localhost:8080/"
        },
        "outputId": "2ff758ff-11ed-40e3-f061-0d40a0c93cb3"
      },
      "source": [
        "# Qué tal si quiero extraer un subconjunto de las observaciones?\n",
        "df_sub = df.iloc[0:10,:] #Tome las filas de la 0 a la 9, y todos los atributos.\n",
        "print(df_sub.shape)      #(filas, columnas) = (observaciones, atributos)\n",
        "print(type(df_sub))"
      ],
      "execution_count": null,
      "outputs": [
        {
          "output_type": "stream",
          "name": "stdout",
          "text": [
            "(10, 9)\n",
            "<class 'pandas.core.frame.DataFrame'>\n"
          ]
        }
      ]
    },
    {
      "cell_type": "code",
      "source": [
        "df_sub.head()"
      ],
      "metadata": {
        "id": "EZ5GiaEJ6CSd"
      },
      "execution_count": null,
      "outputs": []
    },
    {
      "cell_type": "markdown",
      "metadata": {
        "id": "1fkd7KFOnqkd"
      },
      "source": [
        "# Exploración básica del conjunto de datos tabular."
      ]
    },
    {
      "cell_type": "markdown",
      "source": [
        "## **Actividad 1. Identifique:**\n",
        "\n",
        "*   a. Número de observaciones.\n",
        "*   b. Número de atributos.\n",
        "*   c. Nombre y tipo de cada uno de los atributos.\n",
        "*   d. Investigue qué representa cada uno de los atributos del dataset.\n",
        "*   e. Cuáles atributos toman valores discretos y cuáles atributos toman valores continuos.\n",
        "\n",
        "\n",
        "\n",
        "\n",
        "\n",
        "\n",
        "\n"
      ],
      "metadata": {
        "id": "ErUEc63bhGbm"
      }
    },
    {
      "cell_type": "code",
      "source": [
        "print(\"a. Número observaciones:\", df.shape[0])\n",
        "print(\"b. Número de atributos:\", df.shape[1])\n",
        "print(\"c. Nombre de atributos:\",\"\\n\", df.dtypes)"
      ],
      "metadata": {
        "colab": {
          "base_uri": "https://localhost:8080/"
        },
        "id": "Gwoxxuq5oMpG",
        "outputId": "5435c1f0-84e8-4e7a-ba54-28b813e32365"
      },
      "execution_count": null,
      "outputs": [
        {
          "output_type": "stream",
          "name": "stdout",
          "text": [
            "a. Número observaciones: 398\n",
            "b. Número de atributos: 9\n",
            "c. Nombre de atributos: \n",
            " mpg             float64\n",
            "cylinders         int64\n",
            "displacement    float64\n",
            "horsepower      float64\n",
            "weight            int64\n",
            "acceleration    float64\n",
            "model year        int64\n",
            "origin            int64\n",
            "car name         object\n",
            "dtype: object\n"
          ]
        }
      ]
    },
    {
      "cell_type": "markdown",
      "source": [
        "d. atributos del data set:\n",
        " * **Mpg  :** Indica la cantidad de millas recorridas por galon de cada vehiculo. \n",
        "\n",
        " * **Cylinders:** Componente del motor , este indica la cantidad de cilindros de cada motor\n",
        "\n",
        "\n",
        "* **Displacement:** Cantidad total de millas recorridas con el tanque completo.\n",
        "\n",
        "* **Horsepower:** Los caballos de fuerza son una medida de la velocidad a la que se realiza el trabajo y difieren del torque, que es una medida de la cantidad de fuerza aplicada para hacer ese trabajo.\n",
        "\n",
        "* **Weight:** El peso en vacío de un vehículo es el peso del vehículo cuando está cargado con combustible y el aceite y todo el equipamiento de serie, sin conductor ni pasajeros ni carga añadida. \n",
        "\n",
        "* **Acceleration :** La aceleración es aquella capacidad de los coches para pasar de una velocidad a otra en un tiempo determinado. Para determinar la aceleración de un vehículo, se toman dos valores en km, el 0 y el 100 y se mide el tiempo en segundos que tarda el coche en acelerar de 0 a 100 km/h.\n",
        "\n",
        "* **Model year:** Año de fabrbiracion del vehiculo.\n",
        "\n",
        "* **Origin:**       Variable con valores de 1 a 3 , que determina la region del fabricante del vehiculo:\n",
        "    * 1. AMERICA (chevrolet, dodge, ford, etc)\n",
        "    * 2. EUROPA (audi, mercedez benz, renault)\n",
        "    * 3. ASIA (toyoya, datsun)\n",
        "\n",
        "* **Car name:** Nombre del carro junto a la marca.    \n"
      ],
      "metadata": {
        "id": "-T8JsTnjzQih"
      }
    },
    {
      "cell_type": "markdown",
      "source": [
        "e. Información de atributos:\n",
        "\n",
        "* Millas por galón: continuo\n",
        "* Cilindros: discreto multivalor\n",
        "* Desplazamiento: continuo\n",
        "* Caballos de fuerza: continua\n",
        "* peso: continuo\n",
        "* Aceleración: continua\n",
        "* Año del modelo: discreto multivaluado\n",
        "* Origen: discreto multivaluado\n",
        "* Nombre del coche: cadena (única para cada instancia)\n",
        "\n",
        "\n",
        "\n"
      ],
      "metadata": {
        "id": "CDcsMyv3qXks"
      }
    },
    {
      "cell_type": "markdown",
      "source": [
        "## **Actividad 2. Obtenga algunas estadísticas básicas de cada atributo para entender mejor el conjunto de datos. Con la información obtenida:**\n",
        "*   a. Calcule el IQR (Interquartile Range) para cada atributo.\n",
        "*   b. ¿Es posible que determinar la presencia de 'outliers' en algún atributo?¿Por qué?¿Cuál o cuáles?\n",
        "\n"
      ],
      "metadata": {
        "id": "NpOCgI0bjBXU"
      }
    },
    {
      "cell_type": "code",
      "source": [
        "print(\"Punto a \\nrango iqr para cada atributo\")\n",
        "p25 = df.quantile( 0.25)  \n",
        "p75 = df.quantile(0.75) \n",
        "iqr = p75 - p25\n",
        "\n",
        "print(iqr)\n",
        "\n"
      ],
      "metadata": {
        "id": "Zf0NRx-TrPxD",
        "colab": {
          "base_uri": "https://localhost:8080/"
        },
        "outputId": "a2c72653-3088-4efa-850b-03835ba7833c"
      },
      "execution_count": null,
      "outputs": [
        {
          "output_type": "stream",
          "name": "stdout",
          "text": [
            "Punto a \n",
            "rango iqr para cada atributo\n",
            "mpg               11.50\n",
            "cylinders          4.00\n",
            "displacement     157.75\n",
            "horsepower        51.00\n",
            "weight          1384.25\n",
            "acceleration       3.35\n",
            "model year         6.00\n",
            "origin             1.00\n",
            "dtype: float64\n"
          ]
        }
      ]
    },
    {
      "cell_type": "markdown",
      "source": [
        "**Punto b**\n",
        "\n",
        "Si es posible determinar la presencia de outliers en todos los atributos menos en el último que no es cuantitativo, a continuación se evidencian cuales atributos tienen outliers y en que proporción:"
      ],
      "metadata": {
        "id": "WSzzfS3BO_Ck"
      }
    },
    {
      "cell_type": "code",
      "source": [
        "\n",
        "plot = df.boxplot(column=['mpg',\"cylinders\",'displacement','horsepower','weight','acceleration','origin'])\n",
        "\n",
        "\n",
        "lowerRanges = (p25 - 1.5 * iqr)\n",
        "upperRanges = (p75 + 1.5 *iqr)\n",
        "\n",
        "\n",
        "for col in df:\n",
        "  if(col != \"car name\"):\n",
        "    lowerRange = lowerRanges[col]\n",
        "    upperRange = upperRanges[col]\n",
        "    outliers = sum( (df[col]< lowerRange) |(df[col]>upperRange))\n",
        "    print(\"cantidad de outliers en\",col,\":\",outliers, \". Porcentaje del total:\", str((outliers/len(df[col]))*100)+\"%\")\n",
        "\n",
        "\n"
      ],
      "metadata": {
        "colab": {
          "base_uri": "https://localhost:8080/",
          "height": 463
        },
        "id": "WvxlhXtnO2Nt",
        "outputId": "9fa98e0e-c690-4183-ecfb-b741ad7d443a"
      },
      "execution_count": null,
      "outputs": [
        {
          "output_type": "stream",
          "name": "stderr",
          "text": [
            "/usr/local/lib/python3.7/dist-packages/matplotlib/cbook/__init__.py:1376: VisibleDeprecationWarning: Creating an ndarray from ragged nested sequences (which is a list-or-tuple of lists-or-tuples-or ndarrays with different lengths or shapes) is deprecated. If you meant to do this, you must specify 'dtype=object' when creating the ndarray.\n",
            "  X = np.atleast_1d(X.T if isinstance(X, np.ndarray) else np.asarray(X))\n"
          ]
        },
        {
          "output_type": "stream",
          "name": "stdout",
          "text": [
            "cantidad de outliers en mpg : 1 . Porcentaje del total: 0.25125628140703515%\n",
            "cantidad de outliers en cylinders : 0 . Porcentaje del total: 0.0%\n",
            "cantidad de outliers en displacement : 0 . Porcentaje del total: 0.0%\n",
            "cantidad de outliers en horsepower : 10 . Porcentaje del total: 2.512562814070352%\n",
            "cantidad de outliers en weight : 0 . Porcentaje del total: 0.0%\n",
            "cantidad de outliers en acceleration : 7 . Porcentaje del total: 1.7587939698492463%\n",
            "cantidad de outliers en model year : 0 . Porcentaje del total: 0.0%\n",
            "cantidad de outliers en origin : 0 . Porcentaje del total: 0.0%\n"
          ]
        },
        {
          "output_type": "display_data",
          "data": {
            "image/png": "[encoded data removed]",
            "text/plain": [
              "<Figure size 432x288 with 1 Axes>"
            ]
          },
          "metadata": {
            "needs_background": "light"
          }
        }
      ]
    },
    {
      "cell_type": "markdown",
      "source": [
        "## **Actividad 3. Cambiar el tipo de dato del atributo 'car name' de object a string.**"
      ],
      "metadata": {
        "id": "Dz6iWs6YpCVi"
      }
    },
    {
      "cell_type": "code",
      "source": [
        "df['car name'] = pd.Series(df['car name'], dtype=\"string\")\n",
        "df.dtypes\n",
        "\n",
        "\n",
        "\n"
      ],
      "metadata": {
        "colab": {
          "base_uri": "https://localhost:8080/"
        },
        "id": "gPWwoBPH-hB6",
        "outputId": "2f76a066-c2b8-4de6-c9e7-526d28e68a6f"
      },
      "execution_count": null,
      "outputs": [
        {
          "output_type": "execute_result",
          "data": {
            "text/plain": [
              "mpg             float64\n",
              "cylinders         int64\n",
              "displacement    float64\n",
              "horsepower      float64\n",
              "weight            int64\n",
              "acceleration    float64\n",
              "model year        int64\n",
              "origin            int64\n",
              "car name         string\n",
              "dtype: object"
            ]
          },
          "metadata": {},
          "execution_count": 20
        }
      ]
    },
    {
      "cell_type": "markdown",
      "source": [
        "## Revisión de los valores de cada atributo"
      ],
      "metadata": {
        "id": "wmm9xxnisCIb"
      }
    },
    {
      "cell_type": "code",
      "metadata": {
        "id": "fcAGIh7K8gDO",
        "colab": {
          "base_uri": "https://localhost:8080/"
        },
        "outputId": "9a44a670-bef0-4ad5-cea3-558ce29de735"
      },
      "source": [
        "#Ahora revisemos algunos valores de las series de cada atributo.\n",
        "atributo_de_interes = df.columns[0]  #Índices de atributos válidos para este conjunto de datos 0...7 (porque el 8 es string)\n",
        "print('Vamos a explorar el atributo ', atributo_de_interes,'\\n')\n",
        "\n",
        "a = df[atributo_de_interes].values\n",
        "print('Valores: ', a,'\\n')\n",
        "print('Tipo: ', type(a),'\\n')  #Es un ndarray para las variables numéricas, un StringArray para 'car name'.\n",
        "print('Dimensiones: ', a.shape,'\\n')  #Es arreglo de rango 1. Es decir que es un vector, pero no es ni fila ni columna !!!\n",
        "\n",
        "#Cambio de forma (para las variables númericas) a un vector columna.\n",
        "b = a.reshape((-1,1)) \n",
        "print('Nueva dimensión: ', b.shape,'\\n')\n",
        "\n",
        "# #Cambio de forma (para las variables númericas) a un vector fila.\n",
        "c = a.reshape((1,-1))  \n",
        "print('Nueva dimensión: ', c.shape,'\\n')"
      ],
      "execution_count": null,
      "outputs": [
        {
          "output_type": "stream",
          "name": "stdout",
          "text": [
            "Vamos a explorar el atributo  mpg \n",
            "\n",
            "Valores:  [18.  15.  18.  16.  17.  15.  14.  14.  14.  15.  15.  14.  15.  14.\n",
            " 24.  22.  18.  21.  27.  26.  25.  24.  25.  26.  21.  10.  10.  11.\n",
            "  9.  27.  28.  25.  25.  19.  16.  17.  19.  18.  14.  14.  14.  14.\n",
            " 12.  13.  13.  18.  22.  19.  18.  23.  28.  30.  30.  31.  35.  27.\n",
            " 26.  24.  25.  23.  20.  21.  13.  14.  15.  14.  17.  11.  13.  12.\n",
            " 13.  19.  15.  13.  13.  14.  18.  22.  21.  26.  22.  28.  23.  28.\n",
            " 27.  13.  14.  13.  14.  15.  12.  13.  13.  14.  13.  12.  13.  18.\n",
            " 16.  18.  18.  23.  26.  11.  12.  13.  12.  18.  20.  21.  22.  18.\n",
            " 19.  21.  26.  15.  16.  29.  24.  20.  19.  15.  24.  20.  11.  20.\n",
            " 21.  19.  15.  31.  26.  32.  25.  16.  16.  18.  16.  13.  14.  14.\n",
            " 14.  29.  26.  26.  31.  32.  28.  24.  26.  24.  26.  31.  19.  18.\n",
            " 15.  15.  16.  15.  16.  14.  17.  16.  15.  18.  21.  20.  13.  29.\n",
            " 23.  20.  23.  24.  25.  24.  18.  29.  19.  23.  23.  22.  25.  33.\n",
            " 28.  25.  25.  26.  27.  17.5 16.  15.5 14.5 22.  22.  24.  22.5 29.\n",
            " 24.5 29.  33.  20.  18.  18.5 17.5 29.5 32.  28.  26.5 20.  13.  19.\n",
            " 19.  16.5 16.5 13.  13.  13.  31.5 30.  36.  25.5 33.5 17.5 17.  15.5\n",
            " 15.  17.5 20.5 19.  18.5 16.  15.5 15.5 16.  29.  24.5 26.  25.5 30.5\n",
            " 33.5 30.  30.5 22.  21.5 21.5 43.1 36.1 32.8 39.4 36.1 19.9 19.4 20.2\n",
            " 19.2 20.5 20.2 25.1 20.5 19.4 20.6 20.8 18.6 18.1 19.2 17.7 18.1 17.5\n",
            " 30.  27.5 27.2 30.9 21.1 23.2 23.8 23.9 20.3 17.  21.6 16.2 31.5 29.5\n",
            " 21.5 19.8 22.3 20.2 20.6 17.  17.6 16.5 18.2 16.9 15.5 19.2 18.5 31.9\n",
            " 34.1 35.7 27.4 25.4 23.  27.2 23.9 34.2 34.5 31.8 37.3 28.4 28.8 26.8\n",
            " 33.5 41.5 38.1 32.1 37.2 28.  26.4 24.3 19.1 34.3 29.8 31.3 37.  32.2\n",
            " 46.6 27.9 40.8 44.3 43.4 36.4 30.  44.6 40.9 33.8 29.8 32.7 23.7 35.\n",
            " 23.6 32.4 27.2 26.6 25.8 23.5 30.  39.1 39.  35.1 32.3 37.  37.7 34.1\n",
            " 34.7 34.4 29.9 33.  34.5 33.7 32.4 32.9 31.6 28.1 30.7 25.4 24.2 22.4\n",
            " 26.6 20.2 17.6 28.  27.  34.  31.  29.  27.  24.  23.  36.  37.  31.\n",
            " 38.  36.  36.  36.  34.  38.  32.  38.  25.  38.  26.  22.  32.  36.\n",
            " 27.  27.  44.  32.  28.  31. ] \n",
            "\n",
            "Tipo:  <class 'numpy.ndarray'> \n",
            "\n",
            "Dimensiones:  (398,) \n",
            "\n",
            "Nueva dimensión:  (398, 1) \n",
            "\n",
            "Nueva dimensión:  (1, 398) \n",
            "\n"
          ]
        }
      ]
    },
    {
      "cell_type": "markdown",
      "source": [
        "## **Actividad 4. Modifique el código anterior de tal manera que también funcione con el atributo 'car name'.**"
      ],
      "metadata": {
        "id": "VzDbPZBwsYT5"
      }
    },
    {
      "cell_type": "code",
      "source": [
        "atributo_de_interes = df.columns[8]  #Índices de atributos válidos para este conjunto de datos 0...7 (porque el 8 es string)\n",
        "print('Vamos a explorar el atributo ', atributo_de_interes,'\\n')\n",
        "\n",
        "df['car name'] = pd.Series(df['car name'], dtype=\"object\")\n",
        "\n",
        "a = df[atributo_de_interes].values\n",
        "\n",
        "print('Valores: ', a,'\\n')\n",
        "print('Tipo: ', type(a),'\\n')  #Es un ndarray para las variables numéricas, un StringArray para 'car name'.\n",
        "print('Dimensiones: ', a.shape,'\\n')  #Es arreglo de rango 1. Es decir que es un vector, pero no es ni fila ni columna !!!\n",
        "\n",
        "\n",
        "\n",
        "#Cambio de forma (para las variables númericas) a un vector columna.\n",
        "b = a.reshape((-1,1)) \n",
        "print('Nueva dimensión: ', b.shape,'\\n')\n",
        "\n",
        "# #Cambio de forma (para las variables númericas) a un vector fila.\n",
        "c = a.reshape((1,-1))  \n",
        "print('Nueva dimensión: ', c.shape,'\\n')"
      ],
      "metadata": {
        "colab": {
          "base_uri": "https://localhost:8080/"
        },
        "id": "hkDgEvcJB9-o",
        "outputId": "914ced66-37d1-4a93-b7a2-3c327013feb1"
      },
      "execution_count": null,
      "outputs": [
        {
          "output_type": "stream",
          "name": "stdout",
          "text": [
            "Vamos a explorar el atributo  car name \n",
            "\n",
            "Valores:  ['chevrolet chevelle malibu' 'buick skylark 320' 'plymouth satellite'\n",
            " 'amc rebel sst' 'ford torino' 'ford galaxie 500' 'chevrolet impala'\n",
            " 'plymouth fury iii' 'pontiac catalina' 'amc ambassador dpl'\n",
            " 'dodge challenger se' \"plymouth 'cuda 340\" 'chevrolet monte carlo'\n",
            " 'buick estate wagon (sw)' 'toyota corona mark ii' 'plymouth duster'\n",
            " 'amc hornet' 'ford maverick' 'datsun pl510'\n",
            " 'volkswagen 1131 deluxe sedan' 'peugeot 504' 'audi 100 ls' 'saab 99e'\n",
            " 'bmw 2002' 'amc gremlin' 'ford f250' 'chevy c20' 'dodge d200' 'hi 1200d'\n",
            " 'datsun pl510' 'chevrolet vega 2300' 'toyota corona' 'ford pinto'\n",
            " 'amc gremlin' 'plymouth satellite custom' 'chevrolet chevelle malibu'\n",
            " 'ford torino 500' 'amc matador' 'chevrolet impala'\n",
            " 'pontiac catalina brougham' 'ford galaxie 500' 'plymouth fury iii'\n",
            " 'dodge monaco (sw)' 'ford country squire (sw)' 'pontiac safari (sw)'\n",
            " 'amc hornet sportabout (sw)' 'chevrolet vega (sw)' 'pontiac firebird'\n",
            " 'ford mustang' 'mercury capri 2000' 'opel 1900' 'peugeot 304' 'fiat 124b'\n",
            " 'toyota corolla 1200' 'datsun 1200' 'volkswagen model 111'\n",
            " 'plymouth cricket' 'toyota corona hardtop' 'dodge colt hardtop'\n",
            " 'volkswagen type 3' 'chevrolet vega' 'ford pinto runabout'\n",
            " 'chevrolet impala' 'pontiac catalina' 'plymouth fury iii'\n",
            " 'ford galaxie 500' 'amc ambassador sst' 'mercury marquis'\n",
            " 'buick lesabre custom' 'oldsmobile delta 88 royale'\n",
            " 'chrysler newport royal' 'mazda rx2 coupe' 'amc matador (sw)'\n",
            " 'chevrolet chevelle concours (sw)' 'ford gran torino (sw)'\n",
            " 'plymouth satellite custom (sw)' 'volvo 145e (sw)' 'volkswagen 411 (sw)'\n",
            " 'peugeot 504 (sw)' 'renault 12 (sw)' 'ford pinto (sw)' 'datsun 510 (sw)'\n",
            " 'toyouta corona mark ii (sw)' 'dodge colt (sw)'\n",
            " 'toyota corolla 1600 (sw)' 'buick century 350' 'amc matador'\n",
            " 'chevrolet malibu' 'ford gran torino' 'dodge coronet custom'\n",
            " 'mercury marquis brougham' 'chevrolet caprice classic' 'ford ltd'\n",
            " 'plymouth fury gran sedan' 'chrysler new yorker brougham'\n",
            " 'buick electra 225 custom' 'amc ambassador brougham' 'plymouth valiant'\n",
            " 'chevrolet nova custom' 'amc hornet' 'ford maverick' 'plymouth duster'\n",
            " 'volkswagen super beetle' 'chevrolet impala' 'ford country'\n",
            " 'plymouth custom suburb' 'oldsmobile vista cruiser' 'amc gremlin'\n",
            " 'toyota carina' 'chevrolet vega' 'datsun 610' 'maxda rx3' 'ford pinto'\n",
            " 'mercury capri v6' 'fiat 124 sport coupe' 'chevrolet monte carlo s'\n",
            " 'pontiac grand prix' 'fiat 128' 'opel manta' 'audi 100ls' 'volvo 144ea'\n",
            " 'dodge dart custom' 'saab 99le' 'toyota mark ii' 'oldsmobile omega'\n",
            " 'plymouth duster' 'ford maverick' 'amc hornet' 'chevrolet nova'\n",
            " 'datsun b210' 'ford pinto' 'toyota corolla 1200' 'chevrolet vega'\n",
            " 'chevrolet chevelle malibu classic' 'amc matador'\n",
            " 'plymouth satellite sebring' 'ford gran torino'\n",
            " 'buick century luxus (sw)' 'dodge coronet custom (sw)'\n",
            " 'ford gran torino (sw)' 'amc matador (sw)' 'audi fox' 'volkswagen dasher'\n",
            " 'opel manta' 'toyota corona' 'datsun 710' 'dodge colt' 'fiat 128'\n",
            " 'fiat 124 tc' 'honda civic' 'subaru' 'fiat x1.9'\n",
            " 'plymouth valiant custom' 'chevrolet nova' 'mercury monarch'\n",
            " 'ford maverick' 'pontiac catalina' 'chevrolet bel air'\n",
            " 'plymouth grand fury' 'ford ltd' 'buick century'\n",
            " 'chevroelt chevelle malibu' 'amc matador' 'plymouth fury' 'buick skyhawk'\n",
            " 'chevrolet monza 2+2' 'ford mustang ii' 'toyota corolla' 'ford pinto'\n",
            " 'amc gremlin' 'pontiac astro' 'toyota corona' 'volkswagen dasher'\n",
            " 'datsun 710' 'ford pinto' 'volkswagen rabbit' 'amc pacer' 'audi 100ls'\n",
            " 'peugeot 504' 'volvo 244dl' 'saab 99le' 'honda civic cvcc' 'fiat 131'\n",
            " 'opel 1900' 'capri ii' 'dodge colt' 'renault 12tl'\n",
            " 'chevrolet chevelle malibu classic' 'dodge coronet brougham'\n",
            " 'amc matador' 'ford gran torino' 'plymouth valiant' 'chevrolet nova'\n",
            " 'ford maverick' 'amc hornet' 'chevrolet chevette' 'chevrolet woody'\n",
            " 'vw rabbit' 'honda civic' 'dodge aspen se' 'ford granada ghia'\n",
            " 'pontiac ventura sj' 'amc pacer d/l' 'volkswagen rabbit' 'datsun b-210'\n",
            " 'toyota corolla' 'ford pinto' 'volvo 245' 'plymouth volare premier v8'\n",
            " 'peugeot 504' 'toyota mark ii' 'mercedes-benz 280s' 'cadillac seville'\n",
            " 'chevy c10' 'ford f108' 'dodge d100' 'honda accord cvcc'\n",
            " 'buick opel isuzu deluxe' 'renault 5 gtl' 'plymouth arrow gs'\n",
            " 'datsun f-10 hatchback' 'chevrolet caprice classic'\n",
            " 'oldsmobile cutlass supreme' 'dodge monaco brougham'\n",
            " 'mercury cougar brougham' 'chevrolet concours' 'buick skylark'\n",
            " 'plymouth volare custom' 'ford granada' 'pontiac grand prix lj'\n",
            " 'chevrolet monte carlo landau' 'chrysler cordoba' 'ford thunderbird'\n",
            " 'volkswagen rabbit custom' 'pontiac sunbird coupe'\n",
            " 'toyota corolla liftback' 'ford mustang ii 2+2' 'chevrolet chevette'\n",
            " 'dodge colt m/m' 'subaru dl' 'volkswagen dasher' 'datsun 810' 'bmw 320i'\n",
            " 'mazda rx-4' 'volkswagen rabbit custom diesel' 'ford fiesta'\n",
            " 'mazda glc deluxe' 'datsun b210 gx' 'honda civic cvcc'\n",
            " 'oldsmobile cutlass salon brougham' 'dodge diplomat'\n",
            " 'mercury monarch ghia' 'pontiac phoenix lj' 'chevrolet malibu'\n",
            " 'ford fairmont (auto)' 'ford fairmont (man)' 'plymouth volare'\n",
            " 'amc concord' 'buick century special' 'mercury zephyr' 'dodge aspen'\n",
            " 'amc concord d/l' 'chevrolet monte carlo landau'\n",
            " 'buick regal sport coupe (turbo)' 'ford futura' 'dodge magnum xe'\n",
            " 'chevrolet chevette' 'toyota corona' 'datsun 510' 'dodge omni'\n",
            " 'toyota celica gt liftback' 'plymouth sapporo' 'oldsmobile starfire sx'\n",
            " 'datsun 200-sx' 'audi 5000' 'volvo 264gl' 'saab 99gle' 'peugeot 604sl'\n",
            " 'volkswagen scirocco' 'honda accord lx' 'pontiac lemans v6'\n",
            " 'mercury zephyr 6' 'ford fairmont 4' 'amc concord dl 6' 'dodge aspen 6'\n",
            " 'chevrolet caprice classic' 'ford ltd landau' 'mercury grand marquis'\n",
            " 'dodge st. regis' 'buick estate wagon (sw)' 'ford country squire (sw)'\n",
            " 'chevrolet malibu classic (sw)' 'chrysler lebaron town @ country (sw)'\n",
            " 'vw rabbit custom' 'maxda glc deluxe' 'dodge colt hatchback custom'\n",
            " 'amc spirit dl' 'mercedes benz 300d' 'cadillac eldorado' 'peugeot 504'\n",
            " 'oldsmobile cutlass salon brougham' 'plymouth horizon'\n",
            " 'plymouth horizon tc3' 'datsun 210' 'fiat strada custom'\n",
            " 'buick skylark limited' 'chevrolet citation' 'oldsmobile omega brougham'\n",
            " 'pontiac phoenix' 'vw rabbit' 'toyota corolla tercel'\n",
            " 'chevrolet chevette' 'datsun 310' 'chevrolet citation' 'ford fairmont'\n",
            " 'amc concord' 'dodge aspen' 'audi 4000' 'toyota corona liftback'\n",
            " 'mazda 626' 'datsun 510 hatchback' 'toyota corolla' 'mazda glc'\n",
            " 'dodge colt' 'datsun 210' 'vw rabbit c (diesel)' 'vw dasher (diesel)'\n",
            " 'audi 5000s (diesel)' 'mercedes-benz 240d' 'honda civic 1500 gl'\n",
            " 'renault lecar deluxe' 'subaru dl' 'vokswagen rabbit' 'datsun 280-zx'\n",
            " 'mazda rx-7 gs' 'triumph tr7 coupe' 'ford mustang cobra' 'honda accord'\n",
            " 'plymouth reliant' 'buick skylark' 'dodge aries wagon (sw)'\n",
            " 'chevrolet citation' 'plymouth reliant' 'toyota starlet' 'plymouth champ'\n",
            " 'honda civic 1300' 'subaru' 'datsun 210 mpg' 'toyota tercel'\n",
            " 'mazda glc 4' 'plymouth horizon 4' 'ford escort 4w' 'ford escort 2h'\n",
            " 'volkswagen jetta' 'renault 18i' 'honda prelude' 'toyota corolla'\n",
            " 'datsun 200sx' 'mazda 626' 'peugeot 505s turbo diesel' 'volvo diesel'\n",
            " 'toyota cressida' 'datsun 810 maxima' 'buick century'\n",
            " 'oldsmobile cutlass ls' 'ford granada gl' 'chrysler lebaron salon'\n",
            " 'chevrolet cavalier' 'chevrolet cavalier wagon'\n",
            " 'chevrolet cavalier 2-door' 'pontiac j2000 se hatchback' 'dodge aries se'\n",
            " 'pontiac phoenix' 'ford fairmont futura' 'amc concord dl'\n",
            " 'volkswagen rabbit l' 'mazda glc custom l' 'mazda glc custom'\n",
            " 'plymouth horizon miser' 'mercury lynx l' 'nissan stanza xe'\n",
            " 'honda accord' 'toyota corolla' 'honda civic' 'honda civic (auto)'\n",
            " 'datsun 310 gx' 'buick century limited'\n",
            " 'oldsmobile cutlass ciera (diesel)' 'chrysler lebaron medallion'\n",
            " 'ford granada l' 'toyota celica gt' 'dodge charger 2.2'\n",
            " 'chevrolet camaro' 'ford mustang gl' 'vw pickup' 'dodge rampage'\n",
            " 'ford ranger' 'chevy s-10'] \n",
            "\n",
            "Tipo:  <class 'numpy.ndarray'> \n",
            "\n",
            "Dimensiones:  (398,) \n",
            "\n",
            "Nueva dimensión:  (398, 1) \n",
            "\n",
            "Nueva dimensión:  (1, 398) \n",
            "\n"
          ]
        }
      ]
    },
    {
      "cell_type": "markdown",
      "source": [
        "# Valores faltantes"
      ],
      "metadata": {
        "id": "8TsYat0Ss-yP"
      }
    },
    {
      "cell_type": "markdown",
      "source": [
        "## **Actividad 5.**\n",
        "\n",
        "*   a. Identifique si hay valores faltantes y en cuál o cuáles atributos.\n",
        "*   b. Haga una copia del dataset original en la variable (tipo pandas dataframe) df_no_nan y sobre ella aplique alguna técnica para el manejo de valores faltantes y justifique por qué la utilizó."
      ],
      "metadata": {
        "id": "ibcXLowetIZC"
      }
    },
    {
      "cell_type": "code",
      "source": [
        "print(\"Punto a\")\n",
        "\n",
        "for column in df:\n",
        "  print(\"Valores faltantes en la columna\",column,\":\", df[column].isnull().sum())\n",
        "\n",
        "print(\"\\n\")\n",
        "print(\"Punto b\")\n",
        "\n",
        "df_no_nan = df.copy()\n",
        "\n",
        "df_no_nan['horsepower'].fillna(df_no_nan['horsepower'].mean(), inplace=True)\n",
        "print(\"Valores faltantes en la columna\",df_no_nan['horsepower'],\":\", df_no_nan['horsepower'].isnull().sum())\n",
        "\n"
      ],
      "metadata": {
        "colab": {
          "base_uri": "https://localhost:8080/"
        },
        "id": "23bmuILE4-To",
        "outputId": "6e851a96-bf27-411e-e7cc-d662b4abe6d6"
      },
      "execution_count": null,
      "outputs": [
        {
          "output_type": "stream",
          "name": "stdout",
          "text": [
            "Punto a\n",
            "Valores faltantes en la columna mpg : 0\n",
            "Valores faltantes en la columna cylinders : 0\n",
            "Valores faltantes en la columna displacement : 0\n",
            "Valores faltantes en la columna horsepower : 6\n",
            "Valores faltantes en la columna weight : 0\n",
            "Valores faltantes en la columna acceleration : 0\n",
            "Valores faltantes en la columna model year : 0\n",
            "Valores faltantes en la columna origin : 0\n",
            "Valores faltantes en la columna car name : 0\n",
            "\n",
            "\n",
            "Punto b\n",
            "Valores faltantes en la columna 0      130.0\n",
            "1      165.0\n",
            "2      150.0\n",
            "3      150.0\n",
            "4      140.0\n",
            "       ...  \n",
            "393     86.0\n",
            "394     52.0\n",
            "395     84.0\n",
            "396     79.0\n",
            "397     82.0\n",
            "Name: horsepower, Length: 398, dtype: float64 : 0\n"
          ]
        }
      ]
    },
    {
      "cell_type": "markdown",
      "metadata": {
        "id": "7IqCL_DEtqTb"
      },
      "source": [
        "# Visualización exploratoria"
      ]
    },
    {
      "cell_type": "markdown",
      "source": [
        "## **Actividad 6. Modifique el dataframe df_no_nan de tal manera que convierta los datos de la columna mpg (millas por galón) a kpg (kilómetros por galón) y renombre de esa manera el atributo**"
      ],
      "metadata": {
        "id": "97FRll6xx0eW"
      }
    },
    {
      "cell_type": "code",
      "source": [
        "df_no_nan.rename(columns={'mpg':'kpg'}, inplace=True)\n",
        "df_no_nan[\"kpg\"] = df_no_nan[\"kpg\"] * float(1.6093)\n",
        "print(df_no_nan[\"kpg\"])\n",
        "\n",
        "\n",
        "\n",
        "\n"
      ],
      "metadata": {
        "colab": {
          "base_uri": "https://localhost:8080/"
        },
        "id": "auLgOnOoD11J",
        "outputId": "a42c6eb1-f472-4fbc-bd61-dc1de3ffcc97"
      },
      "execution_count": null,
      "outputs": [
        {
          "output_type": "stream",
          "name": "stdout",
          "text": [
            "0      28.9674\n",
            "1      24.1395\n",
            "2      28.9674\n",
            "3      25.7488\n",
            "4      27.3581\n",
            "        ...   \n",
            "393    43.4511\n",
            "394    70.8092\n",
            "395    51.4976\n",
            "396    45.0604\n",
            "397    49.8883\n",
            "Name: kpg, Length: 398, dtype: float64\n"
          ]
        }
      ]
    },
    {
      "cell_type": "markdown",
      "source": [
        "## **Actividad 8. En este dataset la variable 'target' es mpg (ahora kpg), por lo tanto para el resto de atributos:**\n",
        "\n",
        "*   a. Determine si se presentan outliers. \n",
        "*   b. En los casos que así sea, indique qué porcentaje del total de datos de ese atributo representan los outliers.\n",
        "*   c. Sugiera una estrategia para manejar los outliers."
      ],
      "metadata": {
        "id": "bsSb0YjgzLGE"
      }
    },
    {
      "cell_type": "code",
      "source": [
        "print(\"Punto a y b\")\n",
        "\n",
        "p25 = df_no_nan.quantile( 0.25)  \n",
        "p75 = df_no_nan.quantile(0.75) \n",
        "iqr = p75 - p25\n",
        "\n",
        "\n",
        "lowerRanges = (p25 - 1.5 * iqr)\n",
        "upperRanges = (p75 + 1.5 *iqr)\n",
        "\n",
        "\n",
        "for col in df_no_nan:\n",
        "  if(col != \"car name\"):\n",
        "    lowerRange = lowerRanges[col]\n",
        "    upperRange = upperRanges[col]\n",
        "    outliers = sum( (df_no_nan[col]< lowerRange) |(df_no_nan[col]>upperRange))\n",
        "    print(\"cantidad de outliers en\",col,\":\",outliers, \". Porcentaje del total:\", str((outliers/len(df_no_nan[col]))*100)+\"%\")\n"
      ],
      "metadata": {
        "colab": {
          "base_uri": "https://localhost:8080/"
        },
        "id": "E1OVibNV0Ggr",
        "outputId": "d15513c8-d17c-4d8e-c4c6-334c8f72a030"
      },
      "execution_count": null,
      "outputs": [
        {
          "output_type": "stream",
          "name": "stdout",
          "text": [
            "Punto a y b\n",
            "cantidad de outliers en kpg : 1 . Porcentaje del total: 0.25125628140703515%\n",
            "cantidad de outliers en cylinders : 0 . Porcentaje del total: 0.0%\n",
            "cantidad de outliers en displacement : 0 . Porcentaje del total: 0.0%\n",
            "cantidad de outliers en horsepower : 11 . Porcentaje del total: 2.763819095477387%\n",
            "cantidad de outliers en weight : 0 . Porcentaje del total: 0.0%\n",
            "cantidad de outliers en acceleration : 7 . Porcentaje del total: 1.7587939698492463%\n",
            "cantidad de outliers en model year : 0 . Porcentaje del total: 0.0%\n",
            "cantidad de outliers en origin : 0 . Porcentaje del total: 0.0%\n"
          ]
        }
      ]
    },
    {
      "cell_type": "markdown",
      "source": [
        "**Punto c**\n",
        "\n",
        "Para manejar los outliers, estos se pueden cambiar por la media si el dataset es muy pequeño o si es muy grande, se puede eliminar toda la fila del dato del outlier "
      ],
      "metadata": {
        "id": "pR8pyS9aQa__"
      }
    },
    {
      "cell_type": "markdown",
      "source": [
        "## Histogramas\n",
        "\n",
        "Los histogramas pueden ser útiles para identificar visualmente la forma como se distribuyen los valores de un atributo."
      ],
      "metadata": {
        "id": "m2TkWSGWQHaf"
      }
    },
    {
      "cell_type": "code",
      "metadata": {
        "id": "I6D0lslxrS-H",
        "colab": {
          "base_uri": "https://localhost:8080/",
          "height": 371
        },
        "outputId": "15e97cbd-3fef-49c1-b5ac-8013c81b52a0"
      },
      "source": [
        "#Generemos algunas gráficas directamente desde pandas.\n",
        "\n",
        "num_bins = 30 #Número de columnas del histograma\n",
        "df.hist(column='horsepower', bins=num_bins, figsize=(5,5))  #Histograma."
      ],
      "execution_count": null,
      "outputs": [
        {
          "output_type": "execute_result",
          "data": {
            "text/plain": [
              "array([[<matplotlib.axes._subplots.AxesSubplot object at 0x7f8a6dc13850>]],\n",
              "      dtype=object)"
            ]
          },
          "metadata": {},
          "execution_count": 32
        },
        {
          "output_type": "display_data",
          "data": {
            "image/png": "[encoded data removed]",
            "text/plain": [
              "<Figure size 360x360 with 1 Axes>"
            ]
          },
          "metadata": {
            "needs_background": "light"
          }
        }
      ]
    },
    {
      "cell_type": "code",
      "metadata": {
        "id": "YNUvbRvL5pa_",
        "colab": {
          "base_uri": "https://localhost:8080/",
          "height": 295
        },
        "outputId": "6aa796fa-0349-4be8-f9f8-1d7bf3b6c3f4"
      },
      "source": [
        "#Ahora generemos el histograma usando la librería matplotlib sobre la cual tenemos un poco más de control en los parámetros de la gráfica.\n",
        "\n",
        "horsepower = df['horsepower'].values        #Extraemos el ndarray correspondiente de la columna horsepower.\n",
        "num_bins = 30                               #Número de divisiones que vamos a usar para el histograma. \n",
        "n, bins, patches = plt.hist(horsepower, num_bins, density=False, facecolor='green')\n",
        "plt.xlabel('Atributo: horsepower.')         #Texto en el eje x.\n",
        "plt.ylabel('Cuentas.')                      #Texto en el eje y.\n",
        "plt.title('Histograma')                     #Título del gráfico. \n",
        "plt.grid(True)                              #Activamos la cuadrícula.\n",
        "plt.show()                                  #Mostramos el gráfico. "
      ],
      "execution_count": null,
      "outputs": [
        {
          "output_type": "display_data",
          "data": {
            "image/png": "[encoded data removed]",
            "text/plain": [
              "<Figure size 432x288 with 1 Axes>"
            ]
          },
          "metadata": {
            "needs_background": "light"
          }
        }
      ]
    },
    {
      "cell_type": "code",
      "metadata": {
        "id": "SEd1T947YC6R",
        "colab": {
          "base_uri": "https://localhost:8080/",
          "height": 422
        },
        "outputId": "749710ef-8234-4b86-da24-1128c18aa39d"
      },
      "source": [
        "#Ahora generemos el histograma usando la librería seaborn.\n",
        "plt.figure(figsize=(6,6))\n",
        "sns.histplot(data     = df, \n",
        "             x        ='horsepower',\n",
        "             bins     = 30,\n",
        "             color    = 'red',\n",
        "             fill     = True,\n",
        "             stat     = 'count')    #'count' muestra el número de observaciones.\n",
        "                                    #'frequency' muestra el número de observaciones dividida por el ancho del bin.\n",
        "                                    #'density' normaliza las cuentas tal que el área del histograma es 1.\n",
        "                                    #'probability' normaliza las cuentas tal que la suma de la altura de las barras es 1.\n",
        "\n",
        "plt.xlabel('Atributo: horsepower.') #Texto en el eje x.\n",
        "plt.ylabel('Cuentas.')              #Texto en el eje y.\n",
        "plt.title('Histograma')             #Título del gráfico. "
      ],
      "execution_count": null,
      "outputs": [
        {
          "output_type": "execute_result",
          "data": {
            "text/plain": [
              "Text(0.5, 1.0, 'Histograma')"
            ]
          },
          "metadata": {},
          "execution_count": 34
        },
        {
          "output_type": "display_data",
          "data": {
            "image/png": "[encoded data removed]",
            "text/plain": [
              "<Figure size 432x432 with 1 Axes>"
            ]
          },
          "metadata": {
            "needs_background": "light"
          }
        }
      ]
    },
    {
      "cell_type": "code",
      "metadata": {
        "id": "MLlNf3gruUh8",
        "colab": {
          "base_uri": "https://localhost:8080/",
          "height": 422
        },
        "outputId": "50a82742-0126-454d-8eda-274a8e814a30"
      },
      "source": [
        "#Qué tal si coloreamos el histograma de acuerdo con el número de cilindros de los vehículos?\n",
        "plt.figure(figsize=(6,6))\n",
        "sns.histplot(data     = df, \n",
        "             x        ='horsepower',\n",
        "             bins     = 30,\n",
        "             hue      = 'cylinders',\n",
        "             fill     = True,\n",
        "             stat     = 'count')  #'count' muestra el número de observaciones.\n",
        "                              #'frequency' muestra el número de observaciones dividida por el ancho del bin.\n",
        "                              #'density' normaliza las cuentas tal que el área del histograma es 1.\n",
        "                              #'probability' normaliza las cuentas tal que la suma de la altura de las barras es 1.\n",
        "\n",
        "plt.xlabel('Atributo: horsepower.') #Texto en el eje x.\n",
        "plt.ylabel('Cuentas.')              #Texto en el eje y.\n",
        "plt.title('Histograma')             #Título del gráfico. \n"
      ],
      "execution_count": null,
      "outputs": [
        {
          "output_type": "execute_result",
          "data": {
            "text/plain": [
              "Text(0.5, 1.0, 'Histograma')"
            ]
          },
          "metadata": {},
          "execution_count": 35
        },
        {
          "output_type": "display_data",
          "data": {
            "image/png": "[encoded data removed]",
            "text/plain": [
              "<Figure size 432x432 with 1 Axes>"
            ]
          },
          "metadata": {
            "needs_background": "light"
          }
        }
      ]
    },
    {
      "cell_type": "code",
      "metadata": {
        "id": "nWAWJd1y638e",
        "colab": {
          "base_uri": "https://localhost:8080/",
          "height": 368
        },
        "outputId": "ade1e77d-004a-471e-a25a-0ce337a74ca7"
      },
      "source": [
        "#Vamos a generar otro gráfico exploratorio muy común, pero esta vez vamos a utilizar la librería altair.\n",
        "\n",
        "import altair as alt   #Altair: Declarative Visualization in Python. https://altair-viz.github.io\n",
        "\n",
        "alt.Chart(df).mark_point().encode(\n",
        "  x='horsepower',\n",
        "  y='mpg',\n",
        "  color='cylinders'\n",
        ").interactive()"
      ],
      "execution_count": null,
      "outputs": [
        {
          "output_type": "execute_result",
          "data": {
            "text/plain": [
              "alt.Chart(...)"
            ],
            "text/html": [
              "\n",
              "<div id=\"altair-viz-dc9638510d644ca6b89c66ee5f9649b0\"></div>\n",
              "<script type=\"text/javascript\">\n",
              "  var VEGA_DEBUG = (typeof VEGA_DEBUG == \"undefined\") ? {} : VEGA_DEBUG;\n",
              "  (function(spec, embedOpt){\n",
              "    let outputDiv = document.currentScript.previousElementSibling;\n",
              "    if (outputDiv.id !== \"altair-viz-dc9638510d644ca6b89c66ee5f9649b0\") {\n",
              "      outputDiv = document.getElementById(\"altair-viz-dc9638510d644ca6b89c66ee5f9649b0\");\n",
              "    }\n",
              "    const paths = {\n",
              "      \"vega\": \"https://cdn.jsdelivr.net/npm//vega@5?noext\",\n",
              "      \"vega-lib\": \"https://cdn.jsdelivr.net/npm//vega-lib?noext\",\n",
              "      \"vega-lite\": \"https://cdn.jsdelivr.net/npm//vega-lite@4.17.0?noext\",\n",
              "      \"vega-embed\": \"https://cdn.jsdelivr.net/npm//vega-embed@6?noext\",\n",
              "    };\n",
              "\n",
              "    function maybeLoadScript(lib, version) {\n",
              "      var key = `${lib.replace(\"-\", \"\")}_version`;\n",
              "      return (VEGA_DEBUG[key] == version) ?\n",
              "        Promise.resolve(paths[lib]) :\n",
              "        new Promise(function(resolve, reject) {\n",
              "          var s = document.createElement('script');\n",
              "          document.getElementsByTagName(\"head\")[0].appendChild(s);\n",
              "          s.async = true;\n",
              "          s.onload = () => {\n",
              "            VEGA_DEBUG[key] = version;\n",
              "            return resolve(paths[lib]);\n",
              "          };\n",
              "          s.onerror = () => reject(`Error loading script: ${paths[lib]}`);\n",
              "          s.src = paths[lib];\n",
              "        });\n",
              "    }\n",
              "\n",
              "    function showError(err) {\n",
              "      outputDiv.innerHTML = `<div class=\"error\" style=\"color:red;\">${err}</div>`;\n",
              "      throw err;\n",
              "    }\n",
              "\n",
              "    function displayChart(vegaEmbed) {\n",
              "      vegaEmbed(outputDiv, spec, embedOpt)\n",
              "        .catch(err => showError(`Javascript Error: ${err.message}<br>This usually means there's a typo in your chart specification. See the javascript console for the full traceback.`));\n",
              "    }\n",
              "\n",
              "    if(typeof define === \"function\" && define.amd) {\n",
              "      requirejs.config({paths});\n",
              "      require([\"vega-embed\"], displayChart, err => showError(`Error loading script: ${err.message}`));\n",
              "    } else {\n",
              "      maybeLoadScript(\"vega\", \"5\")\n",
              "        .then(() => maybeLoadScript(\"vega-lite\", \"4.17.0\"))\n",
              "        .then(() => maybeLoadScript(\"vega-embed\", \"6\"))\n",
              "        .catch(showError)\n",
              "        .then(() => displayChart(vegaEmbed));\n",
              "    }\n",
              "  })({\"config\": {\"view\": {\"continuousWidth\": 400, \"continuousHeight\": 300}}, \"data\": {\"name\": \"data-0be0ead0f59b9d70185c09d72cd94614\"}, \"mark\": \"point\", \"encoding\": {\"color\": {\"field\": \"cylinders\", \"type\": \"quantitative\"}, \"x\": {\"field\": \"horsepower\", \"type\": \"quantitative\"}, \"y\": {\"field\": \"mpg\", \"type\": \"quantitative\"}}, \"selection\": {\"selector001\": {\"type\": \"interval\", \"bind\": \"scales\", \"encodings\": [\"x\", \"y\"]}}, \"$schema\": \"https://vega.github.io/schema/vega-lite/v4.17.0.json\", \"datasets\": {\"data-0be0ead0f59b9d70185c09d72cd94614\": [{\"mpg\": 18.0, \"cylinders\": 8, \"displacement\": 307.0, \"horsepower\": 130.0, \"weight\": 3504, \"acceleration\": 12.0, \"model year\": 70, \"origin\": 1, \"car name\": \"chevrolet chevelle malibu\"}, {\"mpg\": 15.0, \"cylinders\": 8, \"displacement\": 350.0, \"horsepower\": 165.0, \"weight\": 3693, \"acceleration\": 11.5, \"model year\": 70, \"origin\": 1, \"car name\": \"buick skylark 320\"}, {\"mpg\": 18.0, \"cylinders\": 8, \"displacement\": 318.0, \"horsepower\": 150.0, \"weight\": 3436, \"acceleration\": 11.0, \"model year\": 70, \"origin\": 1, \"car name\": \"plymouth satellite\"}, {\"mpg\": 16.0, \"cylinders\": 8, \"displacement\": 304.0, \"horsepower\": 150.0, \"weight\": 3433, \"acceleration\": 12.0, \"model year\": 70, \"origin\": 1, \"car name\": \"amc rebel sst\"}, {\"mpg\": 17.0, \"cylinders\": 8, \"displacement\": 302.0, \"horsepower\": 140.0, \"weight\": 3449, \"acceleration\": 10.5, \"model year\": 70, \"origin\": 1, \"car name\": \"ford torino\"}, {\"mpg\": 15.0, \"cylinders\": 8, \"displacement\": 429.0, \"horsepower\": 198.0, \"weight\": 4341, \"acceleration\": 10.0, \"model year\": 70, \"origin\": 1, \"car name\": \"ford galaxie 500\"}, {\"mpg\": 14.0, \"cylinders\": 8, \"displacement\": 454.0, \"horsepower\": 220.0, \"weight\": 4354, \"acceleration\": 9.0, \"model year\": 70, \"origin\": 1, \"car name\": \"chevrolet impala\"}, {\"mpg\": 14.0, \"cylinders\": 8, \"displacement\": 440.0, \"horsepower\": 215.0, \"weight\": 4312, \"acceleration\": 8.5, \"model year\": 70, \"origin\": 1, \"car name\": \"plymouth fury iii\"}, {\"mpg\": 14.0, \"cylinders\": 8, \"displacement\": 455.0, \"horsepower\": 225.0, \"weight\": 4425, \"acceleration\": 10.0, \"model year\": 70, \"origin\": 1, \"car name\": \"pontiac catalina\"}, {\"mpg\": 15.0, \"cylinders\": 8, \"displacement\": 390.0, \"horsepower\": 190.0, \"weight\": 3850, \"acceleration\": 8.5, \"model year\": 70, \"origin\": 1, \"car name\": \"amc ambassador dpl\"}, {\"mpg\": 15.0, \"cylinders\": 8, \"displacement\": 383.0, \"horsepower\": 170.0, \"weight\": 3563, \"acceleration\": 10.0, \"model year\": 70, \"origin\": 1, \"car name\": \"dodge challenger se\"}, {\"mpg\": 14.0, \"cylinders\": 8, \"displacement\": 340.0, \"horsepower\": 160.0, \"weight\": 3609, \"acceleration\": 8.0, \"model year\": 70, \"origin\": 1, \"car name\": \"plymouth 'cuda 340\"}, {\"mpg\": 15.0, \"cylinders\": 8, \"displacement\": 400.0, \"horsepower\": 150.0, \"weight\": 3761, \"acceleration\": 9.5, \"model year\": 70, \"origin\": 1, \"car name\": \"chevrolet monte carlo\"}, {\"mpg\": 14.0, \"cylinders\": 8, \"displacement\": 455.0, \"horsepower\": 225.0, \"weight\": 3086, \"acceleration\": 10.0, \"model year\": 70, \"origin\": 1, \"car name\": \"buick estate wagon (sw)\"}, {\"mpg\": 24.0, \"cylinders\": 4, \"displacement\": 113.0, \"horsepower\": 95.0, \"weight\": 2372, \"acceleration\": 15.0, \"model year\": 70, \"origin\": 3, \"car name\": \"toyota corona mark ii\"}, {\"mpg\": 22.0, \"cylinders\": 6, \"displacement\": 198.0, \"horsepower\": 95.0, \"weight\": 2833, \"acceleration\": 15.5, \"model year\": 70, \"origin\": 1, \"car name\": \"plymouth duster\"}, {\"mpg\": 18.0, \"cylinders\": 6, \"displacement\": 199.0, \"horsepower\": 97.0, \"weight\": 2774, \"acceleration\": 15.5, \"model year\": 70, \"origin\": 1, \"car name\": \"amc hornet\"}, {\"mpg\": 21.0, \"cylinders\": 6, \"displacement\": 200.0, \"horsepower\": 85.0, \"weight\": 2587, \"acceleration\": 16.0, \"model year\": 70, \"origin\": 1, \"car name\": \"ford maverick\"}, {\"mpg\": 27.0, \"cylinders\": 4, \"displacement\": 97.0, \"horsepower\": 88.0, \"weight\": 2130, \"acceleration\": 14.5, \"model year\": 70, \"origin\": 3, \"car name\": \"datsun pl510\"}, {\"mpg\": 26.0, \"cylinders\": 4, \"displacement\": 97.0, \"horsepower\": 46.0, \"weight\": 1835, \"acceleration\": 20.5, \"model year\": 70, \"origin\": 2, \"car name\": \"volkswagen 1131 deluxe sedan\"}, {\"mpg\": 25.0, \"cylinders\": 4, \"displacement\": 110.0, \"horsepower\": 87.0, \"weight\": 2672, \"acceleration\": 17.5, \"model year\": 70, \"origin\": 2, \"car name\": \"peugeot 504\"}, {\"mpg\": 24.0, \"cylinders\": 4, \"displacement\": 107.0, \"horsepower\": 90.0, \"weight\": 2430, \"acceleration\": 14.5, \"model year\": 70, \"origin\": 2, \"car name\": \"audi 100 ls\"}, {\"mpg\": 25.0, \"cylinders\": 4, \"displacement\": 104.0, \"horsepower\": 95.0, \"weight\": 2375, \"acceleration\": 17.5, \"model year\": 70, \"origin\": 2, \"car name\": \"saab 99e\"}, {\"mpg\": 26.0, \"cylinders\": 4, \"displacement\": 121.0, \"horsepower\": 113.0, \"weight\": 2234, \"acceleration\": 12.5, \"model year\": 70, \"origin\": 2, \"car name\": \"bmw 2002\"}, {\"mpg\": 21.0, \"cylinders\": 6, \"displacement\": 199.0, \"horsepower\": 90.0, \"weight\": 2648, \"acceleration\": 15.0, \"model year\": 70, \"origin\": 1, \"car name\": \"amc gremlin\"}, {\"mpg\": 10.0, \"cylinders\": 8, \"displacement\": 360.0, \"horsepower\": 215.0, \"weight\": 4615, \"acceleration\": 14.0, \"model year\": 70, \"origin\": 1, \"car name\": \"ford f250\"}, {\"mpg\": 10.0, \"cylinders\": 8, \"displacement\": 307.0, \"horsepower\": 200.0, \"weight\": 4376, \"acceleration\": 15.0, \"model year\": 70, \"origin\": 1, \"car name\": \"chevy c20\"}, {\"mpg\": 11.0, \"cylinders\": 8, \"displacement\": 318.0, \"horsepower\": 210.0, \"weight\": 4382, \"acceleration\": 13.5, \"model year\": 70, \"origin\": 1, \"car name\": \"dodge d200\"}, {\"mpg\": 9.0, \"cylinders\": 8, \"displacement\": 304.0, \"horsepower\": 193.0, \"weight\": 4732, \"acceleration\": 18.5, \"model year\": 70, \"origin\": 1, \"car name\": \"hi 1200d\"}, {\"mpg\": 27.0, \"cylinders\": 4, \"displacement\": 97.0, \"horsepower\": 88.0, \"weight\": 2130, \"acceleration\": 14.5, \"model year\": 71, \"origin\": 3, \"car name\": \"datsun pl510\"}, {\"mpg\": 28.0, \"cylinders\": 4, \"displacement\": 140.0, \"horsepower\": 90.0, \"weight\": 2264, \"acceleration\": 15.5, \"model year\": 71, \"origin\": 1, \"car name\": \"chevrolet vega 2300\"}, {\"mpg\": 25.0, \"cylinders\": 4, \"displacement\": 113.0, \"horsepower\": 95.0, \"weight\": 2228, \"acceleration\": 14.0, \"model year\": 71, \"origin\": 3, \"car name\": \"toyota corona\"}, {\"mpg\": 25.0, \"cylinders\": 4, \"displacement\": 98.0, \"horsepower\": null, \"weight\": 2046, \"acceleration\": 19.0, \"model year\": 71, \"origin\": 1, \"car name\": \"ford pinto\"}, {\"mpg\": 19.0, \"cylinders\": 6, \"displacement\": 232.0, \"horsepower\": 100.0, \"weight\": 2634, \"acceleration\": 13.0, \"model year\": 71, \"origin\": 1, \"car name\": \"amc gremlin\"}, {\"mpg\": 16.0, \"cylinders\": 6, \"displacement\": 225.0, \"horsepower\": 105.0, \"weight\": 3439, \"acceleration\": 15.5, \"model year\": 71, \"origin\": 1, \"car name\": \"plymouth satellite custom\"}, {\"mpg\": 17.0, \"cylinders\": 6, \"displacement\": 250.0, \"horsepower\": 100.0, \"weight\": 3329, \"acceleration\": 15.5, \"model year\": 71, \"origin\": 1, \"car name\": \"chevrolet chevelle malibu\"}, {\"mpg\": 19.0, \"cylinders\": 6, \"displacement\": 250.0, \"horsepower\": 88.0, \"weight\": 3302, \"acceleration\": 15.5, \"model year\": 71, \"origin\": 1, \"car name\": \"ford torino 500\"}, {\"mpg\": 18.0, \"cylinders\": 6, \"displacement\": 232.0, \"horsepower\": 100.0, \"weight\": 3288, \"acceleration\": 15.5, \"model year\": 71, \"origin\": 1, \"car name\": \"amc matador\"}, {\"mpg\": 14.0, \"cylinders\": 8, \"displacement\": 350.0, \"horsepower\": 165.0, \"weight\": 4209, \"acceleration\": 12.0, \"model year\": 71, \"origin\": 1, \"car name\": \"chevrolet impala\"}, {\"mpg\": 14.0, \"cylinders\": 8, \"displacement\": 400.0, \"horsepower\": 175.0, \"weight\": 4464, \"acceleration\": 11.5, \"model year\": 71, \"origin\": 1, \"car name\": \"pontiac catalina brougham\"}, {\"mpg\": 14.0, \"cylinders\": 8, \"displacement\": 351.0, \"horsepower\": 153.0, \"weight\": 4154, \"acceleration\": 13.5, \"model year\": 71, \"origin\": 1, \"car name\": \"ford galaxie 500\"}, {\"mpg\": 14.0, \"cylinders\": 8, \"displacement\": 318.0, \"horsepower\": 150.0, \"weight\": 4096, \"acceleration\": 13.0, \"model year\": 71, \"origin\": 1, \"car name\": \"plymouth fury iii\"}, {\"mpg\": 12.0, \"cylinders\": 8, \"displacement\": 383.0, \"horsepower\": 180.0, \"weight\": 4955, \"acceleration\": 11.5, \"model year\": 71, \"origin\": 1, \"car name\": \"dodge monaco (sw)\"}, {\"mpg\": 13.0, \"cylinders\": 8, \"displacement\": 400.0, \"horsepower\": 170.0, \"weight\": 4746, \"acceleration\": 12.0, \"model year\": 71, \"origin\": 1, \"car name\": \"ford country squire (sw)\"}, {\"mpg\": 13.0, \"cylinders\": 8, \"displacement\": 400.0, \"horsepower\": 175.0, \"weight\": 5140, \"acceleration\": 12.0, \"model year\": 71, \"origin\": 1, \"car name\": \"pontiac safari (sw)\"}, {\"mpg\": 18.0, \"cylinders\": 6, \"displacement\": 258.0, \"horsepower\": 110.0, \"weight\": 2962, \"acceleration\": 13.5, \"model year\": 71, \"origin\": 1, \"car name\": \"amc hornet sportabout (sw)\"}, {\"mpg\": 22.0, \"cylinders\": 4, \"displacement\": 140.0, \"horsepower\": 72.0, \"weight\": 2408, \"acceleration\": 19.0, \"model year\": 71, \"origin\": 1, \"car name\": \"chevrolet vega (sw)\"}, {\"mpg\": 19.0, \"cylinders\": 6, \"displacement\": 250.0, \"horsepower\": 100.0, \"weight\": 3282, \"acceleration\": 15.0, \"model year\": 71, \"origin\": 1, \"car name\": \"pontiac firebird\"}, {\"mpg\": 18.0, \"cylinders\": 6, \"displacement\": 250.0, \"horsepower\": 88.0, \"weight\": 3139, \"acceleration\": 14.5, \"model year\": 71, \"origin\": 1, \"car name\": \"ford mustang\"}, {\"mpg\": 23.0, \"cylinders\": 4, \"displacement\": 122.0, \"horsepower\": 86.0, \"weight\": 2220, \"acceleration\": 14.0, \"model year\": 71, \"origin\": 1, \"car name\": \"mercury capri 2000\"}, {\"mpg\": 28.0, \"cylinders\": 4, \"displacement\": 116.0, \"horsepower\": 90.0, \"weight\": 2123, \"acceleration\": 14.0, \"model year\": 71, \"origin\": 2, \"car name\": \"opel 1900\"}, {\"mpg\": 30.0, \"cylinders\": 4, \"displacement\": 79.0, \"horsepower\": 70.0, \"weight\": 2074, \"acceleration\": 19.5, \"model year\": 71, \"origin\": 2, \"car name\": \"peugeot 304\"}, {\"mpg\": 30.0, \"cylinders\": 4, \"displacement\": 88.0, \"horsepower\": 76.0, \"weight\": 2065, \"acceleration\": 14.5, \"model year\": 71, \"origin\": 2, \"car name\": \"fiat 124b\"}, {\"mpg\": 31.0, \"cylinders\": 4, \"displacement\": 71.0, \"horsepower\": 65.0, \"weight\": 1773, \"acceleration\": 19.0, \"model year\": 71, \"origin\": 3, \"car name\": \"toyota corolla 1200\"}, {\"mpg\": 35.0, \"cylinders\": 4, \"displacement\": 72.0, \"horsepower\": 69.0, \"weight\": 1613, \"acceleration\": 18.0, \"model year\": 71, \"origin\": 3, \"car name\": \"datsun 1200\"}, {\"mpg\": 27.0, \"cylinders\": 4, \"displacement\": 97.0, \"horsepower\": 60.0, \"weight\": 1834, \"acceleration\": 19.0, \"model year\": 71, \"origin\": 2, \"car name\": \"volkswagen model 111\"}, {\"mpg\": 26.0, \"cylinders\": 4, \"displacement\": 91.0, \"horsepower\": 70.0, \"weight\": 1955, \"acceleration\": 20.5, \"model year\": 71, \"origin\": 1, \"car name\": \"plymouth cricket\"}, {\"mpg\": 24.0, \"cylinders\": 4, \"displacement\": 113.0, \"horsepower\": 95.0, \"weight\": 2278, \"acceleration\": 15.5, \"model year\": 72, \"origin\": 3, \"car name\": \"toyota corona hardtop\"}, {\"mpg\": 25.0, \"cylinders\": 4, \"displacement\": 97.5, \"horsepower\": 80.0, \"weight\": 2126, \"acceleration\": 17.0, \"model year\": 72, \"origin\": 1, \"car name\": \"dodge colt hardtop\"}, {\"mpg\": 23.0, \"cylinders\": 4, \"displacement\": 97.0, \"horsepower\": 54.0, \"weight\": 2254, \"acceleration\": 23.5, \"model year\": 72, \"origin\": 2, \"car name\": \"volkswagen type 3\"}, {\"mpg\": 20.0, \"cylinders\": 4, \"displacement\": 140.0, \"horsepower\": 90.0, \"weight\": 2408, \"acceleration\": 19.5, \"model year\": 72, \"origin\": 1, \"car name\": \"chevrolet vega\"}, {\"mpg\": 21.0, \"cylinders\": 4, \"displacement\": 122.0, \"horsepower\": 86.0, \"weight\": 2226, \"acceleration\": 16.5, \"model year\": 72, \"origin\": 1, \"car name\": \"ford pinto runabout\"}, {\"mpg\": 13.0, \"cylinders\": 8, \"displacement\": 350.0, \"horsepower\": 165.0, \"weight\": 4274, \"acceleration\": 12.0, \"model year\": 72, \"origin\": 1, \"car name\": \"chevrolet impala\"}, {\"mpg\": 14.0, \"cylinders\": 8, \"displacement\": 400.0, \"horsepower\": 175.0, \"weight\": 4385, \"acceleration\": 12.0, \"model year\": 72, \"origin\": 1, \"car name\": \"pontiac catalina\"}, {\"mpg\": 15.0, \"cylinders\": 8, \"displacement\": 318.0, \"horsepower\": 150.0, \"weight\": 4135, \"acceleration\": 13.5, \"model year\": 72, \"origin\": 1, \"car name\": \"plymouth fury iii\"}, {\"mpg\": 14.0, \"cylinders\": 8, \"displacement\": 351.0, \"horsepower\": 153.0, \"weight\": 4129, \"acceleration\": 13.0, \"model year\": 72, \"origin\": 1, \"car name\": \"ford galaxie 500\"}, {\"mpg\": 17.0, \"cylinders\": 8, \"displacement\": 304.0, \"horsepower\": 150.0, \"weight\": 3672, \"acceleration\": 11.5, \"model year\": 72, \"origin\": 1, \"car name\": \"amc ambassador sst\"}, {\"mpg\": 11.0, \"cylinders\": 8, \"displacement\": 429.0, \"horsepower\": 208.0, \"weight\": 4633, \"acceleration\": 11.0, \"model year\": 72, \"origin\": 1, \"car name\": \"mercury marquis\"}, {\"mpg\": 13.0, \"cylinders\": 8, \"displacement\": 350.0, \"horsepower\": 155.0, \"weight\": 4502, \"acceleration\": 13.5, \"model year\": 72, \"origin\": 1, \"car name\": \"buick lesabre custom\"}, {\"mpg\": 12.0, \"cylinders\": 8, \"displacement\": 350.0, \"horsepower\": 160.0, \"weight\": 4456, \"acceleration\": 13.5, \"model year\": 72, \"origin\": 1, \"car name\": \"oldsmobile delta 88 royale\"}, {\"mpg\": 13.0, \"cylinders\": 8, \"displacement\": 400.0, \"horsepower\": 190.0, \"weight\": 4422, \"acceleration\": 12.5, \"model year\": 72, \"origin\": 1, \"car name\": \"chrysler newport royal\"}, {\"mpg\": 19.0, \"cylinders\": 3, \"displacement\": 70.0, \"horsepower\": 97.0, \"weight\": 2330, \"acceleration\": 13.5, \"model year\": 72, \"origin\": 3, \"car name\": \"mazda rx2 coupe\"}, {\"mpg\": 15.0, \"cylinders\": 8, \"displacement\": 304.0, \"horsepower\": 150.0, \"weight\": 3892, \"acceleration\": 12.5, \"model year\": 72, \"origin\": 1, \"car name\": \"amc matador (sw)\"}, {\"mpg\": 13.0, \"cylinders\": 8, \"displacement\": 307.0, \"horsepower\": 130.0, \"weight\": 4098, \"acceleration\": 14.0, \"model year\": 72, \"origin\": 1, \"car name\": \"chevrolet chevelle concours (sw)\"}, {\"mpg\": 13.0, \"cylinders\": 8, \"displacement\": 302.0, \"horsepower\": 140.0, \"weight\": 4294, \"acceleration\": 16.0, \"model year\": 72, \"origin\": 1, \"car name\": \"ford gran torino (sw)\"}, {\"mpg\": 14.0, \"cylinders\": 8, \"displacement\": 318.0, \"horsepower\": 150.0, \"weight\": 4077, \"acceleration\": 14.0, \"model year\": 72, \"origin\": 1, \"car name\": \"plymouth satellite custom (sw)\"}, {\"mpg\": 18.0, \"cylinders\": 4, \"displacement\": 121.0, \"horsepower\": 112.0, \"weight\": 2933, \"acceleration\": 14.5, \"model year\": 72, \"origin\": 2, \"car name\": \"volvo 145e (sw)\"}, {\"mpg\": 22.0, \"cylinders\": 4, \"displacement\": 121.0, \"horsepower\": 76.0, \"weight\": 2511, \"acceleration\": 18.0, \"model year\": 72, \"origin\": 2, \"car name\": \"volkswagen 411 (sw)\"}, {\"mpg\": 21.0, \"cylinders\": 4, \"displacement\": 120.0, \"horsepower\": 87.0, \"weight\": 2979, \"acceleration\": 19.5, \"model year\": 72, \"origin\": 2, \"car name\": \"peugeot 504 (sw)\"}, {\"mpg\": 26.0, \"cylinders\": 4, \"displacement\": 96.0, \"horsepower\": 69.0, \"weight\": 2189, \"acceleration\": 18.0, \"model year\": 72, \"origin\": 2, \"car name\": \"renault 12 (sw)\"}, {\"mpg\": 22.0, \"cylinders\": 4, \"displacement\": 122.0, \"horsepower\": 86.0, \"weight\": 2395, \"acceleration\": 16.0, \"model year\": 72, \"origin\": 1, \"car name\": \"ford pinto (sw)\"}, {\"mpg\": 28.0, \"cylinders\": 4, \"displacement\": 97.0, \"horsepower\": 92.0, \"weight\": 2288, \"acceleration\": 17.0, \"model year\": 72, \"origin\": 3, \"car name\": \"datsun 510 (sw)\"}, {\"mpg\": 23.0, \"cylinders\": 4, \"displacement\": 120.0, \"horsepower\": 97.0, \"weight\": 2506, \"acceleration\": 14.5, \"model year\": 72, \"origin\": 3, \"car name\": \"toyouta corona mark ii (sw)\"}, {\"mpg\": 28.0, \"cylinders\": 4, \"displacement\": 98.0, \"horsepower\": 80.0, \"weight\": 2164, \"acceleration\": 15.0, \"model year\": 72, \"origin\": 1, \"car name\": \"dodge colt (sw)\"}, {\"mpg\": 27.0, \"cylinders\": 4, \"displacement\": 97.0, \"horsepower\": 88.0, \"weight\": 2100, \"acceleration\": 16.5, \"model year\": 72, \"origin\": 3, \"car name\": \"toyota corolla 1600 (sw)\"}, {\"mpg\": 13.0, \"cylinders\": 8, \"displacement\": 350.0, \"horsepower\": 175.0, \"weight\": 4100, \"acceleration\": 13.0, \"model year\": 73, \"origin\": 1, \"car name\": \"buick century 350\"}, {\"mpg\": 14.0, \"cylinders\": 8, \"displacement\": 304.0, \"horsepower\": 150.0, \"weight\": 3672, \"acceleration\": 11.5, \"model year\": 73, \"origin\": 1, \"car name\": \"amc matador\"}, {\"mpg\": 13.0, \"cylinders\": 8, \"displacement\": 350.0, \"horsepower\": 145.0, \"weight\": 3988, \"acceleration\": 13.0, \"model year\": 73, \"origin\": 1, \"car name\": \"chevrolet malibu\"}, {\"mpg\": 14.0, \"cylinders\": 8, \"displacement\": 302.0, \"horsepower\": 137.0, \"weight\": 4042, \"acceleration\": 14.5, \"model year\": 73, \"origin\": 1, \"car name\": \"ford gran torino\"}, {\"mpg\": 15.0, \"cylinders\": 8, \"displacement\": 318.0, \"horsepower\": 150.0, \"weight\": 3777, \"acceleration\": 12.5, \"model year\": 73, \"origin\": 1, \"car name\": \"dodge coronet custom\"}, {\"mpg\": 12.0, \"cylinders\": 8, \"displacement\": 429.0, \"horsepower\": 198.0, \"weight\": 4952, \"acceleration\": 11.5, \"model year\": 73, \"origin\": 1, \"car name\": \"mercury marquis brougham\"}, {\"mpg\": 13.0, \"cylinders\": 8, \"displacement\": 400.0, \"horsepower\": 150.0, \"weight\": 4464, \"acceleration\": 12.0, \"model year\": 73, \"origin\": 1, \"car name\": \"chevrolet caprice classic\"}, {\"mpg\": 13.0, \"cylinders\": 8, \"displacement\": 351.0, \"horsepower\": 158.0, \"weight\": 4363, \"acceleration\": 13.0, \"model year\": 73, \"origin\": 1, \"car name\": \"ford ltd\"}, {\"mpg\": 14.0, \"cylinders\": 8, \"displacement\": 318.0, \"horsepower\": 150.0, \"weight\": 4237, \"acceleration\": 14.5, \"model year\": 73, \"origin\": 1, \"car name\": \"plymouth fury gran sedan\"}, {\"mpg\": 13.0, \"cylinders\": 8, \"displacement\": 440.0, \"horsepower\": 215.0, \"weight\": 4735, \"acceleration\": 11.0, \"model year\": 73, \"origin\": 1, \"car name\": \"chrysler new yorker brougham\"}, {\"mpg\": 12.0, \"cylinders\": 8, \"displacement\": 455.0, \"horsepower\": 225.0, \"weight\": 4951, \"acceleration\": 11.0, \"model year\": 73, \"origin\": 1, \"car name\": \"buick electra 225 custom\"}, {\"mpg\": 13.0, \"cylinders\": 8, \"displacement\": 360.0, \"horsepower\": 175.0, \"weight\": 3821, \"acceleration\": 11.0, \"model year\": 73, \"origin\": 1, \"car name\": \"amc ambassador brougham\"}, {\"mpg\": 18.0, \"cylinders\": 6, \"displacement\": 225.0, \"horsepower\": 105.0, \"weight\": 3121, \"acceleration\": 16.5, \"model year\": 73, \"origin\": 1, \"car name\": \"plymouth valiant\"}, {\"mpg\": 16.0, \"cylinders\": 6, \"displacement\": 250.0, \"horsepower\": 100.0, \"weight\": 3278, \"acceleration\": 18.0, \"model year\": 73, \"origin\": 1, \"car name\": \"chevrolet nova custom\"}, {\"mpg\": 18.0, \"cylinders\": 6, \"displacement\": 232.0, \"horsepower\": 100.0, \"weight\": 2945, \"acceleration\": 16.0, \"model year\": 73, \"origin\": 1, \"car name\": \"amc hornet\"}, {\"mpg\": 18.0, \"cylinders\": 6, \"displacement\": 250.0, \"horsepower\": 88.0, \"weight\": 3021, \"acceleration\": 16.5, \"model year\": 73, \"origin\": 1, \"car name\": \"ford maverick\"}, {\"mpg\": 23.0, \"cylinders\": 6, \"displacement\": 198.0, \"horsepower\": 95.0, \"weight\": 2904, \"acceleration\": 16.0, \"model year\": 73, \"origin\": 1, \"car name\": \"plymouth duster\"}, {\"mpg\": 26.0, \"cylinders\": 4, \"displacement\": 97.0, \"horsepower\": 46.0, \"weight\": 1950, \"acceleration\": 21.0, \"model year\": 73, \"origin\": 2, \"car name\": \"volkswagen super beetle\"}, {\"mpg\": 11.0, \"cylinders\": 8, \"displacement\": 400.0, \"horsepower\": 150.0, \"weight\": 4997, \"acceleration\": 14.0, \"model year\": 73, \"origin\": 1, \"car name\": \"chevrolet impala\"}, {\"mpg\": 12.0, \"cylinders\": 8, \"displacement\": 400.0, \"horsepower\": 167.0, \"weight\": 4906, \"acceleration\": 12.5, \"model year\": 73, \"origin\": 1, \"car name\": \"ford country\"}, {\"mpg\": 13.0, \"cylinders\": 8, \"displacement\": 360.0, \"horsepower\": 170.0, \"weight\": 4654, \"acceleration\": 13.0, \"model year\": 73, \"origin\": 1, \"car name\": \"plymouth custom suburb\"}, {\"mpg\": 12.0, \"cylinders\": 8, \"displacement\": 350.0, \"horsepower\": 180.0, \"weight\": 4499, \"acceleration\": 12.5, \"model year\": 73, \"origin\": 1, \"car name\": \"oldsmobile vista cruiser\"}, {\"mpg\": 18.0, \"cylinders\": 6, \"displacement\": 232.0, \"horsepower\": 100.0, \"weight\": 2789, \"acceleration\": 15.0, \"model year\": 73, \"origin\": 1, \"car name\": \"amc gremlin\"}, {\"mpg\": 20.0, \"cylinders\": 4, \"displacement\": 97.0, \"horsepower\": 88.0, \"weight\": 2279, \"acceleration\": 19.0, \"model year\": 73, \"origin\": 3, \"car name\": \"toyota carina\"}, {\"mpg\": 21.0, \"cylinders\": 4, \"displacement\": 140.0, \"horsepower\": 72.0, \"weight\": 2401, \"acceleration\": 19.5, \"model year\": 73, \"origin\": 1, \"car name\": \"chevrolet vega\"}, {\"mpg\": 22.0, \"cylinders\": 4, \"displacement\": 108.0, \"horsepower\": 94.0, \"weight\": 2379, \"acceleration\": 16.5, \"model year\": 73, \"origin\": 3, \"car name\": \"datsun 610\"}, {\"mpg\": 18.0, \"cylinders\": 3, \"displacement\": 70.0, \"horsepower\": 90.0, \"weight\": 2124, \"acceleration\": 13.5, \"model year\": 73, \"origin\": 3, \"car name\": \"maxda rx3\"}, {\"mpg\": 19.0, \"cylinders\": 4, \"displacement\": 122.0, \"horsepower\": 85.0, \"weight\": 2310, \"acceleration\": 18.5, \"model year\": 73, \"origin\": 1, \"car name\": \"ford pinto\"}, {\"mpg\": 21.0, \"cylinders\": 6, \"displacement\": 155.0, \"horsepower\": 107.0, \"weight\": 2472, \"acceleration\": 14.0, \"model year\": 73, \"origin\": 1, \"car name\": \"mercury capri v6\"}, {\"mpg\": 26.0, \"cylinders\": 4, \"displacement\": 98.0, \"horsepower\": 90.0, \"weight\": 2265, \"acceleration\": 15.5, \"model year\": 73, \"origin\": 2, \"car name\": \"fiat 124 sport coupe\"}, {\"mpg\": 15.0, \"cylinders\": 8, \"displacement\": 350.0, \"horsepower\": 145.0, \"weight\": 4082, \"acceleration\": 13.0, \"model year\": 73, \"origin\": 1, \"car name\": \"chevrolet monte carlo s\"}, {\"mpg\": 16.0, \"cylinders\": 8, \"displacement\": 400.0, \"horsepower\": 230.0, \"weight\": 4278, \"acceleration\": 9.5, \"model year\": 73, \"origin\": 1, \"car name\": \"pontiac grand prix\"}, {\"mpg\": 29.0, \"cylinders\": 4, \"displacement\": 68.0, \"horsepower\": 49.0, \"weight\": 1867, \"acceleration\": 19.5, \"model year\": 73, \"origin\": 2, \"car name\": \"fiat 128\"}, {\"mpg\": 24.0, \"cylinders\": 4, \"displacement\": 116.0, \"horsepower\": 75.0, \"weight\": 2158, \"acceleration\": 15.5, \"model year\": 73, \"origin\": 2, \"car name\": \"opel manta\"}, {\"mpg\": 20.0, \"cylinders\": 4, \"displacement\": 114.0, \"horsepower\": 91.0, \"weight\": 2582, \"acceleration\": 14.0, \"model year\": 73, \"origin\": 2, \"car name\": \"audi 100ls\"}, {\"mpg\": 19.0, \"cylinders\": 4, \"displacement\": 121.0, \"horsepower\": 112.0, \"weight\": 2868, \"acceleration\": 15.5, \"model year\": 73, \"origin\": 2, \"car name\": \"volvo 144ea\"}, {\"mpg\": 15.0, \"cylinders\": 8, \"displacement\": 318.0, \"horsepower\": 150.0, \"weight\": 3399, \"acceleration\": 11.0, \"model year\": 73, \"origin\": 1, \"car name\": \"dodge dart custom\"}, {\"mpg\": 24.0, \"cylinders\": 4, \"displacement\": 121.0, \"horsepower\": 110.0, \"weight\": 2660, \"acceleration\": 14.0, \"model year\": 73, \"origin\": 2, \"car name\": \"saab 99le\"}, {\"mpg\": 20.0, \"cylinders\": 6, \"displacement\": 156.0, \"horsepower\": 122.0, \"weight\": 2807, \"acceleration\": 13.5, \"model year\": 73, \"origin\": 3, \"car name\": \"toyota mark ii\"}, {\"mpg\": 11.0, \"cylinders\": 8, \"displacement\": 350.0, \"horsepower\": 180.0, \"weight\": 3664, \"acceleration\": 11.0, \"model year\": 73, \"origin\": 1, \"car name\": \"oldsmobile omega\"}, {\"mpg\": 20.0, \"cylinders\": 6, \"displacement\": 198.0, \"horsepower\": 95.0, \"weight\": 3102, \"acceleration\": 16.5, \"model year\": 74, \"origin\": 1, \"car name\": \"plymouth duster\"}, {\"mpg\": 21.0, \"cylinders\": 6, \"displacement\": 200.0, \"horsepower\": null, \"weight\": 2875, \"acceleration\": 17.0, \"model year\": 74, \"origin\": 1, \"car name\": \"ford maverick\"}, {\"mpg\": 19.0, \"cylinders\": 6, \"displacement\": 232.0, \"horsepower\": 100.0, \"weight\": 2901, \"acceleration\": 16.0, \"model year\": 74, \"origin\": 1, \"car name\": \"amc hornet\"}, {\"mpg\": 15.0, \"cylinders\": 6, \"displacement\": 250.0, \"horsepower\": 100.0, \"weight\": 3336, \"acceleration\": 17.0, \"model year\": 74, \"origin\": 1, \"car name\": \"chevrolet nova\"}, {\"mpg\": 31.0, \"cylinders\": 4, \"displacement\": 79.0, \"horsepower\": 67.0, \"weight\": 1950, \"acceleration\": 19.0, \"model year\": 74, \"origin\": 3, \"car name\": \"datsun b210\"}, {\"mpg\": 26.0, \"cylinders\": 4, \"displacement\": 122.0, \"horsepower\": 80.0, \"weight\": 2451, \"acceleration\": 16.5, \"model year\": 74, \"origin\": 1, \"car name\": \"ford pinto\"}, {\"mpg\": 32.0, \"cylinders\": 4, \"displacement\": 71.0, \"horsepower\": 65.0, \"weight\": 1836, \"acceleration\": 21.0, \"model year\": 74, \"origin\": 3, \"car name\": \"toyota corolla 1200\"}, {\"mpg\": 25.0, \"cylinders\": 4, \"displacement\": 140.0, \"horsepower\": 75.0, \"weight\": 2542, \"acceleration\": 17.0, \"model year\": 74, \"origin\": 1, \"car name\": \"chevrolet vega\"}, {\"mpg\": 16.0, \"cylinders\": 6, \"displacement\": 250.0, \"horsepower\": 100.0, \"weight\": 3781, \"acceleration\": 17.0, \"model year\": 74, \"origin\": 1, \"car name\": \"chevrolet chevelle malibu classic\"}, {\"mpg\": 16.0, \"cylinders\": 6, \"displacement\": 258.0, \"horsepower\": 110.0, \"weight\": 3632, \"acceleration\": 18.0, \"model year\": 74, \"origin\": 1, \"car name\": \"amc matador\"}, {\"mpg\": 18.0, \"cylinders\": 6, \"displacement\": 225.0, \"horsepower\": 105.0, \"weight\": 3613, \"acceleration\": 16.5, \"model year\": 74, \"origin\": 1, \"car name\": \"plymouth satellite sebring\"}, {\"mpg\": 16.0, \"cylinders\": 8, \"displacement\": 302.0, \"horsepower\": 140.0, \"weight\": 4141, \"acceleration\": 14.0, \"model year\": 74, \"origin\": 1, \"car name\": \"ford gran torino\"}, {\"mpg\": 13.0, \"cylinders\": 8, \"displacement\": 350.0, \"horsepower\": 150.0, \"weight\": 4699, \"acceleration\": 14.5, \"model year\": 74, \"origin\": 1, \"car name\": \"buick century luxus (sw)\"}, {\"mpg\": 14.0, \"cylinders\": 8, \"displacement\": 318.0, \"horsepower\": 150.0, \"weight\": 4457, \"acceleration\": 13.5, \"model year\": 74, \"origin\": 1, \"car name\": \"dodge coronet custom (sw)\"}, {\"mpg\": 14.0, \"cylinders\": 8, \"displacement\": 302.0, \"horsepower\": 140.0, \"weight\": 4638, \"acceleration\": 16.0, \"model year\": 74, \"origin\": 1, \"car name\": \"ford gran torino (sw)\"}, {\"mpg\": 14.0, \"cylinders\": 8, \"displacement\": 304.0, \"horsepower\": 150.0, \"weight\": 4257, \"acceleration\": 15.5, \"model year\": 74, \"origin\": 1, \"car name\": \"amc matador (sw)\"}, {\"mpg\": 29.0, \"cylinders\": 4, \"displacement\": 98.0, \"horsepower\": 83.0, \"weight\": 2219, \"acceleration\": 16.5, \"model year\": 74, \"origin\": 2, \"car name\": \"audi fox\"}, {\"mpg\": 26.0, \"cylinders\": 4, \"displacement\": 79.0, \"horsepower\": 67.0, \"weight\": 1963, \"acceleration\": 15.5, \"model year\": 74, \"origin\": 2, \"car name\": \"volkswagen dasher\"}, {\"mpg\": 26.0, \"cylinders\": 4, \"displacement\": 97.0, \"horsepower\": 78.0, \"weight\": 2300, \"acceleration\": 14.5, \"model year\": 74, \"origin\": 2, \"car name\": \"opel manta\"}, {\"mpg\": 31.0, \"cylinders\": 4, \"displacement\": 76.0, \"horsepower\": 52.0, \"weight\": 1649, \"acceleration\": 16.5, \"model year\": 74, \"origin\": 3, \"car name\": \"toyota corona\"}, {\"mpg\": 32.0, \"cylinders\": 4, \"displacement\": 83.0, \"horsepower\": 61.0, \"weight\": 2003, \"acceleration\": 19.0, \"model year\": 74, \"origin\": 3, \"car name\": \"datsun 710\"}, {\"mpg\": 28.0, \"cylinders\": 4, \"displacement\": 90.0, \"horsepower\": 75.0, \"weight\": 2125, \"acceleration\": 14.5, \"model year\": 74, \"origin\": 1, \"car name\": \"dodge colt\"}, {\"mpg\": 24.0, \"cylinders\": 4, \"displacement\": 90.0, \"horsepower\": 75.0, \"weight\": 2108, \"acceleration\": 15.5, \"model year\": 74, \"origin\": 2, \"car name\": \"fiat 128\"}, {\"mpg\": 26.0, \"cylinders\": 4, \"displacement\": 116.0, \"horsepower\": 75.0, \"weight\": 2246, \"acceleration\": 14.0, \"model year\": 74, \"origin\": 2, \"car name\": \"fiat 124 tc\"}, {\"mpg\": 24.0, \"cylinders\": 4, \"displacement\": 120.0, \"horsepower\": 97.0, \"weight\": 2489, \"acceleration\": 15.0, \"model year\": 74, \"origin\": 3, \"car name\": \"honda civic\"}, {\"mpg\": 26.0, \"cylinders\": 4, \"displacement\": 108.0, \"horsepower\": 93.0, \"weight\": 2391, \"acceleration\": 15.5, \"model year\": 74, \"origin\": 3, \"car name\": \"subaru\"}, {\"mpg\": 31.0, \"cylinders\": 4, \"displacement\": 79.0, \"horsepower\": 67.0, \"weight\": 2000, \"acceleration\": 16.0, \"model year\": 74, \"origin\": 2, \"car name\": \"fiat x1.9\"}, {\"mpg\": 19.0, \"cylinders\": 6, \"displacement\": 225.0, \"horsepower\": 95.0, \"weight\": 3264, \"acceleration\": 16.0, \"model year\": 75, \"origin\": 1, \"car name\": \"plymouth valiant custom\"}, {\"mpg\": 18.0, \"cylinders\": 6, \"displacement\": 250.0, \"horsepower\": 105.0, \"weight\": 3459, \"acceleration\": 16.0, \"model year\": 75, \"origin\": 1, \"car name\": \"chevrolet nova\"}, {\"mpg\": 15.0, \"cylinders\": 6, \"displacement\": 250.0, \"horsepower\": 72.0, \"weight\": 3432, \"acceleration\": 21.0, \"model year\": 75, \"origin\": 1, \"car name\": \"mercury monarch\"}, {\"mpg\": 15.0, \"cylinders\": 6, \"displacement\": 250.0, \"horsepower\": 72.0, \"weight\": 3158, \"acceleration\": 19.5, \"model year\": 75, \"origin\": 1, \"car name\": \"ford maverick\"}, {\"mpg\": 16.0, \"cylinders\": 8, \"displacement\": 400.0, \"horsepower\": 170.0, \"weight\": 4668, \"acceleration\": 11.5, \"model year\": 75, \"origin\": 1, \"car name\": \"pontiac catalina\"}, {\"mpg\": 15.0, \"cylinders\": 8, \"displacement\": 350.0, \"horsepower\": 145.0, \"weight\": 4440, \"acceleration\": 14.0, \"model year\": 75, \"origin\": 1, \"car name\": \"chevrolet bel air\"}, {\"mpg\": 16.0, \"cylinders\": 8, \"displacement\": 318.0, \"horsepower\": 150.0, \"weight\": 4498, \"acceleration\": 14.5, \"model year\": 75, \"origin\": 1, \"car name\": \"plymouth grand fury\"}, {\"mpg\": 14.0, \"cylinders\": 8, \"displacement\": 351.0, \"horsepower\": 148.0, \"weight\": 4657, \"acceleration\": 13.5, \"model year\": 75, \"origin\": 1, \"car name\": \"ford ltd\"}, {\"mpg\": 17.0, \"cylinders\": 6, \"displacement\": 231.0, \"horsepower\": 110.0, \"weight\": 3907, \"acceleration\": 21.0, \"model year\": 75, \"origin\": 1, \"car name\": \"buick century\"}, {\"mpg\": 16.0, \"cylinders\": 6, \"displacement\": 250.0, \"horsepower\": 105.0, \"weight\": 3897, \"acceleration\": 18.5, \"model year\": 75, \"origin\": 1, \"car name\": \"chevroelt chevelle malibu\"}, {\"mpg\": 15.0, \"cylinders\": 6, \"displacement\": 258.0, \"horsepower\": 110.0, \"weight\": 3730, \"acceleration\": 19.0, \"model year\": 75, \"origin\": 1, \"car name\": \"amc matador\"}, {\"mpg\": 18.0, \"cylinders\": 6, \"displacement\": 225.0, \"horsepower\": 95.0, \"weight\": 3785, \"acceleration\": 19.0, \"model year\": 75, \"origin\": 1, \"car name\": \"plymouth fury\"}, {\"mpg\": 21.0, \"cylinders\": 6, \"displacement\": 231.0, \"horsepower\": 110.0, \"weight\": 3039, \"acceleration\": 15.0, \"model year\": 75, \"origin\": 1, \"car name\": \"buick skyhawk\"}, {\"mpg\": 20.0, \"cylinders\": 8, \"displacement\": 262.0, \"horsepower\": 110.0, \"weight\": 3221, \"acceleration\": 13.5, \"model year\": 75, \"origin\": 1, \"car name\": \"chevrolet monza 2+2\"}, {\"mpg\": 13.0, \"cylinders\": 8, \"displacement\": 302.0, \"horsepower\": 129.0, \"weight\": 3169, \"acceleration\": 12.0, \"model year\": 75, \"origin\": 1, \"car name\": \"ford mustang ii\"}, {\"mpg\": 29.0, \"cylinders\": 4, \"displacement\": 97.0, \"horsepower\": 75.0, \"weight\": 2171, \"acceleration\": 16.0, \"model year\": 75, \"origin\": 3, \"car name\": \"toyota corolla\"}, {\"mpg\": 23.0, \"cylinders\": 4, \"displacement\": 140.0, \"horsepower\": 83.0, \"weight\": 2639, \"acceleration\": 17.0, \"model year\": 75, \"origin\": 1, \"car name\": \"ford pinto\"}, {\"mpg\": 20.0, \"cylinders\": 6, \"displacement\": 232.0, \"horsepower\": 100.0, \"weight\": 2914, \"acceleration\": 16.0, \"model year\": 75, \"origin\": 1, \"car name\": \"amc gremlin\"}, {\"mpg\": 23.0, \"cylinders\": 4, \"displacement\": 140.0, \"horsepower\": 78.0, \"weight\": 2592, \"acceleration\": 18.5, \"model year\": 75, \"origin\": 1, \"car name\": \"pontiac astro\"}, {\"mpg\": 24.0, \"cylinders\": 4, \"displacement\": 134.0, \"horsepower\": 96.0, \"weight\": 2702, \"acceleration\": 13.5, \"model year\": 75, \"origin\": 3, \"car name\": \"toyota corona\"}, {\"mpg\": 25.0, \"cylinders\": 4, \"displacement\": 90.0, \"horsepower\": 71.0, \"weight\": 2223, \"acceleration\": 16.5, \"model year\": 75, \"origin\": 2, \"car name\": \"volkswagen dasher\"}, {\"mpg\": 24.0, \"cylinders\": 4, \"displacement\": 119.0, \"horsepower\": 97.0, \"weight\": 2545, \"acceleration\": 17.0, \"model year\": 75, \"origin\": 3, \"car name\": \"datsun 710\"}, {\"mpg\": 18.0, \"cylinders\": 6, \"displacement\": 171.0, \"horsepower\": 97.0, \"weight\": 2984, \"acceleration\": 14.5, \"model year\": 75, \"origin\": 1, \"car name\": \"ford pinto\"}, {\"mpg\": 29.0, \"cylinders\": 4, \"displacement\": 90.0, \"horsepower\": 70.0, \"weight\": 1937, \"acceleration\": 14.0, \"model year\": 75, \"origin\": 2, \"car name\": \"volkswagen rabbit\"}, {\"mpg\": 19.0, \"cylinders\": 6, \"displacement\": 232.0, \"horsepower\": 90.0, \"weight\": 3211, \"acceleration\": 17.0, \"model year\": 75, \"origin\": 1, \"car name\": \"amc pacer\"}, {\"mpg\": 23.0, \"cylinders\": 4, \"displacement\": 115.0, \"horsepower\": 95.0, \"weight\": 2694, \"acceleration\": 15.0, \"model year\": 75, \"origin\": 2, \"car name\": \"audi 100ls\"}, {\"mpg\": 23.0, \"cylinders\": 4, \"displacement\": 120.0, \"horsepower\": 88.0, \"weight\": 2957, \"acceleration\": 17.0, \"model year\": 75, \"origin\": 2, \"car name\": \"peugeot 504\"}, {\"mpg\": 22.0, \"cylinders\": 4, \"displacement\": 121.0, \"horsepower\": 98.0, \"weight\": 2945, \"acceleration\": 14.5, \"model year\": 75, \"origin\": 2, \"car name\": \"volvo 244dl\"}, {\"mpg\": 25.0, \"cylinders\": 4, \"displacement\": 121.0, \"horsepower\": 115.0, \"weight\": 2671, \"acceleration\": 13.5, \"model year\": 75, \"origin\": 2, \"car name\": \"saab 99le\"}, {\"mpg\": 33.0, \"cylinders\": 4, \"displacement\": 91.0, \"horsepower\": 53.0, \"weight\": 1795, \"acceleration\": 17.5, \"model year\": 75, \"origin\": 3, \"car name\": \"honda civic cvcc\"}, {\"mpg\": 28.0, \"cylinders\": 4, \"displacement\": 107.0, \"horsepower\": 86.0, \"weight\": 2464, \"acceleration\": 15.5, \"model year\": 76, \"origin\": 2, \"car name\": \"fiat 131\"}, {\"mpg\": 25.0, \"cylinders\": 4, \"displacement\": 116.0, \"horsepower\": 81.0, \"weight\": 2220, \"acceleration\": 16.9, \"model year\": 76, \"origin\": 2, \"car name\": \"opel 1900\"}, {\"mpg\": 25.0, \"cylinders\": 4, \"displacement\": 140.0, \"horsepower\": 92.0, \"weight\": 2572, \"acceleration\": 14.9, \"model year\": 76, \"origin\": 1, \"car name\": \"capri ii\"}, {\"mpg\": 26.0, \"cylinders\": 4, \"displacement\": 98.0, \"horsepower\": 79.0, \"weight\": 2255, \"acceleration\": 17.7, \"model year\": 76, \"origin\": 1, \"car name\": \"dodge colt\"}, {\"mpg\": 27.0, \"cylinders\": 4, \"displacement\": 101.0, \"horsepower\": 83.0, \"weight\": 2202, \"acceleration\": 15.3, \"model year\": 76, \"origin\": 2, \"car name\": \"renault 12tl\"}, {\"mpg\": 17.5, \"cylinders\": 8, \"displacement\": 305.0, \"horsepower\": 140.0, \"weight\": 4215, \"acceleration\": 13.0, \"model year\": 76, \"origin\": 1, \"car name\": \"chevrolet chevelle malibu classic\"}, {\"mpg\": 16.0, \"cylinders\": 8, \"displacement\": 318.0, \"horsepower\": 150.0, \"weight\": 4190, \"acceleration\": 13.0, \"model year\": 76, \"origin\": 1, \"car name\": \"dodge coronet brougham\"}, {\"mpg\": 15.5, \"cylinders\": 8, \"displacement\": 304.0, \"horsepower\": 120.0, \"weight\": 3962, \"acceleration\": 13.9, \"model year\": 76, \"origin\": 1, \"car name\": \"amc matador\"}, {\"mpg\": 14.5, \"cylinders\": 8, \"displacement\": 351.0, \"horsepower\": 152.0, \"weight\": 4215, \"acceleration\": 12.8, \"model year\": 76, \"origin\": 1, \"car name\": \"ford gran torino\"}, {\"mpg\": 22.0, \"cylinders\": 6, \"displacement\": 225.0, \"horsepower\": 100.0, \"weight\": 3233, \"acceleration\": 15.4, \"model year\": 76, \"origin\": 1, \"car name\": \"plymouth valiant\"}, {\"mpg\": 22.0, \"cylinders\": 6, \"displacement\": 250.0, \"horsepower\": 105.0, \"weight\": 3353, \"acceleration\": 14.5, \"model year\": 76, \"origin\": 1, \"car name\": \"chevrolet nova\"}, {\"mpg\": 24.0, \"cylinders\": 6, \"displacement\": 200.0, \"horsepower\": 81.0, \"weight\": 3012, \"acceleration\": 17.6, \"model year\": 76, \"origin\": 1, \"car name\": \"ford maverick\"}, {\"mpg\": 22.5, \"cylinders\": 6, \"displacement\": 232.0, \"horsepower\": 90.0, \"weight\": 3085, \"acceleration\": 17.6, \"model year\": 76, \"origin\": 1, \"car name\": \"amc hornet\"}, {\"mpg\": 29.0, \"cylinders\": 4, \"displacement\": 85.0, \"horsepower\": 52.0, \"weight\": 2035, \"acceleration\": 22.2, \"model year\": 76, \"origin\": 1, \"car name\": \"chevrolet chevette\"}, {\"mpg\": 24.5, \"cylinders\": 4, \"displacement\": 98.0, \"horsepower\": 60.0, \"weight\": 2164, \"acceleration\": 22.1, \"model year\": 76, \"origin\": 1, \"car name\": \"chevrolet woody\"}, {\"mpg\": 29.0, \"cylinders\": 4, \"displacement\": 90.0, \"horsepower\": 70.0, \"weight\": 1937, \"acceleration\": 14.2, \"model year\": 76, \"origin\": 2, \"car name\": \"vw rabbit\"}, {\"mpg\": 33.0, \"cylinders\": 4, \"displacement\": 91.0, \"horsepower\": 53.0, \"weight\": 1795, \"acceleration\": 17.4, \"model year\": 76, \"origin\": 3, \"car name\": \"honda civic\"}, {\"mpg\": 20.0, \"cylinders\": 6, \"displacement\": 225.0, \"horsepower\": 100.0, \"weight\": 3651, \"acceleration\": 17.7, \"model year\": 76, \"origin\": 1, \"car name\": \"dodge aspen se\"}, {\"mpg\": 18.0, \"cylinders\": 6, \"displacement\": 250.0, \"horsepower\": 78.0, \"weight\": 3574, \"acceleration\": 21.0, \"model year\": 76, \"origin\": 1, \"car name\": \"ford granada ghia\"}, {\"mpg\": 18.5, \"cylinders\": 6, \"displacement\": 250.0, \"horsepower\": 110.0, \"weight\": 3645, \"acceleration\": 16.2, \"model year\": 76, \"origin\": 1, \"car name\": \"pontiac ventura sj\"}, {\"mpg\": 17.5, \"cylinders\": 6, \"displacement\": 258.0, \"horsepower\": 95.0, \"weight\": 3193, \"acceleration\": 17.8, \"model year\": 76, \"origin\": 1, \"car name\": \"amc pacer d/l\"}, {\"mpg\": 29.5, \"cylinders\": 4, \"displacement\": 97.0, \"horsepower\": 71.0, \"weight\": 1825, \"acceleration\": 12.2, \"model year\": 76, \"origin\": 2, \"car name\": \"volkswagen rabbit\"}, {\"mpg\": 32.0, \"cylinders\": 4, \"displacement\": 85.0, \"horsepower\": 70.0, \"weight\": 1990, \"acceleration\": 17.0, \"model year\": 76, \"origin\": 3, \"car name\": \"datsun b-210\"}, {\"mpg\": 28.0, \"cylinders\": 4, \"displacement\": 97.0, \"horsepower\": 75.0, \"weight\": 2155, \"acceleration\": 16.4, \"model year\": 76, \"origin\": 3, \"car name\": \"toyota corolla\"}, {\"mpg\": 26.5, \"cylinders\": 4, \"displacement\": 140.0, \"horsepower\": 72.0, \"weight\": 2565, \"acceleration\": 13.6, \"model year\": 76, \"origin\": 1, \"car name\": \"ford pinto\"}, {\"mpg\": 20.0, \"cylinders\": 4, \"displacement\": 130.0, \"horsepower\": 102.0, \"weight\": 3150, \"acceleration\": 15.7, \"model year\": 76, \"origin\": 2, \"car name\": \"volvo 245\"}, {\"mpg\": 13.0, \"cylinders\": 8, \"displacement\": 318.0, \"horsepower\": 150.0, \"weight\": 3940, \"acceleration\": 13.2, \"model year\": 76, \"origin\": 1, \"car name\": \"plymouth volare premier v8\"}, {\"mpg\": 19.0, \"cylinders\": 4, \"displacement\": 120.0, \"horsepower\": 88.0, \"weight\": 3270, \"acceleration\": 21.9, \"model year\": 76, \"origin\": 2, \"car name\": \"peugeot 504\"}, {\"mpg\": 19.0, \"cylinders\": 6, \"displacement\": 156.0, \"horsepower\": 108.0, \"weight\": 2930, \"acceleration\": 15.5, \"model year\": 76, \"origin\": 3, \"car name\": \"toyota mark ii\"}, {\"mpg\": 16.5, \"cylinders\": 6, \"displacement\": 168.0, \"horsepower\": 120.0, \"weight\": 3820, \"acceleration\": 16.7, \"model year\": 76, \"origin\": 2, \"car name\": \"mercedes-benz 280s\"}, {\"mpg\": 16.5, \"cylinders\": 8, \"displacement\": 350.0, \"horsepower\": 180.0, \"weight\": 4380, \"acceleration\": 12.1, \"model year\": 76, \"origin\": 1, \"car name\": \"cadillac seville\"}, {\"mpg\": 13.0, \"cylinders\": 8, \"displacement\": 350.0, \"horsepower\": 145.0, \"weight\": 4055, \"acceleration\": 12.0, \"model year\": 76, \"origin\": 1, \"car name\": \"chevy c10\"}, {\"mpg\": 13.0, \"cylinders\": 8, \"displacement\": 302.0, \"horsepower\": 130.0, \"weight\": 3870, \"acceleration\": 15.0, \"model year\": 76, \"origin\": 1, \"car name\": \"ford f108\"}, {\"mpg\": 13.0, \"cylinders\": 8, \"displacement\": 318.0, \"horsepower\": 150.0, \"weight\": 3755, \"acceleration\": 14.0, \"model year\": 76, \"origin\": 1, \"car name\": \"dodge d100\"}, {\"mpg\": 31.5, \"cylinders\": 4, \"displacement\": 98.0, \"horsepower\": 68.0, \"weight\": 2045, \"acceleration\": 18.5, \"model year\": 77, \"origin\": 3, \"car name\": \"honda accord cvcc\"}, {\"mpg\": 30.0, \"cylinders\": 4, \"displacement\": 111.0, \"horsepower\": 80.0, \"weight\": 2155, \"acceleration\": 14.8, \"model year\": 77, \"origin\": 1, \"car name\": \"buick opel isuzu deluxe\"}, {\"mpg\": 36.0, \"cylinders\": 4, \"displacement\": 79.0, \"horsepower\": 58.0, \"weight\": 1825, \"acceleration\": 18.6, \"model year\": 77, \"origin\": 2, \"car name\": \"renault 5 gtl\"}, {\"mpg\": 25.5, \"cylinders\": 4, \"displacement\": 122.0, \"horsepower\": 96.0, \"weight\": 2300, \"acceleration\": 15.5, \"model year\": 77, \"origin\": 1, \"car name\": \"plymouth arrow gs\"}, {\"mpg\": 33.5, \"cylinders\": 4, \"displacement\": 85.0, \"horsepower\": 70.0, \"weight\": 1945, \"acceleration\": 16.8, \"model year\": 77, \"origin\": 3, \"car name\": \"datsun f-10 hatchback\"}, {\"mpg\": 17.5, \"cylinders\": 8, \"displacement\": 305.0, \"horsepower\": 145.0, \"weight\": 3880, \"acceleration\": 12.5, \"model year\": 77, \"origin\": 1, \"car name\": \"chevrolet caprice classic\"}, {\"mpg\": 17.0, \"cylinders\": 8, \"displacement\": 260.0, \"horsepower\": 110.0, \"weight\": 4060, \"acceleration\": 19.0, \"model year\": 77, \"origin\": 1, \"car name\": \"oldsmobile cutlass supreme\"}, {\"mpg\": 15.5, \"cylinders\": 8, \"displacement\": 318.0, \"horsepower\": 145.0, \"weight\": 4140, \"acceleration\": 13.7, \"model year\": 77, \"origin\": 1, \"car name\": \"dodge monaco brougham\"}, {\"mpg\": 15.0, \"cylinders\": 8, \"displacement\": 302.0, \"horsepower\": 130.0, \"weight\": 4295, \"acceleration\": 14.9, \"model year\": 77, \"origin\": 1, \"car name\": \"mercury cougar brougham\"}, {\"mpg\": 17.5, \"cylinders\": 6, \"displacement\": 250.0, \"horsepower\": 110.0, \"weight\": 3520, \"acceleration\": 16.4, \"model year\": 77, \"origin\": 1, \"car name\": \"chevrolet concours\"}, {\"mpg\": 20.5, \"cylinders\": 6, \"displacement\": 231.0, \"horsepower\": 105.0, \"weight\": 3425, \"acceleration\": 16.9, \"model year\": 77, \"origin\": 1, \"car name\": \"buick skylark\"}, {\"mpg\": 19.0, \"cylinders\": 6, \"displacement\": 225.0, \"horsepower\": 100.0, \"weight\": 3630, \"acceleration\": 17.7, \"model year\": 77, \"origin\": 1, \"car name\": \"plymouth volare custom\"}, {\"mpg\": 18.5, \"cylinders\": 6, \"displacement\": 250.0, \"horsepower\": 98.0, \"weight\": 3525, \"acceleration\": 19.0, \"model year\": 77, \"origin\": 1, \"car name\": \"ford granada\"}, {\"mpg\": 16.0, \"cylinders\": 8, \"displacement\": 400.0, \"horsepower\": 180.0, \"weight\": 4220, \"acceleration\": 11.1, \"model year\": 77, \"origin\": 1, \"car name\": \"pontiac grand prix lj\"}, {\"mpg\": 15.5, \"cylinders\": 8, \"displacement\": 350.0, \"horsepower\": 170.0, \"weight\": 4165, \"acceleration\": 11.4, \"model year\": 77, \"origin\": 1, \"car name\": \"chevrolet monte carlo landau\"}, {\"mpg\": 15.5, \"cylinders\": 8, \"displacement\": 400.0, \"horsepower\": 190.0, \"weight\": 4325, \"acceleration\": 12.2, \"model year\": 77, \"origin\": 1, \"car name\": \"chrysler cordoba\"}, {\"mpg\": 16.0, \"cylinders\": 8, \"displacement\": 351.0, \"horsepower\": 149.0, \"weight\": 4335, \"acceleration\": 14.5, \"model year\": 77, \"origin\": 1, \"car name\": \"ford thunderbird\"}, {\"mpg\": 29.0, \"cylinders\": 4, \"displacement\": 97.0, \"horsepower\": 78.0, \"weight\": 1940, \"acceleration\": 14.5, \"model year\": 77, \"origin\": 2, \"car name\": \"volkswagen rabbit custom\"}, {\"mpg\": 24.5, \"cylinders\": 4, \"displacement\": 151.0, \"horsepower\": 88.0, \"weight\": 2740, \"acceleration\": 16.0, \"model year\": 77, \"origin\": 1, \"car name\": \"pontiac sunbird coupe\"}, {\"mpg\": 26.0, \"cylinders\": 4, \"displacement\": 97.0, \"horsepower\": 75.0, \"weight\": 2265, \"acceleration\": 18.2, \"model year\": 77, \"origin\": 3, \"car name\": \"toyota corolla liftback\"}, {\"mpg\": 25.5, \"cylinders\": 4, \"displacement\": 140.0, \"horsepower\": 89.0, \"weight\": 2755, \"acceleration\": 15.8, \"model year\": 77, \"origin\": 1, \"car name\": \"ford mustang ii 2+2\"}, {\"mpg\": 30.5, \"cylinders\": 4, \"displacement\": 98.0, \"horsepower\": 63.0, \"weight\": 2051, \"acceleration\": 17.0, \"model year\": 77, \"origin\": 1, \"car name\": \"chevrolet chevette\"}, {\"mpg\": 33.5, \"cylinders\": 4, \"displacement\": 98.0, \"horsepower\": 83.0, \"weight\": 2075, \"acceleration\": 15.9, \"model year\": 77, \"origin\": 1, \"car name\": \"dodge colt m/m\"}, {\"mpg\": 30.0, \"cylinders\": 4, \"displacement\": 97.0, \"horsepower\": 67.0, \"weight\": 1985, \"acceleration\": 16.4, \"model year\": 77, \"origin\": 3, \"car name\": \"subaru dl\"}, {\"mpg\": 30.5, \"cylinders\": 4, \"displacement\": 97.0, \"horsepower\": 78.0, \"weight\": 2190, \"acceleration\": 14.1, \"model year\": 77, \"origin\": 2, \"car name\": \"volkswagen dasher\"}, {\"mpg\": 22.0, \"cylinders\": 6, \"displacement\": 146.0, \"horsepower\": 97.0, \"weight\": 2815, \"acceleration\": 14.5, \"model year\": 77, \"origin\": 3, \"car name\": \"datsun 810\"}, {\"mpg\": 21.5, \"cylinders\": 4, \"displacement\": 121.0, \"horsepower\": 110.0, \"weight\": 2600, \"acceleration\": 12.8, \"model year\": 77, \"origin\": 2, \"car name\": \"bmw 320i\"}, {\"mpg\": 21.5, \"cylinders\": 3, \"displacement\": 80.0, \"horsepower\": 110.0, \"weight\": 2720, \"acceleration\": 13.5, \"model year\": 77, \"origin\": 3, \"car name\": \"mazda rx-4\"}, {\"mpg\": 43.1, \"cylinders\": 4, \"displacement\": 90.0, \"horsepower\": 48.0, \"weight\": 1985, \"acceleration\": 21.5, \"model year\": 78, \"origin\": 2, \"car name\": \"volkswagen rabbit custom diesel\"}, {\"mpg\": 36.1, \"cylinders\": 4, \"displacement\": 98.0, \"horsepower\": 66.0, \"weight\": 1800, \"acceleration\": 14.4, \"model year\": 78, \"origin\": 1, \"car name\": \"ford fiesta\"}, {\"mpg\": 32.8, \"cylinders\": 4, \"displacement\": 78.0, \"horsepower\": 52.0, \"weight\": 1985, \"acceleration\": 19.4, \"model year\": 78, \"origin\": 3, \"car name\": \"mazda glc deluxe\"}, {\"mpg\": 39.4, \"cylinders\": 4, \"displacement\": 85.0, \"horsepower\": 70.0, \"weight\": 2070, \"acceleration\": 18.6, \"model year\": 78, \"origin\": 3, \"car name\": \"datsun b210 gx\"}, {\"mpg\": 36.1, \"cylinders\": 4, \"displacement\": 91.0, \"horsepower\": 60.0, \"weight\": 1800, \"acceleration\": 16.4, \"model year\": 78, \"origin\": 3, \"car name\": \"honda civic cvcc\"}, {\"mpg\": 19.9, \"cylinders\": 8, \"displacement\": 260.0, \"horsepower\": 110.0, \"weight\": 3365, \"acceleration\": 15.5, \"model year\": 78, \"origin\": 1, \"car name\": \"oldsmobile cutlass salon brougham\"}, {\"mpg\": 19.4, \"cylinders\": 8, \"displacement\": 318.0, \"horsepower\": 140.0, \"weight\": 3735, \"acceleration\": 13.2, \"model year\": 78, \"origin\": 1, \"car name\": \"dodge diplomat\"}, {\"mpg\": 20.2, \"cylinders\": 8, \"displacement\": 302.0, \"horsepower\": 139.0, \"weight\": 3570, \"acceleration\": 12.8, \"model year\": 78, \"origin\": 1, \"car name\": \"mercury monarch ghia\"}, {\"mpg\": 19.2, \"cylinders\": 6, \"displacement\": 231.0, \"horsepower\": 105.0, \"weight\": 3535, \"acceleration\": 19.2, \"model year\": 78, \"origin\": 1, \"car name\": \"pontiac phoenix lj\"}, {\"mpg\": 20.5, \"cylinders\": 6, \"displacement\": 200.0, \"horsepower\": 95.0, \"weight\": 3155, \"acceleration\": 18.2, \"model year\": 78, \"origin\": 1, \"car name\": \"chevrolet malibu\"}, {\"mpg\": 20.2, \"cylinders\": 6, \"displacement\": 200.0, \"horsepower\": 85.0, \"weight\": 2965, \"acceleration\": 15.8, \"model year\": 78, \"origin\": 1, \"car name\": \"ford fairmont (auto)\"}, {\"mpg\": 25.1, \"cylinders\": 4, \"displacement\": 140.0, \"horsepower\": 88.0, \"weight\": 2720, \"acceleration\": 15.4, \"model year\": 78, \"origin\": 1, \"car name\": \"ford fairmont (man)\"}, {\"mpg\": 20.5, \"cylinders\": 6, \"displacement\": 225.0, \"horsepower\": 100.0, \"weight\": 3430, \"acceleration\": 17.2, \"model year\": 78, \"origin\": 1, \"car name\": \"plymouth volare\"}, {\"mpg\": 19.4, \"cylinders\": 6, \"displacement\": 232.0, \"horsepower\": 90.0, \"weight\": 3210, \"acceleration\": 17.2, \"model year\": 78, \"origin\": 1, \"car name\": \"amc concord\"}, {\"mpg\": 20.6, \"cylinders\": 6, \"displacement\": 231.0, \"horsepower\": 105.0, \"weight\": 3380, \"acceleration\": 15.8, \"model year\": 78, \"origin\": 1, \"car name\": \"buick century special\"}, {\"mpg\": 20.8, \"cylinders\": 6, \"displacement\": 200.0, \"horsepower\": 85.0, \"weight\": 3070, \"acceleration\": 16.7, \"model year\": 78, \"origin\": 1, \"car name\": \"mercury zephyr\"}, {\"mpg\": 18.6, \"cylinders\": 6, \"displacement\": 225.0, \"horsepower\": 110.0, \"weight\": 3620, \"acceleration\": 18.7, \"model year\": 78, \"origin\": 1, \"car name\": \"dodge aspen\"}, {\"mpg\": 18.1, \"cylinders\": 6, \"displacement\": 258.0, \"horsepower\": 120.0, \"weight\": 3410, \"acceleration\": 15.1, \"model year\": 78, \"origin\": 1, \"car name\": \"amc concord d/l\"}, {\"mpg\": 19.2, \"cylinders\": 8, \"displacement\": 305.0, \"horsepower\": 145.0, \"weight\": 3425, \"acceleration\": 13.2, \"model year\": 78, \"origin\": 1, \"car name\": \"chevrolet monte carlo landau\"}, {\"mpg\": 17.7, \"cylinders\": 6, \"displacement\": 231.0, \"horsepower\": 165.0, \"weight\": 3445, \"acceleration\": 13.4, \"model year\": 78, \"origin\": 1, \"car name\": \"buick regal sport coupe (turbo)\"}, {\"mpg\": 18.1, \"cylinders\": 8, \"displacement\": 302.0, \"horsepower\": 139.0, \"weight\": 3205, \"acceleration\": 11.2, \"model year\": 78, \"origin\": 1, \"car name\": \"ford futura\"}, {\"mpg\": 17.5, \"cylinders\": 8, \"displacement\": 318.0, \"horsepower\": 140.0, \"weight\": 4080, \"acceleration\": 13.7, \"model year\": 78, \"origin\": 1, \"car name\": \"dodge magnum xe\"}, {\"mpg\": 30.0, \"cylinders\": 4, \"displacement\": 98.0, \"horsepower\": 68.0, \"weight\": 2155, \"acceleration\": 16.5, \"model year\": 78, \"origin\": 1, \"car name\": \"chevrolet chevette\"}, {\"mpg\": 27.5, \"cylinders\": 4, \"displacement\": 134.0, \"horsepower\": 95.0, \"weight\": 2560, \"acceleration\": 14.2, \"model year\": 78, \"origin\": 3, \"car name\": \"toyota corona\"}, {\"mpg\": 27.2, \"cylinders\": 4, \"displacement\": 119.0, \"horsepower\": 97.0, \"weight\": 2300, \"acceleration\": 14.7, \"model year\": 78, \"origin\": 3, \"car name\": \"datsun 510\"}, {\"mpg\": 30.9, \"cylinders\": 4, \"displacement\": 105.0, \"horsepower\": 75.0, \"weight\": 2230, \"acceleration\": 14.5, \"model year\": 78, \"origin\": 1, \"car name\": \"dodge omni\"}, {\"mpg\": 21.1, \"cylinders\": 4, \"displacement\": 134.0, \"horsepower\": 95.0, \"weight\": 2515, \"acceleration\": 14.8, \"model year\": 78, \"origin\": 3, \"car name\": \"toyota celica gt liftback\"}, {\"mpg\": 23.2, \"cylinders\": 4, \"displacement\": 156.0, \"horsepower\": 105.0, \"weight\": 2745, \"acceleration\": 16.7, \"model year\": 78, \"origin\": 1, \"car name\": \"plymouth sapporo\"}, {\"mpg\": 23.8, \"cylinders\": 4, \"displacement\": 151.0, \"horsepower\": 85.0, \"weight\": 2855, \"acceleration\": 17.6, \"model year\": 78, \"origin\": 1, \"car name\": \"oldsmobile starfire sx\"}, {\"mpg\": 23.9, \"cylinders\": 4, \"displacement\": 119.0, \"horsepower\": 97.0, \"weight\": 2405, \"acceleration\": 14.9, \"model year\": 78, \"origin\": 3, \"car name\": \"datsun 200-sx\"}, {\"mpg\": 20.3, \"cylinders\": 5, \"displacement\": 131.0, \"horsepower\": 103.0, \"weight\": 2830, \"acceleration\": 15.9, \"model year\": 78, \"origin\": 2, \"car name\": \"audi 5000\"}, {\"mpg\": 17.0, \"cylinders\": 6, \"displacement\": 163.0, \"horsepower\": 125.0, \"weight\": 3140, \"acceleration\": 13.6, \"model year\": 78, \"origin\": 2, \"car name\": \"volvo 264gl\"}, {\"mpg\": 21.6, \"cylinders\": 4, \"displacement\": 121.0, \"horsepower\": 115.0, \"weight\": 2795, \"acceleration\": 15.7, \"model year\": 78, \"origin\": 2, \"car name\": \"saab 99gle\"}, {\"mpg\": 16.2, \"cylinders\": 6, \"displacement\": 163.0, \"horsepower\": 133.0, \"weight\": 3410, \"acceleration\": 15.8, \"model year\": 78, \"origin\": 2, \"car name\": \"peugeot 604sl\"}, {\"mpg\": 31.5, \"cylinders\": 4, \"displacement\": 89.0, \"horsepower\": 71.0, \"weight\": 1990, \"acceleration\": 14.9, \"model year\": 78, \"origin\": 2, \"car name\": \"volkswagen scirocco\"}, {\"mpg\": 29.5, \"cylinders\": 4, \"displacement\": 98.0, \"horsepower\": 68.0, \"weight\": 2135, \"acceleration\": 16.6, \"model year\": 78, \"origin\": 3, \"car name\": \"honda accord lx\"}, {\"mpg\": 21.5, \"cylinders\": 6, \"displacement\": 231.0, \"horsepower\": 115.0, \"weight\": 3245, \"acceleration\": 15.4, \"model year\": 79, \"origin\": 1, \"car name\": \"pontiac lemans v6\"}, {\"mpg\": 19.8, \"cylinders\": 6, \"displacement\": 200.0, \"horsepower\": 85.0, \"weight\": 2990, \"acceleration\": 18.2, \"model year\": 79, \"origin\": 1, \"car name\": \"mercury zephyr 6\"}, {\"mpg\": 22.3, \"cylinders\": 4, \"displacement\": 140.0, \"horsepower\": 88.0, \"weight\": 2890, \"acceleration\": 17.3, \"model year\": 79, \"origin\": 1, \"car name\": \"ford fairmont 4\"}, {\"mpg\": 20.2, \"cylinders\": 6, \"displacement\": 232.0, \"horsepower\": 90.0, \"weight\": 3265, \"acceleration\": 18.2, \"model year\": 79, \"origin\": 1, \"car name\": \"amc concord dl 6\"}, {\"mpg\": 20.6, \"cylinders\": 6, \"displacement\": 225.0, \"horsepower\": 110.0, \"weight\": 3360, \"acceleration\": 16.6, \"model year\": 79, \"origin\": 1, \"car name\": \"dodge aspen 6\"}, {\"mpg\": 17.0, \"cylinders\": 8, \"displacement\": 305.0, \"horsepower\": 130.0, \"weight\": 3840, \"acceleration\": 15.4, \"model year\": 79, \"origin\": 1, \"car name\": \"chevrolet caprice classic\"}, {\"mpg\": 17.6, \"cylinders\": 8, \"displacement\": 302.0, \"horsepower\": 129.0, \"weight\": 3725, \"acceleration\": 13.4, \"model year\": 79, \"origin\": 1, \"car name\": \"ford ltd landau\"}, {\"mpg\": 16.5, \"cylinders\": 8, \"displacement\": 351.0, \"horsepower\": 138.0, \"weight\": 3955, \"acceleration\": 13.2, \"model year\": 79, \"origin\": 1, \"car name\": \"mercury grand marquis\"}, {\"mpg\": 18.2, \"cylinders\": 8, \"displacement\": 318.0, \"horsepower\": 135.0, \"weight\": 3830, \"acceleration\": 15.2, \"model year\": 79, \"origin\": 1, \"car name\": \"dodge st. regis\"}, {\"mpg\": 16.9, \"cylinders\": 8, \"displacement\": 350.0, \"horsepower\": 155.0, \"weight\": 4360, \"acceleration\": 14.9, \"model year\": 79, \"origin\": 1, \"car name\": \"buick estate wagon (sw)\"}, {\"mpg\": 15.5, \"cylinders\": 8, \"displacement\": 351.0, \"horsepower\": 142.0, \"weight\": 4054, \"acceleration\": 14.3, \"model year\": 79, \"origin\": 1, \"car name\": \"ford country squire (sw)\"}, {\"mpg\": 19.2, \"cylinders\": 8, \"displacement\": 267.0, \"horsepower\": 125.0, \"weight\": 3605, \"acceleration\": 15.0, \"model year\": 79, \"origin\": 1, \"car name\": \"chevrolet malibu classic (sw)\"}, {\"mpg\": 18.5, \"cylinders\": 8, \"displacement\": 360.0, \"horsepower\": 150.0, \"weight\": 3940, \"acceleration\": 13.0, \"model year\": 79, \"origin\": 1, \"car name\": \"chrysler lebaron town @ country (sw)\"}, {\"mpg\": 31.9, \"cylinders\": 4, \"displacement\": 89.0, \"horsepower\": 71.0, \"weight\": 1925, \"acceleration\": 14.0, \"model year\": 79, \"origin\": 2, \"car name\": \"vw rabbit custom\"}, {\"mpg\": 34.1, \"cylinders\": 4, \"displacement\": 86.0, \"horsepower\": 65.0, \"weight\": 1975, \"acceleration\": 15.2, \"model year\": 79, \"origin\": 3, \"car name\": \"maxda glc deluxe\"}, {\"mpg\": 35.7, \"cylinders\": 4, \"displacement\": 98.0, \"horsepower\": 80.0, \"weight\": 1915, \"acceleration\": 14.4, \"model year\": 79, \"origin\": 1, \"car name\": \"dodge colt hatchback custom\"}, {\"mpg\": 27.4, \"cylinders\": 4, \"displacement\": 121.0, \"horsepower\": 80.0, \"weight\": 2670, \"acceleration\": 15.0, \"model year\": 79, \"origin\": 1, \"car name\": \"amc spirit dl\"}, {\"mpg\": 25.4, \"cylinders\": 5, \"displacement\": 183.0, \"horsepower\": 77.0, \"weight\": 3530, \"acceleration\": 20.1, \"model year\": 79, \"origin\": 2, \"car name\": \"mercedes benz 300d\"}, {\"mpg\": 23.0, \"cylinders\": 8, \"displacement\": 350.0, \"horsepower\": 125.0, \"weight\": 3900, \"acceleration\": 17.4, \"model year\": 79, \"origin\": 1, \"car name\": \"cadillac eldorado\"}, {\"mpg\": 27.2, \"cylinders\": 4, \"displacement\": 141.0, \"horsepower\": 71.0, \"weight\": 3190, \"acceleration\": 24.8, \"model year\": 79, \"origin\": 2, \"car name\": \"peugeot 504\"}, {\"mpg\": 23.9, \"cylinders\": 8, \"displacement\": 260.0, \"horsepower\": 90.0, \"weight\": 3420, \"acceleration\": 22.2, \"model year\": 79, \"origin\": 1, \"car name\": \"oldsmobile cutlass salon brougham\"}, {\"mpg\": 34.2, \"cylinders\": 4, \"displacement\": 105.0, \"horsepower\": 70.0, \"weight\": 2200, \"acceleration\": 13.2, \"model year\": 79, \"origin\": 1, \"car name\": \"plymouth horizon\"}, {\"mpg\": 34.5, \"cylinders\": 4, \"displacement\": 105.0, \"horsepower\": 70.0, \"weight\": 2150, \"acceleration\": 14.9, \"model year\": 79, \"origin\": 1, \"car name\": \"plymouth horizon tc3\"}, {\"mpg\": 31.8, \"cylinders\": 4, \"displacement\": 85.0, \"horsepower\": 65.0, \"weight\": 2020, \"acceleration\": 19.2, \"model year\": 79, \"origin\": 3, \"car name\": \"datsun 210\"}, {\"mpg\": 37.3, \"cylinders\": 4, \"displacement\": 91.0, \"horsepower\": 69.0, \"weight\": 2130, \"acceleration\": 14.7, \"model year\": 79, \"origin\": 2, \"car name\": \"fiat strada custom\"}, {\"mpg\": 28.4, \"cylinders\": 4, \"displacement\": 151.0, \"horsepower\": 90.0, \"weight\": 2670, \"acceleration\": 16.0, \"model year\": 79, \"origin\": 1, \"car name\": \"buick skylark limited\"}, {\"mpg\": 28.8, \"cylinders\": 6, \"displacement\": 173.0, \"horsepower\": 115.0, \"weight\": 2595, \"acceleration\": 11.3, \"model year\": 79, \"origin\": 1, \"car name\": \"chevrolet citation\"}, {\"mpg\": 26.8, \"cylinders\": 6, \"displacement\": 173.0, \"horsepower\": 115.0, \"weight\": 2700, \"acceleration\": 12.9, \"model year\": 79, \"origin\": 1, \"car name\": \"oldsmobile omega brougham\"}, {\"mpg\": 33.5, \"cylinders\": 4, \"displacement\": 151.0, \"horsepower\": 90.0, \"weight\": 2556, \"acceleration\": 13.2, \"model year\": 79, \"origin\": 1, \"car name\": \"pontiac phoenix\"}, {\"mpg\": 41.5, \"cylinders\": 4, \"displacement\": 98.0, \"horsepower\": 76.0, \"weight\": 2144, \"acceleration\": 14.7, \"model year\": 80, \"origin\": 2, \"car name\": \"vw rabbit\"}, {\"mpg\": 38.1, \"cylinders\": 4, \"displacement\": 89.0, \"horsepower\": 60.0, \"weight\": 1968, \"acceleration\": 18.8, \"model year\": 80, \"origin\": 3, \"car name\": \"toyota corolla tercel\"}, {\"mpg\": 32.1, \"cylinders\": 4, \"displacement\": 98.0, \"horsepower\": 70.0, \"weight\": 2120, \"acceleration\": 15.5, \"model year\": 80, \"origin\": 1, \"car name\": \"chevrolet chevette\"}, {\"mpg\": 37.2, \"cylinders\": 4, \"displacement\": 86.0, \"horsepower\": 65.0, \"weight\": 2019, \"acceleration\": 16.4, \"model year\": 80, \"origin\": 3, \"car name\": \"datsun 310\"}, {\"mpg\": 28.0, \"cylinders\": 4, \"displacement\": 151.0, \"horsepower\": 90.0, \"weight\": 2678, \"acceleration\": 16.5, \"model year\": 80, \"origin\": 1, \"car name\": \"chevrolet citation\"}, {\"mpg\": 26.4, \"cylinders\": 4, \"displacement\": 140.0, \"horsepower\": 88.0, \"weight\": 2870, \"acceleration\": 18.1, \"model year\": 80, \"origin\": 1, \"car name\": \"ford fairmont\"}, {\"mpg\": 24.3, \"cylinders\": 4, \"displacement\": 151.0, \"horsepower\": 90.0, \"weight\": 3003, \"acceleration\": 20.1, \"model year\": 80, \"origin\": 1, \"car name\": \"amc concord\"}, {\"mpg\": 19.1, \"cylinders\": 6, \"displacement\": 225.0, \"horsepower\": 90.0, \"weight\": 3381, \"acceleration\": 18.7, \"model year\": 80, \"origin\": 1, \"car name\": \"dodge aspen\"}, {\"mpg\": 34.3, \"cylinders\": 4, \"displacement\": 97.0, \"horsepower\": 78.0, \"weight\": 2188, \"acceleration\": 15.8, \"model year\": 80, \"origin\": 2, \"car name\": \"audi 4000\"}, {\"mpg\": 29.8, \"cylinders\": 4, \"displacement\": 134.0, \"horsepower\": 90.0, \"weight\": 2711, \"acceleration\": 15.5, \"model year\": 80, \"origin\": 3, \"car name\": \"toyota corona liftback\"}, {\"mpg\": 31.3, \"cylinders\": 4, \"displacement\": 120.0, \"horsepower\": 75.0, \"weight\": 2542, \"acceleration\": 17.5, \"model year\": 80, \"origin\": 3, \"car name\": \"mazda 626\"}, {\"mpg\": 37.0, \"cylinders\": 4, \"displacement\": 119.0, \"horsepower\": 92.0, \"weight\": 2434, \"acceleration\": 15.0, \"model year\": 80, \"origin\": 3, \"car name\": \"datsun 510 hatchback\"}, {\"mpg\": 32.2, \"cylinders\": 4, \"displacement\": 108.0, \"horsepower\": 75.0, \"weight\": 2265, \"acceleration\": 15.2, \"model year\": 80, \"origin\": 3, \"car name\": \"toyota corolla\"}, {\"mpg\": 46.6, \"cylinders\": 4, \"displacement\": 86.0, \"horsepower\": 65.0, \"weight\": 2110, \"acceleration\": 17.9, \"model year\": 80, \"origin\": 3, \"car name\": \"mazda glc\"}, {\"mpg\": 27.9, \"cylinders\": 4, \"displacement\": 156.0, \"horsepower\": 105.0, \"weight\": 2800, \"acceleration\": 14.4, \"model year\": 80, \"origin\": 1, \"car name\": \"dodge colt\"}, {\"mpg\": 40.8, \"cylinders\": 4, \"displacement\": 85.0, \"horsepower\": 65.0, \"weight\": 2110, \"acceleration\": 19.2, \"model year\": 80, \"origin\": 3, \"car name\": \"datsun 210\"}, {\"mpg\": 44.3, \"cylinders\": 4, \"displacement\": 90.0, \"horsepower\": 48.0, \"weight\": 2085, \"acceleration\": 21.7, \"model year\": 80, \"origin\": 2, \"car name\": \"vw rabbit c (diesel)\"}, {\"mpg\": 43.4, \"cylinders\": 4, \"displacement\": 90.0, \"horsepower\": 48.0, \"weight\": 2335, \"acceleration\": 23.7, \"model year\": 80, \"origin\": 2, \"car name\": \"vw dasher (diesel)\"}, {\"mpg\": 36.4, \"cylinders\": 5, \"displacement\": 121.0, \"horsepower\": 67.0, \"weight\": 2950, \"acceleration\": 19.9, \"model year\": 80, \"origin\": 2, \"car name\": \"audi 5000s (diesel)\"}, {\"mpg\": 30.0, \"cylinders\": 4, \"displacement\": 146.0, \"horsepower\": 67.0, \"weight\": 3250, \"acceleration\": 21.8, \"model year\": 80, \"origin\": 2, \"car name\": \"mercedes-benz 240d\"}, {\"mpg\": 44.6, \"cylinders\": 4, \"displacement\": 91.0, \"horsepower\": 67.0, \"weight\": 1850, \"acceleration\": 13.8, \"model year\": 80, \"origin\": 3, \"car name\": \"honda civic 1500 gl\"}, {\"mpg\": 40.9, \"cylinders\": 4, \"displacement\": 85.0, \"horsepower\": null, \"weight\": 1835, \"acceleration\": 17.3, \"model year\": 80, \"origin\": 2, \"car name\": \"renault lecar deluxe\"}, {\"mpg\": 33.8, \"cylinders\": 4, \"displacement\": 97.0, \"horsepower\": 67.0, \"weight\": 2145, \"acceleration\": 18.0, \"model year\": 80, \"origin\": 3, \"car name\": \"subaru dl\"}, {\"mpg\": 29.8, \"cylinders\": 4, \"displacement\": 89.0, \"horsepower\": 62.0, \"weight\": 1845, \"acceleration\": 15.3, \"model year\": 80, \"origin\": 2, \"car name\": \"vokswagen rabbit\"}, {\"mpg\": 32.7, \"cylinders\": 6, \"displacement\": 168.0, \"horsepower\": 132.0, \"weight\": 2910, \"acceleration\": 11.4, \"model year\": 80, \"origin\": 3, \"car name\": \"datsun 280-zx\"}, {\"mpg\": 23.7, \"cylinders\": 3, \"displacement\": 70.0, \"horsepower\": 100.0, \"weight\": 2420, \"acceleration\": 12.5, \"model year\": 80, \"origin\": 3, \"car name\": \"mazda rx-7 gs\"}, {\"mpg\": 35.0, \"cylinders\": 4, \"displacement\": 122.0, \"horsepower\": 88.0, \"weight\": 2500, \"acceleration\": 15.1, \"model year\": 80, \"origin\": 2, \"car name\": \"triumph tr7 coupe\"}, {\"mpg\": 23.6, \"cylinders\": 4, \"displacement\": 140.0, \"horsepower\": null, \"weight\": 2905, \"acceleration\": 14.3, \"model year\": 80, \"origin\": 1, \"car name\": \"ford mustang cobra\"}, {\"mpg\": 32.4, \"cylinders\": 4, \"displacement\": 107.0, \"horsepower\": 72.0, \"weight\": 2290, \"acceleration\": 17.0, \"model year\": 80, \"origin\": 3, \"car name\": \"honda accord\"}, {\"mpg\": 27.2, \"cylinders\": 4, \"displacement\": 135.0, \"horsepower\": 84.0, \"weight\": 2490, \"acceleration\": 15.7, \"model year\": 81, \"origin\": 1, \"car name\": \"plymouth reliant\"}, {\"mpg\": 26.6, \"cylinders\": 4, \"displacement\": 151.0, \"horsepower\": 84.0, \"weight\": 2635, \"acceleration\": 16.4, \"model year\": 81, \"origin\": 1, \"car name\": \"buick skylark\"}, {\"mpg\": 25.8, \"cylinders\": 4, \"displacement\": 156.0, \"horsepower\": 92.0, \"weight\": 2620, \"acceleration\": 14.4, \"model year\": 81, \"origin\": 1, \"car name\": \"dodge aries wagon (sw)\"}, {\"mpg\": 23.5, \"cylinders\": 6, \"displacement\": 173.0, \"horsepower\": 110.0, \"weight\": 2725, \"acceleration\": 12.6, \"model year\": 81, \"origin\": 1, \"car name\": \"chevrolet citation\"}, {\"mpg\": 30.0, \"cylinders\": 4, \"displacement\": 135.0, \"horsepower\": 84.0, \"weight\": 2385, \"acceleration\": 12.9, \"model year\": 81, \"origin\": 1, \"car name\": \"plymouth reliant\"}, {\"mpg\": 39.1, \"cylinders\": 4, \"displacement\": 79.0, \"horsepower\": 58.0, \"weight\": 1755, \"acceleration\": 16.9, \"model year\": 81, \"origin\": 3, \"car name\": \"toyota starlet\"}, {\"mpg\": 39.0, \"cylinders\": 4, \"displacement\": 86.0, \"horsepower\": 64.0, \"weight\": 1875, \"acceleration\": 16.4, \"model year\": 81, \"origin\": 1, \"car name\": \"plymouth champ\"}, {\"mpg\": 35.1, \"cylinders\": 4, \"displacement\": 81.0, \"horsepower\": 60.0, \"weight\": 1760, \"acceleration\": 16.1, \"model year\": 81, \"origin\": 3, \"car name\": \"honda civic 1300\"}, {\"mpg\": 32.3, \"cylinders\": 4, \"displacement\": 97.0, \"horsepower\": 67.0, \"weight\": 2065, \"acceleration\": 17.8, \"model year\": 81, \"origin\": 3, \"car name\": \"subaru\"}, {\"mpg\": 37.0, \"cylinders\": 4, \"displacement\": 85.0, \"horsepower\": 65.0, \"weight\": 1975, \"acceleration\": 19.4, \"model year\": 81, \"origin\": 3, \"car name\": \"datsun 210 mpg\"}, {\"mpg\": 37.7, \"cylinders\": 4, \"displacement\": 89.0, \"horsepower\": 62.0, \"weight\": 2050, \"acceleration\": 17.3, \"model year\": 81, \"origin\": 3, \"car name\": \"toyota tercel\"}, {\"mpg\": 34.1, \"cylinders\": 4, \"displacement\": 91.0, \"horsepower\": 68.0, \"weight\": 1985, \"acceleration\": 16.0, \"model year\": 81, \"origin\": 3, \"car name\": \"mazda glc 4\"}, {\"mpg\": 34.7, \"cylinders\": 4, \"displacement\": 105.0, \"horsepower\": 63.0, \"weight\": 2215, \"acceleration\": 14.9, \"model year\": 81, \"origin\": 1, \"car name\": \"plymouth horizon 4\"}, {\"mpg\": 34.4, \"cylinders\": 4, \"displacement\": 98.0, \"horsepower\": 65.0, \"weight\": 2045, \"acceleration\": 16.2, \"model year\": 81, \"origin\": 1, \"car name\": \"ford escort 4w\"}, {\"mpg\": 29.9, \"cylinders\": 4, \"displacement\": 98.0, \"horsepower\": 65.0, \"weight\": 2380, \"acceleration\": 20.7, \"model year\": 81, \"origin\": 1, \"car name\": \"ford escort 2h\"}, {\"mpg\": 33.0, \"cylinders\": 4, \"displacement\": 105.0, \"horsepower\": 74.0, \"weight\": 2190, \"acceleration\": 14.2, \"model year\": 81, \"origin\": 2, \"car name\": \"volkswagen jetta\"}, {\"mpg\": 34.5, \"cylinders\": 4, \"displacement\": 100.0, \"horsepower\": null, \"weight\": 2320, \"acceleration\": 15.8, \"model year\": 81, \"origin\": 2, \"car name\": \"renault 18i\"}, {\"mpg\": 33.7, \"cylinders\": 4, \"displacement\": 107.0, \"horsepower\": 75.0, \"weight\": 2210, \"acceleration\": 14.4, \"model year\": 81, \"origin\": 3, \"car name\": \"honda prelude\"}, {\"mpg\": 32.4, \"cylinders\": 4, \"displacement\": 108.0, \"horsepower\": 75.0, \"weight\": 2350, \"acceleration\": 16.8, \"model year\": 81, \"origin\": 3, \"car name\": \"toyota corolla\"}, {\"mpg\": 32.9, \"cylinders\": 4, \"displacement\": 119.0, \"horsepower\": 100.0, \"weight\": 2615, \"acceleration\": 14.8, \"model year\": 81, \"origin\": 3, \"car name\": \"datsun 200sx\"}, {\"mpg\": 31.6, \"cylinders\": 4, \"displacement\": 120.0, \"horsepower\": 74.0, \"weight\": 2635, \"acceleration\": 18.3, \"model year\": 81, \"origin\": 3, \"car name\": \"mazda 626\"}, {\"mpg\": 28.1, \"cylinders\": 4, \"displacement\": 141.0, \"horsepower\": 80.0, \"weight\": 3230, \"acceleration\": 20.4, \"model year\": 81, \"origin\": 2, \"car name\": \"peugeot 505s turbo diesel\"}, {\"mpg\": 30.7, \"cylinders\": 6, \"displacement\": 145.0, \"horsepower\": 76.0, \"weight\": 3160, \"acceleration\": 19.6, \"model year\": 81, \"origin\": 2, \"car name\": \"volvo diesel\"}, {\"mpg\": 25.4, \"cylinders\": 6, \"displacement\": 168.0, \"horsepower\": 116.0, \"weight\": 2900, \"acceleration\": 12.6, \"model year\": 81, \"origin\": 3, \"car name\": \"toyota cressida\"}, {\"mpg\": 24.2, \"cylinders\": 6, \"displacement\": 146.0, \"horsepower\": 120.0, \"weight\": 2930, \"acceleration\": 13.8, \"model year\": 81, \"origin\": 3, \"car name\": \"datsun 810 maxima\"}, {\"mpg\": 22.4, \"cylinders\": 6, \"displacement\": 231.0, \"horsepower\": 110.0, \"weight\": 3415, \"acceleration\": 15.8, \"model year\": 81, \"origin\": 1, \"car name\": \"buick century\"}, {\"mpg\": 26.6, \"cylinders\": 8, \"displacement\": 350.0, \"horsepower\": 105.0, \"weight\": 3725, \"acceleration\": 19.0, \"model year\": 81, \"origin\": 1, \"car name\": \"oldsmobile cutlass ls\"}, {\"mpg\": 20.2, \"cylinders\": 6, \"displacement\": 200.0, \"horsepower\": 88.0, \"weight\": 3060, \"acceleration\": 17.1, \"model year\": 81, \"origin\": 1, \"car name\": \"ford granada gl\"}, {\"mpg\": 17.6, \"cylinders\": 6, \"displacement\": 225.0, \"horsepower\": 85.0, \"weight\": 3465, \"acceleration\": 16.6, \"model year\": 81, \"origin\": 1, \"car name\": \"chrysler lebaron salon\"}, {\"mpg\": 28.0, \"cylinders\": 4, \"displacement\": 112.0, \"horsepower\": 88.0, \"weight\": 2605, \"acceleration\": 19.6, \"model year\": 82, \"origin\": 1, \"car name\": \"chevrolet cavalier\"}, {\"mpg\": 27.0, \"cylinders\": 4, \"displacement\": 112.0, \"horsepower\": 88.0, \"weight\": 2640, \"acceleration\": 18.6, \"model year\": 82, \"origin\": 1, \"car name\": \"chevrolet cavalier wagon\"}, {\"mpg\": 34.0, \"cylinders\": 4, \"displacement\": 112.0, \"horsepower\": 88.0, \"weight\": 2395, \"acceleration\": 18.0, \"model year\": 82, \"origin\": 1, \"car name\": \"chevrolet cavalier 2-door\"}, {\"mpg\": 31.0, \"cylinders\": 4, \"displacement\": 112.0, \"horsepower\": 85.0, \"weight\": 2575, \"acceleration\": 16.2, \"model year\": 82, \"origin\": 1, \"car name\": \"pontiac j2000 se hatchback\"}, {\"mpg\": 29.0, \"cylinders\": 4, \"displacement\": 135.0, \"horsepower\": 84.0, \"weight\": 2525, \"acceleration\": 16.0, \"model year\": 82, \"origin\": 1, \"car name\": \"dodge aries se\"}, {\"mpg\": 27.0, \"cylinders\": 4, \"displacement\": 151.0, \"horsepower\": 90.0, \"weight\": 2735, \"acceleration\": 18.0, \"model year\": 82, \"origin\": 1, \"car name\": \"pontiac phoenix\"}, {\"mpg\": 24.0, \"cylinders\": 4, \"displacement\": 140.0, \"horsepower\": 92.0, \"weight\": 2865, \"acceleration\": 16.4, \"model year\": 82, \"origin\": 1, \"car name\": \"ford fairmont futura\"}, {\"mpg\": 23.0, \"cylinders\": 4, \"displacement\": 151.0, \"horsepower\": null, \"weight\": 3035, \"acceleration\": 20.5, \"model year\": 82, \"origin\": 1, \"car name\": \"amc concord dl\"}, {\"mpg\": 36.0, \"cylinders\": 4, \"displacement\": 105.0, \"horsepower\": 74.0, \"weight\": 1980, \"acceleration\": 15.3, \"model year\": 82, \"origin\": 2, \"car name\": \"volkswagen rabbit l\"}, {\"mpg\": 37.0, \"cylinders\": 4, \"displacement\": 91.0, \"horsepower\": 68.0, \"weight\": 2025, \"acceleration\": 18.2, \"model year\": 82, \"origin\": 3, \"car name\": \"mazda glc custom l\"}, {\"mpg\": 31.0, \"cylinders\": 4, \"displacement\": 91.0, \"horsepower\": 68.0, \"weight\": 1970, \"acceleration\": 17.6, \"model year\": 82, \"origin\": 3, \"car name\": \"mazda glc custom\"}, {\"mpg\": 38.0, \"cylinders\": 4, \"displacement\": 105.0, \"horsepower\": 63.0, \"weight\": 2125, \"acceleration\": 14.7, \"model year\": 82, \"origin\": 1, \"car name\": \"plymouth horizon miser\"}, {\"mpg\": 36.0, \"cylinders\": 4, \"displacement\": 98.0, \"horsepower\": 70.0, \"weight\": 2125, \"acceleration\": 17.3, \"model year\": 82, \"origin\": 1, \"car name\": \"mercury lynx l\"}, {\"mpg\": 36.0, \"cylinders\": 4, \"displacement\": 120.0, \"horsepower\": 88.0, \"weight\": 2160, \"acceleration\": 14.5, \"model year\": 82, \"origin\": 3, \"car name\": \"nissan stanza xe\"}, {\"mpg\": 36.0, \"cylinders\": 4, \"displacement\": 107.0, \"horsepower\": 75.0, \"weight\": 2205, \"acceleration\": 14.5, \"model year\": 82, \"origin\": 3, \"car name\": \"honda accord\"}, {\"mpg\": 34.0, \"cylinders\": 4, \"displacement\": 108.0, \"horsepower\": 70.0, \"weight\": 2245, \"acceleration\": 16.9, \"model year\": 82, \"origin\": 3, \"car name\": \"toyota corolla\"}, {\"mpg\": 38.0, \"cylinders\": 4, \"displacement\": 91.0, \"horsepower\": 67.0, \"weight\": 1965, \"acceleration\": 15.0, \"model year\": 82, \"origin\": 3, \"car name\": \"honda civic\"}, {\"mpg\": 32.0, \"cylinders\": 4, \"displacement\": 91.0, \"horsepower\": 67.0, \"weight\": 1965, \"acceleration\": 15.7, \"model year\": 82, \"origin\": 3, \"car name\": \"honda civic (auto)\"}, {\"mpg\": 38.0, \"cylinders\": 4, \"displacement\": 91.0, \"horsepower\": 67.0, \"weight\": 1995, \"acceleration\": 16.2, \"model year\": 82, \"origin\": 3, \"car name\": \"datsun 310 gx\"}, {\"mpg\": 25.0, \"cylinders\": 6, \"displacement\": 181.0, \"horsepower\": 110.0, \"weight\": 2945, \"acceleration\": 16.4, \"model year\": 82, \"origin\": 1, \"car name\": \"buick century limited\"}, {\"mpg\": 38.0, \"cylinders\": 6, \"displacement\": 262.0, \"horsepower\": 85.0, \"weight\": 3015, \"acceleration\": 17.0, \"model year\": 82, \"origin\": 1, \"car name\": \"oldsmobile cutlass ciera (diesel)\"}, {\"mpg\": 26.0, \"cylinders\": 4, \"displacement\": 156.0, \"horsepower\": 92.0, \"weight\": 2585, \"acceleration\": 14.5, \"model year\": 82, \"origin\": 1, \"car name\": \"chrysler lebaron medallion\"}, {\"mpg\": 22.0, \"cylinders\": 6, \"displacement\": 232.0, \"horsepower\": 112.0, \"weight\": 2835, \"acceleration\": 14.7, \"model year\": 82, \"origin\": 1, \"car name\": \"ford granada l\"}, {\"mpg\": 32.0, \"cylinders\": 4, \"displacement\": 144.0, \"horsepower\": 96.0, \"weight\": 2665, \"acceleration\": 13.9, \"model year\": 82, \"origin\": 3, \"car name\": \"toyota celica gt\"}, {\"mpg\": 36.0, \"cylinders\": 4, \"displacement\": 135.0, \"horsepower\": 84.0, \"weight\": 2370, \"acceleration\": 13.0, \"model year\": 82, \"origin\": 1, \"car name\": \"dodge charger 2.2\"}, {\"mpg\": 27.0, \"cylinders\": 4, \"displacement\": 151.0, \"horsepower\": 90.0, \"weight\": 2950, \"acceleration\": 17.3, \"model year\": 82, \"origin\": 1, \"car name\": \"chevrolet camaro\"}, {\"mpg\": 27.0, \"cylinders\": 4, \"displacement\": 140.0, \"horsepower\": 86.0, \"weight\": 2790, \"acceleration\": 15.6, \"model year\": 82, \"origin\": 1, \"car name\": \"ford mustang gl\"}, {\"mpg\": 44.0, \"cylinders\": 4, \"displacement\": 97.0, \"horsepower\": 52.0, \"weight\": 2130, \"acceleration\": 24.6, \"model year\": 82, \"origin\": 2, \"car name\": \"vw pickup\"}, {\"mpg\": 32.0, \"cylinders\": 4, \"displacement\": 135.0, \"horsepower\": 84.0, \"weight\": 2295, \"acceleration\": 11.6, \"model year\": 82, \"origin\": 1, \"car name\": \"dodge rampage\"}, {\"mpg\": 28.0, \"cylinders\": 4, \"displacement\": 120.0, \"horsepower\": 79.0, \"weight\": 2625, \"acceleration\": 18.6, \"model year\": 82, \"origin\": 1, \"car name\": \"ford ranger\"}, {\"mpg\": 31.0, \"cylinders\": 4, \"displacement\": 119.0, \"horsepower\": 82.0, \"weight\": 2720, \"acceleration\": 19.4, \"model year\": 82, \"origin\": 1, \"car name\": \"chevy s-10\"}]}}, {\"mode\": \"vega-lite\"});\n",
              "</script>"
            ]
          },
          "metadata": {},
          "execution_count": 36
        }
      ]
    },
    {
      "cell_type": "markdown",
      "source": [
        "## **Actividad 9. Construya el histograma de dos atributos que le parezcan interesantes (diferentes a 'horsepower') e indique que información le aportan.**"
      ],
      "metadata": {
        "id": "C8i_JwA8QCY0"
      }
    },
    {
      "cell_type": "code",
      "source": [
        "plt.figure(figsize=(6,6))\n",
        "sns.histplot(data     = df, \n",
        "             x        ='acceleration',\n",
        "             bins     = 30,\n",
        "             color    = 'red',\n",
        "             fill     = True,\n",
        "             stat     = 'count')    #'count' muestra el número de observaciones.\n",
        "                                    #'frequency' muestra el número de observaciones dividida por el ancho del bin.\n",
        "                                    #'density' normaliza las cuentas tal que el área del histograma es 1.\n",
        "                                    #'probability' normaliza las cuentas tal que la suma de la altura de las barras es 1.\n",
        "\n",
        "plt.xlabel('Atributo: aceleración.') #Texto en el eje x.\n",
        "plt.ylabel('Frecuencia.')              #Texto en el eje y.\n",
        "plt.title('Histograma') \n",
        "\n",
        "plt.figure(figsize=(6,6))\n",
        "sns.histplot(data     = df, \n",
        "             x        ='cylinders',\n",
        "             bins     = 30,\n",
        "             color    = 'red',\n",
        "             fill     = True,\n",
        "             stat     = 'count')    #'count' muestra el número de observaciones.\n",
        "                                    #'frequency' muestra el número de observaciones dividida por el ancho del bin.\n",
        "                                    #'density' normaliza las cuentas tal que el área del histograma es 1.\n",
        "                                    #'probability' normaliza las cuentas tal que la suma de la altura de las barras es 1.\n",
        "\n",
        "plt.xlabel('Atributo: cilindros.') #Texto en el eje x.\n",
        "plt.ylabel('Frecuencia.')              #Texto en el eje y.\n",
        "plt.title('Histograma') "
      ],
      "metadata": {
        "colab": {
          "base_uri": "https://localhost:8080/",
          "height": 809
        },
        "id": "gtFMMa4Bh2BY",
        "outputId": "957a94a4-fe0b-4469-a11c-4ff932b817d9"
      },
      "execution_count": null,
      "outputs": [
        {
          "output_type": "execute_result",
          "data": {
            "text/plain": [
              "Text(0.5, 1.0, 'Histograma')"
            ]
          },
          "metadata": {},
          "execution_count": 31
        },
        {
          "output_type": "display_data",
          "data": {
            "image/png": "[encoded data removed]",
            "text/plain": [
              "<Figure size 432x432 with 1 Axes>"
            ]
          },
          "metadata": {
            "needs_background": "light"
          }
        },
        {
          "output_type": "display_data",
          "data": {
            "image/png": "[encoded data removed]",
            "text/plain": [
              "<Figure size 432x432 with 1 Axes>"
            ]
          },
          "metadata": {
            "needs_background": "light"
          }
        }
      ]
    },
    {
      "cell_type": "markdown",
      "source": [
        "La Primera grafica nos indica la acelaracion que tienen los vehiculos del dataset.\n",
        "\n",
        "La segunda grafica nos muestra el numero de cilindros que tiene cada vehiculo del dataset, aqui vemos que la mayoria de vehiculos tienen 4 cilindros."
      ],
      "metadata": {
        "id": "G1lNgSYDiYbZ"
      }
    },
    {
      "cell_type": "markdown",
      "source": [
        "## **Actividad 10. Construya una gráfica de correlación entre las variables usando el dataframe df_no_nan.**\n",
        "\n",
        "*   a. Indique cuáles cuáles son las tres variables que mejor se correlacionan con la variable target 'kpg'.\n",
        "*   b. Analice el resultado obtenido (por ejemplo, indique si tiene sentido la correlación, si era esperada, etc.)."
      ],
      "metadata": {
        "id": "2xWhMBOv2PEz"
      }
    },
    {
      "cell_type": "markdown",
      "source": [
        "a. En el dataframe d_no_nan solo la variable kpg tiene en sus unidades a los kilometros, las otras variables como aceleración y desplazamiento no. Por ende no son las que mejor correlación tendrán con kpg. Entonces las 3 variables que mejor correlación tienen con la variable kpg son: número de cilindros , peso y caballos de fuerza.\n",
        "\n",
        "b. Tiene sentido esta correlación y es esperada puesto que un vehículo con más cilindros, debe pesar más (porque tiene más componentes para su funcionamiento) y esto hace que el motor se esfuerce más entonces la gasolina rinde menos y por ende los kilometros que hace por galón, son menos."
      ],
      "metadata": {
        "id": "j0oXchrqM7PH"
      }
    },
    {
      "cell_type": "code",
      "source": [
        "alt.Chart(df_no_nan).mark_point().encode(\n",
        "  x='horsepower',\n",
        "  y='kpg',\n",
        "  color='cylinders'\n",
        ").interactive()"
      ],
      "metadata": {
        "id": "5Py0wbQYyBxI",
        "colab": {
          "base_uri": "https://localhost:8080/",
          "height": 368
        },
        "outputId": "8278b798-40df-4a95-d7b7-4b056acbc2ba"
      },
      "execution_count": null,
      "outputs": [
        {
          "output_type": "execute_result",
          "data": {
            "text/plain": [
              "alt.Chart(...)"
            ],
            "text/html": [
              "\n",
              "<div id=\"altair-viz-0fb8b248d7d64e63b2b8e3177cbacfee\"></div>\n",
              "<script type=\"text/javascript\">\n",
              "  var VEGA_DEBUG = (typeof VEGA_DEBUG == \"undefined\") ? {} : VEGA_DEBUG;\n",
              "  (function(spec, embedOpt){\n",
              "    let outputDiv = document.currentScript.previousElementSibling;\n",
              "    if (outputDiv.id !== \"altair-viz-0fb8b248d7d64e63b2b8e3177cbacfee\") {\n",
              "      outputDiv = document.getElementById(\"altair-viz-0fb8b248d7d64e63b2b8e3177cbacfee\");\n",
              "    }\n",
              "    const paths = {\n",
              "      \"vega\": \"https://cdn.jsdelivr.net/npm//vega@5?noext\",\n",
              "      \"vega-lib\": \"https://cdn.jsdelivr.net/npm//vega-lib?noext\",\n",
              "      \"vega-lite\": \"https://cdn.jsdelivr.net/npm//vega-lite@4.17.0?noext\",\n",
              "      \"vega-embed\": \"https://cdn.jsdelivr.net/npm//vega-embed@6?noext\",\n",
              "    };\n",
              "\n",
              "    function maybeLoadScript(lib, version) {\n",
              "      var key = `${lib.replace(\"-\", \"\")}_version`;\n",
              "      return (VEGA_DEBUG[key] == version) ?\n",
              "        Promise.resolve(paths[lib]) :\n",
              "        new Promise(function(resolve, reject) {\n",
              "          var s = document.createElement('script');\n",
              "          document.getElementsByTagName(\"head\")[0].appendChild(s);\n",
              "          s.async = true;\n",
              "          s.onload = () => {\n",
              "            VEGA_DEBUG[key] = version;\n",
              "            return resolve(paths[lib]);\n",
              "          };\n",
              "          s.onerror = () => reject(`Error loading script: ${paths[lib]}`);\n",
              "          s.src = paths[lib];\n",
              "        });\n",
              "    }\n",
              "\n",
              "    function showError(err) {\n",
              "      outputDiv.innerHTML = `<div class=\"error\" style=\"color:red;\">${err}</div>`;\n",
              "      throw err;\n",
              "    }\n",
              "\n",
              "    function displayChart(vegaEmbed) {\n",
              "      vegaEmbed(outputDiv, spec, embedOpt)\n",
              "        .catch(err => showError(`Javascript Error: ${err.message}<br>This usually means there's a typo in your chart specification. See the javascript console for the full traceback.`));\n",
              "    }\n",
              "\n",
              "    if(typeof define === \"function\" && define.amd) {\n",
              "      requirejs.config({paths});\n",
              "      require([\"vega-embed\"], displayChart, err => showError(`Error loading script: ${err.message}`));\n",
              "    } else {\n",
              "      maybeLoadScript(\"vega\", \"5\")\n",
              "        .then(() => maybeLoadScript(\"vega-lite\", \"4.17.0\"))\n",
              "        .then(() => maybeLoadScript(\"vega-embed\", \"6\"))\n",
              "        .catch(showError)\n",
              "        .then(() => displayChart(vegaEmbed));\n",
              "    }\n",
              "  })({\"config\": {\"view\": {\"continuousWidth\": 400, \"continuousHeight\": 300}}, \"data\": {\"name\": \"data-7dcf5ec155028221e735d538abbe5702\"}, \"mark\": \"point\", \"encoding\": {\"color\": {\"field\": \"cylinders\", \"type\": \"quantitative\"}, \"x\": {\"field\": \"horsepower\", \"type\": \"quantitative\"}, \"y\": {\"field\": \"kpg\", \"type\": \"quantitative\"}}, \"selection\": {\"selector002\": {\"type\": \"interval\", \"bind\": \"scales\", \"encodings\": [\"x\", \"y\"]}}, \"$schema\": \"https://vega.github.io/schema/vega-lite/v4.17.0.json\", \"datasets\": {\"data-7dcf5ec155028221e735d538abbe5702\": [{\"kpg\": 28.967399999999998, \"cylinders\": 8, \"displacement\": 307.0, \"horsepower\": 130.0, \"weight\": 3504, \"acceleration\": 12.0, \"model year\": 70, \"origin\": 1, \"car name\": \"chevrolet chevelle malibu\"}, {\"kpg\": 24.139499999999998, \"cylinders\": 8, \"displacement\": 350.0, \"horsepower\": 165.0, \"weight\": 3693, \"acceleration\": 11.5, \"model year\": 70, \"origin\": 1, \"car name\": \"buick skylark 320\"}, {\"kpg\": 28.967399999999998, \"cylinders\": 8, \"displacement\": 318.0, \"horsepower\": 150.0, \"weight\": 3436, \"acceleration\": 11.0, \"model year\": 70, \"origin\": 1, \"car name\": \"plymouth satellite\"}, {\"kpg\": 25.7488, \"cylinders\": 8, \"displacement\": 304.0, \"horsepower\": 150.0, \"weight\": 3433, \"acceleration\": 12.0, \"model year\": 70, \"origin\": 1, \"car name\": \"amc rebel sst\"}, {\"kpg\": 27.3581, \"cylinders\": 8, \"displacement\": 302.0, \"horsepower\": 140.0, \"weight\": 3449, \"acceleration\": 10.5, \"model year\": 70, \"origin\": 1, \"car name\": \"ford torino\"}, {\"kpg\": 24.139499999999998, \"cylinders\": 8, \"displacement\": 429.0, \"horsepower\": 198.0, \"weight\": 4341, \"acceleration\": 10.0, \"model year\": 70, \"origin\": 1, \"car name\": \"ford galaxie 500\"}, {\"kpg\": 22.5302, \"cylinders\": 8, \"displacement\": 454.0, \"horsepower\": 220.0, \"weight\": 4354, \"acceleration\": 9.0, \"model year\": 70, \"origin\": 1, \"car name\": \"chevrolet impala\"}, {\"kpg\": 22.5302, \"cylinders\": 8, \"displacement\": 440.0, \"horsepower\": 215.0, \"weight\": 4312, \"acceleration\": 8.5, \"model year\": 70, \"origin\": 1, \"car name\": \"plymouth fury iii\"}, {\"kpg\": 22.5302, \"cylinders\": 8, \"displacement\": 455.0, \"horsepower\": 225.0, \"weight\": 4425, \"acceleration\": 10.0, \"model year\": 70, \"origin\": 1, \"car name\": \"pontiac catalina\"}, {\"kpg\": 24.139499999999998, \"cylinders\": 8, \"displacement\": 390.0, \"horsepower\": 190.0, \"weight\": 3850, \"acceleration\": 8.5, \"model year\": 70, \"origin\": 1, \"car name\": \"amc ambassador dpl\"}, {\"kpg\": 24.139499999999998, \"cylinders\": 8, \"displacement\": 383.0, \"horsepower\": 170.0, \"weight\": 3563, \"acceleration\": 10.0, \"model year\": 70, \"origin\": 1, \"car name\": \"dodge challenger se\"}, {\"kpg\": 22.5302, \"cylinders\": 8, \"displacement\": 340.0, \"horsepower\": 160.0, \"weight\": 3609, \"acceleration\": 8.0, \"model year\": 70, \"origin\": 1, \"car name\": \"plymouth 'cuda 340\"}, {\"kpg\": 24.139499999999998, \"cylinders\": 8, \"displacement\": 400.0, \"horsepower\": 150.0, \"weight\": 3761, \"acceleration\": 9.5, \"model year\": 70, \"origin\": 1, \"car name\": \"chevrolet monte carlo\"}, {\"kpg\": 22.5302, \"cylinders\": 8, \"displacement\": 455.0, \"horsepower\": 225.0, \"weight\": 3086, \"acceleration\": 10.0, \"model year\": 70, \"origin\": 1, \"car name\": \"buick estate wagon (sw)\"}, {\"kpg\": 38.6232, \"cylinders\": 4, \"displacement\": 113.0, \"horsepower\": 95.0, \"weight\": 2372, \"acceleration\": 15.0, \"model year\": 70, \"origin\": 3, \"car name\": \"toyota corona mark ii\"}, {\"kpg\": 35.4046, \"cylinders\": 6, \"displacement\": 198.0, \"horsepower\": 95.0, \"weight\": 2833, \"acceleration\": 15.5, \"model year\": 70, \"origin\": 1, \"car name\": \"plymouth duster\"}, {\"kpg\": 28.967399999999998, \"cylinders\": 6, \"displacement\": 199.0, \"horsepower\": 97.0, \"weight\": 2774, \"acceleration\": 15.5, \"model year\": 70, \"origin\": 1, \"car name\": \"amc hornet\"}, {\"kpg\": 33.7953, \"cylinders\": 6, \"displacement\": 200.0, \"horsepower\": 85.0, \"weight\": 2587, \"acceleration\": 16.0, \"model year\": 70, \"origin\": 1, \"car name\": \"ford maverick\"}, {\"kpg\": 43.4511, \"cylinders\": 4, \"displacement\": 97.0, \"horsepower\": 88.0, \"weight\": 2130, \"acceleration\": 14.5, \"model year\": 70, \"origin\": 3, \"car name\": \"datsun pl510\"}, {\"kpg\": 41.8418, \"cylinders\": 4, \"displacement\": 97.0, \"horsepower\": 46.0, \"weight\": 1835, \"acceleration\": 20.5, \"model year\": 70, \"origin\": 2, \"car name\": \"volkswagen 1131 deluxe sedan\"}, {\"kpg\": 40.2325, \"cylinders\": 4, \"displacement\": 110.0, \"horsepower\": 87.0, \"weight\": 2672, \"acceleration\": 17.5, \"model year\": 70, \"origin\": 2, \"car name\": \"peugeot 504\"}, {\"kpg\": 38.6232, \"cylinders\": 4, \"displacement\": 107.0, \"horsepower\": 90.0, \"weight\": 2430, \"acceleration\": 14.5, \"model year\": 70, \"origin\": 2, \"car name\": \"audi 100 ls\"}, {\"kpg\": 40.2325, \"cylinders\": 4, \"displacement\": 104.0, \"horsepower\": 95.0, \"weight\": 2375, \"acceleration\": 17.5, \"model year\": 70, \"origin\": 2, \"car name\": \"saab 99e\"}, {\"kpg\": 41.8418, \"cylinders\": 4, \"displacement\": 121.0, \"horsepower\": 113.0, \"weight\": 2234, \"acceleration\": 12.5, \"model year\": 70, \"origin\": 2, \"car name\": \"bmw 2002\"}, {\"kpg\": 33.7953, \"cylinders\": 6, \"displacement\": 199.0, \"horsepower\": 90.0, \"weight\": 2648, \"acceleration\": 15.0, \"model year\": 70, \"origin\": 1, \"car name\": \"amc gremlin\"}, {\"kpg\": 16.093, \"cylinders\": 8, \"displacement\": 360.0, \"horsepower\": 215.0, \"weight\": 4615, \"acceleration\": 14.0, \"model year\": 70, \"origin\": 1, \"car name\": \"ford f250\"}, {\"kpg\": 16.093, \"cylinders\": 8, \"displacement\": 307.0, \"horsepower\": 200.0, \"weight\": 4376, \"acceleration\": 15.0, \"model year\": 70, \"origin\": 1, \"car name\": \"chevy c20\"}, {\"kpg\": 17.7023, \"cylinders\": 8, \"displacement\": 318.0, \"horsepower\": 210.0, \"weight\": 4382, \"acceleration\": 13.5, \"model year\": 70, \"origin\": 1, \"car name\": \"dodge d200\"}, {\"kpg\": 14.483699999999999, \"cylinders\": 8, \"displacement\": 304.0, \"horsepower\": 193.0, \"weight\": 4732, \"acceleration\": 18.5, \"model year\": 70, \"origin\": 1, \"car name\": \"hi 1200d\"}, {\"kpg\": 43.4511, \"cylinders\": 4, \"displacement\": 97.0, \"horsepower\": 88.0, \"weight\": 2130, \"acceleration\": 14.5, \"model year\": 71, \"origin\": 3, \"car name\": \"datsun pl510\"}, {\"kpg\": 45.0604, \"cylinders\": 4, \"displacement\": 140.0, \"horsepower\": 90.0, \"weight\": 2264, \"acceleration\": 15.5, \"model year\": 71, \"origin\": 1, \"car name\": \"chevrolet vega 2300\"}, {\"kpg\": 40.2325, \"cylinders\": 4, \"displacement\": 113.0, \"horsepower\": 95.0, \"weight\": 2228, \"acceleration\": 14.0, \"model year\": 71, \"origin\": 3, \"car name\": \"toyota corona\"}, {\"kpg\": 40.2325, \"cylinders\": 4, \"displacement\": 98.0, \"horsepower\": 104.46938775510205, \"weight\": 2046, \"acceleration\": 19.0, \"model year\": 71, \"origin\": 1, \"car name\": \"ford pinto\"}, {\"kpg\": 30.5767, \"cylinders\": 6, \"displacement\": 232.0, \"horsepower\": 100.0, \"weight\": 2634, \"acceleration\": 13.0, \"model year\": 71, \"origin\": 1, \"car name\": \"amc gremlin\"}, {\"kpg\": 25.7488, \"cylinders\": 6, \"displacement\": 225.0, \"horsepower\": 105.0, \"weight\": 3439, \"acceleration\": 15.5, \"model year\": 71, \"origin\": 1, \"car name\": \"plymouth satellite custom\"}, {\"kpg\": 27.3581, \"cylinders\": 6, \"displacement\": 250.0, \"horsepower\": 100.0, \"weight\": 3329, \"acceleration\": 15.5, \"model year\": 71, \"origin\": 1, \"car name\": \"chevrolet chevelle malibu\"}, {\"kpg\": 30.5767, \"cylinders\": 6, \"displacement\": 250.0, \"horsepower\": 88.0, \"weight\": 3302, \"acceleration\": 15.5, \"model year\": 71, \"origin\": 1, \"car name\": \"ford torino 500\"}, {\"kpg\": 28.967399999999998, \"cylinders\": 6, \"displacement\": 232.0, \"horsepower\": 100.0, \"weight\": 3288, \"acceleration\": 15.5, \"model year\": 71, \"origin\": 1, \"car name\": \"amc matador\"}, {\"kpg\": 22.5302, \"cylinders\": 8, \"displacement\": 350.0, \"horsepower\": 165.0, \"weight\": 4209, \"acceleration\": 12.0, \"model year\": 71, \"origin\": 1, \"car name\": \"chevrolet impala\"}, {\"kpg\": 22.5302, \"cylinders\": 8, \"displacement\": 400.0, \"horsepower\": 175.0, \"weight\": 4464, \"acceleration\": 11.5, \"model year\": 71, \"origin\": 1, \"car name\": \"pontiac catalina brougham\"}, {\"kpg\": 22.5302, \"cylinders\": 8, \"displacement\": 351.0, \"horsepower\": 153.0, \"weight\": 4154, \"acceleration\": 13.5, \"model year\": 71, \"origin\": 1, \"car name\": \"ford galaxie 500\"}, {\"kpg\": 22.5302, \"cylinders\": 8, \"displacement\": 318.0, \"horsepower\": 150.0, \"weight\": 4096, \"acceleration\": 13.0, \"model year\": 71, \"origin\": 1, \"car name\": \"plymouth fury iii\"}, {\"kpg\": 19.3116, \"cylinders\": 8, \"displacement\": 383.0, \"horsepower\": 180.0, \"weight\": 4955, \"acceleration\": 11.5, \"model year\": 71, \"origin\": 1, \"car name\": \"dodge monaco (sw)\"}, {\"kpg\": 20.9209, \"cylinders\": 8, \"displacement\": 400.0, \"horsepower\": 170.0, \"weight\": 4746, \"acceleration\": 12.0, \"model year\": 71, \"origin\": 1, \"car name\": \"ford country squire (sw)\"}, {\"kpg\": 20.9209, \"cylinders\": 8, \"displacement\": 400.0, \"horsepower\": 175.0, \"weight\": 5140, \"acceleration\": 12.0, \"model year\": 71, \"origin\": 1, \"car name\": \"pontiac safari (sw)\"}, {\"kpg\": 28.967399999999998, \"cylinders\": 6, \"displacement\": 258.0, \"horsepower\": 110.0, \"weight\": 2962, \"acceleration\": 13.5, \"model year\": 71, \"origin\": 1, \"car name\": \"amc hornet sportabout (sw)\"}, {\"kpg\": 35.4046, \"cylinders\": 4, \"displacement\": 140.0, \"horsepower\": 72.0, \"weight\": 2408, \"acceleration\": 19.0, \"model year\": 71, \"origin\": 1, \"car name\": \"chevrolet vega (sw)\"}, {\"kpg\": 30.5767, \"cylinders\": 6, \"displacement\": 250.0, \"horsepower\": 100.0, \"weight\": 3282, \"acceleration\": 15.0, \"model year\": 71, \"origin\": 1, \"car name\": \"pontiac firebird\"}, {\"kpg\": 28.967399999999998, \"cylinders\": 6, \"displacement\": 250.0, \"horsepower\": 88.0, \"weight\": 3139, \"acceleration\": 14.5, \"model year\": 71, \"origin\": 1, \"car name\": \"ford mustang\"}, {\"kpg\": 37.0139, \"cylinders\": 4, \"displacement\": 122.0, \"horsepower\": 86.0, \"weight\": 2220, \"acceleration\": 14.0, \"model year\": 71, \"origin\": 1, \"car name\": \"mercury capri 2000\"}, {\"kpg\": 45.0604, \"cylinders\": 4, \"displacement\": 116.0, \"horsepower\": 90.0, \"weight\": 2123, \"acceleration\": 14.0, \"model year\": 71, \"origin\": 2, \"car name\": \"opel 1900\"}, {\"kpg\": 48.278999999999996, \"cylinders\": 4, \"displacement\": 79.0, \"horsepower\": 70.0, \"weight\": 2074, \"acceleration\": 19.5, \"model year\": 71, \"origin\": 2, \"car name\": \"peugeot 304\"}, {\"kpg\": 48.278999999999996, \"cylinders\": 4, \"displacement\": 88.0, \"horsepower\": 76.0, \"weight\": 2065, \"acceleration\": 14.5, \"model year\": 71, \"origin\": 2, \"car name\": \"fiat 124b\"}, {\"kpg\": 49.8883, \"cylinders\": 4, \"displacement\": 71.0, \"horsepower\": 65.0, \"weight\": 1773, \"acceleration\": 19.0, \"model year\": 71, \"origin\": 3, \"car name\": \"toyota corolla 1200\"}, {\"kpg\": 56.3255, \"cylinders\": 4, \"displacement\": 72.0, \"horsepower\": 69.0, \"weight\": 1613, \"acceleration\": 18.0, \"model year\": 71, \"origin\": 3, \"car name\": \"datsun 1200\"}, {\"kpg\": 43.4511, \"cylinders\": 4, \"displacement\": 97.0, \"horsepower\": 60.0, \"weight\": 1834, \"acceleration\": 19.0, \"model year\": 71, \"origin\": 2, \"car name\": \"volkswagen model 111\"}, {\"kpg\": 41.8418, \"cylinders\": 4, \"displacement\": 91.0, \"horsepower\": 70.0, \"weight\": 1955, \"acceleration\": 20.5, \"model year\": 71, \"origin\": 1, \"car name\": \"plymouth cricket\"}, {\"kpg\": 38.6232, \"cylinders\": 4, \"displacement\": 113.0, \"horsepower\": 95.0, \"weight\": 2278, \"acceleration\": 15.5, \"model year\": 72, \"origin\": 3, \"car name\": \"toyota corona hardtop\"}, {\"kpg\": 40.2325, \"cylinders\": 4, \"displacement\": 97.5, \"horsepower\": 80.0, \"weight\": 2126, \"acceleration\": 17.0, \"model year\": 72, \"origin\": 1, \"car name\": \"dodge colt hardtop\"}, {\"kpg\": 37.0139, \"cylinders\": 4, \"displacement\": 97.0, \"horsepower\": 54.0, \"weight\": 2254, \"acceleration\": 23.5, \"model year\": 72, \"origin\": 2, \"car name\": \"volkswagen type 3\"}, {\"kpg\": 32.186, \"cylinders\": 4, \"displacement\": 140.0, \"horsepower\": 90.0, \"weight\": 2408, \"acceleration\": 19.5, \"model year\": 72, \"origin\": 1, \"car name\": \"chevrolet vega\"}, {\"kpg\": 33.7953, \"cylinders\": 4, \"displacement\": 122.0, \"horsepower\": 86.0, \"weight\": 2226, \"acceleration\": 16.5, \"model year\": 72, \"origin\": 1, \"car name\": \"ford pinto runabout\"}, {\"kpg\": 20.9209, \"cylinders\": 8, \"displacement\": 350.0, \"horsepower\": 165.0, \"weight\": 4274, \"acceleration\": 12.0, \"model year\": 72, \"origin\": 1, \"car name\": \"chevrolet impala\"}, {\"kpg\": 22.5302, \"cylinders\": 8, \"displacement\": 400.0, \"horsepower\": 175.0, \"weight\": 4385, \"acceleration\": 12.0, \"model year\": 72, \"origin\": 1, \"car name\": \"pontiac catalina\"}, {\"kpg\": 24.139499999999998, \"cylinders\": 8, \"displacement\": 318.0, \"horsepower\": 150.0, \"weight\": 4135, \"acceleration\": 13.5, \"model year\": 72, \"origin\": 1, \"car name\": \"plymouth fury iii\"}, {\"kpg\": 22.5302, \"cylinders\": 8, \"displacement\": 351.0, \"horsepower\": 153.0, \"weight\": 4129, \"acceleration\": 13.0, \"model year\": 72, \"origin\": 1, \"car name\": \"ford galaxie 500\"}, {\"kpg\": 27.3581, \"cylinders\": 8, \"displacement\": 304.0, \"horsepower\": 150.0, \"weight\": 3672, \"acceleration\": 11.5, \"model year\": 72, \"origin\": 1, \"car name\": \"amc ambassador sst\"}, {\"kpg\": 17.7023, \"cylinders\": 8, \"displacement\": 429.0, \"horsepower\": 208.0, \"weight\": 4633, \"acceleration\": 11.0, \"model year\": 72, \"origin\": 1, \"car name\": \"mercury marquis\"}, {\"kpg\": 20.9209, \"cylinders\": 8, \"displacement\": 350.0, \"horsepower\": 155.0, \"weight\": 4502, \"acceleration\": 13.5, \"model year\": 72, \"origin\": 1, \"car name\": \"buick lesabre custom\"}, {\"kpg\": 19.3116, \"cylinders\": 8, \"displacement\": 350.0, \"horsepower\": 160.0, \"weight\": 4456, \"acceleration\": 13.5, \"model year\": 72, \"origin\": 1, \"car name\": \"oldsmobile delta 88 royale\"}, {\"kpg\": 20.9209, \"cylinders\": 8, \"displacement\": 400.0, \"horsepower\": 190.0, \"weight\": 4422, \"acceleration\": 12.5, \"model year\": 72, \"origin\": 1, \"car name\": \"chrysler newport royal\"}, {\"kpg\": 30.5767, \"cylinders\": 3, \"displacement\": 70.0, \"horsepower\": 97.0, \"weight\": 2330, \"acceleration\": 13.5, \"model year\": 72, \"origin\": 3, \"car name\": \"mazda rx2 coupe\"}, {\"kpg\": 24.139499999999998, \"cylinders\": 8, \"displacement\": 304.0, \"horsepower\": 150.0, \"weight\": 3892, \"acceleration\": 12.5, \"model year\": 72, \"origin\": 1, \"car name\": \"amc matador (sw)\"}, {\"kpg\": 20.9209, \"cylinders\": 8, \"displacement\": 307.0, \"horsepower\": 130.0, \"weight\": 4098, \"acceleration\": 14.0, \"model year\": 72, \"origin\": 1, \"car name\": \"chevrolet chevelle concours (sw)\"}, {\"kpg\": 20.9209, \"cylinders\": 8, \"displacement\": 302.0, \"horsepower\": 140.0, \"weight\": 4294, \"acceleration\": 16.0, \"model year\": 72, \"origin\": 1, \"car name\": \"ford gran torino (sw)\"}, {\"kpg\": 22.5302, \"cylinders\": 8, \"displacement\": 318.0, \"horsepower\": 150.0, \"weight\": 4077, \"acceleration\": 14.0, \"model year\": 72, \"origin\": 1, \"car name\": \"plymouth satellite custom (sw)\"}, {\"kpg\": 28.967399999999998, \"cylinders\": 4, \"displacement\": 121.0, \"horsepower\": 112.0, \"weight\": 2933, \"acceleration\": 14.5, \"model year\": 72, \"origin\": 2, \"car name\": \"volvo 145e (sw)\"}, {\"kpg\": 35.4046, \"cylinders\": 4, \"displacement\": 121.0, \"horsepower\": 76.0, \"weight\": 2511, \"acceleration\": 18.0, \"model year\": 72, \"origin\": 2, \"car name\": \"volkswagen 411 (sw)\"}, {\"kpg\": 33.7953, \"cylinders\": 4, \"displacement\": 120.0, \"horsepower\": 87.0, \"weight\": 2979, \"acceleration\": 19.5, \"model year\": 72, \"origin\": 2, \"car name\": \"peugeot 504 (sw)\"}, {\"kpg\": 41.8418, \"cylinders\": 4, \"displacement\": 96.0, \"horsepower\": 69.0, \"weight\": 2189, \"acceleration\": 18.0, \"model year\": 72, \"origin\": 2, \"car name\": \"renault 12 (sw)\"}, {\"kpg\": 35.4046, \"cylinders\": 4, \"displacement\": 122.0, \"horsepower\": 86.0, \"weight\": 2395, \"acceleration\": 16.0, \"model year\": 72, \"origin\": 1, \"car name\": \"ford pinto (sw)\"}, {\"kpg\": 45.0604, \"cylinders\": 4, \"displacement\": 97.0, \"horsepower\": 92.0, \"weight\": 2288, \"acceleration\": 17.0, \"model year\": 72, \"origin\": 3, \"car name\": \"datsun 510 (sw)\"}, {\"kpg\": 37.0139, \"cylinders\": 4, \"displacement\": 120.0, \"horsepower\": 97.0, \"weight\": 2506, \"acceleration\": 14.5, \"model year\": 72, \"origin\": 3, \"car name\": \"toyouta corona mark ii (sw)\"}, {\"kpg\": 45.0604, \"cylinders\": 4, \"displacement\": 98.0, \"horsepower\": 80.0, \"weight\": 2164, \"acceleration\": 15.0, \"model year\": 72, \"origin\": 1, \"car name\": \"dodge colt (sw)\"}, {\"kpg\": 43.4511, \"cylinders\": 4, \"displacement\": 97.0, \"horsepower\": 88.0, \"weight\": 2100, \"acceleration\": 16.5, \"model year\": 72, \"origin\": 3, \"car name\": \"toyota corolla 1600 (sw)\"}, {\"kpg\": 20.9209, \"cylinders\": 8, \"displacement\": 350.0, \"horsepower\": 175.0, \"weight\": 4100, \"acceleration\": 13.0, \"model year\": 73, \"origin\": 1, \"car name\": \"buick century 350\"}, {\"kpg\": 22.5302, \"cylinders\": 8, \"displacement\": 304.0, \"horsepower\": 150.0, \"weight\": 3672, \"acceleration\": 11.5, \"model year\": 73, \"origin\": 1, \"car name\": \"amc matador\"}, {\"kpg\": 20.9209, \"cylinders\": 8, \"displacement\": 350.0, \"horsepower\": 145.0, \"weight\": 3988, \"acceleration\": 13.0, \"model year\": 73, \"origin\": 1, \"car name\": \"chevrolet malibu\"}, {\"kpg\": 22.5302, \"cylinders\": 8, \"displacement\": 302.0, \"horsepower\": 137.0, \"weight\": 4042, \"acceleration\": 14.5, \"model year\": 73, \"origin\": 1, \"car name\": \"ford gran torino\"}, {\"kpg\": 24.139499999999998, \"cylinders\": 8, \"displacement\": 318.0, \"horsepower\": 150.0, \"weight\": 3777, \"acceleration\": 12.5, \"model year\": 73, \"origin\": 1, \"car name\": \"dodge coronet custom\"}, {\"kpg\": 19.3116, \"cylinders\": 8, \"displacement\": 429.0, \"horsepower\": 198.0, \"weight\": 4952, \"acceleration\": 11.5, \"model year\": 73, \"origin\": 1, \"car name\": \"mercury marquis brougham\"}, {\"kpg\": 20.9209, \"cylinders\": 8, \"displacement\": 400.0, \"horsepower\": 150.0, \"weight\": 4464, \"acceleration\": 12.0, \"model year\": 73, \"origin\": 1, \"car name\": \"chevrolet caprice classic\"}, {\"kpg\": 20.9209, \"cylinders\": 8, \"displacement\": 351.0, \"horsepower\": 158.0, \"weight\": 4363, \"acceleration\": 13.0, \"model year\": 73, \"origin\": 1, \"car name\": \"ford ltd\"}, {\"kpg\": 22.5302, \"cylinders\": 8, \"displacement\": 318.0, \"horsepower\": 150.0, \"weight\": 4237, \"acceleration\": 14.5, \"model year\": 73, \"origin\": 1, \"car name\": \"plymouth fury gran sedan\"}, {\"kpg\": 20.9209, \"cylinders\": 8, \"displacement\": 440.0, \"horsepower\": 215.0, \"weight\": 4735, \"acceleration\": 11.0, \"model year\": 73, \"origin\": 1, \"car name\": \"chrysler new yorker brougham\"}, {\"kpg\": 19.3116, \"cylinders\": 8, \"displacement\": 455.0, \"horsepower\": 225.0, \"weight\": 4951, \"acceleration\": 11.0, \"model year\": 73, \"origin\": 1, \"car name\": \"buick electra 225 custom\"}, {\"kpg\": 20.9209, \"cylinders\": 8, \"displacement\": 360.0, \"horsepower\": 175.0, \"weight\": 3821, \"acceleration\": 11.0, \"model year\": 73, \"origin\": 1, \"car name\": \"amc ambassador brougham\"}, {\"kpg\": 28.967399999999998, \"cylinders\": 6, \"displacement\": 225.0, \"horsepower\": 105.0, \"weight\": 3121, \"acceleration\": 16.5, \"model year\": 73, \"origin\": 1, \"car name\": \"plymouth valiant\"}, {\"kpg\": 25.7488, \"cylinders\": 6, \"displacement\": 250.0, \"horsepower\": 100.0, \"weight\": 3278, \"acceleration\": 18.0, \"model year\": 73, \"origin\": 1, \"car name\": \"chevrolet nova custom\"}, {\"kpg\": 28.967399999999998, \"cylinders\": 6, \"displacement\": 232.0, \"horsepower\": 100.0, \"weight\": 2945, \"acceleration\": 16.0, \"model year\": 73, \"origin\": 1, \"car name\": \"amc hornet\"}, {\"kpg\": 28.967399999999998, \"cylinders\": 6, \"displacement\": 250.0, \"horsepower\": 88.0, \"weight\": 3021, \"acceleration\": 16.5, \"model year\": 73, \"origin\": 1, \"car name\": \"ford maverick\"}, {\"kpg\": 37.0139, \"cylinders\": 6, \"displacement\": 198.0, \"horsepower\": 95.0, \"weight\": 2904, \"acceleration\": 16.0, \"model year\": 73, \"origin\": 1, \"car name\": \"plymouth duster\"}, {\"kpg\": 41.8418, \"cylinders\": 4, \"displacement\": 97.0, \"horsepower\": 46.0, \"weight\": 1950, \"acceleration\": 21.0, \"model year\": 73, \"origin\": 2, \"car name\": \"volkswagen super beetle\"}, {\"kpg\": 17.7023, \"cylinders\": 8, \"displacement\": 400.0, \"horsepower\": 150.0, \"weight\": 4997, \"acceleration\": 14.0, \"model year\": 73, \"origin\": 1, \"car name\": \"chevrolet impala\"}, {\"kpg\": 19.3116, \"cylinders\": 8, \"displacement\": 400.0, \"horsepower\": 167.0, \"weight\": 4906, \"acceleration\": 12.5, \"model year\": 73, \"origin\": 1, \"car name\": \"ford country\"}, {\"kpg\": 20.9209, \"cylinders\": 8, \"displacement\": 360.0, \"horsepower\": 170.0, \"weight\": 4654, \"acceleration\": 13.0, \"model year\": 73, \"origin\": 1, \"car name\": \"plymouth custom suburb\"}, {\"kpg\": 19.3116, \"cylinders\": 8, \"displacement\": 350.0, \"horsepower\": 180.0, \"weight\": 4499, \"acceleration\": 12.5, \"model year\": 73, \"origin\": 1, \"car name\": \"oldsmobile vista cruiser\"}, {\"kpg\": 28.967399999999998, \"cylinders\": 6, \"displacement\": 232.0, \"horsepower\": 100.0, \"weight\": 2789, \"acceleration\": 15.0, \"model year\": 73, \"origin\": 1, \"car name\": \"amc gremlin\"}, {\"kpg\": 32.186, \"cylinders\": 4, \"displacement\": 97.0, \"horsepower\": 88.0, \"weight\": 2279, \"acceleration\": 19.0, \"model year\": 73, \"origin\": 3, \"car name\": \"toyota carina\"}, {\"kpg\": 33.7953, \"cylinders\": 4, \"displacement\": 140.0, \"horsepower\": 72.0, \"weight\": 2401, \"acceleration\": 19.5, \"model year\": 73, \"origin\": 1, \"car name\": \"chevrolet vega\"}, {\"kpg\": 35.4046, \"cylinders\": 4, \"displacement\": 108.0, \"horsepower\": 94.0, \"weight\": 2379, \"acceleration\": 16.5, \"model year\": 73, \"origin\": 3, \"car name\": \"datsun 610\"}, {\"kpg\": 28.967399999999998, \"cylinders\": 3, \"displacement\": 70.0, \"horsepower\": 90.0, \"weight\": 2124, \"acceleration\": 13.5, \"model year\": 73, \"origin\": 3, \"car name\": \"maxda rx3\"}, {\"kpg\": 30.5767, \"cylinders\": 4, \"displacement\": 122.0, \"horsepower\": 85.0, \"weight\": 2310, \"acceleration\": 18.5, \"model year\": 73, \"origin\": 1, \"car name\": \"ford pinto\"}, {\"kpg\": 33.7953, \"cylinders\": 6, \"displacement\": 155.0, \"horsepower\": 107.0, \"weight\": 2472, \"acceleration\": 14.0, \"model year\": 73, \"origin\": 1, \"car name\": \"mercury capri v6\"}, {\"kpg\": 41.8418, \"cylinders\": 4, \"displacement\": 98.0, \"horsepower\": 90.0, \"weight\": 2265, \"acceleration\": 15.5, \"model year\": 73, \"origin\": 2, \"car name\": \"fiat 124 sport coupe\"}, {\"kpg\": 24.139499999999998, \"cylinders\": 8, \"displacement\": 350.0, \"horsepower\": 145.0, \"weight\": 4082, \"acceleration\": 13.0, \"model year\": 73, \"origin\": 1, \"car name\": \"chevrolet monte carlo s\"}, {\"kpg\": 25.7488, \"cylinders\": 8, \"displacement\": 400.0, \"horsepower\": 230.0, \"weight\": 4278, \"acceleration\": 9.5, \"model year\": 73, \"origin\": 1, \"car name\": \"pontiac grand prix\"}, {\"kpg\": 46.6697, \"cylinders\": 4, \"displacement\": 68.0, \"horsepower\": 49.0, \"weight\": 1867, \"acceleration\": 19.5, \"model year\": 73, \"origin\": 2, \"car name\": \"fiat 128\"}, {\"kpg\": 38.6232, \"cylinders\": 4, \"displacement\": 116.0, \"horsepower\": 75.0, \"weight\": 2158, \"acceleration\": 15.5, \"model year\": 73, \"origin\": 2, \"car name\": \"opel manta\"}, {\"kpg\": 32.186, \"cylinders\": 4, \"displacement\": 114.0, \"horsepower\": 91.0, \"weight\": 2582, \"acceleration\": 14.0, \"model year\": 73, \"origin\": 2, \"car name\": \"audi 100ls\"}, {\"kpg\": 30.5767, \"cylinders\": 4, \"displacement\": 121.0, \"horsepower\": 112.0, \"weight\": 2868, \"acceleration\": 15.5, \"model year\": 73, \"origin\": 2, \"car name\": \"volvo 144ea\"}, {\"kpg\": 24.139499999999998, \"cylinders\": 8, \"displacement\": 318.0, \"horsepower\": 150.0, \"weight\": 3399, \"acceleration\": 11.0, \"model year\": 73, \"origin\": 1, \"car name\": \"dodge dart custom\"}, {\"kpg\": 38.6232, \"cylinders\": 4, \"displacement\": 121.0, \"horsepower\": 110.0, \"weight\": 2660, \"acceleration\": 14.0, \"model year\": 73, \"origin\": 2, \"car name\": \"saab 99le\"}, {\"kpg\": 32.186, \"cylinders\": 6, \"displacement\": 156.0, \"horsepower\": 122.0, \"weight\": 2807, \"acceleration\": 13.5, \"model year\": 73, \"origin\": 3, \"car name\": \"toyota mark ii\"}, {\"kpg\": 17.7023, \"cylinders\": 8, \"displacement\": 350.0, \"horsepower\": 180.0, \"weight\": 3664, \"acceleration\": 11.0, \"model year\": 73, \"origin\": 1, \"car name\": \"oldsmobile omega\"}, {\"kpg\": 32.186, \"cylinders\": 6, \"displacement\": 198.0, \"horsepower\": 95.0, \"weight\": 3102, \"acceleration\": 16.5, \"model year\": 74, \"origin\": 1, \"car name\": \"plymouth duster\"}, {\"kpg\": 33.7953, \"cylinders\": 6, \"displacement\": 200.0, \"horsepower\": 104.46938775510205, \"weight\": 2875, \"acceleration\": 17.0, \"model year\": 74, \"origin\": 1, \"car name\": \"ford maverick\"}, {\"kpg\": 30.5767, \"cylinders\": 6, \"displacement\": 232.0, \"horsepower\": 100.0, \"weight\": 2901, \"acceleration\": 16.0, \"model year\": 74, \"origin\": 1, \"car name\": \"amc hornet\"}, {\"kpg\": 24.139499999999998, \"cylinders\": 6, \"displacement\": 250.0, \"horsepower\": 100.0, \"weight\": 3336, \"acceleration\": 17.0, \"model year\": 74, \"origin\": 1, \"car name\": \"chevrolet nova\"}, {\"kpg\": 49.8883, \"cylinders\": 4, \"displacement\": 79.0, \"horsepower\": 67.0, \"weight\": 1950, \"acceleration\": 19.0, \"model year\": 74, \"origin\": 3, \"car name\": \"datsun b210\"}, {\"kpg\": 41.8418, \"cylinders\": 4, \"displacement\": 122.0, \"horsepower\": 80.0, \"weight\": 2451, \"acceleration\": 16.5, \"model year\": 74, \"origin\": 1, \"car name\": \"ford pinto\"}, {\"kpg\": 51.4976, \"cylinders\": 4, \"displacement\": 71.0, \"horsepower\": 65.0, \"weight\": 1836, \"acceleration\": 21.0, \"model year\": 74, \"origin\": 3, \"car name\": \"toyota corolla 1200\"}, {\"kpg\": 40.2325, \"cylinders\": 4, \"displacement\": 140.0, \"horsepower\": 75.0, \"weight\": 2542, \"acceleration\": 17.0, \"model year\": 74, \"origin\": 1, \"car name\": \"chevrolet vega\"}, {\"kpg\": 25.7488, \"cylinders\": 6, \"displacement\": 250.0, \"horsepower\": 100.0, \"weight\": 3781, \"acceleration\": 17.0, \"model year\": 74, \"origin\": 1, \"car name\": \"chevrolet chevelle malibu classic\"}, {\"kpg\": 25.7488, \"cylinders\": 6, \"displacement\": 258.0, \"horsepower\": 110.0, \"weight\": 3632, \"acceleration\": 18.0, \"model year\": 74, \"origin\": 1, \"car name\": \"amc matador\"}, {\"kpg\": 28.967399999999998, \"cylinders\": 6, \"displacement\": 225.0, \"horsepower\": 105.0, \"weight\": 3613, \"acceleration\": 16.5, \"model year\": 74, \"origin\": 1, \"car name\": \"plymouth satellite sebring\"}, {\"kpg\": 25.7488, \"cylinders\": 8, \"displacement\": 302.0, \"horsepower\": 140.0, \"weight\": 4141, \"acceleration\": 14.0, \"model year\": 74, \"origin\": 1, \"car name\": \"ford gran torino\"}, {\"kpg\": 20.9209, \"cylinders\": 8, \"displacement\": 350.0, \"horsepower\": 150.0, \"weight\": 4699, \"acceleration\": 14.5, \"model year\": 74, \"origin\": 1, \"car name\": \"buick century luxus (sw)\"}, {\"kpg\": 22.5302, \"cylinders\": 8, \"displacement\": 318.0, \"horsepower\": 150.0, \"weight\": 4457, \"acceleration\": 13.5, \"model year\": 74, \"origin\": 1, \"car name\": \"dodge coronet custom (sw)\"}, {\"kpg\": 22.5302, \"cylinders\": 8, \"displacement\": 302.0, \"horsepower\": 140.0, \"weight\": 4638, \"acceleration\": 16.0, \"model year\": 74, \"origin\": 1, \"car name\": \"ford gran torino (sw)\"}, {\"kpg\": 22.5302, \"cylinders\": 8, \"displacement\": 304.0, \"horsepower\": 150.0, \"weight\": 4257, \"acceleration\": 15.5, \"model year\": 74, \"origin\": 1, \"car name\": \"amc matador (sw)\"}, {\"kpg\": 46.6697, \"cylinders\": 4, \"displacement\": 98.0, \"horsepower\": 83.0, \"weight\": 2219, \"acceleration\": 16.5, \"model year\": 74, \"origin\": 2, \"car name\": \"audi fox\"}, {\"kpg\": 41.8418, \"cylinders\": 4, \"displacement\": 79.0, \"horsepower\": 67.0, \"weight\": 1963, \"acceleration\": 15.5, \"model year\": 74, \"origin\": 2, \"car name\": \"volkswagen dasher\"}, {\"kpg\": 41.8418, \"cylinders\": 4, \"displacement\": 97.0, \"horsepower\": 78.0, \"weight\": 2300, \"acceleration\": 14.5, \"model year\": 74, \"origin\": 2, \"car name\": \"opel manta\"}, {\"kpg\": 49.8883, \"cylinders\": 4, \"displacement\": 76.0, \"horsepower\": 52.0, \"weight\": 1649, \"acceleration\": 16.5, \"model year\": 74, \"origin\": 3, \"car name\": \"toyota corona\"}, {\"kpg\": 51.4976, \"cylinders\": 4, \"displacement\": 83.0, \"horsepower\": 61.0, \"weight\": 2003, \"acceleration\": 19.0, \"model year\": 74, \"origin\": 3, \"car name\": \"datsun 710\"}, {\"kpg\": 45.0604, \"cylinders\": 4, \"displacement\": 90.0, \"horsepower\": 75.0, \"weight\": 2125, \"acceleration\": 14.5, \"model year\": 74, \"origin\": 1, \"car name\": \"dodge colt\"}, {\"kpg\": 38.6232, \"cylinders\": 4, \"displacement\": 90.0, \"horsepower\": 75.0, \"weight\": 2108, \"acceleration\": 15.5, \"model year\": 74, \"origin\": 2, \"car name\": \"fiat 128\"}, {\"kpg\": 41.8418, \"cylinders\": 4, \"displacement\": 116.0, \"horsepower\": 75.0, \"weight\": 2246, \"acceleration\": 14.0, \"model year\": 74, \"origin\": 2, \"car name\": \"fiat 124 tc\"}, {\"kpg\": 38.6232, \"cylinders\": 4, \"displacement\": 120.0, \"horsepower\": 97.0, \"weight\": 2489, \"acceleration\": 15.0, \"model year\": 74, \"origin\": 3, \"car name\": \"honda civic\"}, {\"kpg\": 41.8418, \"cylinders\": 4, \"displacement\": 108.0, \"horsepower\": 93.0, \"weight\": 2391, \"acceleration\": 15.5, \"model year\": 74, \"origin\": 3, \"car name\": \"subaru\"}, {\"kpg\": 49.8883, \"cylinders\": 4, \"displacement\": 79.0, \"horsepower\": 67.0, \"weight\": 2000, \"acceleration\": 16.0, \"model year\": 74, \"origin\": 2, \"car name\": \"fiat x1.9\"}, {\"kpg\": 30.5767, \"cylinders\": 6, \"displacement\": 225.0, \"horsepower\": 95.0, \"weight\": 3264, \"acceleration\": 16.0, \"model year\": 75, \"origin\": 1, \"car name\": \"plymouth valiant custom\"}, {\"kpg\": 28.967399999999998, \"cylinders\": 6, \"displacement\": 250.0, \"horsepower\": 105.0, \"weight\": 3459, \"acceleration\": 16.0, \"model year\": 75, \"origin\": 1, \"car name\": \"chevrolet nova\"}, {\"kpg\": 24.139499999999998, \"cylinders\": 6, \"displacement\": 250.0, \"horsepower\": 72.0, \"weight\": 3432, \"acceleration\": 21.0, \"model year\": 75, \"origin\": 1, \"car name\": \"mercury monarch\"}, {\"kpg\": 24.139499999999998, \"cylinders\": 6, \"displacement\": 250.0, \"horsepower\": 72.0, \"weight\": 3158, \"acceleration\": 19.5, \"model year\": 75, \"origin\": 1, \"car name\": \"ford maverick\"}, {\"kpg\": 25.7488, \"cylinders\": 8, \"displacement\": 400.0, \"horsepower\": 170.0, \"weight\": 4668, \"acceleration\": 11.5, \"model year\": 75, \"origin\": 1, \"car name\": \"pontiac catalina\"}, {\"kpg\": 24.139499999999998, \"cylinders\": 8, \"displacement\": 350.0, \"horsepower\": 145.0, \"weight\": 4440, \"acceleration\": 14.0, \"model year\": 75, \"origin\": 1, \"car name\": \"chevrolet bel air\"}, {\"kpg\": 25.7488, \"cylinders\": 8, \"displacement\": 318.0, \"horsepower\": 150.0, \"weight\": 4498, \"acceleration\": 14.5, \"model year\": 75, \"origin\": 1, \"car name\": \"plymouth grand fury\"}, {\"kpg\": 22.5302, \"cylinders\": 8, \"displacement\": 351.0, \"horsepower\": 148.0, \"weight\": 4657, \"acceleration\": 13.5, \"model year\": 75, \"origin\": 1, \"car name\": \"ford ltd\"}, {\"kpg\": 27.3581, \"cylinders\": 6, \"displacement\": 231.0, \"horsepower\": 110.0, \"weight\": 3907, \"acceleration\": 21.0, \"model year\": 75, \"origin\": 1, \"car name\": \"buick century\"}, {\"kpg\": 25.7488, \"cylinders\": 6, \"displacement\": 250.0, \"horsepower\": 105.0, \"weight\": 3897, \"acceleration\": 18.5, \"model year\": 75, \"origin\": 1, \"car name\": \"chevroelt chevelle malibu\"}, {\"kpg\": 24.139499999999998, \"cylinders\": 6, \"displacement\": 258.0, \"horsepower\": 110.0, \"weight\": 3730, \"acceleration\": 19.0, \"model year\": 75, \"origin\": 1, \"car name\": \"amc matador\"}, {\"kpg\": 28.967399999999998, \"cylinders\": 6, \"displacement\": 225.0, \"horsepower\": 95.0, \"weight\": 3785, \"acceleration\": 19.0, \"model year\": 75, \"origin\": 1, \"car name\": \"plymouth fury\"}, {\"kpg\": 33.7953, \"cylinders\": 6, \"displacement\": 231.0, \"horsepower\": 110.0, \"weight\": 3039, \"acceleration\": 15.0, \"model year\": 75, \"origin\": 1, \"car name\": \"buick skyhawk\"}, {\"kpg\": 32.186, \"cylinders\": 8, \"displacement\": 262.0, \"horsepower\": 110.0, \"weight\": 3221, \"acceleration\": 13.5, \"model year\": 75, \"origin\": 1, \"car name\": \"chevrolet monza 2+2\"}, {\"kpg\": 20.9209, \"cylinders\": 8, \"displacement\": 302.0, \"horsepower\": 129.0, \"weight\": 3169, \"acceleration\": 12.0, \"model year\": 75, \"origin\": 1, \"car name\": \"ford mustang ii\"}, {\"kpg\": 46.6697, \"cylinders\": 4, \"displacement\": 97.0, \"horsepower\": 75.0, \"weight\": 2171, \"acceleration\": 16.0, \"model year\": 75, \"origin\": 3, \"car name\": \"toyota corolla\"}, {\"kpg\": 37.0139, \"cylinders\": 4, \"displacement\": 140.0, \"horsepower\": 83.0, \"weight\": 2639, \"acceleration\": 17.0, \"model year\": 75, \"origin\": 1, \"car name\": \"ford pinto\"}, {\"kpg\": 32.186, \"cylinders\": 6, \"displacement\": 232.0, \"horsepower\": 100.0, \"weight\": 2914, \"acceleration\": 16.0, \"model year\": 75, \"origin\": 1, \"car name\": \"amc gremlin\"}, {\"kpg\": 37.0139, \"cylinders\": 4, \"displacement\": 140.0, \"horsepower\": 78.0, \"weight\": 2592, \"acceleration\": 18.5, \"model year\": 75, \"origin\": 1, \"car name\": \"pontiac astro\"}, {\"kpg\": 38.6232, \"cylinders\": 4, \"displacement\": 134.0, \"horsepower\": 96.0, \"weight\": 2702, \"acceleration\": 13.5, \"model year\": 75, \"origin\": 3, \"car name\": \"toyota corona\"}, {\"kpg\": 40.2325, \"cylinders\": 4, \"displacement\": 90.0, \"horsepower\": 71.0, \"weight\": 2223, \"acceleration\": 16.5, \"model year\": 75, \"origin\": 2, \"car name\": \"volkswagen dasher\"}, {\"kpg\": 38.6232, \"cylinders\": 4, \"displacement\": 119.0, \"horsepower\": 97.0, \"weight\": 2545, \"acceleration\": 17.0, \"model year\": 75, \"origin\": 3, \"car name\": \"datsun 710\"}, {\"kpg\": 28.967399999999998, \"cylinders\": 6, \"displacement\": 171.0, \"horsepower\": 97.0, \"weight\": 2984, \"acceleration\": 14.5, \"model year\": 75, \"origin\": 1, \"car name\": \"ford pinto\"}, {\"kpg\": 46.6697, \"cylinders\": 4, \"displacement\": 90.0, \"horsepower\": 70.0, \"weight\": 1937, \"acceleration\": 14.0, \"model year\": 75, \"origin\": 2, \"car name\": \"volkswagen rabbit\"}, {\"kpg\": 30.5767, \"cylinders\": 6, \"displacement\": 232.0, \"horsepower\": 90.0, \"weight\": 3211, \"acceleration\": 17.0, \"model year\": 75, \"origin\": 1, \"car name\": \"amc pacer\"}, {\"kpg\": 37.0139, \"cylinders\": 4, \"displacement\": 115.0, \"horsepower\": 95.0, \"weight\": 2694, \"acceleration\": 15.0, \"model year\": 75, \"origin\": 2, \"car name\": \"audi 100ls\"}, {\"kpg\": 37.0139, \"cylinders\": 4, \"displacement\": 120.0, \"horsepower\": 88.0, \"weight\": 2957, \"acceleration\": 17.0, \"model year\": 75, \"origin\": 2, \"car name\": \"peugeot 504\"}, {\"kpg\": 35.4046, \"cylinders\": 4, \"displacement\": 121.0, \"horsepower\": 98.0, \"weight\": 2945, \"acceleration\": 14.5, \"model year\": 75, \"origin\": 2, \"car name\": \"volvo 244dl\"}, {\"kpg\": 40.2325, \"cylinders\": 4, \"displacement\": 121.0, \"horsepower\": 115.0, \"weight\": 2671, \"acceleration\": 13.5, \"model year\": 75, \"origin\": 2, \"car name\": \"saab 99le\"}, {\"kpg\": 53.106899999999996, \"cylinders\": 4, \"displacement\": 91.0, \"horsepower\": 53.0, \"weight\": 1795, \"acceleration\": 17.5, \"model year\": 75, \"origin\": 3, \"car name\": \"honda civic cvcc\"}, {\"kpg\": 45.0604, \"cylinders\": 4, \"displacement\": 107.0, \"horsepower\": 86.0, \"weight\": 2464, \"acceleration\": 15.5, \"model year\": 76, \"origin\": 2, \"car name\": \"fiat 131\"}, {\"kpg\": 40.2325, \"cylinders\": 4, \"displacement\": 116.0, \"horsepower\": 81.0, \"weight\": 2220, \"acceleration\": 16.9, \"model year\": 76, \"origin\": 2, \"car name\": \"opel 1900\"}, {\"kpg\": 40.2325, \"cylinders\": 4, \"displacement\": 140.0, \"horsepower\": 92.0, \"weight\": 2572, \"acceleration\": 14.9, \"model year\": 76, \"origin\": 1, \"car name\": \"capri ii\"}, {\"kpg\": 41.8418, \"cylinders\": 4, \"displacement\": 98.0, \"horsepower\": 79.0, \"weight\": 2255, \"acceleration\": 17.7, \"model year\": 76, \"origin\": 1, \"car name\": \"dodge colt\"}, {\"kpg\": 43.4511, \"cylinders\": 4, \"displacement\": 101.0, \"horsepower\": 83.0, \"weight\": 2202, \"acceleration\": 15.3, \"model year\": 76, \"origin\": 2, \"car name\": \"renault 12tl\"}, {\"kpg\": 28.16275, \"cylinders\": 8, \"displacement\": 305.0, \"horsepower\": 140.0, \"weight\": 4215, \"acceleration\": 13.0, \"model year\": 76, \"origin\": 1, \"car name\": \"chevrolet chevelle malibu classic\"}, {\"kpg\": 25.7488, \"cylinders\": 8, \"displacement\": 318.0, \"horsepower\": 150.0, \"weight\": 4190, \"acceleration\": 13.0, \"model year\": 76, \"origin\": 1, \"car name\": \"dodge coronet brougham\"}, {\"kpg\": 24.94415, \"cylinders\": 8, \"displacement\": 304.0, \"horsepower\": 120.0, \"weight\": 3962, \"acceleration\": 13.9, \"model year\": 76, \"origin\": 1, \"car name\": \"amc matador\"}, {\"kpg\": 23.33485, \"cylinders\": 8, \"displacement\": 351.0, \"horsepower\": 152.0, \"weight\": 4215, \"acceleration\": 12.8, \"model year\": 76, \"origin\": 1, \"car name\": \"ford gran torino\"}, {\"kpg\": 35.4046, \"cylinders\": 6, \"displacement\": 225.0, \"horsepower\": 100.0, \"weight\": 3233, \"acceleration\": 15.4, \"model year\": 76, \"origin\": 1, \"car name\": \"plymouth valiant\"}, {\"kpg\": 35.4046, \"cylinders\": 6, \"displacement\": 250.0, \"horsepower\": 105.0, \"weight\": 3353, \"acceleration\": 14.5, \"model year\": 76, \"origin\": 1, \"car name\": \"chevrolet nova\"}, {\"kpg\": 38.6232, \"cylinders\": 6, \"displacement\": 200.0, \"horsepower\": 81.0, \"weight\": 3012, \"acceleration\": 17.6, \"model year\": 76, \"origin\": 1, \"car name\": \"ford maverick\"}, {\"kpg\": 36.20925, \"cylinders\": 6, \"displacement\": 232.0, \"horsepower\": 90.0, \"weight\": 3085, \"acceleration\": 17.6, \"model year\": 76, \"origin\": 1, \"car name\": \"amc hornet\"}, {\"kpg\": 46.6697, \"cylinders\": 4, \"displacement\": 85.0, \"horsepower\": 52.0, \"weight\": 2035, \"acceleration\": 22.2, \"model year\": 76, \"origin\": 1, \"car name\": \"chevrolet chevette\"}, {\"kpg\": 39.42785, \"cylinders\": 4, \"displacement\": 98.0, \"horsepower\": 60.0, \"weight\": 2164, \"acceleration\": 22.1, \"model year\": 76, \"origin\": 1, \"car name\": \"chevrolet woody\"}, {\"kpg\": 46.6697, \"cylinders\": 4, \"displacement\": 90.0, \"horsepower\": 70.0, \"weight\": 1937, \"acceleration\": 14.2, \"model year\": 76, \"origin\": 2, \"car name\": \"vw rabbit\"}, {\"kpg\": 53.106899999999996, \"cylinders\": 4, \"displacement\": 91.0, \"horsepower\": 53.0, \"weight\": 1795, \"acceleration\": 17.4, \"model year\": 76, \"origin\": 3, \"car name\": \"honda civic\"}, {\"kpg\": 32.186, \"cylinders\": 6, \"displacement\": 225.0, \"horsepower\": 100.0, \"weight\": 3651, \"acceleration\": 17.7, \"model year\": 76, \"origin\": 1, \"car name\": \"dodge aspen se\"}, {\"kpg\": 28.967399999999998, \"cylinders\": 6, \"displacement\": 250.0, \"horsepower\": 78.0, \"weight\": 3574, \"acceleration\": 21.0, \"model year\": 76, \"origin\": 1, \"car name\": \"ford granada ghia\"}, {\"kpg\": 29.77205, \"cylinders\": 6, \"displacement\": 250.0, \"horsepower\": 110.0, \"weight\": 3645, \"acceleration\": 16.2, \"model year\": 76, \"origin\": 1, \"car name\": \"pontiac ventura sj\"}, {\"kpg\": 28.16275, \"cylinders\": 6, \"displacement\": 258.0, \"horsepower\": 95.0, \"weight\": 3193, \"acceleration\": 17.8, \"model year\": 76, \"origin\": 1, \"car name\": \"amc pacer d/l\"}, {\"kpg\": 47.47435, \"cylinders\": 4, \"displacement\": 97.0, \"horsepower\": 71.0, \"weight\": 1825, \"acceleration\": 12.2, \"model year\": 76, \"origin\": 2, \"car name\": \"volkswagen rabbit\"}, {\"kpg\": 51.4976, \"cylinders\": 4, \"displacement\": 85.0, \"horsepower\": 70.0, \"weight\": 1990, \"acceleration\": 17.0, \"model year\": 76, \"origin\": 3, \"car name\": \"datsun b-210\"}, {\"kpg\": 45.0604, \"cylinders\": 4, \"displacement\": 97.0, \"horsepower\": 75.0, \"weight\": 2155, \"acceleration\": 16.4, \"model year\": 76, \"origin\": 3, \"car name\": \"toyota corolla\"}, {\"kpg\": 42.64645, \"cylinders\": 4, \"displacement\": 140.0, \"horsepower\": 72.0, \"weight\": 2565, \"acceleration\": 13.6, \"model year\": 76, \"origin\": 1, \"car name\": \"ford pinto\"}, {\"kpg\": 32.186, \"cylinders\": 4, \"displacement\": 130.0, \"horsepower\": 102.0, \"weight\": 3150, \"acceleration\": 15.7, \"model year\": 76, \"origin\": 2, \"car name\": \"volvo 245\"}, {\"kpg\": 20.9209, \"cylinders\": 8, \"displacement\": 318.0, \"horsepower\": 150.0, \"weight\": 3940, \"acceleration\": 13.2, \"model year\": 76, \"origin\": 1, \"car name\": \"plymouth volare premier v8\"}, {\"kpg\": 30.5767, \"cylinders\": 4, \"displacement\": 120.0, \"horsepower\": 88.0, \"weight\": 3270, \"acceleration\": 21.9, \"model year\": 76, \"origin\": 2, \"car name\": \"peugeot 504\"}, {\"kpg\": 30.5767, \"cylinders\": 6, \"displacement\": 156.0, \"horsepower\": 108.0, \"weight\": 2930, \"acceleration\": 15.5, \"model year\": 76, \"origin\": 3, \"car name\": \"toyota mark ii\"}, {\"kpg\": 26.553449999999998, \"cylinders\": 6, \"displacement\": 168.0, \"horsepower\": 120.0, \"weight\": 3820, \"acceleration\": 16.7, \"model year\": 76, \"origin\": 2, \"car name\": \"mercedes-benz 280s\"}, {\"kpg\": 26.553449999999998, \"cylinders\": 8, \"displacement\": 350.0, \"horsepower\": 180.0, \"weight\": 4380, \"acceleration\": 12.1, \"model year\": 76, \"origin\": 1, \"car name\": \"cadillac seville\"}, {\"kpg\": 20.9209, \"cylinders\": 8, \"displacement\": 350.0, \"horsepower\": 145.0, \"weight\": 4055, \"acceleration\": 12.0, \"model year\": 76, \"origin\": 1, \"car name\": \"chevy c10\"}, {\"kpg\": 20.9209, \"cylinders\": 8, \"displacement\": 302.0, \"horsepower\": 130.0, \"weight\": 3870, \"acceleration\": 15.0, \"model year\": 76, \"origin\": 1, \"car name\": \"ford f108\"}, {\"kpg\": 20.9209, \"cylinders\": 8, \"displacement\": 318.0, \"horsepower\": 150.0, \"weight\": 3755, \"acceleration\": 14.0, \"model year\": 76, \"origin\": 1, \"car name\": \"dodge d100\"}, {\"kpg\": 50.692949999999996, \"cylinders\": 4, \"displacement\": 98.0, \"horsepower\": 68.0, \"weight\": 2045, \"acceleration\": 18.5, \"model year\": 77, \"origin\": 3, \"car name\": \"honda accord cvcc\"}, {\"kpg\": 48.278999999999996, \"cylinders\": 4, \"displacement\": 111.0, \"horsepower\": 80.0, \"weight\": 2155, \"acceleration\": 14.8, \"model year\": 77, \"origin\": 1, \"car name\": \"buick opel isuzu deluxe\"}, {\"kpg\": 57.934799999999996, \"cylinders\": 4, \"displacement\": 79.0, \"horsepower\": 58.0, \"weight\": 1825, \"acceleration\": 18.6, \"model year\": 77, \"origin\": 2, \"car name\": \"renault 5 gtl\"}, {\"kpg\": 41.03715, \"cylinders\": 4, \"displacement\": 122.0, \"horsepower\": 96.0, \"weight\": 2300, \"acceleration\": 15.5, \"model year\": 77, \"origin\": 1, \"car name\": \"plymouth arrow gs\"}, {\"kpg\": 53.91155, \"cylinders\": 4, \"displacement\": 85.0, \"horsepower\": 70.0, \"weight\": 1945, \"acceleration\": 16.8, \"model year\": 77, \"origin\": 3, \"car name\": \"datsun f-10 hatchback\"}, {\"kpg\": 28.16275, \"cylinders\": 8, \"displacement\": 305.0, \"horsepower\": 145.0, \"weight\": 3880, \"acceleration\": 12.5, \"model year\": 77, \"origin\": 1, \"car name\": \"chevrolet caprice classic\"}, {\"kpg\": 27.3581, \"cylinders\": 8, \"displacement\": 260.0, \"horsepower\": 110.0, \"weight\": 4060, \"acceleration\": 19.0, \"model year\": 77, \"origin\": 1, \"car name\": \"oldsmobile cutlass supreme\"}, {\"kpg\": 24.94415, \"cylinders\": 8, \"displacement\": 318.0, \"horsepower\": 145.0, \"weight\": 4140, \"acceleration\": 13.7, \"model year\": 77, \"origin\": 1, \"car name\": \"dodge monaco brougham\"}, {\"kpg\": 24.139499999999998, \"cylinders\": 8, \"displacement\": 302.0, \"horsepower\": 130.0, \"weight\": 4295, \"acceleration\": 14.9, \"model year\": 77, \"origin\": 1, \"car name\": \"mercury cougar brougham\"}, {\"kpg\": 28.16275, \"cylinders\": 6, \"displacement\": 250.0, \"horsepower\": 110.0, \"weight\": 3520, \"acceleration\": 16.4, \"model year\": 77, \"origin\": 1, \"car name\": \"chevrolet concours\"}, {\"kpg\": 32.99065, \"cylinders\": 6, \"displacement\": 231.0, \"horsepower\": 105.0, \"weight\": 3425, \"acceleration\": 16.9, \"model year\": 77, \"origin\": 1, \"car name\": \"buick skylark\"}, {\"kpg\": 30.5767, \"cylinders\": 6, \"displacement\": 225.0, \"horsepower\": 100.0, \"weight\": 3630, \"acceleration\": 17.7, \"model year\": 77, \"origin\": 1, \"car name\": \"plymouth volare custom\"}, {\"kpg\": 29.77205, \"cylinders\": 6, \"displacement\": 250.0, \"horsepower\": 98.0, \"weight\": 3525, \"acceleration\": 19.0, \"model year\": 77, \"origin\": 1, \"car name\": \"ford granada\"}, {\"kpg\": 25.7488, \"cylinders\": 8, \"displacement\": 400.0, \"horsepower\": 180.0, \"weight\": 4220, \"acceleration\": 11.1, \"model year\": 77, \"origin\": 1, \"car name\": \"pontiac grand prix lj\"}, {\"kpg\": 24.94415, \"cylinders\": 8, \"displacement\": 350.0, \"horsepower\": 170.0, \"weight\": 4165, \"acceleration\": 11.4, \"model year\": 77, \"origin\": 1, \"car name\": \"chevrolet monte carlo landau\"}, {\"kpg\": 24.94415, \"cylinders\": 8, \"displacement\": 400.0, \"horsepower\": 190.0, \"weight\": 4325, \"acceleration\": 12.2, \"model year\": 77, \"origin\": 1, \"car name\": \"chrysler cordoba\"}, {\"kpg\": 25.7488, \"cylinders\": 8, \"displacement\": 351.0, \"horsepower\": 149.0, \"weight\": 4335, \"acceleration\": 14.5, \"model year\": 77, \"origin\": 1, \"car name\": \"ford thunderbird\"}, {\"kpg\": 46.6697, \"cylinders\": 4, \"displacement\": 97.0, \"horsepower\": 78.0, \"weight\": 1940, \"acceleration\": 14.5, \"model year\": 77, \"origin\": 2, \"car name\": \"volkswagen rabbit custom\"}, {\"kpg\": 39.42785, \"cylinders\": 4, \"displacement\": 151.0, \"horsepower\": 88.0, \"weight\": 2740, \"acceleration\": 16.0, \"model year\": 77, \"origin\": 1, \"car name\": \"pontiac sunbird coupe\"}, {\"kpg\": 41.8418, \"cylinders\": 4, \"displacement\": 97.0, \"horsepower\": 75.0, \"weight\": 2265, \"acceleration\": 18.2, \"model year\": 77, \"origin\": 3, \"car name\": \"toyota corolla liftback\"}, {\"kpg\": 41.03715, \"cylinders\": 4, \"displacement\": 140.0, \"horsepower\": 89.0, \"weight\": 2755, \"acceleration\": 15.8, \"model year\": 77, \"origin\": 1, \"car name\": \"ford mustang ii 2+2\"}, {\"kpg\": 49.08365, \"cylinders\": 4, \"displacement\": 98.0, \"horsepower\": 63.0, \"weight\": 2051, \"acceleration\": 17.0, \"model year\": 77, \"origin\": 1, \"car name\": \"chevrolet chevette\"}, {\"kpg\": 53.91155, \"cylinders\": 4, \"displacement\": 98.0, \"horsepower\": 83.0, \"weight\": 2075, \"acceleration\": 15.9, \"model year\": 77, \"origin\": 1, \"car name\": \"dodge colt m/m\"}, {\"kpg\": 48.278999999999996, \"cylinders\": 4, \"displacement\": 97.0, \"horsepower\": 67.0, \"weight\": 1985, \"acceleration\": 16.4, \"model year\": 77, \"origin\": 3, \"car name\": \"subaru dl\"}, {\"kpg\": 49.08365, \"cylinders\": 4, \"displacement\": 97.0, \"horsepower\": 78.0, \"weight\": 2190, \"acceleration\": 14.1, \"model year\": 77, \"origin\": 2, \"car name\": \"volkswagen dasher\"}, {\"kpg\": 35.4046, \"cylinders\": 6, \"displacement\": 146.0, \"horsepower\": 97.0, \"weight\": 2815, \"acceleration\": 14.5, \"model year\": 77, \"origin\": 3, \"car name\": \"datsun 810\"}, {\"kpg\": 34.59995, \"cylinders\": 4, \"displacement\": 121.0, \"horsepower\": 110.0, \"weight\": 2600, \"acceleration\": 12.8, \"model year\": 77, \"origin\": 2, \"car name\": \"bmw 320i\"}, {\"kpg\": 34.59995, \"cylinders\": 3, \"displacement\": 80.0, \"horsepower\": 110.0, \"weight\": 2720, \"acceleration\": 13.5, \"model year\": 77, \"origin\": 3, \"car name\": \"mazda rx-4\"}, {\"kpg\": 69.36083, \"cylinders\": 4, \"displacement\": 90.0, \"horsepower\": 48.0, \"weight\": 1985, \"acceleration\": 21.5, \"model year\": 78, \"origin\": 2, \"car name\": \"volkswagen rabbit custom diesel\"}, {\"kpg\": 58.09573, \"cylinders\": 4, \"displacement\": 98.0, \"horsepower\": 66.0, \"weight\": 1800, \"acceleration\": 14.4, \"model year\": 78, \"origin\": 1, \"car name\": \"ford fiesta\"}, {\"kpg\": 52.785039999999995, \"cylinders\": 4, \"displacement\": 78.0, \"horsepower\": 52.0, \"weight\": 1985, \"acceleration\": 19.4, \"model year\": 78, \"origin\": 3, \"car name\": \"mazda glc deluxe\"}, {\"kpg\": 63.40642, \"cylinders\": 4, \"displacement\": 85.0, \"horsepower\": 70.0, \"weight\": 2070, \"acceleration\": 18.6, \"model year\": 78, \"origin\": 3, \"car name\": \"datsun b210 gx\"}, {\"kpg\": 58.09573, \"cylinders\": 4, \"displacement\": 91.0, \"horsepower\": 60.0, \"weight\": 1800, \"acceleration\": 16.4, \"model year\": 78, \"origin\": 3, \"car name\": \"honda civic cvcc\"}, {\"kpg\": 32.02507, \"cylinders\": 8, \"displacement\": 260.0, \"horsepower\": 110.0, \"weight\": 3365, \"acceleration\": 15.5, \"model year\": 78, \"origin\": 1, \"car name\": \"oldsmobile cutlass salon brougham\"}, {\"kpg\": 31.220419999999997, \"cylinders\": 8, \"displacement\": 318.0, \"horsepower\": 140.0, \"weight\": 3735, \"acceleration\": 13.2, \"model year\": 78, \"origin\": 1, \"car name\": \"dodge diplomat\"}, {\"kpg\": 32.50786, \"cylinders\": 8, \"displacement\": 302.0, \"horsepower\": 139.0, \"weight\": 3570, \"acceleration\": 12.8, \"model year\": 78, \"origin\": 1, \"car name\": \"mercury monarch ghia\"}, {\"kpg\": 30.898559999999996, \"cylinders\": 6, \"displacement\": 231.0, \"horsepower\": 105.0, \"weight\": 3535, \"acceleration\": 19.2, \"model year\": 78, \"origin\": 1, \"car name\": \"pontiac phoenix lj\"}, {\"kpg\": 32.99065, \"cylinders\": 6, \"displacement\": 200.0, \"horsepower\": 95.0, \"weight\": 3155, \"acceleration\": 18.2, \"model year\": 78, \"origin\": 1, \"car name\": \"chevrolet malibu\"}, {\"kpg\": 32.50786, \"cylinders\": 6, \"displacement\": 200.0, \"horsepower\": 85.0, \"weight\": 2965, \"acceleration\": 15.8, \"model year\": 78, \"origin\": 1, \"car name\": \"ford fairmont (auto)\"}, {\"kpg\": 40.39343, \"cylinders\": 4, \"displacement\": 140.0, \"horsepower\": 88.0, \"weight\": 2720, \"acceleration\": 15.4, \"model year\": 78, \"origin\": 1, \"car name\": \"ford fairmont (man)\"}, {\"kpg\": 32.99065, \"cylinders\": 6, \"displacement\": 225.0, \"horsepower\": 100.0, \"weight\": 3430, \"acceleration\": 17.2, \"model year\": 78, \"origin\": 1, \"car name\": \"plymouth volare\"}, {\"kpg\": 31.220419999999997, \"cylinders\": 6, \"displacement\": 232.0, \"horsepower\": 90.0, \"weight\": 3210, \"acceleration\": 17.2, \"model year\": 78, \"origin\": 1, \"car name\": \"amc concord\"}, {\"kpg\": 33.15158, \"cylinders\": 6, \"displacement\": 231.0, \"horsepower\": 105.0, \"weight\": 3380, \"acceleration\": 15.8, \"model year\": 78, \"origin\": 1, \"car name\": \"buick century special\"}, {\"kpg\": 33.473440000000004, \"cylinders\": 6, \"displacement\": 200.0, \"horsepower\": 85.0, \"weight\": 3070, \"acceleration\": 16.7, \"model year\": 78, \"origin\": 1, \"car name\": \"mercury zephyr\"}, {\"kpg\": 29.93298, \"cylinders\": 6, \"displacement\": 225.0, \"horsepower\": 110.0, \"weight\": 3620, \"acceleration\": 18.7, \"model year\": 78, \"origin\": 1, \"car name\": \"dodge aspen\"}, {\"kpg\": 29.128330000000002, \"cylinders\": 6, \"displacement\": 258.0, \"horsepower\": 120.0, \"weight\": 3410, \"acceleration\": 15.1, \"model year\": 78, \"origin\": 1, \"car name\": \"amc concord d/l\"}, {\"kpg\": 30.898559999999996, \"cylinders\": 8, \"displacement\": 305.0, \"horsepower\": 145.0, \"weight\": 3425, \"acceleration\": 13.2, \"model year\": 78, \"origin\": 1, \"car name\": \"chevrolet monte carlo landau\"}, {\"kpg\": 28.484609999999996, \"cylinders\": 6, \"displacement\": 231.0, \"horsepower\": 165.0, \"weight\": 3445, \"acceleration\": 13.4, \"model year\": 78, \"origin\": 1, \"car name\": \"buick regal sport coupe (turbo)\"}, {\"kpg\": 29.128330000000002, \"cylinders\": 8, \"displacement\": 302.0, \"horsepower\": 139.0, \"weight\": 3205, \"acceleration\": 11.2, \"model year\": 78, \"origin\": 1, \"car name\": \"ford futura\"}, {\"kpg\": 28.16275, \"cylinders\": 8, \"displacement\": 318.0, \"horsepower\": 140.0, \"weight\": 4080, \"acceleration\": 13.7, \"model year\": 78, \"origin\": 1, \"car name\": \"dodge magnum xe\"}, {\"kpg\": 48.278999999999996, \"cylinders\": 4, \"displacement\": 98.0, \"horsepower\": 68.0, \"weight\": 2155, \"acceleration\": 16.5, \"model year\": 78, \"origin\": 1, \"car name\": \"chevrolet chevette\"}, {\"kpg\": 44.25575, \"cylinders\": 4, \"displacement\": 134.0, \"horsepower\": 95.0, \"weight\": 2560, \"acceleration\": 14.2, \"model year\": 78, \"origin\": 3, \"car name\": \"toyota corona\"}, {\"kpg\": 43.77296, \"cylinders\": 4, \"displacement\": 119.0, \"horsepower\": 97.0, \"weight\": 2300, \"acceleration\": 14.7, \"model year\": 78, \"origin\": 3, \"car name\": \"datsun 510\"}, {\"kpg\": 49.72736999999999, \"cylinders\": 4, \"displacement\": 105.0, \"horsepower\": 75.0, \"weight\": 2230, \"acceleration\": 14.5, \"model year\": 78, \"origin\": 1, \"car name\": \"dodge omni\"}, {\"kpg\": 33.95623, \"cylinders\": 4, \"displacement\": 134.0, \"horsepower\": 95.0, \"weight\": 2515, \"acceleration\": 14.8, \"model year\": 78, \"origin\": 3, \"car name\": \"toyota celica gt liftback\"}, {\"kpg\": 37.33576, \"cylinders\": 4, \"displacement\": 156.0, \"horsepower\": 105.0, \"weight\": 2745, \"acceleration\": 16.7, \"model year\": 78, \"origin\": 1, \"car name\": \"plymouth sapporo\"}, {\"kpg\": 38.30134, \"cylinders\": 4, \"displacement\": 151.0, \"horsepower\": 85.0, \"weight\": 2855, \"acceleration\": 17.6, \"model year\": 78, \"origin\": 1, \"car name\": \"oldsmobile starfire sx\"}, {\"kpg\": 38.46227, \"cylinders\": 4, \"displacement\": 119.0, \"horsepower\": 97.0, \"weight\": 2405, \"acceleration\": 14.9, \"model year\": 78, \"origin\": 3, \"car name\": \"datsun 200-sx\"}, {\"kpg\": 32.66879, \"cylinders\": 5, \"displacement\": 131.0, \"horsepower\": 103.0, \"weight\": 2830, \"acceleration\": 15.9, \"model year\": 78, \"origin\": 2, \"car name\": \"audi 5000\"}, {\"kpg\": 27.3581, \"cylinders\": 6, \"displacement\": 163.0, \"horsepower\": 125.0, \"weight\": 3140, \"acceleration\": 13.6, \"model year\": 78, \"origin\": 2, \"car name\": \"volvo 264gl\"}, {\"kpg\": 34.76088, \"cylinders\": 4, \"displacement\": 121.0, \"horsepower\": 115.0, \"weight\": 2795, \"acceleration\": 15.7, \"model year\": 78, \"origin\": 2, \"car name\": \"saab 99gle\"}, {\"kpg\": 26.070659999999997, \"cylinders\": 6, \"displacement\": 163.0, \"horsepower\": 133.0, \"weight\": 3410, \"acceleration\": 15.8, \"model year\": 78, \"origin\": 2, \"car name\": \"peugeot 604sl\"}, {\"kpg\": 50.692949999999996, \"cylinders\": 4, \"displacement\": 89.0, \"horsepower\": 71.0, \"weight\": 1990, \"acceleration\": 14.9, \"model year\": 78, \"origin\": 2, \"car name\": \"volkswagen scirocco\"}, {\"kpg\": 47.47435, \"cylinders\": 4, \"displacement\": 98.0, \"horsepower\": 68.0, \"weight\": 2135, \"acceleration\": 16.6, \"model year\": 78, \"origin\": 3, \"car name\": \"honda accord lx\"}, {\"kpg\": 34.59995, \"cylinders\": 6, \"displacement\": 231.0, \"horsepower\": 115.0, \"weight\": 3245, \"acceleration\": 15.4, \"model year\": 79, \"origin\": 1, \"car name\": \"pontiac lemans v6\"}, {\"kpg\": 31.86414, \"cylinders\": 6, \"displacement\": 200.0, \"horsepower\": 85.0, \"weight\": 2990, \"acceleration\": 18.2, \"model year\": 79, \"origin\": 1, \"car name\": \"mercury zephyr 6\"}, {\"kpg\": 35.88739, \"cylinders\": 4, \"displacement\": 140.0, \"horsepower\": 88.0, \"weight\": 2890, \"acceleration\": 17.3, \"model year\": 79, \"origin\": 1, \"car name\": \"ford fairmont 4\"}, {\"kpg\": 32.50786, \"cylinders\": 6, \"displacement\": 232.0, \"horsepower\": 90.0, \"weight\": 3265, \"acceleration\": 18.2, \"model year\": 79, \"origin\": 1, \"car name\": \"amc concord dl 6\"}, {\"kpg\": 33.15158, \"cylinders\": 6, \"displacement\": 225.0, \"horsepower\": 110.0, \"weight\": 3360, \"acceleration\": 16.6, \"model year\": 79, \"origin\": 1, \"car name\": \"dodge aspen 6\"}, {\"kpg\": 27.3581, \"cylinders\": 8, \"displacement\": 305.0, \"horsepower\": 130.0, \"weight\": 3840, \"acceleration\": 15.4, \"model year\": 79, \"origin\": 1, \"car name\": \"chevrolet caprice classic\"}, {\"kpg\": 28.323680000000003, \"cylinders\": 8, \"displacement\": 302.0, \"horsepower\": 129.0, \"weight\": 3725, \"acceleration\": 13.4, \"model year\": 79, \"origin\": 1, \"car name\": \"ford ltd landau\"}, {\"kpg\": 26.553449999999998, \"cylinders\": 8, \"displacement\": 351.0, \"horsepower\": 138.0, \"weight\": 3955, \"acceleration\": 13.2, \"model year\": 79, \"origin\": 1, \"car name\": \"mercury grand marquis\"}, {\"kpg\": 29.28926, \"cylinders\": 8, \"displacement\": 318.0, \"horsepower\": 135.0, \"weight\": 3830, \"acceleration\": 15.2, \"model year\": 79, \"origin\": 1, \"car name\": \"dodge st. regis\"}, {\"kpg\": 27.197169999999996, \"cylinders\": 8, \"displacement\": 350.0, \"horsepower\": 155.0, \"weight\": 4360, \"acceleration\": 14.9, \"model year\": 79, \"origin\": 1, \"car name\": \"buick estate wagon (sw)\"}, {\"kpg\": 24.94415, \"cylinders\": 8, \"displacement\": 351.0, \"horsepower\": 142.0, \"weight\": 4054, \"acceleration\": 14.3, \"model year\": 79, \"origin\": 1, \"car name\": \"ford country squire (sw)\"}, {\"kpg\": 30.898559999999996, \"cylinders\": 8, \"displacement\": 267.0, \"horsepower\": 125.0, \"weight\": 3605, \"acceleration\": 15.0, \"model year\": 79, \"origin\": 1, \"car name\": \"chevrolet malibu classic (sw)\"}, {\"kpg\": 29.77205, \"cylinders\": 8, \"displacement\": 360.0, \"horsepower\": 150.0, \"weight\": 3940, \"acceleration\": 13.0, \"model year\": 79, \"origin\": 1, \"car name\": \"chrysler lebaron town @ country (sw)\"}, {\"kpg\": 51.33667, \"cylinders\": 4, \"displacement\": 89.0, \"horsepower\": 71.0, \"weight\": 1925, \"acceleration\": 14.0, \"model year\": 79, \"origin\": 2, \"car name\": \"vw rabbit custom\"}, {\"kpg\": 54.87713, \"cylinders\": 4, \"displacement\": 86.0, \"horsepower\": 65.0, \"weight\": 1975, \"acceleration\": 15.2, \"model year\": 79, \"origin\": 3, \"car name\": \"maxda glc deluxe\"}, {\"kpg\": 57.45201, \"cylinders\": 4, \"displacement\": 98.0, \"horsepower\": 80.0, \"weight\": 1915, \"acceleration\": 14.4, \"model year\": 79, \"origin\": 1, \"car name\": \"dodge colt hatchback custom\"}, {\"kpg\": 44.09482, \"cylinders\": 4, \"displacement\": 121.0, \"horsepower\": 80.0, \"weight\": 2670, \"acceleration\": 15.0, \"model year\": 79, \"origin\": 1, \"car name\": \"amc spirit dl\"}, {\"kpg\": 40.876219999999996, \"cylinders\": 5, \"displacement\": 183.0, \"horsepower\": 77.0, \"weight\": 3530, \"acceleration\": 20.1, \"model year\": 79, \"origin\": 2, \"car name\": \"mercedes benz 300d\"}, {\"kpg\": 37.0139, \"cylinders\": 8, \"displacement\": 350.0, \"horsepower\": 125.0, \"weight\": 3900, \"acceleration\": 17.4, \"model year\": 79, \"origin\": 1, \"car name\": \"cadillac eldorado\"}, {\"kpg\": 43.77296, \"cylinders\": 4, \"displacement\": 141.0, \"horsepower\": 71.0, \"weight\": 3190, \"acceleration\": 24.8, \"model year\": 79, \"origin\": 2, \"car name\": \"peugeot 504\"}, {\"kpg\": 38.46227, \"cylinders\": 8, \"displacement\": 260.0, \"horsepower\": 90.0, \"weight\": 3420, \"acceleration\": 22.2, \"model year\": 79, \"origin\": 1, \"car name\": \"oldsmobile cutlass salon brougham\"}, {\"kpg\": 55.03806, \"cylinders\": 4, \"displacement\": 105.0, \"horsepower\": 70.0, \"weight\": 2200, \"acceleration\": 13.2, \"model year\": 79, \"origin\": 1, \"car name\": \"plymouth horizon\"}, {\"kpg\": 55.520849999999996, \"cylinders\": 4, \"displacement\": 105.0, \"horsepower\": 70.0, \"weight\": 2150, \"acceleration\": 14.9, \"model year\": 79, \"origin\": 1, \"car name\": \"plymouth horizon tc3\"}, {\"kpg\": 51.17574, \"cylinders\": 4, \"displacement\": 85.0, \"horsepower\": 65.0, \"weight\": 2020, \"acceleration\": 19.2, \"model year\": 79, \"origin\": 3, \"car name\": \"datsun 210\"}, {\"kpg\": 60.026889999999995, \"cylinders\": 4, \"displacement\": 91.0, \"horsepower\": 69.0, \"weight\": 2130, \"acceleration\": 14.7, \"model year\": 79, \"origin\": 2, \"car name\": \"fiat strada custom\"}, {\"kpg\": 45.704119999999996, \"cylinders\": 4, \"displacement\": 151.0, \"horsepower\": 90.0, \"weight\": 2670, \"acceleration\": 16.0, \"model year\": 79, \"origin\": 1, \"car name\": \"buick skylark limited\"}, {\"kpg\": 46.34784, \"cylinders\": 6, \"displacement\": 173.0, \"horsepower\": 115.0, \"weight\": 2595, \"acceleration\": 11.3, \"model year\": 79, \"origin\": 1, \"car name\": \"chevrolet citation\"}, {\"kpg\": 43.12924, \"cylinders\": 6, \"displacement\": 173.0, \"horsepower\": 115.0, \"weight\": 2700, \"acceleration\": 12.9, \"model year\": 79, \"origin\": 1, \"car name\": \"oldsmobile omega brougham\"}, {\"kpg\": 53.91155, \"cylinders\": 4, \"displacement\": 151.0, \"horsepower\": 90.0, \"weight\": 2556, \"acceleration\": 13.2, \"model year\": 79, \"origin\": 1, \"car name\": \"pontiac phoenix\"}, {\"kpg\": 66.78595, \"cylinders\": 4, \"displacement\": 98.0, \"horsepower\": 76.0, \"weight\": 2144, \"acceleration\": 14.7, \"model year\": 80, \"origin\": 2, \"car name\": \"vw rabbit\"}, {\"kpg\": 61.31433, \"cylinders\": 4, \"displacement\": 89.0, \"horsepower\": 60.0, \"weight\": 1968, \"acceleration\": 18.8, \"model year\": 80, \"origin\": 3, \"car name\": \"toyota corolla tercel\"}, {\"kpg\": 51.65853, \"cylinders\": 4, \"displacement\": 98.0, \"horsepower\": 70.0, \"weight\": 2120, \"acceleration\": 15.5, \"model year\": 80, \"origin\": 1, \"car name\": \"chevrolet chevette\"}, {\"kpg\": 59.86596, \"cylinders\": 4, \"displacement\": 86.0, \"horsepower\": 65.0, \"weight\": 2019, \"acceleration\": 16.4, \"model year\": 80, \"origin\": 3, \"car name\": \"datsun 310\"}, {\"kpg\": 45.0604, \"cylinders\": 4, \"displacement\": 151.0, \"horsepower\": 90.0, \"weight\": 2678, \"acceleration\": 16.5, \"model year\": 80, \"origin\": 1, \"car name\": \"chevrolet citation\"}, {\"kpg\": 42.485519999999994, \"cylinders\": 4, \"displacement\": 140.0, \"horsepower\": 88.0, \"weight\": 2870, \"acceleration\": 18.1, \"model year\": 80, \"origin\": 1, \"car name\": \"ford fairmont\"}, {\"kpg\": 39.10599, \"cylinders\": 4, \"displacement\": 151.0, \"horsepower\": 90.0, \"weight\": 3003, \"acceleration\": 20.1, \"model year\": 80, \"origin\": 1, \"car name\": \"amc concord\"}, {\"kpg\": 30.737630000000003, \"cylinders\": 6, \"displacement\": 225.0, \"horsepower\": 90.0, \"weight\": 3381, \"acceleration\": 18.7, \"model year\": 80, \"origin\": 1, \"car name\": \"dodge aspen\"}, {\"kpg\": 55.198989999999995, \"cylinders\": 4, \"displacement\": 97.0, \"horsepower\": 78.0, \"weight\": 2188, \"acceleration\": 15.8, \"model year\": 80, \"origin\": 2, \"car name\": \"audi 4000\"}, {\"kpg\": 47.95714, \"cylinders\": 4, \"displacement\": 134.0, \"horsepower\": 90.0, \"weight\": 2711, \"acceleration\": 15.5, \"model year\": 80, \"origin\": 3, \"car name\": \"toyota corona liftback\"}, {\"kpg\": 50.37109, \"cylinders\": 4, \"displacement\": 120.0, \"horsepower\": 75.0, \"weight\": 2542, \"acceleration\": 17.5, \"model year\": 80, \"origin\": 3, \"car name\": \"mazda 626\"}, {\"kpg\": 59.5441, \"cylinders\": 4, \"displacement\": 119.0, \"horsepower\": 92.0, \"weight\": 2434, \"acceleration\": 15.0, \"model year\": 80, \"origin\": 3, \"car name\": \"datsun 510 hatchback\"}, {\"kpg\": 51.81946000000001, \"cylinders\": 4, \"displacement\": 108.0, \"horsepower\": 75.0, \"weight\": 2265, \"acceleration\": 15.2, \"model year\": 80, \"origin\": 3, \"car name\": \"toyota corolla\"}, {\"kpg\": 74.99338, \"cylinders\": 4, \"displacement\": 86.0, \"horsepower\": 65.0, \"weight\": 2110, \"acceleration\": 17.9, \"model year\": 80, \"origin\": 3, \"car name\": \"mazda glc\"}, {\"kpg\": 44.899469999999994, \"cylinders\": 4, \"displacement\": 156.0, \"horsepower\": 105.0, \"weight\": 2800, \"acceleration\": 14.4, \"model year\": 80, \"origin\": 1, \"car name\": \"dodge colt\"}, {\"kpg\": 65.65943999999999, \"cylinders\": 4, \"displacement\": 85.0, \"horsepower\": 65.0, \"weight\": 2110, \"acceleration\": 19.2, \"model year\": 80, \"origin\": 3, \"car name\": \"datsun 210\"}, {\"kpg\": 71.29199, \"cylinders\": 4, \"displacement\": 90.0, \"horsepower\": 48.0, \"weight\": 2085, \"acceleration\": 21.7, \"model year\": 80, \"origin\": 2, \"car name\": \"vw rabbit c (diesel)\"}, {\"kpg\": 69.84362, \"cylinders\": 4, \"displacement\": 90.0, \"horsepower\": 48.0, \"weight\": 2335, \"acceleration\": 23.7, \"model year\": 80, \"origin\": 2, \"car name\": \"vw dasher (diesel)\"}, {\"kpg\": 58.57852, \"cylinders\": 5, \"displacement\": 121.0, \"horsepower\": 67.0, \"weight\": 2950, \"acceleration\": 19.9, \"model year\": 80, \"origin\": 2, \"car name\": \"audi 5000s (diesel)\"}, {\"kpg\": 48.278999999999996, \"cylinders\": 4, \"displacement\": 146.0, \"horsepower\": 67.0, \"weight\": 3250, \"acceleration\": 21.8, \"model year\": 80, \"origin\": 2, \"car name\": \"mercedes-benz 240d\"}, {\"kpg\": 71.77478, \"cylinders\": 4, \"displacement\": 91.0, \"horsepower\": 67.0, \"weight\": 1850, \"acceleration\": 13.8, \"model year\": 80, \"origin\": 3, \"car name\": \"honda civic 1500 gl\"}, {\"kpg\": 65.82037, \"cylinders\": 4, \"displacement\": 85.0, \"horsepower\": 104.46938775510205, \"weight\": 1835, \"acceleration\": 17.3, \"model year\": 80, \"origin\": 2, \"car name\": \"renault lecar deluxe\"}, {\"kpg\": 54.39433999999999, \"cylinders\": 4, \"displacement\": 97.0, \"horsepower\": 67.0, \"weight\": 2145, \"acceleration\": 18.0, \"model year\": 80, \"origin\": 3, \"car name\": \"subaru dl\"}, {\"kpg\": 47.95714, \"cylinders\": 4, \"displacement\": 89.0, \"horsepower\": 62.0, \"weight\": 1845, \"acceleration\": 15.3, \"model year\": 80, \"origin\": 2, \"car name\": \"vokswagen rabbit\"}, {\"kpg\": 52.62411, \"cylinders\": 6, \"displacement\": 168.0, \"horsepower\": 132.0, \"weight\": 2910, \"acceleration\": 11.4, \"model year\": 80, \"origin\": 3, \"car name\": \"datsun 280-zx\"}, {\"kpg\": 38.140409999999996, \"cylinders\": 3, \"displacement\": 70.0, \"horsepower\": 100.0, \"weight\": 2420, \"acceleration\": 12.5, \"model year\": 80, \"origin\": 3, \"car name\": \"mazda rx-7 gs\"}, {\"kpg\": 56.3255, \"cylinders\": 4, \"displacement\": 122.0, \"horsepower\": 88.0, \"weight\": 2500, \"acceleration\": 15.1, \"model year\": 80, \"origin\": 2, \"car name\": \"triumph tr7 coupe\"}, {\"kpg\": 37.97948, \"cylinders\": 4, \"displacement\": 140.0, \"horsepower\": 104.46938775510205, \"weight\": 2905, \"acceleration\": 14.3, \"model year\": 80, \"origin\": 1, \"car name\": \"ford mustang cobra\"}, {\"kpg\": 52.14131999999999, \"cylinders\": 4, \"displacement\": 107.0, \"horsepower\": 72.0, \"weight\": 2290, \"acceleration\": 17.0, \"model year\": 80, \"origin\": 3, \"car name\": \"honda accord\"}, {\"kpg\": 43.77296, \"cylinders\": 4, \"displacement\": 135.0, \"horsepower\": 84.0, \"weight\": 2490, \"acceleration\": 15.7, \"model year\": 81, \"origin\": 1, \"car name\": \"plymouth reliant\"}, {\"kpg\": 42.80738, \"cylinders\": 4, \"displacement\": 151.0, \"horsepower\": 84.0, \"weight\": 2635, \"acceleration\": 16.4, \"model year\": 81, \"origin\": 1, \"car name\": \"buick skylark\"}, {\"kpg\": 41.51994, \"cylinders\": 4, \"displacement\": 156.0, \"horsepower\": 92.0, \"weight\": 2620, \"acceleration\": 14.4, \"model year\": 81, \"origin\": 1, \"car name\": \"dodge aries wagon (sw)\"}, {\"kpg\": 37.81855, \"cylinders\": 6, \"displacement\": 173.0, \"horsepower\": 110.0, \"weight\": 2725, \"acceleration\": 12.6, \"model year\": 81, \"origin\": 1, \"car name\": \"chevrolet citation\"}, {\"kpg\": 48.278999999999996, \"cylinders\": 4, \"displacement\": 135.0, \"horsepower\": 84.0, \"weight\": 2385, \"acceleration\": 12.9, \"model year\": 81, \"origin\": 1, \"car name\": \"plymouth reliant\"}, {\"kpg\": 62.92363, \"cylinders\": 4, \"displacement\": 79.0, \"horsepower\": 58.0, \"weight\": 1755, \"acceleration\": 16.9, \"model year\": 81, \"origin\": 3, \"car name\": \"toyota starlet\"}, {\"kpg\": 62.762699999999995, \"cylinders\": 4, \"displacement\": 86.0, \"horsepower\": 64.0, \"weight\": 1875, \"acceleration\": 16.4, \"model year\": 81, \"origin\": 1, \"car name\": \"plymouth champ\"}, {\"kpg\": 56.48643, \"cylinders\": 4, \"displacement\": 81.0, \"horsepower\": 60.0, \"weight\": 1760, \"acceleration\": 16.1, \"model year\": 81, \"origin\": 3, \"car name\": \"honda civic 1300\"}, {\"kpg\": 51.98038999999999, \"cylinders\": 4, \"displacement\": 97.0, \"horsepower\": 67.0, \"weight\": 2065, \"acceleration\": 17.8, \"model year\": 81, \"origin\": 3, \"car name\": \"subaru\"}, {\"kpg\": 59.5441, \"cylinders\": 4, \"displacement\": 85.0, \"horsepower\": 65.0, \"weight\": 1975, \"acceleration\": 19.4, \"model year\": 81, \"origin\": 3, \"car name\": \"datsun 210 mpg\"}, {\"kpg\": 60.67061, \"cylinders\": 4, \"displacement\": 89.0, \"horsepower\": 62.0, \"weight\": 2050, \"acceleration\": 17.3, \"model year\": 81, \"origin\": 3, \"car name\": \"toyota tercel\"}, {\"kpg\": 54.87713, \"cylinders\": 4, \"displacement\": 91.0, \"horsepower\": 68.0, \"weight\": 1985, \"acceleration\": 16.0, \"model year\": 81, \"origin\": 3, \"car name\": \"mazda glc 4\"}, {\"kpg\": 55.842710000000004, \"cylinders\": 4, \"displacement\": 105.0, \"horsepower\": 63.0, \"weight\": 2215, \"acceleration\": 14.9, \"model year\": 81, \"origin\": 1, \"car name\": \"plymouth horizon 4\"}, {\"kpg\": 55.359919999999995, \"cylinders\": 4, \"displacement\": 98.0, \"horsepower\": 65.0, \"weight\": 2045, \"acceleration\": 16.2, \"model year\": 81, \"origin\": 1, \"car name\": \"ford escort 4w\"}, {\"kpg\": 48.118069999999996, \"cylinders\": 4, \"displacement\": 98.0, \"horsepower\": 65.0, \"weight\": 2380, \"acceleration\": 20.7, \"model year\": 81, \"origin\": 1, \"car name\": \"ford escort 2h\"}, {\"kpg\": 53.106899999999996, \"cylinders\": 4, \"displacement\": 105.0, \"horsepower\": 74.0, \"weight\": 2190, \"acceleration\": 14.2, \"model year\": 81, \"origin\": 2, \"car name\": \"volkswagen jetta\"}, {\"kpg\": 55.520849999999996, \"cylinders\": 4, \"displacement\": 100.0, \"horsepower\": 104.46938775510205, \"weight\": 2320, \"acceleration\": 15.8, \"model year\": 81, \"origin\": 2, \"car name\": \"renault 18i\"}, {\"kpg\": 54.233410000000006, \"cylinders\": 4, \"displacement\": 107.0, \"horsepower\": 75.0, \"weight\": 2210, \"acceleration\": 14.4, \"model year\": 81, \"origin\": 3, \"car name\": \"honda prelude\"}, {\"kpg\": 52.14131999999999, \"cylinders\": 4, \"displacement\": 108.0, \"horsepower\": 75.0, \"weight\": 2350, \"acceleration\": 16.8, \"model year\": 81, \"origin\": 3, \"car name\": \"toyota corolla\"}, {\"kpg\": 52.945969999999996, \"cylinders\": 4, \"displacement\": 119.0, \"horsepower\": 100.0, \"weight\": 2615, \"acceleration\": 14.8, \"model year\": 81, \"origin\": 3, \"car name\": \"datsun 200sx\"}, {\"kpg\": 50.853880000000004, \"cylinders\": 4, \"displacement\": 120.0, \"horsepower\": 74.0, \"weight\": 2635, \"acceleration\": 18.3, \"model year\": 81, \"origin\": 3, \"car name\": \"mazda 626\"}, {\"kpg\": 45.22133, \"cylinders\": 4, \"displacement\": 141.0, \"horsepower\": 80.0, \"weight\": 3230, \"acceleration\": 20.4, \"model year\": 81, \"origin\": 2, \"car name\": \"peugeot 505s turbo diesel\"}, {\"kpg\": 49.40551, \"cylinders\": 6, \"displacement\": 145.0, \"horsepower\": 76.0, \"weight\": 3160, \"acceleration\": 19.6, \"model year\": 81, \"origin\": 2, \"car name\": \"volvo diesel\"}, {\"kpg\": 40.876219999999996, \"cylinders\": 6, \"displacement\": 168.0, \"horsepower\": 116.0, \"weight\": 2900, \"acceleration\": 12.6, \"model year\": 81, \"origin\": 3, \"car name\": \"toyota cressida\"}, {\"kpg\": 38.94506, \"cylinders\": 6, \"displacement\": 146.0, \"horsepower\": 120.0, \"weight\": 2930, \"acceleration\": 13.8, \"model year\": 81, \"origin\": 3, \"car name\": \"datsun 810 maxima\"}, {\"kpg\": 36.04832, \"cylinders\": 6, \"displacement\": 231.0, \"horsepower\": 110.0, \"weight\": 3415, \"acceleration\": 15.8, \"model year\": 81, \"origin\": 1, \"car name\": \"buick century\"}, {\"kpg\": 42.80738, \"cylinders\": 8, \"displacement\": 350.0, \"horsepower\": 105.0, \"weight\": 3725, \"acceleration\": 19.0, \"model year\": 81, \"origin\": 1, \"car name\": \"oldsmobile cutlass ls\"}, {\"kpg\": 32.50786, \"cylinders\": 6, \"displacement\": 200.0, \"horsepower\": 88.0, \"weight\": 3060, \"acceleration\": 17.1, \"model year\": 81, \"origin\": 1, \"car name\": \"ford granada gl\"}, {\"kpg\": 28.323680000000003, \"cylinders\": 6, \"displacement\": 225.0, \"horsepower\": 85.0, \"weight\": 3465, \"acceleration\": 16.6, \"model year\": 81, \"origin\": 1, \"car name\": \"chrysler lebaron salon\"}, {\"kpg\": 45.0604, \"cylinders\": 4, \"displacement\": 112.0, \"horsepower\": 88.0, \"weight\": 2605, \"acceleration\": 19.6, \"model year\": 82, \"origin\": 1, \"car name\": \"chevrolet cavalier\"}, {\"kpg\": 43.4511, \"cylinders\": 4, \"displacement\": 112.0, \"horsepower\": 88.0, \"weight\": 2640, \"acceleration\": 18.6, \"model year\": 82, \"origin\": 1, \"car name\": \"chevrolet cavalier wagon\"}, {\"kpg\": 54.7162, \"cylinders\": 4, \"displacement\": 112.0, \"horsepower\": 88.0, \"weight\": 2395, \"acceleration\": 18.0, \"model year\": 82, \"origin\": 1, \"car name\": \"chevrolet cavalier 2-door\"}, {\"kpg\": 49.8883, \"cylinders\": 4, \"displacement\": 112.0, \"horsepower\": 85.0, \"weight\": 2575, \"acceleration\": 16.2, \"model year\": 82, \"origin\": 1, \"car name\": \"pontiac j2000 se hatchback\"}, {\"kpg\": 46.6697, \"cylinders\": 4, \"displacement\": 135.0, \"horsepower\": 84.0, \"weight\": 2525, \"acceleration\": 16.0, \"model year\": 82, \"origin\": 1, \"car name\": \"dodge aries se\"}, {\"kpg\": 43.4511, \"cylinders\": 4, \"displacement\": 151.0, \"horsepower\": 90.0, \"weight\": 2735, \"acceleration\": 18.0, \"model year\": 82, \"origin\": 1, \"car name\": \"pontiac phoenix\"}, {\"kpg\": 38.6232, \"cylinders\": 4, \"displacement\": 140.0, \"horsepower\": 92.0, \"weight\": 2865, \"acceleration\": 16.4, \"model year\": 82, \"origin\": 1, \"car name\": \"ford fairmont futura\"}, {\"kpg\": 37.0139, \"cylinders\": 4, \"displacement\": 151.0, \"horsepower\": 104.46938775510205, \"weight\": 3035, \"acceleration\": 20.5, \"model year\": 82, \"origin\": 1, \"car name\": \"amc concord dl\"}, {\"kpg\": 57.934799999999996, \"cylinders\": 4, \"displacement\": 105.0, \"horsepower\": 74.0, \"weight\": 1980, \"acceleration\": 15.3, \"model year\": 82, \"origin\": 2, \"car name\": \"volkswagen rabbit l\"}, {\"kpg\": 59.5441, \"cylinders\": 4, \"displacement\": 91.0, \"horsepower\": 68.0, \"weight\": 2025, \"acceleration\": 18.2, \"model year\": 82, \"origin\": 3, \"car name\": \"mazda glc custom l\"}, {\"kpg\": 49.8883, \"cylinders\": 4, \"displacement\": 91.0, \"horsepower\": 68.0, \"weight\": 1970, \"acceleration\": 17.6, \"model year\": 82, \"origin\": 3, \"car name\": \"mazda glc custom\"}, {\"kpg\": 61.1534, \"cylinders\": 4, \"displacement\": 105.0, \"horsepower\": 63.0, \"weight\": 2125, \"acceleration\": 14.7, \"model year\": 82, \"origin\": 1, \"car name\": \"plymouth horizon miser\"}, {\"kpg\": 57.934799999999996, \"cylinders\": 4, \"displacement\": 98.0, \"horsepower\": 70.0, \"weight\": 2125, \"acceleration\": 17.3, \"model year\": 82, \"origin\": 1, \"car name\": \"mercury lynx l\"}, {\"kpg\": 57.934799999999996, \"cylinders\": 4, \"displacement\": 120.0, \"horsepower\": 88.0, \"weight\": 2160, \"acceleration\": 14.5, \"model year\": 82, \"origin\": 3, \"car name\": \"nissan stanza xe\"}, {\"kpg\": 57.934799999999996, \"cylinders\": 4, \"displacement\": 107.0, \"horsepower\": 75.0, \"weight\": 2205, \"acceleration\": 14.5, \"model year\": 82, \"origin\": 3, \"car name\": \"honda accord\"}, {\"kpg\": 54.7162, \"cylinders\": 4, \"displacement\": 108.0, \"horsepower\": 70.0, \"weight\": 2245, \"acceleration\": 16.9, \"model year\": 82, \"origin\": 3, \"car name\": \"toyota corolla\"}, {\"kpg\": 61.1534, \"cylinders\": 4, \"displacement\": 91.0, \"horsepower\": 67.0, \"weight\": 1965, \"acceleration\": 15.0, \"model year\": 82, \"origin\": 3, \"car name\": \"honda civic\"}, {\"kpg\": 51.4976, \"cylinders\": 4, \"displacement\": 91.0, \"horsepower\": 67.0, \"weight\": 1965, \"acceleration\": 15.7, \"model year\": 82, \"origin\": 3, \"car name\": \"honda civic (auto)\"}, {\"kpg\": 61.1534, \"cylinders\": 4, \"displacement\": 91.0, \"horsepower\": 67.0, \"weight\": 1995, \"acceleration\": 16.2, \"model year\": 82, \"origin\": 3, \"car name\": \"datsun 310 gx\"}, {\"kpg\": 40.2325, \"cylinders\": 6, \"displacement\": 181.0, \"horsepower\": 110.0, \"weight\": 2945, \"acceleration\": 16.4, \"model year\": 82, \"origin\": 1, \"car name\": \"buick century limited\"}, {\"kpg\": 61.1534, \"cylinders\": 6, \"displacement\": 262.0, \"horsepower\": 85.0, \"weight\": 3015, \"acceleration\": 17.0, \"model year\": 82, \"origin\": 1, \"car name\": \"oldsmobile cutlass ciera (diesel)\"}, {\"kpg\": 41.8418, \"cylinders\": 4, \"displacement\": 156.0, \"horsepower\": 92.0, \"weight\": 2585, \"acceleration\": 14.5, \"model year\": 82, \"origin\": 1, \"car name\": \"chrysler lebaron medallion\"}, {\"kpg\": 35.4046, \"cylinders\": 6, \"displacement\": 232.0, \"horsepower\": 112.0, \"weight\": 2835, \"acceleration\": 14.7, \"model year\": 82, \"origin\": 1, \"car name\": \"ford granada l\"}, {\"kpg\": 51.4976, \"cylinders\": 4, \"displacement\": 144.0, \"horsepower\": 96.0, \"weight\": 2665, \"acceleration\": 13.9, \"model year\": 82, \"origin\": 3, \"car name\": \"toyota celica gt\"}, {\"kpg\": 57.934799999999996, \"cylinders\": 4, \"displacement\": 135.0, \"horsepower\": 84.0, \"weight\": 2370, \"acceleration\": 13.0, \"model year\": 82, \"origin\": 1, \"car name\": \"dodge charger 2.2\"}, {\"kpg\": 43.4511, \"cylinders\": 4, \"displacement\": 151.0, \"horsepower\": 90.0, \"weight\": 2950, \"acceleration\": 17.3, \"model year\": 82, \"origin\": 1, \"car name\": \"chevrolet camaro\"}, {\"kpg\": 43.4511, \"cylinders\": 4, \"displacement\": 140.0, \"horsepower\": 86.0, \"weight\": 2790, \"acceleration\": 15.6, \"model year\": 82, \"origin\": 1, \"car name\": \"ford mustang gl\"}, {\"kpg\": 70.8092, \"cylinders\": 4, \"displacement\": 97.0, \"horsepower\": 52.0, \"weight\": 2130, \"acceleration\": 24.6, \"model year\": 82, \"origin\": 2, \"car name\": \"vw pickup\"}, {\"kpg\": 51.4976, \"cylinders\": 4, \"displacement\": 135.0, \"horsepower\": 84.0, \"weight\": 2295, \"acceleration\": 11.6, \"model year\": 82, \"origin\": 1, \"car name\": \"dodge rampage\"}, {\"kpg\": 45.0604, \"cylinders\": 4, \"displacement\": 120.0, \"horsepower\": 79.0, \"weight\": 2625, \"acceleration\": 18.6, \"model year\": 82, \"origin\": 1, \"car name\": \"ford ranger\"}, {\"kpg\": 49.8883, \"cylinders\": 4, \"displacement\": 119.0, \"horsepower\": 82.0, \"weight\": 2720, \"acceleration\": 19.4, \"model year\": 82, \"origin\": 1, \"car name\": \"chevy s-10\"}]}}, {\"mode\": \"vega-lite\"});\n",
              "</script>"
            ]
          },
          "metadata": {},
          "execution_count": 37
        }
      ]
    },
    {
      "cell_type": "markdown",
      "source": [
        "## **Actividad 11. 'Juegue' con el dataset y genere al menos dos preguntas cuya respuesta pueda mostrar de manera gráfica, por ejemplo: cómo se comporta el consumo de acuerdo a la marca de los autos.**"
      ],
      "metadata": {
        "id": "vuLkOX912YCJ"
      }
    },
    {
      "cell_type": "markdown",
      "source": [
        "**Como se comporta el consumo de acuerdo al peso del vehiculo?**\n"
      ],
      "metadata": {
        "id": "icfC-qmKUSwk"
      }
    },
    {
      "cell_type": "code",
      "source": [
        "alt.Chart(df_no_nan).mark_point().encode(\n",
        "  x='kpg',\n",
        "  y='weight'\n",
        ").interactive()"
      ],
      "metadata": {
        "colab": {
          "base_uri": "https://localhost:8080/",
          "height": 368
        },
        "id": "9XvubSdeUXGd",
        "outputId": "6567eb83-df69-4e92-b2a8-c02b7c17d5a6"
      },
      "execution_count": null,
      "outputs": [
        {
          "output_type": "execute_result",
          "data": {
            "text/plain": [
              "alt.Chart(...)"
            ],
            "text/html": [
              "\n",
              "<div id=\"altair-viz-a3495e327d604a88a5b91d9994b6a63b\"></div>\n",
              "<script type=\"text/javascript\">\n",
              "  var VEGA_DEBUG = (typeof VEGA_DEBUG == \"undefined\") ? {} : VEGA_DEBUG;\n",
              "  (function(spec, embedOpt){\n",
              "    let outputDiv = document.currentScript.previousElementSibling;\n",
              "    if (outputDiv.id !== \"altair-viz-a3495e327d604a88a5b91d9994b6a63b\") {\n",
              "      outputDiv = document.getElementById(\"altair-viz-a3495e327d604a88a5b91d9994b6a63b\");\n",
              "    }\n",
              "    const paths = {\n",
              "      \"vega\": \"https://cdn.jsdelivr.net/npm//vega@5?noext\",\n",
              "      \"vega-lib\": \"https://cdn.jsdelivr.net/npm//vega-lib?noext\",\n",
              "      \"vega-lite\": \"https://cdn.jsdelivr.net/npm//vega-lite@4.17.0?noext\",\n",
              "      \"vega-embed\": \"https://cdn.jsdelivr.net/npm//vega-embed@6?noext\",\n",
              "    };\n",
              "\n",
              "    function maybeLoadScript(lib, version) {\n",
              "      var key = `${lib.replace(\"-\", \"\")}_version`;\n",
              "      return (VEGA_DEBUG[key] == version) ?\n",
              "        Promise.resolve(paths[lib]) :\n",
              "        new Promise(function(resolve, reject) {\n",
              "          var s = document.createElement('script');\n",
              "          document.getElementsByTagName(\"head\")[0].appendChild(s);\n",
              "          s.async = true;\n",
              "          s.onload = () => {\n",
              "            VEGA_DEBUG[key] = version;\n",
              "            return resolve(paths[lib]);\n",
              "          };\n",
              "          s.onerror = () => reject(`Error loading script: ${paths[lib]}`);\n",
              "          s.src = paths[lib];\n",
              "        });\n",
              "    }\n",
              "\n",
              "    function showError(err) {\n",
              "      outputDiv.innerHTML = `<div class=\"error\" style=\"color:red;\">${err}</div>`;\n",
              "      throw err;\n",
              "    }\n",
              "\n",
              "    function displayChart(vegaEmbed) {\n",
              "      vegaEmbed(outputDiv, spec, embedOpt)\n",
              "        .catch(err => showError(`Javascript Error: ${err.message}<br>This usually means there's a typo in your chart specification. See the javascript console for the full traceback.`));\n",
              "    }\n",
              "\n",
              "    if(typeof define === \"function\" && define.amd) {\n",
              "      requirejs.config({paths});\n",
              "      require([\"vega-embed\"], displayChart, err => showError(`Error loading script: ${err.message}`));\n",
              "    } else {\n",
              "      maybeLoadScript(\"vega\", \"5\")\n",
              "        .then(() => maybeLoadScript(\"vega-lite\", \"4.17.0\"))\n",
              "        .then(() => maybeLoadScript(\"vega-embed\", \"6\"))\n",
              "        .catch(showError)\n",
              "        .then(() => displayChart(vegaEmbed));\n",
              "    }\n",
              "  })({\"config\": {\"view\": {\"continuousWidth\": 400, \"continuousHeight\": 300}}, \"data\": {\"name\": \"data-7dcf5ec155028221e735d538abbe5702\"}, \"mark\": \"point\", \"encoding\": {\"x\": {\"field\": \"kpg\", \"type\": \"quantitative\"}, \"y\": {\"field\": \"weight\", \"type\": \"quantitative\"}}, \"selection\": {\"selector003\": {\"type\": \"interval\", \"bind\": \"scales\", \"encodings\": [\"x\", \"y\"]}}, \"$schema\": \"https://vega.github.io/schema/vega-lite/v4.17.0.json\", \"datasets\": {\"data-7dcf5ec155028221e735d538abbe5702\": [{\"kpg\": 28.967399999999998, \"cylinders\": 8, \"displacement\": 307.0, \"horsepower\": 130.0, \"weight\": 3504, \"acceleration\": 12.0, \"model year\": 70, \"origin\": 1, \"car name\": \"chevrolet chevelle malibu\"}, {\"kpg\": 24.139499999999998, \"cylinders\": 8, \"displacement\": 350.0, \"horsepower\": 165.0, \"weight\": 3693, \"acceleration\": 11.5, \"model year\": 70, \"origin\": 1, \"car name\": \"buick skylark 320\"}, {\"kpg\": 28.967399999999998, \"cylinders\": 8, \"displacement\": 318.0, \"horsepower\": 150.0, \"weight\": 3436, \"acceleration\": 11.0, \"model year\": 70, \"origin\": 1, \"car name\": \"plymouth satellite\"}, {\"kpg\": 25.7488, \"cylinders\": 8, \"displacement\": 304.0, \"horsepower\": 150.0, \"weight\": 3433, \"acceleration\": 12.0, \"model year\": 70, \"origin\": 1, \"car name\": \"amc rebel sst\"}, {\"kpg\": 27.3581, \"cylinders\": 8, \"displacement\": 302.0, \"horsepower\": 140.0, \"weight\": 3449, \"acceleration\": 10.5, \"model year\": 70, \"origin\": 1, \"car name\": \"ford torino\"}, {\"kpg\": 24.139499999999998, \"cylinders\": 8, \"displacement\": 429.0, \"horsepower\": 198.0, \"weight\": 4341, \"acceleration\": 10.0, \"model year\": 70, \"origin\": 1, \"car name\": \"ford galaxie 500\"}, {\"kpg\": 22.5302, \"cylinders\": 8, \"displacement\": 454.0, \"horsepower\": 220.0, \"weight\": 4354, \"acceleration\": 9.0, \"model year\": 70, \"origin\": 1, \"car name\": \"chevrolet impala\"}, {\"kpg\": 22.5302, \"cylinders\": 8, \"displacement\": 440.0, \"horsepower\": 215.0, \"weight\": 4312, \"acceleration\": 8.5, \"model year\": 70, \"origin\": 1, \"car name\": \"plymouth fury iii\"}, {\"kpg\": 22.5302, \"cylinders\": 8, \"displacement\": 455.0, \"horsepower\": 225.0, \"weight\": 4425, \"acceleration\": 10.0, \"model year\": 70, \"origin\": 1, \"car name\": \"pontiac catalina\"}, {\"kpg\": 24.139499999999998, \"cylinders\": 8, \"displacement\": 390.0, \"horsepower\": 190.0, \"weight\": 3850, \"acceleration\": 8.5, \"model year\": 70, \"origin\": 1, \"car name\": \"amc ambassador dpl\"}, {\"kpg\": 24.139499999999998, \"cylinders\": 8, \"displacement\": 383.0, \"horsepower\": 170.0, \"weight\": 3563, \"acceleration\": 10.0, \"model year\": 70, \"origin\": 1, \"car name\": \"dodge challenger se\"}, {\"kpg\": 22.5302, \"cylinders\": 8, \"displacement\": 340.0, \"horsepower\": 160.0, \"weight\": 3609, \"acceleration\": 8.0, \"model year\": 70, \"origin\": 1, \"car name\": \"plymouth 'cuda 340\"}, {\"kpg\": 24.139499999999998, \"cylinders\": 8, \"displacement\": 400.0, \"horsepower\": 150.0, \"weight\": 3761, \"acceleration\": 9.5, \"model year\": 70, \"origin\": 1, \"car name\": \"chevrolet monte carlo\"}, {\"kpg\": 22.5302, \"cylinders\": 8, \"displacement\": 455.0, \"horsepower\": 225.0, \"weight\": 3086, \"acceleration\": 10.0, \"model year\": 70, \"origin\": 1, \"car name\": \"buick estate wagon (sw)\"}, {\"kpg\": 38.6232, \"cylinders\": 4, \"displacement\": 113.0, \"horsepower\": 95.0, \"weight\": 2372, \"acceleration\": 15.0, \"model year\": 70, \"origin\": 3, \"car name\": \"toyota corona mark ii\"}, {\"kpg\": 35.4046, \"cylinders\": 6, \"displacement\": 198.0, \"horsepower\": 95.0, \"weight\": 2833, \"acceleration\": 15.5, \"model year\": 70, \"origin\": 1, \"car name\": \"plymouth duster\"}, {\"kpg\": 28.967399999999998, \"cylinders\": 6, \"displacement\": 199.0, \"horsepower\": 97.0, \"weight\": 2774, \"acceleration\": 15.5, \"model year\": 70, \"origin\": 1, \"car name\": \"amc hornet\"}, {\"kpg\": 33.7953, \"cylinders\": 6, \"displacement\": 200.0, \"horsepower\": 85.0, \"weight\": 2587, \"acceleration\": 16.0, \"model year\": 70, \"origin\": 1, \"car name\": \"ford maverick\"}, {\"kpg\": 43.4511, \"cylinders\": 4, \"displacement\": 97.0, \"horsepower\": 88.0, \"weight\": 2130, \"acceleration\": 14.5, \"model year\": 70, \"origin\": 3, \"car name\": \"datsun pl510\"}, {\"kpg\": 41.8418, \"cylinders\": 4, \"displacement\": 97.0, \"horsepower\": 46.0, \"weight\": 1835, \"acceleration\": 20.5, \"model year\": 70, \"origin\": 2, \"car name\": \"volkswagen 1131 deluxe sedan\"}, {\"kpg\": 40.2325, \"cylinders\": 4, \"displacement\": 110.0, \"horsepower\": 87.0, \"weight\": 2672, \"acceleration\": 17.5, \"model year\": 70, \"origin\": 2, \"car name\": \"peugeot 504\"}, {\"kpg\": 38.6232, \"cylinders\": 4, \"displacement\": 107.0, \"horsepower\": 90.0, \"weight\": 2430, \"acceleration\": 14.5, \"model year\": 70, \"origin\": 2, \"car name\": \"audi 100 ls\"}, {\"kpg\": 40.2325, \"cylinders\": 4, \"displacement\": 104.0, \"horsepower\": 95.0, \"weight\": 2375, \"acceleration\": 17.5, \"model year\": 70, \"origin\": 2, \"car name\": \"saab 99e\"}, {\"kpg\": 41.8418, \"cylinders\": 4, \"displacement\": 121.0, \"horsepower\": 113.0, \"weight\": 2234, \"acceleration\": 12.5, \"model year\": 70, \"origin\": 2, \"car name\": \"bmw 2002\"}, {\"kpg\": 33.7953, \"cylinders\": 6, \"displacement\": 199.0, \"horsepower\": 90.0, \"weight\": 2648, \"acceleration\": 15.0, \"model year\": 70, \"origin\": 1, \"car name\": \"amc gremlin\"}, {\"kpg\": 16.093, \"cylinders\": 8, \"displacement\": 360.0, \"horsepower\": 215.0, \"weight\": 4615, \"acceleration\": 14.0, \"model year\": 70, \"origin\": 1, \"car name\": \"ford f250\"}, {\"kpg\": 16.093, \"cylinders\": 8, \"displacement\": 307.0, \"horsepower\": 200.0, \"weight\": 4376, \"acceleration\": 15.0, \"model year\": 70, \"origin\": 1, \"car name\": \"chevy c20\"}, {\"kpg\": 17.7023, \"cylinders\": 8, \"displacement\": 318.0, \"horsepower\": 210.0, \"weight\": 4382, \"acceleration\": 13.5, \"model year\": 70, \"origin\": 1, \"car name\": \"dodge d200\"}, {\"kpg\": 14.483699999999999, \"cylinders\": 8, \"displacement\": 304.0, \"horsepower\": 193.0, \"weight\": 4732, \"acceleration\": 18.5, \"model year\": 70, \"origin\": 1, \"car name\": \"hi 1200d\"}, {\"kpg\": 43.4511, \"cylinders\": 4, \"displacement\": 97.0, \"horsepower\": 88.0, \"weight\": 2130, \"acceleration\": 14.5, \"model year\": 71, \"origin\": 3, \"car name\": \"datsun pl510\"}, {\"kpg\": 45.0604, \"cylinders\": 4, \"displacement\": 140.0, \"horsepower\": 90.0, \"weight\": 2264, \"acceleration\": 15.5, \"model year\": 71, \"origin\": 1, \"car name\": \"chevrolet vega 2300\"}, {\"kpg\": 40.2325, \"cylinders\": 4, \"displacement\": 113.0, \"horsepower\": 95.0, \"weight\": 2228, \"acceleration\": 14.0, \"model year\": 71, \"origin\": 3, \"car name\": \"toyota corona\"}, {\"kpg\": 40.2325, \"cylinders\": 4, \"displacement\": 98.0, \"horsepower\": 104.46938775510205, \"weight\": 2046, \"acceleration\": 19.0, \"model year\": 71, \"origin\": 1, \"car name\": \"ford pinto\"}, {\"kpg\": 30.5767, \"cylinders\": 6, \"displacement\": 232.0, \"horsepower\": 100.0, \"weight\": 2634, \"acceleration\": 13.0, \"model year\": 71, \"origin\": 1, \"car name\": \"amc gremlin\"}, {\"kpg\": 25.7488, \"cylinders\": 6, \"displacement\": 225.0, \"horsepower\": 105.0, \"weight\": 3439, \"acceleration\": 15.5, \"model year\": 71, \"origin\": 1, \"car name\": \"plymouth satellite custom\"}, {\"kpg\": 27.3581, \"cylinders\": 6, \"displacement\": 250.0, \"horsepower\": 100.0, \"weight\": 3329, \"acceleration\": 15.5, \"model year\": 71, \"origin\": 1, \"car name\": \"chevrolet chevelle malibu\"}, {\"kpg\": 30.5767, \"cylinders\": 6, \"displacement\": 250.0, \"horsepower\": 88.0, \"weight\": 3302, \"acceleration\": 15.5, \"model year\": 71, \"origin\": 1, \"car name\": \"ford torino 500\"}, {\"kpg\": 28.967399999999998, \"cylinders\": 6, \"displacement\": 232.0, \"horsepower\": 100.0, \"weight\": 3288, \"acceleration\": 15.5, \"model year\": 71, \"origin\": 1, \"car name\": \"amc matador\"}, {\"kpg\": 22.5302, \"cylinders\": 8, \"displacement\": 350.0, \"horsepower\": 165.0, \"weight\": 4209, \"acceleration\": 12.0, \"model year\": 71, \"origin\": 1, \"car name\": \"chevrolet impala\"}, {\"kpg\": 22.5302, \"cylinders\": 8, \"displacement\": 400.0, \"horsepower\": 175.0, \"weight\": 4464, \"acceleration\": 11.5, \"model year\": 71, \"origin\": 1, \"car name\": \"pontiac catalina brougham\"}, {\"kpg\": 22.5302, \"cylinders\": 8, \"displacement\": 351.0, \"horsepower\": 153.0, \"weight\": 4154, \"acceleration\": 13.5, \"model year\": 71, \"origin\": 1, \"car name\": \"ford galaxie 500\"}, {\"kpg\": 22.5302, \"cylinders\": 8, \"displacement\": 318.0, \"horsepower\": 150.0, \"weight\": 4096, \"acceleration\": 13.0, \"model year\": 71, \"origin\": 1, \"car name\": \"plymouth fury iii\"}, {\"kpg\": 19.3116, \"cylinders\": 8, \"displacement\": 383.0, \"horsepower\": 180.0, \"weight\": 4955, \"acceleration\": 11.5, \"model year\": 71, \"origin\": 1, \"car name\": \"dodge monaco (sw)\"}, {\"kpg\": 20.9209, \"cylinders\": 8, \"displacement\": 400.0, \"horsepower\": 170.0, \"weight\": 4746, \"acceleration\": 12.0, \"model year\": 71, \"origin\": 1, \"car name\": \"ford country squire (sw)\"}, {\"kpg\": 20.9209, \"cylinders\": 8, \"displacement\": 400.0, \"horsepower\": 175.0, \"weight\": 5140, \"acceleration\": 12.0, \"model year\": 71, \"origin\": 1, \"car name\": \"pontiac safari (sw)\"}, {\"kpg\": 28.967399999999998, \"cylinders\": 6, \"displacement\": 258.0, \"horsepower\": 110.0, \"weight\": 2962, \"acceleration\": 13.5, \"model year\": 71, \"origin\": 1, \"car name\": \"amc hornet sportabout (sw)\"}, {\"kpg\": 35.4046, \"cylinders\": 4, \"displacement\": 140.0, \"horsepower\": 72.0, \"weight\": 2408, \"acceleration\": 19.0, \"model year\": 71, \"origin\": 1, \"car name\": \"chevrolet vega (sw)\"}, {\"kpg\": 30.5767, \"cylinders\": 6, \"displacement\": 250.0, \"horsepower\": 100.0, \"weight\": 3282, \"acceleration\": 15.0, \"model year\": 71, \"origin\": 1, \"car name\": \"pontiac firebird\"}, {\"kpg\": 28.967399999999998, \"cylinders\": 6, \"displacement\": 250.0, \"horsepower\": 88.0, \"weight\": 3139, \"acceleration\": 14.5, \"model year\": 71, \"origin\": 1, \"car name\": \"ford mustang\"}, {\"kpg\": 37.0139, \"cylinders\": 4, \"displacement\": 122.0, \"horsepower\": 86.0, \"weight\": 2220, \"acceleration\": 14.0, \"model year\": 71, \"origin\": 1, \"car name\": \"mercury capri 2000\"}, {\"kpg\": 45.0604, \"cylinders\": 4, \"displacement\": 116.0, \"horsepower\": 90.0, \"weight\": 2123, \"acceleration\": 14.0, \"model year\": 71, \"origin\": 2, \"car name\": \"opel 1900\"}, {\"kpg\": 48.278999999999996, \"cylinders\": 4, \"displacement\": 79.0, \"horsepower\": 70.0, \"weight\": 2074, \"acceleration\": 19.5, \"model year\": 71, \"origin\": 2, \"car name\": \"peugeot 304\"}, {\"kpg\": 48.278999999999996, \"cylinders\": 4, \"displacement\": 88.0, \"horsepower\": 76.0, \"weight\": 2065, \"acceleration\": 14.5, \"model year\": 71, \"origin\": 2, \"car name\": \"fiat 124b\"}, {\"kpg\": 49.8883, \"cylinders\": 4, \"displacement\": 71.0, \"horsepower\": 65.0, \"weight\": 1773, \"acceleration\": 19.0, \"model year\": 71, \"origin\": 3, \"car name\": \"toyota corolla 1200\"}, {\"kpg\": 56.3255, \"cylinders\": 4, \"displacement\": 72.0, \"horsepower\": 69.0, \"weight\": 1613, \"acceleration\": 18.0, \"model year\": 71, \"origin\": 3, \"car name\": \"datsun 1200\"}, {\"kpg\": 43.4511, \"cylinders\": 4, \"displacement\": 97.0, \"horsepower\": 60.0, \"weight\": 1834, \"acceleration\": 19.0, \"model year\": 71, \"origin\": 2, \"car name\": \"volkswagen model 111\"}, {\"kpg\": 41.8418, \"cylinders\": 4, \"displacement\": 91.0, \"horsepower\": 70.0, \"weight\": 1955, \"acceleration\": 20.5, \"model year\": 71, \"origin\": 1, \"car name\": \"plymouth cricket\"}, {\"kpg\": 38.6232, \"cylinders\": 4, \"displacement\": 113.0, \"horsepower\": 95.0, \"weight\": 2278, \"acceleration\": 15.5, \"model year\": 72, \"origin\": 3, \"car name\": \"toyota corona hardtop\"}, {\"kpg\": 40.2325, \"cylinders\": 4, \"displacement\": 97.5, \"horsepower\": 80.0, \"weight\": 2126, \"acceleration\": 17.0, \"model year\": 72, \"origin\": 1, \"car name\": \"dodge colt hardtop\"}, {\"kpg\": 37.0139, \"cylinders\": 4, \"displacement\": 97.0, \"horsepower\": 54.0, \"weight\": 2254, \"acceleration\": 23.5, \"model year\": 72, \"origin\": 2, \"car name\": \"volkswagen type 3\"}, {\"kpg\": 32.186, \"cylinders\": 4, \"displacement\": 140.0, \"horsepower\": 90.0, \"weight\": 2408, \"acceleration\": 19.5, \"model year\": 72, \"origin\": 1, \"car name\": \"chevrolet vega\"}, {\"kpg\": 33.7953, \"cylinders\": 4, \"displacement\": 122.0, \"horsepower\": 86.0, \"weight\": 2226, \"acceleration\": 16.5, \"model year\": 72, \"origin\": 1, \"car name\": \"ford pinto runabout\"}, {\"kpg\": 20.9209, \"cylinders\": 8, \"displacement\": 350.0, \"horsepower\": 165.0, \"weight\": 4274, \"acceleration\": 12.0, \"model year\": 72, \"origin\": 1, \"car name\": \"chevrolet impala\"}, {\"kpg\": 22.5302, \"cylinders\": 8, \"displacement\": 400.0, \"horsepower\": 175.0, \"weight\": 4385, \"acceleration\": 12.0, \"model year\": 72, \"origin\": 1, \"car name\": \"pontiac catalina\"}, {\"kpg\": 24.139499999999998, \"cylinders\": 8, \"displacement\": 318.0, \"horsepower\": 150.0, \"weight\": 4135, \"acceleration\": 13.5, \"model year\": 72, \"origin\": 1, \"car name\": \"plymouth fury iii\"}, {\"kpg\": 22.5302, \"cylinders\": 8, \"displacement\": 351.0, \"horsepower\": 153.0, \"weight\": 4129, \"acceleration\": 13.0, \"model year\": 72, \"origin\": 1, \"car name\": \"ford galaxie 500\"}, {\"kpg\": 27.3581, \"cylinders\": 8, \"displacement\": 304.0, \"horsepower\": 150.0, \"weight\": 3672, \"acceleration\": 11.5, \"model year\": 72, \"origin\": 1, \"car name\": \"amc ambassador sst\"}, {\"kpg\": 17.7023, \"cylinders\": 8, \"displacement\": 429.0, \"horsepower\": 208.0, \"weight\": 4633, \"acceleration\": 11.0, \"model year\": 72, \"origin\": 1, \"car name\": \"mercury marquis\"}, {\"kpg\": 20.9209, \"cylinders\": 8, \"displacement\": 350.0, \"horsepower\": 155.0, \"weight\": 4502, \"acceleration\": 13.5, \"model year\": 72, \"origin\": 1, \"car name\": \"buick lesabre custom\"}, {\"kpg\": 19.3116, \"cylinders\": 8, \"displacement\": 350.0, \"horsepower\": 160.0, \"weight\": 4456, \"acceleration\": 13.5, \"model year\": 72, \"origin\": 1, \"car name\": \"oldsmobile delta 88 royale\"}, {\"kpg\": 20.9209, \"cylinders\": 8, \"displacement\": 400.0, \"horsepower\": 190.0, \"weight\": 4422, \"acceleration\": 12.5, \"model year\": 72, \"origin\": 1, \"car name\": \"chrysler newport royal\"}, {\"kpg\": 30.5767, \"cylinders\": 3, \"displacement\": 70.0, \"horsepower\": 97.0, \"weight\": 2330, \"acceleration\": 13.5, \"model year\": 72, \"origin\": 3, \"car name\": \"mazda rx2 coupe\"}, {\"kpg\": 24.139499999999998, \"cylinders\": 8, \"displacement\": 304.0, \"horsepower\": 150.0, \"weight\": 3892, \"acceleration\": 12.5, \"model year\": 72, \"origin\": 1, \"car name\": \"amc matador (sw)\"}, {\"kpg\": 20.9209, \"cylinders\": 8, \"displacement\": 307.0, \"horsepower\": 130.0, \"weight\": 4098, \"acceleration\": 14.0, \"model year\": 72, \"origin\": 1, \"car name\": \"chevrolet chevelle concours (sw)\"}, {\"kpg\": 20.9209, \"cylinders\": 8, \"displacement\": 302.0, \"horsepower\": 140.0, \"weight\": 4294, \"acceleration\": 16.0, \"model year\": 72, \"origin\": 1, \"car name\": \"ford gran torino (sw)\"}, {\"kpg\": 22.5302, \"cylinders\": 8, \"displacement\": 318.0, \"horsepower\": 150.0, \"weight\": 4077, \"acceleration\": 14.0, \"model year\": 72, \"origin\": 1, \"car name\": \"plymouth satellite custom (sw)\"}, {\"kpg\": 28.967399999999998, \"cylinders\": 4, \"displacement\": 121.0, \"horsepower\": 112.0, \"weight\": 2933, \"acceleration\": 14.5, \"model year\": 72, \"origin\": 2, \"car name\": \"volvo 145e (sw)\"}, {\"kpg\": 35.4046, \"cylinders\": 4, \"displacement\": 121.0, \"horsepower\": 76.0, \"weight\": 2511, \"acceleration\": 18.0, \"model year\": 72, \"origin\": 2, \"car name\": \"volkswagen 411 (sw)\"}, {\"kpg\": 33.7953, \"cylinders\": 4, \"displacement\": 120.0, \"horsepower\": 87.0, \"weight\": 2979, \"acceleration\": 19.5, \"model year\": 72, \"origin\": 2, \"car name\": \"peugeot 504 (sw)\"}, {\"kpg\": 41.8418, \"cylinders\": 4, \"displacement\": 96.0, \"horsepower\": 69.0, \"weight\": 2189, \"acceleration\": 18.0, \"model year\": 72, \"origin\": 2, \"car name\": \"renault 12 (sw)\"}, {\"kpg\": 35.4046, \"cylinders\": 4, \"displacement\": 122.0, \"horsepower\": 86.0, \"weight\": 2395, \"acceleration\": 16.0, \"model year\": 72, \"origin\": 1, \"car name\": \"ford pinto (sw)\"}, {\"kpg\": 45.0604, \"cylinders\": 4, \"displacement\": 97.0, \"horsepower\": 92.0, \"weight\": 2288, \"acceleration\": 17.0, \"model year\": 72, \"origin\": 3, \"car name\": \"datsun 510 (sw)\"}, {\"kpg\": 37.0139, \"cylinders\": 4, \"displacement\": 120.0, \"horsepower\": 97.0, \"weight\": 2506, \"acceleration\": 14.5, \"model year\": 72, \"origin\": 3, \"car name\": \"toyouta corona mark ii (sw)\"}, {\"kpg\": 45.0604, \"cylinders\": 4, \"displacement\": 98.0, \"horsepower\": 80.0, \"weight\": 2164, \"acceleration\": 15.0, \"model year\": 72, \"origin\": 1, \"car name\": \"dodge colt (sw)\"}, {\"kpg\": 43.4511, \"cylinders\": 4, \"displacement\": 97.0, \"horsepower\": 88.0, \"weight\": 2100, \"acceleration\": 16.5, \"model year\": 72, \"origin\": 3, \"car name\": \"toyota corolla 1600 (sw)\"}, {\"kpg\": 20.9209, \"cylinders\": 8, \"displacement\": 350.0, \"horsepower\": 175.0, \"weight\": 4100, \"acceleration\": 13.0, \"model year\": 73, \"origin\": 1, \"car name\": \"buick century 350\"}, {\"kpg\": 22.5302, \"cylinders\": 8, \"displacement\": 304.0, \"horsepower\": 150.0, \"weight\": 3672, \"acceleration\": 11.5, \"model year\": 73, \"origin\": 1, \"car name\": \"amc matador\"}, {\"kpg\": 20.9209, \"cylinders\": 8, \"displacement\": 350.0, \"horsepower\": 145.0, \"weight\": 3988, \"acceleration\": 13.0, \"model year\": 73, \"origin\": 1, \"car name\": \"chevrolet malibu\"}, {\"kpg\": 22.5302, \"cylinders\": 8, \"displacement\": 302.0, \"horsepower\": 137.0, \"weight\": 4042, \"acceleration\": 14.5, \"model year\": 73, \"origin\": 1, \"car name\": \"ford gran torino\"}, {\"kpg\": 24.139499999999998, \"cylinders\": 8, \"displacement\": 318.0, \"horsepower\": 150.0, \"weight\": 3777, \"acceleration\": 12.5, \"model year\": 73, \"origin\": 1, \"car name\": \"dodge coronet custom\"}, {\"kpg\": 19.3116, \"cylinders\": 8, \"displacement\": 429.0, \"horsepower\": 198.0, \"weight\": 4952, \"acceleration\": 11.5, \"model year\": 73, \"origin\": 1, \"car name\": \"mercury marquis brougham\"}, {\"kpg\": 20.9209, \"cylinders\": 8, \"displacement\": 400.0, \"horsepower\": 150.0, \"weight\": 4464, \"acceleration\": 12.0, \"model year\": 73, \"origin\": 1, \"car name\": \"chevrolet caprice classic\"}, {\"kpg\": 20.9209, \"cylinders\": 8, \"displacement\": 351.0, \"horsepower\": 158.0, \"weight\": 4363, \"acceleration\": 13.0, \"model year\": 73, \"origin\": 1, \"car name\": \"ford ltd\"}, {\"kpg\": 22.5302, \"cylinders\": 8, \"displacement\": 318.0, \"horsepower\": 150.0, \"weight\": 4237, \"acceleration\": 14.5, \"model year\": 73, \"origin\": 1, \"car name\": \"plymouth fury gran sedan\"}, {\"kpg\": 20.9209, \"cylinders\": 8, \"displacement\": 440.0, \"horsepower\": 215.0, \"weight\": 4735, \"acceleration\": 11.0, \"model year\": 73, \"origin\": 1, \"car name\": \"chrysler new yorker brougham\"}, {\"kpg\": 19.3116, \"cylinders\": 8, \"displacement\": 455.0, \"horsepower\": 225.0, \"weight\": 4951, \"acceleration\": 11.0, \"model year\": 73, \"origin\": 1, \"car name\": \"buick electra 225 custom\"}, {\"kpg\": 20.9209, \"cylinders\": 8, \"displacement\": 360.0, \"horsepower\": 175.0, \"weight\": 3821, \"acceleration\": 11.0, \"model year\": 73, \"origin\": 1, \"car name\": \"amc ambassador brougham\"}, {\"kpg\": 28.967399999999998, \"cylinders\": 6, \"displacement\": 225.0, \"horsepower\": 105.0, \"weight\": 3121, \"acceleration\": 16.5, \"model year\": 73, \"origin\": 1, \"car name\": \"plymouth valiant\"}, {\"kpg\": 25.7488, \"cylinders\": 6, \"displacement\": 250.0, \"horsepower\": 100.0, \"weight\": 3278, \"acceleration\": 18.0, \"model year\": 73, \"origin\": 1, \"car name\": \"chevrolet nova custom\"}, {\"kpg\": 28.967399999999998, \"cylinders\": 6, \"displacement\": 232.0, \"horsepower\": 100.0, \"weight\": 2945, \"acceleration\": 16.0, \"model year\": 73, \"origin\": 1, \"car name\": \"amc hornet\"}, {\"kpg\": 28.967399999999998, \"cylinders\": 6, \"displacement\": 250.0, \"horsepower\": 88.0, \"weight\": 3021, \"acceleration\": 16.5, \"model year\": 73, \"origin\": 1, \"car name\": \"ford maverick\"}, {\"kpg\": 37.0139, \"cylinders\": 6, \"displacement\": 198.0, \"horsepower\": 95.0, \"weight\": 2904, \"acceleration\": 16.0, \"model year\": 73, \"origin\": 1, \"car name\": \"plymouth duster\"}, {\"kpg\": 41.8418, \"cylinders\": 4, \"displacement\": 97.0, \"horsepower\": 46.0, \"weight\": 1950, \"acceleration\": 21.0, \"model year\": 73, \"origin\": 2, \"car name\": \"volkswagen super beetle\"}, {\"kpg\": 17.7023, \"cylinders\": 8, \"displacement\": 400.0, \"horsepower\": 150.0, \"weight\": 4997, \"acceleration\": 14.0, \"model year\": 73, \"origin\": 1, \"car name\": \"chevrolet impala\"}, {\"kpg\": 19.3116, \"cylinders\": 8, \"displacement\": 400.0, \"horsepower\": 167.0, \"weight\": 4906, \"acceleration\": 12.5, \"model year\": 73, \"origin\": 1, \"car name\": \"ford country\"}, {\"kpg\": 20.9209, \"cylinders\": 8, \"displacement\": 360.0, \"horsepower\": 170.0, \"weight\": 4654, \"acceleration\": 13.0, \"model year\": 73, \"origin\": 1, \"car name\": \"plymouth custom suburb\"}, {\"kpg\": 19.3116, \"cylinders\": 8, \"displacement\": 350.0, \"horsepower\": 180.0, \"weight\": 4499, \"acceleration\": 12.5, \"model year\": 73, \"origin\": 1, \"car name\": \"oldsmobile vista cruiser\"}, {\"kpg\": 28.967399999999998, \"cylinders\": 6, \"displacement\": 232.0, \"horsepower\": 100.0, \"weight\": 2789, \"acceleration\": 15.0, \"model year\": 73, \"origin\": 1, \"car name\": \"amc gremlin\"}, {\"kpg\": 32.186, \"cylinders\": 4, \"displacement\": 97.0, \"horsepower\": 88.0, \"weight\": 2279, \"acceleration\": 19.0, \"model year\": 73, \"origin\": 3, \"car name\": \"toyota carina\"}, {\"kpg\": 33.7953, \"cylinders\": 4, \"displacement\": 140.0, \"horsepower\": 72.0, \"weight\": 2401, \"acceleration\": 19.5, \"model year\": 73, \"origin\": 1, \"car name\": \"chevrolet vega\"}, {\"kpg\": 35.4046, \"cylinders\": 4, \"displacement\": 108.0, \"horsepower\": 94.0, \"weight\": 2379, \"acceleration\": 16.5, \"model year\": 73, \"origin\": 3, \"car name\": \"datsun 610\"}, {\"kpg\": 28.967399999999998, \"cylinders\": 3, \"displacement\": 70.0, \"horsepower\": 90.0, \"weight\": 2124, \"acceleration\": 13.5, \"model year\": 73, \"origin\": 3, \"car name\": \"maxda rx3\"}, {\"kpg\": 30.5767, \"cylinders\": 4, \"displacement\": 122.0, \"horsepower\": 85.0, \"weight\": 2310, \"acceleration\": 18.5, \"model year\": 73, \"origin\": 1, \"car name\": \"ford pinto\"}, {\"kpg\": 33.7953, \"cylinders\": 6, \"displacement\": 155.0, \"horsepower\": 107.0, \"weight\": 2472, \"acceleration\": 14.0, \"model year\": 73, \"origin\": 1, \"car name\": \"mercury capri v6\"}, {\"kpg\": 41.8418, \"cylinders\": 4, \"displacement\": 98.0, \"horsepower\": 90.0, \"weight\": 2265, \"acceleration\": 15.5, \"model year\": 73, \"origin\": 2, \"car name\": \"fiat 124 sport coupe\"}, {\"kpg\": 24.139499999999998, \"cylinders\": 8, \"displacement\": 350.0, \"horsepower\": 145.0, \"weight\": 4082, \"acceleration\": 13.0, \"model year\": 73, \"origin\": 1, \"car name\": \"chevrolet monte carlo s\"}, {\"kpg\": 25.7488, \"cylinders\": 8, \"displacement\": 400.0, \"horsepower\": 230.0, \"weight\": 4278, \"acceleration\": 9.5, \"model year\": 73, \"origin\": 1, \"car name\": \"pontiac grand prix\"}, {\"kpg\": 46.6697, \"cylinders\": 4, \"displacement\": 68.0, \"horsepower\": 49.0, \"weight\": 1867, \"acceleration\": 19.5, \"model year\": 73, \"origin\": 2, \"car name\": \"fiat 128\"}, {\"kpg\": 38.6232, \"cylinders\": 4, \"displacement\": 116.0, \"horsepower\": 75.0, \"weight\": 2158, \"acceleration\": 15.5, \"model year\": 73, \"origin\": 2, \"car name\": \"opel manta\"}, {\"kpg\": 32.186, \"cylinders\": 4, \"displacement\": 114.0, \"horsepower\": 91.0, \"weight\": 2582, \"acceleration\": 14.0, \"model year\": 73, \"origin\": 2, \"car name\": \"audi 100ls\"}, {\"kpg\": 30.5767, \"cylinders\": 4, \"displacement\": 121.0, \"horsepower\": 112.0, \"weight\": 2868, \"acceleration\": 15.5, \"model year\": 73, \"origin\": 2, \"car name\": \"volvo 144ea\"}, {\"kpg\": 24.139499999999998, \"cylinders\": 8, \"displacement\": 318.0, \"horsepower\": 150.0, \"weight\": 3399, \"acceleration\": 11.0, \"model year\": 73, \"origin\": 1, \"car name\": \"dodge dart custom\"}, {\"kpg\": 38.6232, \"cylinders\": 4, \"displacement\": 121.0, \"horsepower\": 110.0, \"weight\": 2660, \"acceleration\": 14.0, \"model year\": 73, \"origin\": 2, \"car name\": \"saab 99le\"}, {\"kpg\": 32.186, \"cylinders\": 6, \"displacement\": 156.0, \"horsepower\": 122.0, \"weight\": 2807, \"acceleration\": 13.5, \"model year\": 73, \"origin\": 3, \"car name\": \"toyota mark ii\"}, {\"kpg\": 17.7023, \"cylinders\": 8, \"displacement\": 350.0, \"horsepower\": 180.0, \"weight\": 3664, \"acceleration\": 11.0, \"model year\": 73, \"origin\": 1, \"car name\": \"oldsmobile omega\"}, {\"kpg\": 32.186, \"cylinders\": 6, \"displacement\": 198.0, \"horsepower\": 95.0, \"weight\": 3102, \"acceleration\": 16.5, \"model year\": 74, \"origin\": 1, \"car name\": \"plymouth duster\"}, {\"kpg\": 33.7953, \"cylinders\": 6, \"displacement\": 200.0, \"horsepower\": 104.46938775510205, \"weight\": 2875, \"acceleration\": 17.0, \"model year\": 74, \"origin\": 1, \"car name\": \"ford maverick\"}, {\"kpg\": 30.5767, \"cylinders\": 6, \"displacement\": 232.0, \"horsepower\": 100.0, \"weight\": 2901, \"acceleration\": 16.0, \"model year\": 74, \"origin\": 1, \"car name\": \"amc hornet\"}, {\"kpg\": 24.139499999999998, \"cylinders\": 6, \"displacement\": 250.0, \"horsepower\": 100.0, \"weight\": 3336, \"acceleration\": 17.0, \"model year\": 74, \"origin\": 1, \"car name\": \"chevrolet nova\"}, {\"kpg\": 49.8883, \"cylinders\": 4, \"displacement\": 79.0, \"horsepower\": 67.0, \"weight\": 1950, \"acceleration\": 19.0, \"model year\": 74, \"origin\": 3, \"car name\": \"datsun b210\"}, {\"kpg\": 41.8418, \"cylinders\": 4, \"displacement\": 122.0, \"horsepower\": 80.0, \"weight\": 2451, \"acceleration\": 16.5, \"model year\": 74, \"origin\": 1, \"car name\": \"ford pinto\"}, {\"kpg\": 51.4976, \"cylinders\": 4, \"displacement\": 71.0, \"horsepower\": 65.0, \"weight\": 1836, \"acceleration\": 21.0, \"model year\": 74, \"origin\": 3, \"car name\": \"toyota corolla 1200\"}, {\"kpg\": 40.2325, \"cylinders\": 4, \"displacement\": 140.0, \"horsepower\": 75.0, \"weight\": 2542, \"acceleration\": 17.0, \"model year\": 74, \"origin\": 1, \"car name\": \"chevrolet vega\"}, {\"kpg\": 25.7488, \"cylinders\": 6, \"displacement\": 250.0, \"horsepower\": 100.0, \"weight\": 3781, \"acceleration\": 17.0, \"model year\": 74, \"origin\": 1, \"car name\": \"chevrolet chevelle malibu classic\"}, {\"kpg\": 25.7488, \"cylinders\": 6, \"displacement\": 258.0, \"horsepower\": 110.0, \"weight\": 3632, \"acceleration\": 18.0, \"model year\": 74, \"origin\": 1, \"car name\": \"amc matador\"}, {\"kpg\": 28.967399999999998, \"cylinders\": 6, \"displacement\": 225.0, \"horsepower\": 105.0, \"weight\": 3613, \"acceleration\": 16.5, \"model year\": 74, \"origin\": 1, \"car name\": \"plymouth satellite sebring\"}, {\"kpg\": 25.7488, \"cylinders\": 8, \"displacement\": 302.0, \"horsepower\": 140.0, \"weight\": 4141, \"acceleration\": 14.0, \"model year\": 74, \"origin\": 1, \"car name\": \"ford gran torino\"}, {\"kpg\": 20.9209, \"cylinders\": 8, \"displacement\": 350.0, \"horsepower\": 150.0, \"weight\": 4699, \"acceleration\": 14.5, \"model year\": 74, \"origin\": 1, \"car name\": \"buick century luxus (sw)\"}, {\"kpg\": 22.5302, \"cylinders\": 8, \"displacement\": 318.0, \"horsepower\": 150.0, \"weight\": 4457, \"acceleration\": 13.5, \"model year\": 74, \"origin\": 1, \"car name\": \"dodge coronet custom (sw)\"}, {\"kpg\": 22.5302, \"cylinders\": 8, \"displacement\": 302.0, \"horsepower\": 140.0, \"weight\": 4638, \"acceleration\": 16.0, \"model year\": 74, \"origin\": 1, \"car name\": \"ford gran torino (sw)\"}, {\"kpg\": 22.5302, \"cylinders\": 8, \"displacement\": 304.0, \"horsepower\": 150.0, \"weight\": 4257, \"acceleration\": 15.5, \"model year\": 74, \"origin\": 1, \"car name\": \"amc matador (sw)\"}, {\"kpg\": 46.6697, \"cylinders\": 4, \"displacement\": 98.0, \"horsepower\": 83.0, \"weight\": 2219, \"acceleration\": 16.5, \"model year\": 74, \"origin\": 2, \"car name\": \"audi fox\"}, {\"kpg\": 41.8418, \"cylinders\": 4, \"displacement\": 79.0, \"horsepower\": 67.0, \"weight\": 1963, \"acceleration\": 15.5, \"model year\": 74, \"origin\": 2, \"car name\": \"volkswagen dasher\"}, {\"kpg\": 41.8418, \"cylinders\": 4, \"displacement\": 97.0, \"horsepower\": 78.0, \"weight\": 2300, \"acceleration\": 14.5, \"model year\": 74, \"origin\": 2, \"car name\": \"opel manta\"}, {\"kpg\": 49.8883, \"cylinders\": 4, \"displacement\": 76.0, \"horsepower\": 52.0, \"weight\": 1649, \"acceleration\": 16.5, \"model year\": 74, \"origin\": 3, \"car name\": \"toyota corona\"}, {\"kpg\": 51.4976, \"cylinders\": 4, \"displacement\": 83.0, \"horsepower\": 61.0, \"weight\": 2003, \"acceleration\": 19.0, \"model year\": 74, \"origin\": 3, \"car name\": \"datsun 710\"}, {\"kpg\": 45.0604, \"cylinders\": 4, \"displacement\": 90.0, \"horsepower\": 75.0, \"weight\": 2125, \"acceleration\": 14.5, \"model year\": 74, \"origin\": 1, \"car name\": \"dodge colt\"}, {\"kpg\": 38.6232, \"cylinders\": 4, \"displacement\": 90.0, \"horsepower\": 75.0, \"weight\": 2108, \"acceleration\": 15.5, \"model year\": 74, \"origin\": 2, \"car name\": \"fiat 128\"}, {\"kpg\": 41.8418, \"cylinders\": 4, \"displacement\": 116.0, \"horsepower\": 75.0, \"weight\": 2246, \"acceleration\": 14.0, \"model year\": 74, \"origin\": 2, \"car name\": \"fiat 124 tc\"}, {\"kpg\": 38.6232, \"cylinders\": 4, \"displacement\": 120.0, \"horsepower\": 97.0, \"weight\": 2489, \"acceleration\": 15.0, \"model year\": 74, \"origin\": 3, \"car name\": \"honda civic\"}, {\"kpg\": 41.8418, \"cylinders\": 4, \"displacement\": 108.0, \"horsepower\": 93.0, \"weight\": 2391, \"acceleration\": 15.5, \"model year\": 74, \"origin\": 3, \"car name\": \"subaru\"}, {\"kpg\": 49.8883, \"cylinders\": 4, \"displacement\": 79.0, \"horsepower\": 67.0, \"weight\": 2000, \"acceleration\": 16.0, \"model year\": 74, \"origin\": 2, \"car name\": \"fiat x1.9\"}, {\"kpg\": 30.5767, \"cylinders\": 6, \"displacement\": 225.0, \"horsepower\": 95.0, \"weight\": 3264, \"acceleration\": 16.0, \"model year\": 75, \"origin\": 1, \"car name\": \"plymouth valiant custom\"}, {\"kpg\": 28.967399999999998, \"cylinders\": 6, \"displacement\": 250.0, \"horsepower\": 105.0, \"weight\": 3459, \"acceleration\": 16.0, \"model year\": 75, \"origin\": 1, \"car name\": \"chevrolet nova\"}, {\"kpg\": 24.139499999999998, \"cylinders\": 6, \"displacement\": 250.0, \"horsepower\": 72.0, \"weight\": 3432, \"acceleration\": 21.0, \"model year\": 75, \"origin\": 1, \"car name\": \"mercury monarch\"}, {\"kpg\": 24.139499999999998, \"cylinders\": 6, \"displacement\": 250.0, \"horsepower\": 72.0, \"weight\": 3158, \"acceleration\": 19.5, \"model year\": 75, \"origin\": 1, \"car name\": \"ford maverick\"}, {\"kpg\": 25.7488, \"cylinders\": 8, \"displacement\": 400.0, \"horsepower\": 170.0, \"weight\": 4668, \"acceleration\": 11.5, \"model year\": 75, \"origin\": 1, \"car name\": \"pontiac catalina\"}, {\"kpg\": 24.139499999999998, \"cylinders\": 8, \"displacement\": 350.0, \"horsepower\": 145.0, \"weight\": 4440, \"acceleration\": 14.0, \"model year\": 75, \"origin\": 1, \"car name\": \"chevrolet bel air\"}, {\"kpg\": 25.7488, \"cylinders\": 8, \"displacement\": 318.0, \"horsepower\": 150.0, \"weight\": 4498, \"acceleration\": 14.5, \"model year\": 75, \"origin\": 1, \"car name\": \"plymouth grand fury\"}, {\"kpg\": 22.5302, \"cylinders\": 8, \"displacement\": 351.0, \"horsepower\": 148.0, \"weight\": 4657, \"acceleration\": 13.5, \"model year\": 75, \"origin\": 1, \"car name\": \"ford ltd\"}, {\"kpg\": 27.3581, \"cylinders\": 6, \"displacement\": 231.0, \"horsepower\": 110.0, \"weight\": 3907, \"acceleration\": 21.0, \"model year\": 75, \"origin\": 1, \"car name\": \"buick century\"}, {\"kpg\": 25.7488, \"cylinders\": 6, \"displacement\": 250.0, \"horsepower\": 105.0, \"weight\": 3897, \"acceleration\": 18.5, \"model year\": 75, \"origin\": 1, \"car name\": \"chevroelt chevelle malibu\"}, {\"kpg\": 24.139499999999998, \"cylinders\": 6, \"displacement\": 258.0, \"horsepower\": 110.0, \"weight\": 3730, \"acceleration\": 19.0, \"model year\": 75, \"origin\": 1, \"car name\": \"amc matador\"}, {\"kpg\": 28.967399999999998, \"cylinders\": 6, \"displacement\": 225.0, \"horsepower\": 95.0, \"weight\": 3785, \"acceleration\": 19.0, \"model year\": 75, \"origin\": 1, \"car name\": \"plymouth fury\"}, {\"kpg\": 33.7953, \"cylinders\": 6, \"displacement\": 231.0, \"horsepower\": 110.0, \"weight\": 3039, \"acceleration\": 15.0, \"model year\": 75, \"origin\": 1, \"car name\": \"buick skyhawk\"}, {\"kpg\": 32.186, \"cylinders\": 8, \"displacement\": 262.0, \"horsepower\": 110.0, \"weight\": 3221, \"acceleration\": 13.5, \"model year\": 75, \"origin\": 1, \"car name\": \"chevrolet monza 2+2\"}, {\"kpg\": 20.9209, \"cylinders\": 8, \"displacement\": 302.0, \"horsepower\": 129.0, \"weight\": 3169, \"acceleration\": 12.0, \"model year\": 75, \"origin\": 1, \"car name\": \"ford mustang ii\"}, {\"kpg\": 46.6697, \"cylinders\": 4, \"displacement\": 97.0, \"horsepower\": 75.0, \"weight\": 2171, \"acceleration\": 16.0, \"model year\": 75, \"origin\": 3, \"car name\": \"toyota corolla\"}, {\"kpg\": 37.0139, \"cylinders\": 4, \"displacement\": 140.0, \"horsepower\": 83.0, \"weight\": 2639, \"acceleration\": 17.0, \"model year\": 75, \"origin\": 1, \"car name\": \"ford pinto\"}, {\"kpg\": 32.186, \"cylinders\": 6, \"displacement\": 232.0, \"horsepower\": 100.0, \"weight\": 2914, \"acceleration\": 16.0, \"model year\": 75, \"origin\": 1, \"car name\": \"amc gremlin\"}, {\"kpg\": 37.0139, \"cylinders\": 4, \"displacement\": 140.0, \"horsepower\": 78.0, \"weight\": 2592, \"acceleration\": 18.5, \"model year\": 75, \"origin\": 1, \"car name\": \"pontiac astro\"}, {\"kpg\": 38.6232, \"cylinders\": 4, \"displacement\": 134.0, \"horsepower\": 96.0, \"weight\": 2702, \"acceleration\": 13.5, \"model year\": 75, \"origin\": 3, \"car name\": \"toyota corona\"}, {\"kpg\": 40.2325, \"cylinders\": 4, \"displacement\": 90.0, \"horsepower\": 71.0, \"weight\": 2223, \"acceleration\": 16.5, \"model year\": 75, \"origin\": 2, \"car name\": \"volkswagen dasher\"}, {\"kpg\": 38.6232, \"cylinders\": 4, \"displacement\": 119.0, \"horsepower\": 97.0, \"weight\": 2545, \"acceleration\": 17.0, \"model year\": 75, \"origin\": 3, \"car name\": \"datsun 710\"}, {\"kpg\": 28.967399999999998, \"cylinders\": 6, \"displacement\": 171.0, \"horsepower\": 97.0, \"weight\": 2984, \"acceleration\": 14.5, \"model year\": 75, \"origin\": 1, \"car name\": \"ford pinto\"}, {\"kpg\": 46.6697, \"cylinders\": 4, \"displacement\": 90.0, \"horsepower\": 70.0, \"weight\": 1937, \"acceleration\": 14.0, \"model year\": 75, \"origin\": 2, \"car name\": \"volkswagen rabbit\"}, {\"kpg\": 30.5767, \"cylinders\": 6, \"displacement\": 232.0, \"horsepower\": 90.0, \"weight\": 3211, \"acceleration\": 17.0, \"model year\": 75, \"origin\": 1, \"car name\": \"amc pacer\"}, {\"kpg\": 37.0139, \"cylinders\": 4, \"displacement\": 115.0, \"horsepower\": 95.0, \"weight\": 2694, \"acceleration\": 15.0, \"model year\": 75, \"origin\": 2, \"car name\": \"audi 100ls\"}, {\"kpg\": 37.0139, \"cylinders\": 4, \"displacement\": 120.0, \"horsepower\": 88.0, \"weight\": 2957, \"acceleration\": 17.0, \"model year\": 75, \"origin\": 2, \"car name\": \"peugeot 504\"}, {\"kpg\": 35.4046, \"cylinders\": 4, \"displacement\": 121.0, \"horsepower\": 98.0, \"weight\": 2945, \"acceleration\": 14.5, \"model year\": 75, \"origin\": 2, \"car name\": \"volvo 244dl\"}, {\"kpg\": 40.2325, \"cylinders\": 4, \"displacement\": 121.0, \"horsepower\": 115.0, \"weight\": 2671, \"acceleration\": 13.5, \"model year\": 75, \"origin\": 2, \"car name\": \"saab 99le\"}, {\"kpg\": 53.106899999999996, \"cylinders\": 4, \"displacement\": 91.0, \"horsepower\": 53.0, \"weight\": 1795, \"acceleration\": 17.5, \"model year\": 75, \"origin\": 3, \"car name\": \"honda civic cvcc\"}, {\"kpg\": 45.0604, \"cylinders\": 4, \"displacement\": 107.0, \"horsepower\": 86.0, \"weight\": 2464, \"acceleration\": 15.5, \"model year\": 76, \"origin\": 2, \"car name\": \"fiat 131\"}, {\"kpg\": 40.2325, \"cylinders\": 4, \"displacement\": 116.0, \"horsepower\": 81.0, \"weight\": 2220, \"acceleration\": 16.9, \"model year\": 76, \"origin\": 2, \"car name\": \"opel 1900\"}, {\"kpg\": 40.2325, \"cylinders\": 4, \"displacement\": 140.0, \"horsepower\": 92.0, \"weight\": 2572, \"acceleration\": 14.9, \"model year\": 76, \"origin\": 1, \"car name\": \"capri ii\"}, {\"kpg\": 41.8418, \"cylinders\": 4, \"displacement\": 98.0, \"horsepower\": 79.0, \"weight\": 2255, \"acceleration\": 17.7, \"model year\": 76, \"origin\": 1, \"car name\": \"dodge colt\"}, {\"kpg\": 43.4511, \"cylinders\": 4, \"displacement\": 101.0, \"horsepower\": 83.0, \"weight\": 2202, \"acceleration\": 15.3, \"model year\": 76, \"origin\": 2, \"car name\": \"renault 12tl\"}, {\"kpg\": 28.16275, \"cylinders\": 8, \"displacement\": 305.0, \"horsepower\": 140.0, \"weight\": 4215, \"acceleration\": 13.0, \"model year\": 76, \"origin\": 1, \"car name\": \"chevrolet chevelle malibu classic\"}, {\"kpg\": 25.7488, \"cylinders\": 8, \"displacement\": 318.0, \"horsepower\": 150.0, \"weight\": 4190, \"acceleration\": 13.0, \"model year\": 76, \"origin\": 1, \"car name\": \"dodge coronet brougham\"}, {\"kpg\": 24.94415, \"cylinders\": 8, \"displacement\": 304.0, \"horsepower\": 120.0, \"weight\": 3962, \"acceleration\": 13.9, \"model year\": 76, \"origin\": 1, \"car name\": \"amc matador\"}, {\"kpg\": 23.33485, \"cylinders\": 8, \"displacement\": 351.0, \"horsepower\": 152.0, \"weight\": 4215, \"acceleration\": 12.8, \"model year\": 76, \"origin\": 1, \"car name\": \"ford gran torino\"}, {\"kpg\": 35.4046, \"cylinders\": 6, \"displacement\": 225.0, \"horsepower\": 100.0, \"weight\": 3233, \"acceleration\": 15.4, \"model year\": 76, \"origin\": 1, \"car name\": \"plymouth valiant\"}, {\"kpg\": 35.4046, \"cylinders\": 6, \"displacement\": 250.0, \"horsepower\": 105.0, \"weight\": 3353, \"acceleration\": 14.5, \"model year\": 76, \"origin\": 1, \"car name\": \"chevrolet nova\"}, {\"kpg\": 38.6232, \"cylinders\": 6, \"displacement\": 200.0, \"horsepower\": 81.0, \"weight\": 3012, \"acceleration\": 17.6, \"model year\": 76, \"origin\": 1, \"car name\": \"ford maverick\"}, {\"kpg\": 36.20925, \"cylinders\": 6, \"displacement\": 232.0, \"horsepower\": 90.0, \"weight\": 3085, \"acceleration\": 17.6, \"model year\": 76, \"origin\": 1, \"car name\": \"amc hornet\"}, {\"kpg\": 46.6697, \"cylinders\": 4, \"displacement\": 85.0, \"horsepower\": 52.0, \"weight\": 2035, \"acceleration\": 22.2, \"model year\": 76, \"origin\": 1, \"car name\": \"chevrolet chevette\"}, {\"kpg\": 39.42785, \"cylinders\": 4, \"displacement\": 98.0, \"horsepower\": 60.0, \"weight\": 2164, \"acceleration\": 22.1, \"model year\": 76, \"origin\": 1, \"car name\": \"chevrolet woody\"}, {\"kpg\": 46.6697, \"cylinders\": 4, \"displacement\": 90.0, \"horsepower\": 70.0, \"weight\": 1937, \"acceleration\": 14.2, \"model year\": 76, \"origin\": 2, \"car name\": \"vw rabbit\"}, {\"kpg\": 53.106899999999996, \"cylinders\": 4, \"displacement\": 91.0, \"horsepower\": 53.0, \"weight\": 1795, \"acceleration\": 17.4, \"model year\": 76, \"origin\": 3, \"car name\": \"honda civic\"}, {\"kpg\": 32.186, \"cylinders\": 6, \"displacement\": 225.0, \"horsepower\": 100.0, \"weight\": 3651, \"acceleration\": 17.7, \"model year\": 76, \"origin\": 1, \"car name\": \"dodge aspen se\"}, {\"kpg\": 28.967399999999998, \"cylinders\": 6, \"displacement\": 250.0, \"horsepower\": 78.0, \"weight\": 3574, \"acceleration\": 21.0, \"model year\": 76, \"origin\": 1, \"car name\": \"ford granada ghia\"}, {\"kpg\": 29.77205, \"cylinders\": 6, \"displacement\": 250.0, \"horsepower\": 110.0, \"weight\": 3645, \"acceleration\": 16.2, \"model year\": 76, \"origin\": 1, \"car name\": \"pontiac ventura sj\"}, {\"kpg\": 28.16275, \"cylinders\": 6, \"displacement\": 258.0, \"horsepower\": 95.0, \"weight\": 3193, \"acceleration\": 17.8, \"model year\": 76, \"origin\": 1, \"car name\": \"amc pacer d/l\"}, {\"kpg\": 47.47435, \"cylinders\": 4, \"displacement\": 97.0, \"horsepower\": 71.0, \"weight\": 1825, \"acceleration\": 12.2, \"model year\": 76, \"origin\": 2, \"car name\": \"volkswagen rabbit\"}, {\"kpg\": 51.4976, \"cylinders\": 4, \"displacement\": 85.0, \"horsepower\": 70.0, \"weight\": 1990, \"acceleration\": 17.0, \"model year\": 76, \"origin\": 3, \"car name\": \"datsun b-210\"}, {\"kpg\": 45.0604, \"cylinders\": 4, \"displacement\": 97.0, \"horsepower\": 75.0, \"weight\": 2155, \"acceleration\": 16.4, \"model year\": 76, \"origin\": 3, \"car name\": \"toyota corolla\"}, {\"kpg\": 42.64645, \"cylinders\": 4, \"displacement\": 140.0, \"horsepower\": 72.0, \"weight\": 2565, \"acceleration\": 13.6, \"model year\": 76, \"origin\": 1, \"car name\": \"ford pinto\"}, {\"kpg\": 32.186, \"cylinders\": 4, \"displacement\": 130.0, \"horsepower\": 102.0, \"weight\": 3150, \"acceleration\": 15.7, \"model year\": 76, \"origin\": 2, \"car name\": \"volvo 245\"}, {\"kpg\": 20.9209, \"cylinders\": 8, \"displacement\": 318.0, \"horsepower\": 150.0, \"weight\": 3940, \"acceleration\": 13.2, \"model year\": 76, \"origin\": 1, \"car name\": \"plymouth volare premier v8\"}, {\"kpg\": 30.5767, \"cylinders\": 4, \"displacement\": 120.0, \"horsepower\": 88.0, \"weight\": 3270, \"acceleration\": 21.9, \"model year\": 76, \"origin\": 2, \"car name\": \"peugeot 504\"}, {\"kpg\": 30.5767, \"cylinders\": 6, \"displacement\": 156.0, \"horsepower\": 108.0, \"weight\": 2930, \"acceleration\": 15.5, \"model year\": 76, \"origin\": 3, \"car name\": \"toyota mark ii\"}, {\"kpg\": 26.553449999999998, \"cylinders\": 6, \"displacement\": 168.0, \"horsepower\": 120.0, \"weight\": 3820, \"acceleration\": 16.7, \"model year\": 76, \"origin\": 2, \"car name\": \"mercedes-benz 280s\"}, {\"kpg\": 26.553449999999998, \"cylinders\": 8, \"displacement\": 350.0, \"horsepower\": 180.0, \"weight\": 4380, \"acceleration\": 12.1, \"model year\": 76, \"origin\": 1, \"car name\": \"cadillac seville\"}, {\"kpg\": 20.9209, \"cylinders\": 8, \"displacement\": 350.0, \"horsepower\": 145.0, \"weight\": 4055, \"acceleration\": 12.0, \"model year\": 76, \"origin\": 1, \"car name\": \"chevy c10\"}, {\"kpg\": 20.9209, \"cylinders\": 8, \"displacement\": 302.0, \"horsepower\": 130.0, \"weight\": 3870, \"acceleration\": 15.0, \"model year\": 76, \"origin\": 1, \"car name\": \"ford f108\"}, {\"kpg\": 20.9209, \"cylinders\": 8, \"displacement\": 318.0, \"horsepower\": 150.0, \"weight\": 3755, \"acceleration\": 14.0, \"model year\": 76, \"origin\": 1, \"car name\": \"dodge d100\"}, {\"kpg\": 50.692949999999996, \"cylinders\": 4, \"displacement\": 98.0, \"horsepower\": 68.0, \"weight\": 2045, \"acceleration\": 18.5, \"model year\": 77, \"origin\": 3, \"car name\": \"honda accord cvcc\"}, {\"kpg\": 48.278999999999996, \"cylinders\": 4, \"displacement\": 111.0, \"horsepower\": 80.0, \"weight\": 2155, \"acceleration\": 14.8, \"model year\": 77, \"origin\": 1, \"car name\": \"buick opel isuzu deluxe\"}, {\"kpg\": 57.934799999999996, \"cylinders\": 4, \"displacement\": 79.0, \"horsepower\": 58.0, \"weight\": 1825, \"acceleration\": 18.6, \"model year\": 77, \"origin\": 2, \"car name\": \"renault 5 gtl\"}, {\"kpg\": 41.03715, \"cylinders\": 4, \"displacement\": 122.0, \"horsepower\": 96.0, \"weight\": 2300, \"acceleration\": 15.5, \"model year\": 77, \"origin\": 1, \"car name\": \"plymouth arrow gs\"}, {\"kpg\": 53.91155, \"cylinders\": 4, \"displacement\": 85.0, \"horsepower\": 70.0, \"weight\": 1945, \"acceleration\": 16.8, \"model year\": 77, \"origin\": 3, \"car name\": \"datsun f-10 hatchback\"}, {\"kpg\": 28.16275, \"cylinders\": 8, \"displacement\": 305.0, \"horsepower\": 145.0, \"weight\": 3880, \"acceleration\": 12.5, \"model year\": 77, \"origin\": 1, \"car name\": \"chevrolet caprice classic\"}, {\"kpg\": 27.3581, \"cylinders\": 8, \"displacement\": 260.0, \"horsepower\": 110.0, \"weight\": 4060, \"acceleration\": 19.0, \"model year\": 77, \"origin\": 1, \"car name\": \"oldsmobile cutlass supreme\"}, {\"kpg\": 24.94415, \"cylinders\": 8, \"displacement\": 318.0, \"horsepower\": 145.0, \"weight\": 4140, \"acceleration\": 13.7, \"model year\": 77, \"origin\": 1, \"car name\": \"dodge monaco brougham\"}, {\"kpg\": 24.139499999999998, \"cylinders\": 8, \"displacement\": 302.0, \"horsepower\": 130.0, \"weight\": 4295, \"acceleration\": 14.9, \"model year\": 77, \"origin\": 1, \"car name\": \"mercury cougar brougham\"}, {\"kpg\": 28.16275, \"cylinders\": 6, \"displacement\": 250.0, \"horsepower\": 110.0, \"weight\": 3520, \"acceleration\": 16.4, \"model year\": 77, \"origin\": 1, \"car name\": \"chevrolet concours\"}, {\"kpg\": 32.99065, \"cylinders\": 6, \"displacement\": 231.0, \"horsepower\": 105.0, \"weight\": 3425, \"acceleration\": 16.9, \"model year\": 77, \"origin\": 1, \"car name\": \"buick skylark\"}, {\"kpg\": 30.5767, \"cylinders\": 6, \"displacement\": 225.0, \"horsepower\": 100.0, \"weight\": 3630, \"acceleration\": 17.7, \"model year\": 77, \"origin\": 1, \"car name\": \"plymouth volare custom\"}, {\"kpg\": 29.77205, \"cylinders\": 6, \"displacement\": 250.0, \"horsepower\": 98.0, \"weight\": 3525, \"acceleration\": 19.0, \"model year\": 77, \"origin\": 1, \"car name\": \"ford granada\"}, {\"kpg\": 25.7488, \"cylinders\": 8, \"displacement\": 400.0, \"horsepower\": 180.0, \"weight\": 4220, \"acceleration\": 11.1, \"model year\": 77, \"origin\": 1, \"car name\": \"pontiac grand prix lj\"}, {\"kpg\": 24.94415, \"cylinders\": 8, \"displacement\": 350.0, \"horsepower\": 170.0, \"weight\": 4165, \"acceleration\": 11.4, \"model year\": 77, \"origin\": 1, \"car name\": \"chevrolet monte carlo landau\"}, {\"kpg\": 24.94415, \"cylinders\": 8, \"displacement\": 400.0, \"horsepower\": 190.0, \"weight\": 4325, \"acceleration\": 12.2, \"model year\": 77, \"origin\": 1, \"car name\": \"chrysler cordoba\"}, {\"kpg\": 25.7488, \"cylinders\": 8, \"displacement\": 351.0, \"horsepower\": 149.0, \"weight\": 4335, \"acceleration\": 14.5, \"model year\": 77, \"origin\": 1, \"car name\": \"ford thunderbird\"}, {\"kpg\": 46.6697, \"cylinders\": 4, \"displacement\": 97.0, \"horsepower\": 78.0, \"weight\": 1940, \"acceleration\": 14.5, \"model year\": 77, \"origin\": 2, \"car name\": \"volkswagen rabbit custom\"}, {\"kpg\": 39.42785, \"cylinders\": 4, \"displacement\": 151.0, \"horsepower\": 88.0, \"weight\": 2740, \"acceleration\": 16.0, \"model year\": 77, \"origin\": 1, \"car name\": \"pontiac sunbird coupe\"}, {\"kpg\": 41.8418, \"cylinders\": 4, \"displacement\": 97.0, \"horsepower\": 75.0, \"weight\": 2265, \"acceleration\": 18.2, \"model year\": 77, \"origin\": 3, \"car name\": \"toyota corolla liftback\"}, {\"kpg\": 41.03715, \"cylinders\": 4, \"displacement\": 140.0, \"horsepower\": 89.0, \"weight\": 2755, \"acceleration\": 15.8, \"model year\": 77, \"origin\": 1, \"car name\": \"ford mustang ii 2+2\"}, {\"kpg\": 49.08365, \"cylinders\": 4, \"displacement\": 98.0, \"horsepower\": 63.0, \"weight\": 2051, \"acceleration\": 17.0, \"model year\": 77, \"origin\": 1, \"car name\": \"chevrolet chevette\"}, {\"kpg\": 53.91155, \"cylinders\": 4, \"displacement\": 98.0, \"horsepower\": 83.0, \"weight\": 2075, \"acceleration\": 15.9, \"model year\": 77, \"origin\": 1, \"car name\": \"dodge colt m/m\"}, {\"kpg\": 48.278999999999996, \"cylinders\": 4, \"displacement\": 97.0, \"horsepower\": 67.0, \"weight\": 1985, \"acceleration\": 16.4, \"model year\": 77, \"origin\": 3, \"car name\": \"subaru dl\"}, {\"kpg\": 49.08365, \"cylinders\": 4, \"displacement\": 97.0, \"horsepower\": 78.0, \"weight\": 2190, \"acceleration\": 14.1, \"model year\": 77, \"origin\": 2, \"car name\": \"volkswagen dasher\"}, {\"kpg\": 35.4046, \"cylinders\": 6, \"displacement\": 146.0, \"horsepower\": 97.0, \"weight\": 2815, \"acceleration\": 14.5, \"model year\": 77, \"origin\": 3, \"car name\": \"datsun 810\"}, {\"kpg\": 34.59995, \"cylinders\": 4, \"displacement\": 121.0, \"horsepower\": 110.0, \"weight\": 2600, \"acceleration\": 12.8, \"model year\": 77, \"origin\": 2, \"car name\": \"bmw 320i\"}, {\"kpg\": 34.59995, \"cylinders\": 3, \"displacement\": 80.0, \"horsepower\": 110.0, \"weight\": 2720, \"acceleration\": 13.5, \"model year\": 77, \"origin\": 3, \"car name\": \"mazda rx-4\"}, {\"kpg\": 69.36083, \"cylinders\": 4, \"displacement\": 90.0, \"horsepower\": 48.0, \"weight\": 1985, \"acceleration\": 21.5, \"model year\": 78, \"origin\": 2, \"car name\": \"volkswagen rabbit custom diesel\"}, {\"kpg\": 58.09573, \"cylinders\": 4, \"displacement\": 98.0, \"horsepower\": 66.0, \"weight\": 1800, \"acceleration\": 14.4, \"model year\": 78, \"origin\": 1, \"car name\": \"ford fiesta\"}, {\"kpg\": 52.785039999999995, \"cylinders\": 4, \"displacement\": 78.0, \"horsepower\": 52.0, \"weight\": 1985, \"acceleration\": 19.4, \"model year\": 78, \"origin\": 3, \"car name\": \"mazda glc deluxe\"}, {\"kpg\": 63.40642, \"cylinders\": 4, \"displacement\": 85.0, \"horsepower\": 70.0, \"weight\": 2070, \"acceleration\": 18.6, \"model year\": 78, \"origin\": 3, \"car name\": \"datsun b210 gx\"}, {\"kpg\": 58.09573, \"cylinders\": 4, \"displacement\": 91.0, \"horsepower\": 60.0, \"weight\": 1800, \"acceleration\": 16.4, \"model year\": 78, \"origin\": 3, \"car name\": \"honda civic cvcc\"}, {\"kpg\": 32.02507, \"cylinders\": 8, \"displacement\": 260.0, \"horsepower\": 110.0, \"weight\": 3365, \"acceleration\": 15.5, \"model year\": 78, \"origin\": 1, \"car name\": \"oldsmobile cutlass salon brougham\"}, {\"kpg\": 31.220419999999997, \"cylinders\": 8, \"displacement\": 318.0, \"horsepower\": 140.0, \"weight\": 3735, \"acceleration\": 13.2, \"model year\": 78, \"origin\": 1, \"car name\": \"dodge diplomat\"}, {\"kpg\": 32.50786, \"cylinders\": 8, \"displacement\": 302.0, \"horsepower\": 139.0, \"weight\": 3570, \"acceleration\": 12.8, \"model year\": 78, \"origin\": 1, \"car name\": \"mercury monarch ghia\"}, {\"kpg\": 30.898559999999996, \"cylinders\": 6, \"displacement\": 231.0, \"horsepower\": 105.0, \"weight\": 3535, \"acceleration\": 19.2, \"model year\": 78, \"origin\": 1, \"car name\": \"pontiac phoenix lj\"}, {\"kpg\": 32.99065, \"cylinders\": 6, \"displacement\": 200.0, \"horsepower\": 95.0, \"weight\": 3155, \"acceleration\": 18.2, \"model year\": 78, \"origin\": 1, \"car name\": \"chevrolet malibu\"}, {\"kpg\": 32.50786, \"cylinders\": 6, \"displacement\": 200.0, \"horsepower\": 85.0, \"weight\": 2965, \"acceleration\": 15.8, \"model year\": 78, \"origin\": 1, \"car name\": \"ford fairmont (auto)\"}, {\"kpg\": 40.39343, \"cylinders\": 4, \"displacement\": 140.0, \"horsepower\": 88.0, \"weight\": 2720, \"acceleration\": 15.4, \"model year\": 78, \"origin\": 1, \"car name\": \"ford fairmont (man)\"}, {\"kpg\": 32.99065, \"cylinders\": 6, \"displacement\": 225.0, \"horsepower\": 100.0, \"weight\": 3430, \"acceleration\": 17.2, \"model year\": 78, \"origin\": 1, \"car name\": \"plymouth volare\"}, {\"kpg\": 31.220419999999997, \"cylinders\": 6, \"displacement\": 232.0, \"horsepower\": 90.0, \"weight\": 3210, \"acceleration\": 17.2, \"model year\": 78, \"origin\": 1, \"car name\": \"amc concord\"}, {\"kpg\": 33.15158, \"cylinders\": 6, \"displacement\": 231.0, \"horsepower\": 105.0, \"weight\": 3380, \"acceleration\": 15.8, \"model year\": 78, \"origin\": 1, \"car name\": \"buick century special\"}, {\"kpg\": 33.473440000000004, \"cylinders\": 6, \"displacement\": 200.0, \"horsepower\": 85.0, \"weight\": 3070, \"acceleration\": 16.7, \"model year\": 78, \"origin\": 1, \"car name\": \"mercury zephyr\"}, {\"kpg\": 29.93298, \"cylinders\": 6, \"displacement\": 225.0, \"horsepower\": 110.0, \"weight\": 3620, \"acceleration\": 18.7, \"model year\": 78, \"origin\": 1, \"car name\": \"dodge aspen\"}, {\"kpg\": 29.128330000000002, \"cylinders\": 6, \"displacement\": 258.0, \"horsepower\": 120.0, \"weight\": 3410, \"acceleration\": 15.1, \"model year\": 78, \"origin\": 1, \"car name\": \"amc concord d/l\"}, {\"kpg\": 30.898559999999996, \"cylinders\": 8, \"displacement\": 305.0, \"horsepower\": 145.0, \"weight\": 3425, \"acceleration\": 13.2, \"model year\": 78, \"origin\": 1, \"car name\": \"chevrolet monte carlo landau\"}, {\"kpg\": 28.484609999999996, \"cylinders\": 6, \"displacement\": 231.0, \"horsepower\": 165.0, \"weight\": 3445, \"acceleration\": 13.4, \"model year\": 78, \"origin\": 1, \"car name\": \"buick regal sport coupe (turbo)\"}, {\"kpg\": 29.128330000000002, \"cylinders\": 8, \"displacement\": 302.0, \"horsepower\": 139.0, \"weight\": 3205, \"acceleration\": 11.2, \"model year\": 78, \"origin\": 1, \"car name\": \"ford futura\"}, {\"kpg\": 28.16275, \"cylinders\": 8, \"displacement\": 318.0, \"horsepower\": 140.0, \"weight\": 4080, \"acceleration\": 13.7, \"model year\": 78, \"origin\": 1, \"car name\": \"dodge magnum xe\"}, {\"kpg\": 48.278999999999996, \"cylinders\": 4, \"displacement\": 98.0, \"horsepower\": 68.0, \"weight\": 2155, \"acceleration\": 16.5, \"model year\": 78, \"origin\": 1, \"car name\": \"chevrolet chevette\"}, {\"kpg\": 44.25575, \"cylinders\": 4, \"displacement\": 134.0, \"horsepower\": 95.0, \"weight\": 2560, \"acceleration\": 14.2, \"model year\": 78, \"origin\": 3, \"car name\": \"toyota corona\"}, {\"kpg\": 43.77296, \"cylinders\": 4, \"displacement\": 119.0, \"horsepower\": 97.0, \"weight\": 2300, \"acceleration\": 14.7, \"model year\": 78, \"origin\": 3, \"car name\": \"datsun 510\"}, {\"kpg\": 49.72736999999999, \"cylinders\": 4, \"displacement\": 105.0, \"horsepower\": 75.0, \"weight\": 2230, \"acceleration\": 14.5, \"model year\": 78, \"origin\": 1, \"car name\": \"dodge omni\"}, {\"kpg\": 33.95623, \"cylinders\": 4, \"displacement\": 134.0, \"horsepower\": 95.0, \"weight\": 2515, \"acceleration\": 14.8, \"model year\": 78, \"origin\": 3, \"car name\": \"toyota celica gt liftback\"}, {\"kpg\": 37.33576, \"cylinders\": 4, \"displacement\": 156.0, \"horsepower\": 105.0, \"weight\": 2745, \"acceleration\": 16.7, \"model year\": 78, \"origin\": 1, \"car name\": \"plymouth sapporo\"}, {\"kpg\": 38.30134, \"cylinders\": 4, \"displacement\": 151.0, \"horsepower\": 85.0, \"weight\": 2855, \"acceleration\": 17.6, \"model year\": 78, \"origin\": 1, \"car name\": \"oldsmobile starfire sx\"}, {\"kpg\": 38.46227, \"cylinders\": 4, \"displacement\": 119.0, \"horsepower\": 97.0, \"weight\": 2405, \"acceleration\": 14.9, \"model year\": 78, \"origin\": 3, \"car name\": \"datsun 200-sx\"}, {\"kpg\": 32.66879, \"cylinders\": 5, \"displacement\": 131.0, \"horsepower\": 103.0, \"weight\": 2830, \"acceleration\": 15.9, \"model year\": 78, \"origin\": 2, \"car name\": \"audi 5000\"}, {\"kpg\": 27.3581, \"cylinders\": 6, \"displacement\": 163.0, \"horsepower\": 125.0, \"weight\": 3140, \"acceleration\": 13.6, \"model year\": 78, \"origin\": 2, \"car name\": \"volvo 264gl\"}, {\"kpg\": 34.76088, \"cylinders\": 4, \"displacement\": 121.0, \"horsepower\": 115.0, \"weight\": 2795, \"acceleration\": 15.7, \"model year\": 78, \"origin\": 2, \"car name\": \"saab 99gle\"}, {\"kpg\": 26.070659999999997, \"cylinders\": 6, \"displacement\": 163.0, \"horsepower\": 133.0, \"weight\": 3410, \"acceleration\": 15.8, \"model year\": 78, \"origin\": 2, \"car name\": \"peugeot 604sl\"}, {\"kpg\": 50.692949999999996, \"cylinders\": 4, \"displacement\": 89.0, \"horsepower\": 71.0, \"weight\": 1990, \"acceleration\": 14.9, \"model year\": 78, \"origin\": 2, \"car name\": \"volkswagen scirocco\"}, {\"kpg\": 47.47435, \"cylinders\": 4, \"displacement\": 98.0, \"horsepower\": 68.0, \"weight\": 2135, \"acceleration\": 16.6, \"model year\": 78, \"origin\": 3, \"car name\": \"honda accord lx\"}, {\"kpg\": 34.59995, \"cylinders\": 6, \"displacement\": 231.0, \"horsepower\": 115.0, \"weight\": 3245, \"acceleration\": 15.4, \"model year\": 79, \"origin\": 1, \"car name\": \"pontiac lemans v6\"}, {\"kpg\": 31.86414, \"cylinders\": 6, \"displacement\": 200.0, \"horsepower\": 85.0, \"weight\": 2990, \"acceleration\": 18.2, \"model year\": 79, \"origin\": 1, \"car name\": \"mercury zephyr 6\"}, {\"kpg\": 35.88739, \"cylinders\": 4, \"displacement\": 140.0, \"horsepower\": 88.0, \"weight\": 2890, \"acceleration\": 17.3, \"model year\": 79, \"origin\": 1, \"car name\": \"ford fairmont 4\"}, {\"kpg\": 32.50786, \"cylinders\": 6, \"displacement\": 232.0, \"horsepower\": 90.0, \"weight\": 3265, \"acceleration\": 18.2, \"model year\": 79, \"origin\": 1, \"car name\": \"amc concord dl 6\"}, {\"kpg\": 33.15158, \"cylinders\": 6, \"displacement\": 225.0, \"horsepower\": 110.0, \"weight\": 3360, \"acceleration\": 16.6, \"model year\": 79, \"origin\": 1, \"car name\": \"dodge aspen 6\"}, {\"kpg\": 27.3581, \"cylinders\": 8, \"displacement\": 305.0, \"horsepower\": 130.0, \"weight\": 3840, \"acceleration\": 15.4, \"model year\": 79, \"origin\": 1, \"car name\": \"chevrolet caprice classic\"}, {\"kpg\": 28.323680000000003, \"cylinders\": 8, \"displacement\": 302.0, \"horsepower\": 129.0, \"weight\": 3725, \"acceleration\": 13.4, \"model year\": 79, \"origin\": 1, \"car name\": \"ford ltd landau\"}, {\"kpg\": 26.553449999999998, \"cylinders\": 8, \"displacement\": 351.0, \"horsepower\": 138.0, \"weight\": 3955, \"acceleration\": 13.2, \"model year\": 79, \"origin\": 1, \"car name\": \"mercury grand marquis\"}, {\"kpg\": 29.28926, \"cylinders\": 8, \"displacement\": 318.0, \"horsepower\": 135.0, \"weight\": 3830, \"acceleration\": 15.2, \"model year\": 79, \"origin\": 1, \"car name\": \"dodge st. regis\"}, {\"kpg\": 27.197169999999996, \"cylinders\": 8, \"displacement\": 350.0, \"horsepower\": 155.0, \"weight\": 4360, \"acceleration\": 14.9, \"model year\": 79, \"origin\": 1, \"car name\": \"buick estate wagon (sw)\"}, {\"kpg\": 24.94415, \"cylinders\": 8, \"displacement\": 351.0, \"horsepower\": 142.0, \"weight\": 4054, \"acceleration\": 14.3, \"model year\": 79, \"origin\": 1, \"car name\": \"ford country squire (sw)\"}, {\"kpg\": 30.898559999999996, \"cylinders\": 8, \"displacement\": 267.0, \"horsepower\": 125.0, \"weight\": 3605, \"acceleration\": 15.0, \"model year\": 79, \"origin\": 1, \"car name\": \"chevrolet malibu classic (sw)\"}, {\"kpg\": 29.77205, \"cylinders\": 8, \"displacement\": 360.0, \"horsepower\": 150.0, \"weight\": 3940, \"acceleration\": 13.0, \"model year\": 79, \"origin\": 1, \"car name\": \"chrysler lebaron town @ country (sw)\"}, {\"kpg\": 51.33667, \"cylinders\": 4, \"displacement\": 89.0, \"horsepower\": 71.0, \"weight\": 1925, \"acceleration\": 14.0, \"model year\": 79, \"origin\": 2, \"car name\": \"vw rabbit custom\"}, {\"kpg\": 54.87713, \"cylinders\": 4, \"displacement\": 86.0, \"horsepower\": 65.0, \"weight\": 1975, \"acceleration\": 15.2, \"model year\": 79, \"origin\": 3, \"car name\": \"maxda glc deluxe\"}, {\"kpg\": 57.45201, \"cylinders\": 4, \"displacement\": 98.0, \"horsepower\": 80.0, \"weight\": 1915, \"acceleration\": 14.4, \"model year\": 79, \"origin\": 1, \"car name\": \"dodge colt hatchback custom\"}, {\"kpg\": 44.09482, \"cylinders\": 4, \"displacement\": 121.0, \"horsepower\": 80.0, \"weight\": 2670, \"acceleration\": 15.0, \"model year\": 79, \"origin\": 1, \"car name\": \"amc spirit dl\"}, {\"kpg\": 40.876219999999996, \"cylinders\": 5, \"displacement\": 183.0, \"horsepower\": 77.0, \"weight\": 3530, \"acceleration\": 20.1, \"model year\": 79, \"origin\": 2, \"car name\": \"mercedes benz 300d\"}, {\"kpg\": 37.0139, \"cylinders\": 8, \"displacement\": 350.0, \"horsepower\": 125.0, \"weight\": 3900, \"acceleration\": 17.4, \"model year\": 79, \"origin\": 1, \"car name\": \"cadillac eldorado\"}, {\"kpg\": 43.77296, \"cylinders\": 4, \"displacement\": 141.0, \"horsepower\": 71.0, \"weight\": 3190, \"acceleration\": 24.8, \"model year\": 79, \"origin\": 2, \"car name\": \"peugeot 504\"}, {\"kpg\": 38.46227, \"cylinders\": 8, \"displacement\": 260.0, \"horsepower\": 90.0, \"weight\": 3420, \"acceleration\": 22.2, \"model year\": 79, \"origin\": 1, \"car name\": \"oldsmobile cutlass salon brougham\"}, {\"kpg\": 55.03806, \"cylinders\": 4, \"displacement\": 105.0, \"horsepower\": 70.0, \"weight\": 2200, \"acceleration\": 13.2, \"model year\": 79, \"origin\": 1, \"car name\": \"plymouth horizon\"}, {\"kpg\": 55.520849999999996, \"cylinders\": 4, \"displacement\": 105.0, \"horsepower\": 70.0, \"weight\": 2150, \"acceleration\": 14.9, \"model year\": 79, \"origin\": 1, \"car name\": \"plymouth horizon tc3\"}, {\"kpg\": 51.17574, \"cylinders\": 4, \"displacement\": 85.0, \"horsepower\": 65.0, \"weight\": 2020, \"acceleration\": 19.2, \"model year\": 79, \"origin\": 3, \"car name\": \"datsun 210\"}, {\"kpg\": 60.026889999999995, \"cylinders\": 4, \"displacement\": 91.0, \"horsepower\": 69.0, \"weight\": 2130, \"acceleration\": 14.7, \"model year\": 79, \"origin\": 2, \"car name\": \"fiat strada custom\"}, {\"kpg\": 45.704119999999996, \"cylinders\": 4, \"displacement\": 151.0, \"horsepower\": 90.0, \"weight\": 2670, \"acceleration\": 16.0, \"model year\": 79, \"origin\": 1, \"car name\": \"buick skylark limited\"}, {\"kpg\": 46.34784, \"cylinders\": 6, \"displacement\": 173.0, \"horsepower\": 115.0, \"weight\": 2595, \"acceleration\": 11.3, \"model year\": 79, \"origin\": 1, \"car name\": \"chevrolet citation\"}, {\"kpg\": 43.12924, \"cylinders\": 6, \"displacement\": 173.0, \"horsepower\": 115.0, \"weight\": 2700, \"acceleration\": 12.9, \"model year\": 79, \"origin\": 1, \"car name\": \"oldsmobile omega brougham\"}, {\"kpg\": 53.91155, \"cylinders\": 4, \"displacement\": 151.0, \"horsepower\": 90.0, \"weight\": 2556, \"acceleration\": 13.2, \"model year\": 79, \"origin\": 1, \"car name\": \"pontiac phoenix\"}, {\"kpg\": 66.78595, \"cylinders\": 4, \"displacement\": 98.0, \"horsepower\": 76.0, \"weight\": 2144, \"acceleration\": 14.7, \"model year\": 80, \"origin\": 2, \"car name\": \"vw rabbit\"}, {\"kpg\": 61.31433, \"cylinders\": 4, \"displacement\": 89.0, \"horsepower\": 60.0, \"weight\": 1968, \"acceleration\": 18.8, \"model year\": 80, \"origin\": 3, \"car name\": \"toyota corolla tercel\"}, {\"kpg\": 51.65853, \"cylinders\": 4, \"displacement\": 98.0, \"horsepower\": 70.0, \"weight\": 2120, \"acceleration\": 15.5, \"model year\": 80, \"origin\": 1, \"car name\": \"chevrolet chevette\"}, {\"kpg\": 59.86596, \"cylinders\": 4, \"displacement\": 86.0, \"horsepower\": 65.0, \"weight\": 2019, \"acceleration\": 16.4, \"model year\": 80, \"origin\": 3, \"car name\": \"datsun 310\"}, {\"kpg\": 45.0604, \"cylinders\": 4, \"displacement\": 151.0, \"horsepower\": 90.0, \"weight\": 2678, \"acceleration\": 16.5, \"model year\": 80, \"origin\": 1, \"car name\": \"chevrolet citation\"}, {\"kpg\": 42.485519999999994, \"cylinders\": 4, \"displacement\": 140.0, \"horsepower\": 88.0, \"weight\": 2870, \"acceleration\": 18.1, \"model year\": 80, \"origin\": 1, \"car name\": \"ford fairmont\"}, {\"kpg\": 39.10599, \"cylinders\": 4, \"displacement\": 151.0, \"horsepower\": 90.0, \"weight\": 3003, \"acceleration\": 20.1, \"model year\": 80, \"origin\": 1, \"car name\": \"amc concord\"}, {\"kpg\": 30.737630000000003, \"cylinders\": 6, \"displacement\": 225.0, \"horsepower\": 90.0, \"weight\": 3381, \"acceleration\": 18.7, \"model year\": 80, \"origin\": 1, \"car name\": \"dodge aspen\"}, {\"kpg\": 55.198989999999995, \"cylinders\": 4, \"displacement\": 97.0, \"horsepower\": 78.0, \"weight\": 2188, \"acceleration\": 15.8, \"model year\": 80, \"origin\": 2, \"car name\": \"audi 4000\"}, {\"kpg\": 47.95714, \"cylinders\": 4, \"displacement\": 134.0, \"horsepower\": 90.0, \"weight\": 2711, \"acceleration\": 15.5, \"model year\": 80, \"origin\": 3, \"car name\": \"toyota corona liftback\"}, {\"kpg\": 50.37109, \"cylinders\": 4, \"displacement\": 120.0, \"horsepower\": 75.0, \"weight\": 2542, \"acceleration\": 17.5, \"model year\": 80, \"origin\": 3, \"car name\": \"mazda 626\"}, {\"kpg\": 59.5441, \"cylinders\": 4, \"displacement\": 119.0, \"horsepower\": 92.0, \"weight\": 2434, \"acceleration\": 15.0, \"model year\": 80, \"origin\": 3, \"car name\": \"datsun 510 hatchback\"}, {\"kpg\": 51.81946000000001, \"cylinders\": 4, \"displacement\": 108.0, \"horsepower\": 75.0, \"weight\": 2265, \"acceleration\": 15.2, \"model year\": 80, \"origin\": 3, \"car name\": \"toyota corolla\"}, {\"kpg\": 74.99338, \"cylinders\": 4, \"displacement\": 86.0, \"horsepower\": 65.0, \"weight\": 2110, \"acceleration\": 17.9, \"model year\": 80, \"origin\": 3, \"car name\": \"mazda glc\"}, {\"kpg\": 44.899469999999994, \"cylinders\": 4, \"displacement\": 156.0, \"horsepower\": 105.0, \"weight\": 2800, \"acceleration\": 14.4, \"model year\": 80, \"origin\": 1, \"car name\": \"dodge colt\"}, {\"kpg\": 65.65943999999999, \"cylinders\": 4, \"displacement\": 85.0, \"horsepower\": 65.0, \"weight\": 2110, \"acceleration\": 19.2, \"model year\": 80, \"origin\": 3, \"car name\": \"datsun 210\"}, {\"kpg\": 71.29199, \"cylinders\": 4, \"displacement\": 90.0, \"horsepower\": 48.0, \"weight\": 2085, \"acceleration\": 21.7, \"model year\": 80, \"origin\": 2, \"car name\": \"vw rabbit c (diesel)\"}, {\"kpg\": 69.84362, \"cylinders\": 4, \"displacement\": 90.0, \"horsepower\": 48.0, \"weight\": 2335, \"acceleration\": 23.7, \"model year\": 80, \"origin\": 2, \"car name\": \"vw dasher (diesel)\"}, {\"kpg\": 58.57852, \"cylinders\": 5, \"displacement\": 121.0, \"horsepower\": 67.0, \"weight\": 2950, \"acceleration\": 19.9, \"model year\": 80, \"origin\": 2, \"car name\": \"audi 5000s (diesel)\"}, {\"kpg\": 48.278999999999996, \"cylinders\": 4, \"displacement\": 146.0, \"horsepower\": 67.0, \"weight\": 3250, \"acceleration\": 21.8, \"model year\": 80, \"origin\": 2, \"car name\": \"mercedes-benz 240d\"}, {\"kpg\": 71.77478, \"cylinders\": 4, \"displacement\": 91.0, \"horsepower\": 67.0, \"weight\": 1850, \"acceleration\": 13.8, \"model year\": 80, \"origin\": 3, \"car name\": \"honda civic 1500 gl\"}, {\"kpg\": 65.82037, \"cylinders\": 4, \"displacement\": 85.0, \"horsepower\": 104.46938775510205, \"weight\": 1835, \"acceleration\": 17.3, \"model year\": 80, \"origin\": 2, \"car name\": \"renault lecar deluxe\"}, {\"kpg\": 54.39433999999999, \"cylinders\": 4, \"displacement\": 97.0, \"horsepower\": 67.0, \"weight\": 2145, \"acceleration\": 18.0, \"model year\": 80, \"origin\": 3, \"car name\": \"subaru dl\"}, {\"kpg\": 47.95714, \"cylinders\": 4, \"displacement\": 89.0, \"horsepower\": 62.0, \"weight\": 1845, \"acceleration\": 15.3, \"model year\": 80, \"origin\": 2, \"car name\": \"vokswagen rabbit\"}, {\"kpg\": 52.62411, \"cylinders\": 6, \"displacement\": 168.0, \"horsepower\": 132.0, \"weight\": 2910, \"acceleration\": 11.4, \"model year\": 80, \"origin\": 3, \"car name\": \"datsun 280-zx\"}, {\"kpg\": 38.140409999999996, \"cylinders\": 3, \"displacement\": 70.0, \"horsepower\": 100.0, \"weight\": 2420, \"acceleration\": 12.5, \"model year\": 80, \"origin\": 3, \"car name\": \"mazda rx-7 gs\"}, {\"kpg\": 56.3255, \"cylinders\": 4, \"displacement\": 122.0, \"horsepower\": 88.0, \"weight\": 2500, \"acceleration\": 15.1, \"model year\": 80, \"origin\": 2, \"car name\": \"triumph tr7 coupe\"}, {\"kpg\": 37.97948, \"cylinders\": 4, \"displacement\": 140.0, \"horsepower\": 104.46938775510205, \"weight\": 2905, \"acceleration\": 14.3, \"model year\": 80, \"origin\": 1, \"car name\": \"ford mustang cobra\"}, {\"kpg\": 52.14131999999999, \"cylinders\": 4, \"displacement\": 107.0, \"horsepower\": 72.0, \"weight\": 2290, \"acceleration\": 17.0, \"model year\": 80, \"origin\": 3, \"car name\": \"honda accord\"}, {\"kpg\": 43.77296, \"cylinders\": 4, \"displacement\": 135.0, \"horsepower\": 84.0, \"weight\": 2490, \"acceleration\": 15.7, \"model year\": 81, \"origin\": 1, \"car name\": \"plymouth reliant\"}, {\"kpg\": 42.80738, \"cylinders\": 4, \"displacement\": 151.0, \"horsepower\": 84.0, \"weight\": 2635, \"acceleration\": 16.4, \"model year\": 81, \"origin\": 1, \"car name\": \"buick skylark\"}, {\"kpg\": 41.51994, \"cylinders\": 4, \"displacement\": 156.0, \"horsepower\": 92.0, \"weight\": 2620, \"acceleration\": 14.4, \"model year\": 81, \"origin\": 1, \"car name\": \"dodge aries wagon (sw)\"}, {\"kpg\": 37.81855, \"cylinders\": 6, \"displacement\": 173.0, \"horsepower\": 110.0, \"weight\": 2725, \"acceleration\": 12.6, \"model year\": 81, \"origin\": 1, \"car name\": \"chevrolet citation\"}, {\"kpg\": 48.278999999999996, \"cylinders\": 4, \"displacement\": 135.0, \"horsepower\": 84.0, \"weight\": 2385, \"acceleration\": 12.9, \"model year\": 81, \"origin\": 1, \"car name\": \"plymouth reliant\"}, {\"kpg\": 62.92363, \"cylinders\": 4, \"displacement\": 79.0, \"horsepower\": 58.0, \"weight\": 1755, \"acceleration\": 16.9, \"model year\": 81, \"origin\": 3, \"car name\": \"toyota starlet\"}, {\"kpg\": 62.762699999999995, \"cylinders\": 4, \"displacement\": 86.0, \"horsepower\": 64.0, \"weight\": 1875, \"acceleration\": 16.4, \"model year\": 81, \"origin\": 1, \"car name\": \"plymouth champ\"}, {\"kpg\": 56.48643, \"cylinders\": 4, \"displacement\": 81.0, \"horsepower\": 60.0, \"weight\": 1760, \"acceleration\": 16.1, \"model year\": 81, \"origin\": 3, \"car name\": \"honda civic 1300\"}, {\"kpg\": 51.98038999999999, \"cylinders\": 4, \"displacement\": 97.0, \"horsepower\": 67.0, \"weight\": 2065, \"acceleration\": 17.8, \"model year\": 81, \"origin\": 3, \"car name\": \"subaru\"}, {\"kpg\": 59.5441, \"cylinders\": 4, \"displacement\": 85.0, \"horsepower\": 65.0, \"weight\": 1975, \"acceleration\": 19.4, \"model year\": 81, \"origin\": 3, \"car name\": \"datsun 210 mpg\"}, {\"kpg\": 60.67061, \"cylinders\": 4, \"displacement\": 89.0, \"horsepower\": 62.0, \"weight\": 2050, \"acceleration\": 17.3, \"model year\": 81, \"origin\": 3, \"car name\": \"toyota tercel\"}, {\"kpg\": 54.87713, \"cylinders\": 4, \"displacement\": 91.0, \"horsepower\": 68.0, \"weight\": 1985, \"acceleration\": 16.0, \"model year\": 81, \"origin\": 3, \"car name\": \"mazda glc 4\"}, {\"kpg\": 55.842710000000004, \"cylinders\": 4, \"displacement\": 105.0, \"horsepower\": 63.0, \"weight\": 2215, \"acceleration\": 14.9, \"model year\": 81, \"origin\": 1, \"car name\": \"plymouth horizon 4\"}, {\"kpg\": 55.359919999999995, \"cylinders\": 4, \"displacement\": 98.0, \"horsepower\": 65.0, \"weight\": 2045, \"acceleration\": 16.2, \"model year\": 81, \"origin\": 1, \"car name\": \"ford escort 4w\"}, {\"kpg\": 48.118069999999996, \"cylinders\": 4, \"displacement\": 98.0, \"horsepower\": 65.0, \"weight\": 2380, \"acceleration\": 20.7, \"model year\": 81, \"origin\": 1, \"car name\": \"ford escort 2h\"}, {\"kpg\": 53.106899999999996, \"cylinders\": 4, \"displacement\": 105.0, \"horsepower\": 74.0, \"weight\": 2190, \"acceleration\": 14.2, \"model year\": 81, \"origin\": 2, \"car name\": \"volkswagen jetta\"}, {\"kpg\": 55.520849999999996, \"cylinders\": 4, \"displacement\": 100.0, \"horsepower\": 104.46938775510205, \"weight\": 2320, \"acceleration\": 15.8, \"model year\": 81, \"origin\": 2, \"car name\": \"renault 18i\"}, {\"kpg\": 54.233410000000006, \"cylinders\": 4, \"displacement\": 107.0, \"horsepower\": 75.0, \"weight\": 2210, \"acceleration\": 14.4, \"model year\": 81, \"origin\": 3, \"car name\": \"honda prelude\"}, {\"kpg\": 52.14131999999999, \"cylinders\": 4, \"displacement\": 108.0, \"horsepower\": 75.0, \"weight\": 2350, \"acceleration\": 16.8, \"model year\": 81, \"origin\": 3, \"car name\": \"toyota corolla\"}, {\"kpg\": 52.945969999999996, \"cylinders\": 4, \"displacement\": 119.0, \"horsepower\": 100.0, \"weight\": 2615, \"acceleration\": 14.8, \"model year\": 81, \"origin\": 3, \"car name\": \"datsun 200sx\"}, {\"kpg\": 50.853880000000004, \"cylinders\": 4, \"displacement\": 120.0, \"horsepower\": 74.0, \"weight\": 2635, \"acceleration\": 18.3, \"model year\": 81, \"origin\": 3, \"car name\": \"mazda 626\"}, {\"kpg\": 45.22133, \"cylinders\": 4, \"displacement\": 141.0, \"horsepower\": 80.0, \"weight\": 3230, \"acceleration\": 20.4, \"model year\": 81, \"origin\": 2, \"car name\": \"peugeot 505s turbo diesel\"}, {\"kpg\": 49.40551, \"cylinders\": 6, \"displacement\": 145.0, \"horsepower\": 76.0, \"weight\": 3160, \"acceleration\": 19.6, \"model year\": 81, \"origin\": 2, \"car name\": \"volvo diesel\"}, {\"kpg\": 40.876219999999996, \"cylinders\": 6, \"displacement\": 168.0, \"horsepower\": 116.0, \"weight\": 2900, \"acceleration\": 12.6, \"model year\": 81, \"origin\": 3, \"car name\": \"toyota cressida\"}, {\"kpg\": 38.94506, \"cylinders\": 6, \"displacement\": 146.0, \"horsepower\": 120.0, \"weight\": 2930, \"acceleration\": 13.8, \"model year\": 81, \"origin\": 3, \"car name\": \"datsun 810 maxima\"}, {\"kpg\": 36.04832, \"cylinders\": 6, \"displacement\": 231.0, \"horsepower\": 110.0, \"weight\": 3415, \"acceleration\": 15.8, \"model year\": 81, \"origin\": 1, \"car name\": \"buick century\"}, {\"kpg\": 42.80738, \"cylinders\": 8, \"displacement\": 350.0, \"horsepower\": 105.0, \"weight\": 3725, \"acceleration\": 19.0, \"model year\": 81, \"origin\": 1, \"car name\": \"oldsmobile cutlass ls\"}, {\"kpg\": 32.50786, \"cylinders\": 6, \"displacement\": 200.0, \"horsepower\": 88.0, \"weight\": 3060, \"acceleration\": 17.1, \"model year\": 81, \"origin\": 1, \"car name\": \"ford granada gl\"}, {\"kpg\": 28.323680000000003, \"cylinders\": 6, \"displacement\": 225.0, \"horsepower\": 85.0, \"weight\": 3465, \"acceleration\": 16.6, \"model year\": 81, \"origin\": 1, \"car name\": \"chrysler lebaron salon\"}, {\"kpg\": 45.0604, \"cylinders\": 4, \"displacement\": 112.0, \"horsepower\": 88.0, \"weight\": 2605, \"acceleration\": 19.6, \"model year\": 82, \"origin\": 1, \"car name\": \"chevrolet cavalier\"}, {\"kpg\": 43.4511, \"cylinders\": 4, \"displacement\": 112.0, \"horsepower\": 88.0, \"weight\": 2640, \"acceleration\": 18.6, \"model year\": 82, \"origin\": 1, \"car name\": \"chevrolet cavalier wagon\"}, {\"kpg\": 54.7162, \"cylinders\": 4, \"displacement\": 112.0, \"horsepower\": 88.0, \"weight\": 2395, \"acceleration\": 18.0, \"model year\": 82, \"origin\": 1, \"car name\": \"chevrolet cavalier 2-door\"}, {\"kpg\": 49.8883, \"cylinders\": 4, \"displacement\": 112.0, \"horsepower\": 85.0, \"weight\": 2575, \"acceleration\": 16.2, \"model year\": 82, \"origin\": 1, \"car name\": \"pontiac j2000 se hatchback\"}, {\"kpg\": 46.6697, \"cylinders\": 4, \"displacement\": 135.0, \"horsepower\": 84.0, \"weight\": 2525, \"acceleration\": 16.0, \"model year\": 82, \"origin\": 1, \"car name\": \"dodge aries se\"}, {\"kpg\": 43.4511, \"cylinders\": 4, \"displacement\": 151.0, \"horsepower\": 90.0, \"weight\": 2735, \"acceleration\": 18.0, \"model year\": 82, \"origin\": 1, \"car name\": \"pontiac phoenix\"}, {\"kpg\": 38.6232, \"cylinders\": 4, \"displacement\": 140.0, \"horsepower\": 92.0, \"weight\": 2865, \"acceleration\": 16.4, \"model year\": 82, \"origin\": 1, \"car name\": \"ford fairmont futura\"}, {\"kpg\": 37.0139, \"cylinders\": 4, \"displacement\": 151.0, \"horsepower\": 104.46938775510205, \"weight\": 3035, \"acceleration\": 20.5, \"model year\": 82, \"origin\": 1, \"car name\": \"amc concord dl\"}, {\"kpg\": 57.934799999999996, \"cylinders\": 4, \"displacement\": 105.0, \"horsepower\": 74.0, \"weight\": 1980, \"acceleration\": 15.3, \"model year\": 82, \"origin\": 2, \"car name\": \"volkswagen rabbit l\"}, {\"kpg\": 59.5441, \"cylinders\": 4, \"displacement\": 91.0, \"horsepower\": 68.0, \"weight\": 2025, \"acceleration\": 18.2, \"model year\": 82, \"origin\": 3, \"car name\": \"mazda glc custom l\"}, {\"kpg\": 49.8883, \"cylinders\": 4, \"displacement\": 91.0, \"horsepower\": 68.0, \"weight\": 1970, \"acceleration\": 17.6, \"model year\": 82, \"origin\": 3, \"car name\": \"mazda glc custom\"}, {\"kpg\": 61.1534, \"cylinders\": 4, \"displacement\": 105.0, \"horsepower\": 63.0, \"weight\": 2125, \"acceleration\": 14.7, \"model year\": 82, \"origin\": 1, \"car name\": \"plymouth horizon miser\"}, {\"kpg\": 57.934799999999996, \"cylinders\": 4, \"displacement\": 98.0, \"horsepower\": 70.0, \"weight\": 2125, \"acceleration\": 17.3, \"model year\": 82, \"origin\": 1, \"car name\": \"mercury lynx l\"}, {\"kpg\": 57.934799999999996, \"cylinders\": 4, \"displacement\": 120.0, \"horsepower\": 88.0, \"weight\": 2160, \"acceleration\": 14.5, \"model year\": 82, \"origin\": 3, \"car name\": \"nissan stanza xe\"}, {\"kpg\": 57.934799999999996, \"cylinders\": 4, \"displacement\": 107.0, \"horsepower\": 75.0, \"weight\": 2205, \"acceleration\": 14.5, \"model year\": 82, \"origin\": 3, \"car name\": \"honda accord\"}, {\"kpg\": 54.7162, \"cylinders\": 4, \"displacement\": 108.0, \"horsepower\": 70.0, \"weight\": 2245, \"acceleration\": 16.9, \"model year\": 82, \"origin\": 3, \"car name\": \"toyota corolla\"}, {\"kpg\": 61.1534, \"cylinders\": 4, \"displacement\": 91.0, \"horsepower\": 67.0, \"weight\": 1965, \"acceleration\": 15.0, \"model year\": 82, \"origin\": 3, \"car name\": \"honda civic\"}, {\"kpg\": 51.4976, \"cylinders\": 4, \"displacement\": 91.0, \"horsepower\": 67.0, \"weight\": 1965, \"acceleration\": 15.7, \"model year\": 82, \"origin\": 3, \"car name\": \"honda civic (auto)\"}, {\"kpg\": 61.1534, \"cylinders\": 4, \"displacement\": 91.0, \"horsepower\": 67.0, \"weight\": 1995, \"acceleration\": 16.2, \"model year\": 82, \"origin\": 3, \"car name\": \"datsun 310 gx\"}, {\"kpg\": 40.2325, \"cylinders\": 6, \"displacement\": 181.0, \"horsepower\": 110.0, \"weight\": 2945, \"acceleration\": 16.4, \"model year\": 82, \"origin\": 1, \"car name\": \"buick century limited\"}, {\"kpg\": 61.1534, \"cylinders\": 6, \"displacement\": 262.0, \"horsepower\": 85.0, \"weight\": 3015, \"acceleration\": 17.0, \"model year\": 82, \"origin\": 1, \"car name\": \"oldsmobile cutlass ciera (diesel)\"}, {\"kpg\": 41.8418, \"cylinders\": 4, \"displacement\": 156.0, \"horsepower\": 92.0, \"weight\": 2585, \"acceleration\": 14.5, \"model year\": 82, \"origin\": 1, \"car name\": \"chrysler lebaron medallion\"}, {\"kpg\": 35.4046, \"cylinders\": 6, \"displacement\": 232.0, \"horsepower\": 112.0, \"weight\": 2835, \"acceleration\": 14.7, \"model year\": 82, \"origin\": 1, \"car name\": \"ford granada l\"}, {\"kpg\": 51.4976, \"cylinders\": 4, \"displacement\": 144.0, \"horsepower\": 96.0, \"weight\": 2665, \"acceleration\": 13.9, \"model year\": 82, \"origin\": 3, \"car name\": \"toyota celica gt\"}, {\"kpg\": 57.934799999999996, \"cylinders\": 4, \"displacement\": 135.0, \"horsepower\": 84.0, \"weight\": 2370, \"acceleration\": 13.0, \"model year\": 82, \"origin\": 1, \"car name\": \"dodge charger 2.2\"}, {\"kpg\": 43.4511, \"cylinders\": 4, \"displacement\": 151.0, \"horsepower\": 90.0, \"weight\": 2950, \"acceleration\": 17.3, \"model year\": 82, \"origin\": 1, \"car name\": \"chevrolet camaro\"}, {\"kpg\": 43.4511, \"cylinders\": 4, \"displacement\": 140.0, \"horsepower\": 86.0, \"weight\": 2790, \"acceleration\": 15.6, \"model year\": 82, \"origin\": 1, \"car name\": \"ford mustang gl\"}, {\"kpg\": 70.8092, \"cylinders\": 4, \"displacement\": 97.0, \"horsepower\": 52.0, \"weight\": 2130, \"acceleration\": 24.6, \"model year\": 82, \"origin\": 2, \"car name\": \"vw pickup\"}, {\"kpg\": 51.4976, \"cylinders\": 4, \"displacement\": 135.0, \"horsepower\": 84.0, \"weight\": 2295, \"acceleration\": 11.6, \"model year\": 82, \"origin\": 1, \"car name\": \"dodge rampage\"}, {\"kpg\": 45.0604, \"cylinders\": 4, \"displacement\": 120.0, \"horsepower\": 79.0, \"weight\": 2625, \"acceleration\": 18.6, \"model year\": 82, \"origin\": 1, \"car name\": \"ford ranger\"}, {\"kpg\": 49.8883, \"cylinders\": 4, \"displacement\": 119.0, \"horsepower\": 82.0, \"weight\": 2720, \"acceleration\": 19.4, \"model year\": 82, \"origin\": 1, \"car name\": \"chevy s-10\"}]}}, {\"mode\": \"vega-lite\"});\n",
              "</script>"
            ]
          },
          "metadata": {},
          "execution_count": 38
        }
      ]
    },
    {
      "cell_type": "markdown",
      "source": [
        "**Como se comporta el consumo kpg segun el origen del vehiculo?**"
      ],
      "metadata": {
        "id": "3mC_a29GNKzN"
      }
    },
    {
      "cell_type": "code",
      "source": [
        "\n",
        "plt.figure(figsize=(6,6))\n",
        "ax = plt.axes()\n",
        "sns.histplot(data     = df_no_nan, \n",
        "             x        ='kpg',\n",
        "             bins     = 30,\n",
        "             hue      = 'origin',\n",
        "             fill     = True,\n",
        "             stat     = 'count',\n",
        "             palette  = 'tab10')  \n",
        "\n",
        "plt.xlabel('Atributo: kpg.') #Texto en el eje x.\n",
        "plt.ylabel('frec')              #Texto en el eje y.\n",
        "plt.title('Histograma')   \n"
      ],
      "metadata": {
        "colab": {
          "base_uri": "https://localhost:8080/",
          "height": 422
        },
        "id": "h-bz0Wf2O0N6",
        "outputId": "6b72caee-2218-4506-f926-40c97f72c615"
      },
      "execution_count": null,
      "outputs": [
        {
          "output_type": "execute_result",
          "data": {
            "text/plain": [
              "Text(0.5, 1.0, 'Histograma')"
            ]
          },
          "metadata": {},
          "execution_count": 39
        },
        {
          "output_type": "display_data",
          "data": {
            "image/png": "[encoded data removed]",
            "text/plain": [
              "<Figure size 432x432 with 1 Axes>"
            ]
          },
          "metadata": {
            "needs_background": "light"
          }
        }
      ]
    },
    {
      "cell_type": "code",
      "source": [
        ""
      ],
      "metadata": {
        "id": "Lcfzh3Qhx-GY"
      },
      "execution_count": null,
      "outputs": []
    },
    {
      "cell_type": "markdown",
      "metadata": {
        "id": "nMhC3c1QKecF"
      },
      "source": [
        "## **Actividad 12. Revise y genere otro gráfico que pueda ser útil para entender mejor el conjunto de datos que usamos en este taller. Puede usar los siguientes recursos:**\n",
        "\n",
        "Pandas: https://pandas.pydata.org/docs/user_guide/visualization.html\n",
        "\n",
        "Matplotlib: https://matplotlib.org/3.1.1/gallery/index.html \n",
        "\n",
        "Seaborn: https://seaborn.pydata.org/examples/index.html \n",
        "\n",
        "Altair: https://altair-viz.github.io"
      ]
    },
    {
      "cell_type": "markdown",
      "source": [
        "**Atributo origen**\n",
        "1. Carros americanos\n",
        "2. Carros europeos\n",
        "3. Carros asiatiacos"
      ],
      "metadata": {
        "id": "YhG_IunCW2yT"
      }
    },
    {
      "cell_type": "code",
      "source": [
        "count = df_no_nan['origin'].value_counts()\n",
        "\n",
        "fig = plt.figure()\n",
        "ax = fig.add_axes([0,0,1,1])\n",
        "ax.axis('equal')\n",
        "\n",
        "ax.pie(count, \n",
        "       labels=[\"1.USA\",\"3. Japón\",\"2. Europa\"],\n",
        "       autopct='%1.2f%%')\n",
        "ax.set_title(\"Porcentaje de carros según su origen\")\n",
        "plt.legend()\n",
        "plt.show()\n",
        "\n",
        "\n"
      ],
      "metadata": {
        "colab": {
          "base_uri": "https://localhost:8080/",
          "height": 335
        },
        "id": "H4HTz4toWn5N",
        "outputId": "f792adb7-a883-47bf-f8f8-5b52f0c8f534"
      },
      "execution_count": null,
      "outputs": [
        {
          "output_type": "display_data",
          "data": {
            "image/png": "[encoded data removed]",
            "text/plain": [
              "<Figure size 432x288 with 1 Axes>"
            ]
          },
          "metadata": {}
        }
      ]
    },
    {
      "cell_type": "markdown",
      "source": [
        "# **FIN**"
      ],
      "metadata": {
        "id": "iyNUIOcnSCEQ"
      }
    }
  ]
}